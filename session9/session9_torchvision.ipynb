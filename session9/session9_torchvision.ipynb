{
 "cells": [
  {
   "cell_type": "markdown",
   "metadata": {},
   "source": [
    "* has the architecture to C1C2C3C40 (No MaxPooling, but 3 convolutions, where the last one has a stride of 2 instead) (If you can figure out how to use Dilated kernels here instead of MP or strided convolution, then 200pts extra!)\n",
    "* total RF must be more than 44\n",
    "* one of the layers must use Depthwise Separable Convolution\n",
    "* one of the layers must use Dilated Convolution\n",
    "* use GAP (compulsory):- add FC after GAP to target #of classes (optional)\n",
    "* use albumentation library and apply:\n",
    "* horizontal flip\n",
    "* shiftScaleRotate\n",
    "* coarseDropout (max_holes = 1, max_height=16px, max_width=16, min_holes = 1, min_height=16px, min_width=16px, fill_value=(mean of your dataset), mask_fill_value = None)\n",
    "* achieve 85% accuracy, as many epochs as you want. Total Params to be less than 200k.\n",
    "* make sure you're following code-modularity (else 0 for full assignment) "
   ]
  },
  {
   "cell_type": "markdown",
   "metadata": {},
   "source": [
    "In this notebook we will try using torchvision transformers and in next we will try using albumentations library for data augmentation."
   ]
  },
  {
   "cell_type": "code",
   "execution_count": 1,
   "metadata": {},
   "outputs": [],
   "source": [
    "import os\n",
    "\n",
    "os.environ[\"CUDA_LAUNCH_BLOCKING\"] = \"1\""
   ]
  },
  {
   "cell_type": "code",
   "execution_count": 2,
   "metadata": {},
   "outputs": [],
   "source": [
    "# !pip install portalocker\n",
    "# !pip install torchview\n",
    "# !pip install torcheval\n",
    "# !pip install scikit-plot"
   ]
  },
  {
   "cell_type": "markdown",
   "metadata": {},
   "source": [
    "## Helpers and Utils"
   ]
  },
  {
   "cell_type": "code",
   "execution_count": 3,
   "metadata": {},
   "outputs": [],
   "source": [
    "import torch\n",
    "import torch.nn as nn\n",
    "import torch.nn.functional as F\n",
    "import torch.optim as optim\n",
    "import torchvision.transforms as transforms\n",
    "import matplotlib.pyplot as plt\n",
    "import numpy as np\n",
    "import torchvision\n",
    "import torchvision.datasets as datasets\n",
    "from torch.utils.data import Dataset, DataLoader\n",
    "from torchsummary import summary\n",
    "from torchview import draw_graph\n",
    "from pathlib import Path\n",
    "import pandas as pd\n",
    "from sklearn.preprocessing import StandardScaler\n",
    "from sklearn.model_selection import train_test_split\n",
    "from tqdm import tqdm\n",
    "import random\n",
    "from torcheval.metrics import MulticlassAccuracy, BinaryAccuracy\n",
    "from torchvision.transforms import ToTensor\n",
    "import matplotlib.pyplot as plt\n",
    "from torch.optim.lr_scheduler import (\n",
    "    ReduceLROnPlateau,\n",
    "    StepLR,\n",
    "    OneCycleLR,\n",
    "    ExponentialLR,\n",
    ")\n",
    "from sklearn.metrics import confusion_matrix\n",
    "from sklearn.metrics import classification_report\n",
    "import scikitplot as skplt\n",
    "import seaborn as sns\n",
    "import torch.nn.functional as F"
   ]
  },
  {
   "cell_type": "code",
   "execution_count": 4,
   "metadata": {},
   "outputs": [],
   "source": [
    "def set_seed(seed: int = 42) -> None:\n",
    "    np.random.seed(seed)\n",
    "    random.seed(seed)\n",
    "    torch.manual_seed(seed)\n",
    "    torch.cuda.manual_seed(seed)\n",
    "    # When running on the CuDNN backend, two further options must be set\n",
    "    torch.backends.cudnn.deterministic = True\n",
    "    torch.backends.cudnn.benchmark = False\n",
    "    # Set a fixed value for the hash seed\n",
    "    os.environ[\"PYTHONHASHSEED\"] = str(seed)\n",
    "    print(f\"Random seed set as {seed}\")"
   ]
  },
  {
   "cell_type": "code",
   "execution_count": 5,
   "metadata": {},
   "outputs": [],
   "source": [
    "def plot_loss_accuracy(\n",
    "    train_loss,\n",
    "    val_loss,\n",
    "    train_acc,\n",
    "    val_acc,\n",
    "    labels,\n",
    "    colors,\n",
    "    loss_legend_loc=\"upper center\",\n",
    "    acc_legend_loc=\"upper left\",\n",
    "    legend_font=5,\n",
    "    fig_size=(16, 10),\n",
    "    sub_plot1=(1, 2, 1),\n",
    "    sub_plot2=(1, 2, 2),\n",
    "):\n",
    "\n",
    "    plt.rcParams[\"figure.figsize\"] = fig_size\n",
    "    plt.figure\n",
    "\n",
    "    plt.subplot(sub_plot1[0], sub_plot1[1], sub_plot1[2])\n",
    "\n",
    "    for i in range(len(train_loss)):\n",
    "        x_train = range(len(train_loss[i]))\n",
    "        x_val = range(len(val_loss[i]))\n",
    "\n",
    "        min_train_loss = np.array(train_loss[i]).min()\n",
    "\n",
    "        min_val_loss = np.array(val_loss[i]).min()\n",
    "\n",
    "        plt.plot(\n",
    "            x_train,\n",
    "            train_loss[i],\n",
    "            linestyle=\"-\",\n",
    "            color=\"tab:{}\".format(colors[i]),\n",
    "            label=\"TRAIN ({0:.4}): {1}\".format(min_train_loss, labels[i]),\n",
    "        )\n",
    "        plt.plot(\n",
    "            x_val,\n",
    "            val_loss[i],\n",
    "            linestyle=\"--\",\n",
    "            color=\"tab:{}\".format(colors[i]),\n",
    "            label=\"VALID ({0:.4}): {1}\".format(min_val_loss, labels[i]),\n",
    "        )\n",
    "\n",
    "    plt.xlabel(\"epoch no.\")\n",
    "    plt.ylabel(\"loss\")\n",
    "    plt.legend(loc=loss_legend_loc, prop={\"size\": legend_font})\n",
    "    plt.title(\"Training and Validation Loss\")\n",
    "\n",
    "    plt.subplot(sub_plot2[0], sub_plot2[1], sub_plot2[2])\n",
    "\n",
    "    for i in range(len(train_acc)):\n",
    "        x_train = range(len(train_acc[i]))\n",
    "        x_val = range(len(val_acc[i]))\n",
    "\n",
    "        max_train_acc = np.array(train_acc[i]).max()\n",
    "\n",
    "        max_val_acc = np.array(val_acc[i]).max()\n",
    "\n",
    "        plt.plot(\n",
    "            x_train,\n",
    "            train_acc[i],\n",
    "            linestyle=\"-\",\n",
    "            color=\"tab:{}\".format(colors[i]),\n",
    "            label=\"TRAIN ({0:.4}): {1}\".format(max_train_acc, labels[i]),\n",
    "        )\n",
    "        plt.plot(\n",
    "            x_val,\n",
    "            val_acc[i],\n",
    "            linestyle=\"--\",\n",
    "            color=\"tab:{}\".format(colors[i]),\n",
    "            label=\"VALID ({0:.4}): {1}\".format(max_val_acc, labels[i]),\n",
    "        )\n",
    "\n",
    "    plt.xlabel(\"epoch no.\")\n",
    "    plt.ylabel(\"accuracy\")\n",
    "    plt.legend(loc=acc_legend_loc, prop={\"size\": legend_font})\n",
    "    plt.title(\"Training and Validation Accuracy\")\n",
    "\n",
    "    plt.show()"
   ]
  },
  {
   "cell_type": "code",
   "execution_count": 6,
   "metadata": {},
   "outputs": [],
   "source": [
    "# decorator function to record time exp\n",
    "from functools import wraps\n",
    "import time\n",
    "\n",
    "\n",
    "def timeit(func):\n",
    "    @wraps(func)\n",
    "    def timeit_wrapper(*args, **kwargs):\n",
    "        start_time = time.perf_counter()\n",
    "        result = func(*args, **kwargs)\n",
    "        end_time = time.perf_counter()\n",
    "        total_time = end_time - start_time\n",
    "        print(f\"Function Took {total_time:.4f} seconds\")\n",
    "        return result\n",
    "\n",
    "    return timeit_wrapper"
   ]
  },
  {
   "cell_type": "code",
   "execution_count": 28,
   "metadata": {},
   "outputs": [
    {
     "name": "stdout",
     "output_type": "stream",
     "text": [
      "Random seed set as 42\n",
      "cuda\n"
     ]
    }
   ],
   "source": [
    "# Set manual seed since nn.Parameter are randomly initialzied\n",
    "set_seed(42)\n",
    "# Set device cuda for GPU if it's available otherwise run on the CPU\n",
    "device = torch.device(\"cuda\" if torch.cuda.is_available() else \"cpu\")\n",
    "print(device)\n",
    "batch_size = 128\n",
    "epochs = 20\n",
    "lr = 1e-3"
   ]
  },
  {
   "cell_type": "code",
   "execution_count": 8,
   "metadata": {},
   "outputs": [],
   "source": [
    "class EarlyStopping:\n",
    "    \"\"\"Early stops the training if validation loss doesn't improve after a given patience.\"\"\"\n",
    "\n",
    "    def __init__(self, patience=3, verbose=True, delta=1e-5, trace_func=print):\n",
    "        \"\"\"\n",
    "        Args:\n",
    "            patience (int): How long to wait after last time validation loss improved.\n",
    "                            Default: 7\n",
    "            verbose (bool): If True, prints a message for each validation loss improvement.\n",
    "                            Default: False\n",
    "            delta (float): Minimum change in the monitored quantity to qualify as an improvement.\n",
    "                            Default: 0\n",
    "            path (str): Path for the checkpoint to be saved to.\n",
    "                            Default: 'checkpoint.pt'\n",
    "            trace_func (function): trace print function.\n",
    "                            Default: print\n",
    "        \"\"\"\n",
    "        self.patience = patience\n",
    "        self.verbose = verbose\n",
    "        self.counter = 0\n",
    "        self.best_score = None\n",
    "        self.early_stop = False\n",
    "        self.val_loss_min = np.Inf\n",
    "        self.delta = delta\n",
    "        self.path = \"checkpoint.pt\"\n",
    "        self.trace_func = trace_func\n",
    "\n",
    "    def __call__(self, val_loss, model, epoch):\n",
    "\n",
    "        score = -val_loss\n",
    "\n",
    "        if self.best_score is None:\n",
    "            self.best_score = score\n",
    "            self.save_checkpoint(val_loss, model)\n",
    "        elif score < self.best_score + self.delta:\n",
    "            self.counter += 1\n",
    "            self.trace_func(\n",
    "                f\"EarlyStopping counter: {self.counter} out of {self.patience}\"\n",
    "            )\n",
    "            if self.counter >= self.patience:\n",
    "                self.early_stop = True\n",
    "        else:\n",
    "            self.best_score = score\n",
    "            self.save_checkpoint(val_loss, model)\n",
    "            self.counter = 0\n",
    "\n",
    "    def save_checkpoint(self, val_loss, model):\n",
    "        \"\"\"Saves model when validation loss decrease.\"\"\"\n",
    "        if self.verbose:\n",
    "            self.trace_func(\n",
    "                f\"Validation loss decreased ({self.val_loss_min:.6f} --> {val_loss:.6f}).  Saving model ...\"\n",
    "            )\n",
    "        torch.save(model.state_dict(), self.path)\n",
    "        self.val_loss_min = val_loss"
   ]
  },
  {
   "cell_type": "markdown",
   "metadata": {},
   "source": [
    "## Dataloader and pre-processing using torchvision tansforms"
   ]
  },
  {
   "cell_type": "code",
   "execution_count": 9,
   "metadata": {},
   "outputs": [],
   "source": [
    "# Train Phase transformations\n",
    "train_transforms = transforms.Compose(\n",
    "    [\n",
    "        transforms.RandomCrop(32, padding=4, padding_mode=\"reflect\"),\n",
    "        transforms.RandomHorizontalFlip(),\n",
    "        transforms.RandomRotation(15),\n",
    "        transforms.ToTensor(),\n",
    "        transforms.Normalize(\n",
    "            (0.4914, 0.4822, 0.4465), (0.2023, 0.1994, 0.2010)\n",
    "        ),  # The mean and std have to be sequences (e.g., tuples), therefore you should add a comma after the values.\n",
    "    ]\n",
    ")\n",
    "\n",
    "# Test Phase transformations\n",
    "test_transforms = transforms.Compose(\n",
    "    [\n",
    "        transforms.ToTensor(),\n",
    "        transforms.Normalize((0.4914, 0.4822, 0.4465), (0.2023, 0.1994, 0.2010)),\n",
    "    ]\n",
    ")"
   ]
  },
  {
   "cell_type": "code",
   "execution_count": 10,
   "metadata": {},
   "outputs": [
    {
     "name": "stdout",
     "output_type": "stream",
     "text": [
      "Files already downloaded and verified\n",
      "Files already downloaded and verified\n"
     ]
    }
   ],
   "source": [
    "# downloading train and test data\n",
    "train = datasets.CIFAR10(\n",
    "    \"./data\", train=True, download=True, transform=train_transforms\n",
    ")\n",
    "test = datasets.CIFAR10(\"./data\", train=False, download=True, transform=test_transforms)"
   ]
  },
  {
   "cell_type": "code",
   "execution_count": 11,
   "metadata": {},
   "outputs": [],
   "source": [
    "# Dataloaders\n",
    "# dataloader arguments - something you'll fetch these from cmdprmt\n",
    "dataloader_args = (\n",
    "    dict(shuffle=True, batch_size=batch_size, num_workers=4, pin_memory=True)\n",
    "    if device.type == \"cuda\"\n",
    "    else dict(shuffle=True, batch_size=64)\n",
    ")\n",
    "\n",
    "# train dataloader\n",
    "train_loader = torch.utils.data.DataLoader(train, **dataloader_args)\n",
    "\n",
    "# test dataloader\n",
    "test_loader = torch.utils.data.DataLoader(test, **dataloader_args)"
   ]
  },
  {
   "cell_type": "code",
   "execution_count": 12,
   "metadata": {},
   "outputs": [],
   "source": [
    "# Specify the image classes\n",
    "classes = [\n",
    "    \"airplane\",\n",
    "    \"automobile\",\n",
    "    \"bird\",\n",
    "    \"cat\",\n",
    "    \"deer\",\n",
    "    \"dog\",\n",
    "    \"frog\",\n",
    "    \"horse\",\n",
    "    \"ship\",\n",
    "    \"truck\",\n",
    "]"
   ]
  },
  {
   "cell_type": "code",
   "execution_count": 13,
   "metadata": {},
   "outputs": [
    {
     "name": "stderr",
     "output_type": "stream",
     "text": [
      "/anaconda/envs/torch_env/lib/python3.10/multiprocessing/popen_fork.py:66: RuntimeWarning: os.fork() was called. os.fork() is incompatible with multithreaded code, and JAX is multithreaded, so this will likely lead to a deadlock.\n",
      "  self.pid = os.fork()\n",
      "/anaconda/envs/torch_env/lib/python3.10/multiprocessing/popen_fork.py:66: RuntimeWarning: os.fork() was called. os.fork() is incompatible with multithreaded code, and JAX is multithreaded, so this will likely lead to a deadlock.\n",
      "  self.pid = os.fork()\n"
     ]
    },
    {
     "name": "stdout",
     "output_type": "stream",
     "text": [
      "torch.Size([128, 3, 32, 32])\n",
      "torch.Size([128])\n"
     ]
    }
   ],
   "source": [
    "for images, labels in train_loader:\n",
    "    print(images.shape)\n",
    "    print(labels.shape)\n",
    "    break"
   ]
  },
  {
   "cell_type": "code",
   "execution_count": 14,
   "metadata": {},
   "outputs": [],
   "source": [
    "# Helper function to display the image\n",
    "def imshow(img):\n",
    "    # Un-normalize and display the image\n",
    "    img = img / 2 + 0.5\n",
    "    # Convert from tensor image\n",
    "    plt.imshow(np.transpose(img, (1, 2, 0)))"
   ]
  },
  {
   "cell_type": "code",
   "execution_count": 15,
   "metadata": {},
   "outputs": [
    {
     "name": "stderr",
     "output_type": "stream",
     "text": [
      "Clipping input data to the valid range for imshow with RGB data ([0..1] for floats or [0..255] for integers).\n",
      "Clipping input data to the valid range for imshow with RGB data ([0..1] for floats or [0..255] for integers).\n",
      "Clipping input data to the valid range for imshow with RGB data ([0..1] for floats or [0..255] for integers).\n",
      "Clipping input data to the valid range for imshow with RGB data ([0..1] for floats or [0..255] for integers).\n",
      "Clipping input data to the valid range for imshow with RGB data ([0..1] for floats or [0..255] for integers).\n",
      "Clipping input data to the valid range for imshow with RGB data ([0..1] for floats or [0..255] for integers).\n",
      "Clipping input data to the valid range for imshow with RGB data ([0..1] for floats or [0..255] for integers).\n",
      "Clipping input data to the valid range for imshow with RGB data ([0..1] for floats or [0..255] for integers).\n",
      "Clipping input data to the valid range for imshow with RGB data ([0..1] for floats or [0..255] for integers).\n",
      "Clipping input data to the valid range for imshow with RGB data ([0..1] for floats or [0..255] for integers).\n",
      "Clipping input data to the valid range for imshow with RGB data ([0..1] for floats or [0..255] for integers).\n",
      "Clipping input data to the valid range for imshow with RGB data ([0..1] for floats or [0..255] for integers).\n",
      "Clipping input data to the valid range for imshow with RGB data ([0..1] for floats or [0..255] for integers).\n",
      "Clipping input data to the valid range for imshow with RGB data ([0..1] for floats or [0..255] for integers).\n",
      "Clipping input data to the valid range for imshow with RGB data ([0..1] for floats or [0..255] for integers).\n",
      "Clipping input data to the valid range for imshow with RGB data ([0..1] for floats or [0..255] for integers).\n",
      "Clipping input data to the valid range for imshow with RGB data ([0..1] for floats or [0..255] for integers).\n",
      "Clipping input data to the valid range for imshow with RGB data ([0..1] for floats or [0..255] for integers).\n",
      "Clipping input data to the valid range for imshow with RGB data ([0..1] for floats or [0..255] for integers).\n",
      "Clipping input data to the valid range for imshow with RGB data ([0..1] for floats or [0..255] for integers).\n"
     ]
    },
    {
     "data": {
      "image/png": "[encoded data removed]",
      "text/plain": [
       "<Figure size 1800x288 with 20 Axes>"
      ]
     },
     "metadata": {},
     "output_type": "display_data"
    }
   ],
   "source": [
    "# Get one batch of training images\n",
    "dataiter = iter(train_loader)\n",
    "images, labels = next(dataiter)\n",
    "# Convert images to numpy for display\n",
    "images = images.numpy()\n",
    "\n",
    "# Plot the images in the batch\n",
    "fig = plt.figure(figsize=(25, 4))\n",
    "\n",
    "# Display 20 images\n",
    "for idx in np.arange(20):\n",
    "    ax = fig.add_subplot(2, 10, idx + 1, xticks=[], yticks=[])\n",
    "    imshow(images[idx])\n",
    "    ax.set_title(classes[labels[idx]])"
   ]
  },
  {
   "cell_type": "markdown",
   "metadata": {},
   "source": [
    "## Model Building using dialated convolution and depthwise separable convolution"
   ]
  },
  {
   "cell_type": "markdown",
   "metadata": {},
   "source": [
    "### First we will build the model basis Dialated Convolution with:\n",
    "* 4 conv blocks and dialated ones at last cnn layer \n",
    "* one gap and last 1*1 classification layer"
   ]
  },
  {
   "cell_type": "code",
   "execution_count": 16,
   "metadata": {},
   "outputs": [],
   "source": [
    "class DialatedClassification(nn.Module):\n",
    "    def __init__(\n",
    "        self,\n",
    "        in_channels,\n",
    "        hidden_units,\n",
    "        out_channels,\n",
    "        multiplier_1=1,\n",
    "        multiplier_2=2,\n",
    "        dropout=0.1,\n",
    "    ):\n",
    "        super(DialatedClassification, self).__init__()\n",
    "        # Convolution Block 1\n",
    "        self.conv_bl1 = nn.Sequential(\n",
    "            # set1\n",
    "            nn.Conv2d(\n",
    "                in_channels=in_channels,\n",
    "                out_channels=multiplier_1 * hidden_units,\n",
    "                kernel_size=(3, 3),\n",
    "                padding=1,\n",
    "                bias=False,\n",
    "            ),\n",
    "            nn.BatchNorm2d(multiplier_1 * hidden_units),\n",
    "            nn.ReLU(),\n",
    "            nn.Dropout(dropout),\n",
    "            # set2\n",
    "            nn.Conv2d(\n",
    "                in_channels=multiplier_1 * hidden_units,\n",
    "                out_channels=multiplier_2 * hidden_units,\n",
    "                kernel_size=(3, 3),\n",
    "                padding=1,\n",
    "                bias=False,\n",
    "            ),\n",
    "            nn.ReLU(),\n",
    "            nn.BatchNorm2d(multiplier_2 * hidden_units),\n",
    "            nn.Dropout(dropout),\n",
    "            # set3 -dialation\n",
    "            nn.Conv2d(\n",
    "                in_channels=multiplier_2 * hidden_units,\n",
    "                out_channels=multiplier_1 * hidden_units,\n",
    "                kernel_size=(3, 3),\n",
    "                padding=1,\n",
    "                dilation=2,  # application of dialated convolution\n",
    "                bias=False,\n",
    "            ),\n",
    "            nn.ReLU(),\n",
    "            nn.BatchNorm2d(multiplier_1 * hidden_units),\n",
    "            nn.Dropout(dropout),\n",
    "        )\n",
    "        # Convolution Block 2\n",
    "        self.conv_bl2 = nn.Sequential(\n",
    "            # set1\n",
    "            nn.Conv2d(\n",
    "                in_channels=(multiplier_1 * hidden_units),\n",
    "                out_channels=multiplier_1 * hidden_units,\n",
    "                kernel_size=(3, 3),\n",
    "                padding=1,\n",
    "                bias=False,\n",
    "            ),\n",
    "            nn.BatchNorm2d(multiplier_1 * hidden_units),\n",
    "            nn.ReLU(),\n",
    "            nn.Dropout(dropout),\n",
    "            # set2\n",
    "            nn.Conv2d(\n",
    "                in_channels=multiplier_1 * hidden_units,\n",
    "                out_channels=multiplier_2 * hidden_units,\n",
    "                kernel_size=(3, 3),\n",
    "                padding=1,\n",
    "                bias=False,\n",
    "            ),\n",
    "            nn.ReLU(),\n",
    "            nn.BatchNorm2d(multiplier_2 * hidden_units),\n",
    "            nn.Dropout(dropout),\n",
    "            # set3 -dialation\n",
    "            nn.Conv2d(\n",
    "                in_channels=multiplier_2 * hidden_units,\n",
    "                out_channels=multiplier_1 * hidden_units,\n",
    "                kernel_size=(3, 3),\n",
    "                padding=1,\n",
    "                dilation=2,  # application of dialated convolution\n",
    "                bias=False,\n",
    "            ),\n",
    "            nn.ReLU(),\n",
    "            nn.BatchNorm2d(multiplier_1 * hidden_units),\n",
    "            nn.Dropout(dropout),\n",
    "        )\n",
    "        # Convolution Block 3\n",
    "        self.conv_bl3 = nn.Sequential(\n",
    "            # set1\n",
    "            nn.Conv2d(\n",
    "                in_channels=(multiplier_1 * hidden_units),\n",
    "                out_channels=multiplier_1 * hidden_units,\n",
    "                kernel_size=(3, 3),\n",
    "                padding=1,\n",
    "                bias=False,\n",
    "            ),\n",
    "            nn.BatchNorm2d(multiplier_1 * hidden_units),\n",
    "            nn.ReLU(),\n",
    "            nn.Dropout(dropout),\n",
    "            # set2\n",
    "            nn.Conv2d(\n",
    "                in_channels=multiplier_1 * hidden_units,\n",
    "                out_channels=multiplier_2 * hidden_units,\n",
    "                kernel_size=(3, 3),\n",
    "                padding=1,\n",
    "                bias=False,\n",
    "            ),\n",
    "            nn.ReLU(),\n",
    "            nn.BatchNorm2d(multiplier_2 * hidden_units),\n",
    "            nn.Dropout(dropout),\n",
    "            # set3 -dialation\n",
    "            nn.Conv2d(\n",
    "                in_channels=multiplier_2 * hidden_units,\n",
    "                out_channels=multiplier_1 * hidden_units,\n",
    "                kernel_size=(3, 3),\n",
    "                padding=1,\n",
    "                dilation=2,  # application of dialated convolution\n",
    "                bias=False,\n",
    "            ),\n",
    "            nn.ReLU(),\n",
    "            nn.BatchNorm2d(multiplier_1 * hidden_units),\n",
    "            nn.Dropout(dropout),\n",
    "        )\n",
    "        # Convolution Block 4\n",
    "        self.conv_bl4 = nn.Sequential(\n",
    "            # set1\n",
    "            nn.Conv2d(\n",
    "                in_channels=(multiplier_1 * hidden_units),\n",
    "                out_channels=multiplier_1 * hidden_units,\n",
    "                kernel_size=(3, 3),\n",
    "                padding=1,\n",
    "                bias=False,\n",
    "            ),\n",
    "            nn.BatchNorm2d(multiplier_1 * hidden_units),\n",
    "            nn.ReLU(),\n",
    "            nn.Dropout(dropout),\n",
    "            # set2\n",
    "            nn.Conv2d(\n",
    "                in_channels=multiplier_1 * hidden_units,\n",
    "                out_channels=multiplier_2 * hidden_units,\n",
    "                kernel_size=(3, 3),\n",
    "                padding=1,\n",
    "                bias=False,\n",
    "            ),\n",
    "            nn.ReLU(),\n",
    "            nn.BatchNorm2d(multiplier_2 * hidden_units),\n",
    "            nn.Dropout(dropout),\n",
    "            # set3 -non-dialation\n",
    "            nn.Conv2d(\n",
    "                in_channels=multiplier_2 * hidden_units,\n",
    "                out_channels=multiplier_1 * hidden_units,\n",
    "                kernel_size=(3, 3),\n",
    "                padding=1,\n",
    "                dilation=1,  # this cannot have dialation of 2 as just before output layer\n",
    "                bias=False,\n",
    "            ),\n",
    "            nn.ReLU(),\n",
    "            nn.BatchNorm2d(multiplier_1 * hidden_units),\n",
    "            nn.Dropout(dropout),\n",
    "        )\n",
    "\n",
    "        self.gap = nn.AdaptiveAvgPool2d((1, 1))\n",
    "        self.classifier = nn.Sequential(\n",
    "            nn.Conv2d(\n",
    "                in_channels=multiplier_1 * hidden_units,\n",
    "                out_channels=out_channels,\n",
    "                kernel_size=(1, 1),\n",
    "                padding=0,\n",
    "                bias=False,\n",
    "            )\n",
    "        )\n",
    "\n",
    "    def forward(self, x):\n",
    "        x = self.conv_bl1(x)\n",
    "        x = self.conv_bl2(x)\n",
    "        x = self.conv_bl3(x)\n",
    "        x = self.conv_bl4(x)\n",
    "        x = self.gap(x)\n",
    "        x = self.classifier(x)\n",
    "        x = x.view(-1, 10)\n",
    "        return F.log_softmax(x, dim=-1)"
   ]
  },
  {
   "cell_type": "code",
   "execution_count": 17,
   "metadata": {},
   "outputs": [
    {
     "name": "stdout",
     "output_type": "stream",
     "text": [
      "----------------------------------------------------------------\n",
      "        Layer (type)               Output Shape         Param #\n",
      "================================================================\n",
      "            Conv2d-1           [-1, 32, 32, 32]             864\n",
      "       BatchNorm2d-2           [-1, 32, 32, 32]              64\n",
      "              ReLU-3           [-1, 32, 32, 32]               0\n",
      "           Dropout-4           [-1, 32, 32, 32]               0\n",
      "            Conv2d-5           [-1, 64, 32, 32]          18,432\n",
      "              ReLU-6           [-1, 64, 32, 32]               0\n",
      "       BatchNorm2d-7           [-1, 64, 32, 32]             128\n",
      "           Dropout-8           [-1, 64, 32, 32]               0\n",
      "            Conv2d-9           [-1, 32, 30, 30]          18,432\n",
      "             ReLU-10           [-1, 32, 30, 30]               0\n",
      "      BatchNorm2d-11           [-1, 32, 30, 30]              64\n",
      "          Dropout-12           [-1, 32, 30, 30]               0\n",
      "           Conv2d-13           [-1, 32, 30, 30]           9,216\n",
      "      BatchNorm2d-14           [-1, 32, 30, 30]              64\n",
      "             ReLU-15           [-1, 32, 30, 30]               0\n",
      "          Dropout-16           [-1, 32, 30, 30]               0\n",
      "           Conv2d-17           [-1, 64, 30, 30]          18,432\n",
      "             ReLU-18           [-1, 64, 30, 30]               0\n",
      "      BatchNorm2d-19           [-1, 64, 30, 30]             128\n",
      "          Dropout-20           [-1, 64, 30, 30]               0\n",
      "           Conv2d-21           [-1, 32, 28, 28]          18,432\n",
      "             ReLU-22           [-1, 32, 28, 28]               0\n",
      "      BatchNorm2d-23           [-1, 32, 28, 28]              64\n",
      "          Dropout-24           [-1, 32, 28, 28]               0\n",
      "           Conv2d-25           [-1, 32, 28, 28]           9,216\n",
      "      BatchNorm2d-26           [-1, 32, 28, 28]              64\n",
      "             ReLU-27           [-1, 32, 28, 28]               0\n",
      "          Dropout-28           [-1, 32, 28, 28]               0\n",
      "           Conv2d-29           [-1, 64, 28, 28]          18,432\n",
      "             ReLU-30           [-1, 64, 28, 28]               0\n",
      "      BatchNorm2d-31           [-1, 64, 28, 28]             128\n",
      "          Dropout-32           [-1, 64, 28, 28]               0\n",
      "           Conv2d-33           [-1, 32, 26, 26]          18,432\n",
      "             ReLU-34           [-1, 32, 26, 26]               0\n",
      "      BatchNorm2d-35           [-1, 32, 26, 26]              64\n",
      "          Dropout-36           [-1, 32, 26, 26]               0\n",
      "           Conv2d-37           [-1, 32, 26, 26]           9,216\n",
      "      BatchNorm2d-38           [-1, 32, 26, 26]              64\n",
      "             ReLU-39           [-1, 32, 26, 26]               0\n",
      "          Dropout-40           [-1, 32, 26, 26]               0\n",
      "           Conv2d-41           [-1, 64, 26, 26]          18,432\n",
      "             ReLU-42           [-1, 64, 26, 26]               0\n",
      "      BatchNorm2d-43           [-1, 64, 26, 26]             128\n",
      "          Dropout-44           [-1, 64, 26, 26]               0\n",
      "           Conv2d-45           [-1, 32, 26, 26]          18,432\n",
      "             ReLU-46           [-1, 32, 26, 26]               0\n",
      "      BatchNorm2d-47           [-1, 32, 26, 26]              64\n",
      "          Dropout-48           [-1, 32, 26, 26]               0\n",
      "AdaptiveAvgPool2d-49             [-1, 32, 1, 1]               0\n",
      "           Conv2d-50             [-1, 10, 1, 1]             320\n",
      "================================================================\n",
      "Total params: 177,312\n",
      "Trainable params: 177,312\n",
      "Non-trainable params: 0\n",
      "----------------------------------------------------------------\n",
      "Input size (MB): 0.01\n",
      "Forward/backward pass size (MB): 12.88\n",
      "Params size (MB): 0.68\n",
      "Estimated Total Size (MB): 13.57\n",
      "----------------------------------------------------------------\n"
     ]
    }
   ],
   "source": [
    "# New Model Instance\n",
    "baseline_model_1 = DialatedClassification(\n",
    "    in_channels=3, hidden_units=16, out_channels=10, multiplier_1=2, multiplier_2=4\n",
    ").to(device)\n",
    "summary(baseline_model_1, input_size=(3, 32, 32))"
   ]
  },
  {
   "cell_type": "code",
   "execution_count": 18,
   "metadata": {},
   "outputs": [],
   "source": [
    "# updated training module---\n",
    "@timeit\n",
    "def train_module(\n",
    "    model: torch.nn.Module,\n",
    "    device: torch.device,\n",
    "    train_dataloader: torch.utils.data.DataLoader,\n",
    "    optimizer: torch.optim.Optimizer,\n",
    "    criterion: torch.nn.Module,\n",
    "    metric,\n",
    "    train_losses: list,\n",
    "    train_metrics: list,\n",
    "):\n",
    "\n",
    "    # setting model to train mode\n",
    "    model.train()\n",
    "    pbar = tqdm(train_dataloader)\n",
    "\n",
    "    # batch metrics\n",
    "    train_loss = 0\n",
    "    train_metric = 0\n",
    "    processed_batch = 0\n",
    "\n",
    "    for idx, (data, label) in enumerate(pbar):\n",
    "        # setting up device\n",
    "        data = data.to(device)\n",
    "        label = label.to(device)\n",
    "\n",
    "        # forward pass output\n",
    "        preds = model(data)\n",
    "\n",
    "        # calc loss\n",
    "        loss = criterion(preds, label)\n",
    "        train_loss += loss.item()\n",
    "        # print(f\"training loss for batch {idx} is {loss}\")\n",
    "\n",
    "        # backpropagation\n",
    "        optimizer.zero_grad()  # flush out  existing grads\n",
    "        loss.backward()  # back prop of weights wrt loss\n",
    "        optimizer.step()  # optimizer step -> minima\n",
    "\n",
    "        # metric calc\n",
    "        preds = torch.argmax(preds, dim=1)\n",
    "        # print(f\"preds:: {preds}\")\n",
    "        metric.update(preds, label)\n",
    "        train_metric += metric.compute().detach().item()\n",
    "\n",
    "        # updating batch count\n",
    "        processed_batch += 1\n",
    "\n",
    "        pbar.set_description(\n",
    "            f\"Avg Train Loss: {train_loss/processed_batch} Avg Train Metric: {train_metric/processed_batch}\"\n",
    "        )\n",
    "\n",
    "    # It's typically called after the epoch completes\n",
    "    metric.reset()\n",
    "    # updating epoch metrics\n",
    "    train_losses.append(train_loss / processed_batch)\n",
    "    train_metrics.append(train_metric / processed_batch)\n",
    "\n",
    "    return train_losses, train_metrics"
   ]
  },
  {
   "cell_type": "code",
   "execution_count": 19,
   "metadata": {},
   "outputs": [],
   "source": [
    "# updated testing modules---\n",
    "@timeit\n",
    "def test_module(\n",
    "    model: torch.nn.Module,\n",
    "    device: torch.device,\n",
    "    test_dataloader: torch.utils.data.DataLoader,\n",
    "    criterion: torch.nn.Module,\n",
    "    metric,\n",
    "    test_losses,\n",
    "    test_metrics,\n",
    "):\n",
    "    # setting model to eval mode\n",
    "    model.eval()\n",
    "    pbar = tqdm(test_dataloader)\n",
    "\n",
    "    # batch metrics\n",
    "    test_loss = 0\n",
    "    test_metric = 0\n",
    "    processed_batch = 0\n",
    "\n",
    "    with torch.inference_mode():\n",
    "        for idx, (data, label) in enumerate(pbar):\n",
    "            data, label = data.to(device), label.to(device)\n",
    "            # predictions\n",
    "            preds = model(data)\n",
    "            # print(preds.shape)\n",
    "            # print(label.shape)\n",
    "\n",
    "            # loss calc\n",
    "            loss = criterion(preds, label)\n",
    "            test_loss += loss.item()\n",
    "\n",
    "            # metric calc\n",
    "            preds = torch.argmax(preds, dim=1)\n",
    "            metric.update(preds, label)\n",
    "            test_metric += metric.compute().detach().item()\n",
    "\n",
    "            # updating batch count\n",
    "            processed_batch += 1\n",
    "\n",
    "            pbar.set_description(\n",
    "                f\"Avg Test Loss: {test_loss/processed_batch} Avg Test Metric: {test_metric/processed_batch}\"\n",
    "            )\n",
    "\n",
    "        # It's typically called after the epoch completes\n",
    "        metric.reset()\n",
    "        # updating epoch metrics\n",
    "        test_losses.append(test_loss / processed_batch)\n",
    "        test_metrics.append(test_metric / processed_batch)\n",
    "\n",
    "    return test_losses, test_metrics"
   ]
  },
  {
   "cell_type": "code",
   "execution_count": 20,
   "metadata": {},
   "outputs": [],
   "source": [
    "# driver setup----\n",
    "# optmizer\n",
    "optimizer = optim.Adam(baseline_model_1.parameters(), lr=lr)\n",
    "# loss\n",
    "criterion = nn.CrossEntropyLoss()\n",
    "# metric\n",
    "metric = MulticlassAccuracy(device=device, num_classes=10)\n",
    "# Early stopping\n",
    "early_stopping = EarlyStopping(patience=3, verbose=True)\n",
    "# LR Scheduler - Exponential\n",
    "lr_scheduler = ExponentialLR(optimizer, gamma=0.8)"
   ]
  },
  {
   "cell_type": "code",
   "execution_count": 21,
   "metadata": {},
   "outputs": [
    {
     "name": "stdout",
     "output_type": "stream",
     "text": [
      "Epoch 0\n"
     ]
    },
    {
     "name": "stderr",
     "output_type": "stream",
     "text": [
      "Avg Train Loss: 2.3158122409473765 Avg Train Metric: 0.11201852085915479:   3%|████████████████████████▉                                                                                                                                                                                                                                                                                                                                                                                                                                                                                                                                                                                                                                                                                                                                                                                                                                                                                              | 11/391 [00:01<00:40,  9.32it/s]"
     ]
    },
    {
     "name": "stderr",
     "output_type": "stream",
     "text": [
      "Avg Train Loss: 1.7399925816699366 Avg Train Metric: 0.26577465093273034: 100%|██████████████████████████████████████████████████████████████████████████████████████████████████████████████████████████████████████████████████████████████████████████████████████████████████████████████████████████████████████████████████████████████████████████████████████████████████████████████████████████████████████████████████████████████████████████████████████████████████████████████████████████████████████████████████████████████████████████████████████████████████████████████████████████████████████████████████████████████████████████████████████████████████████████████████████████████████████████████████████████████████████████████████████████████████████████████████████████████████████████████████████████████████████████████████████████████████████████████████████████████████████████████████████████████████████████████████████████████████████████████████████| 391/391 [00:36<00:00, 10.64it/s]\n"
     ]
    },
    {
     "name": "stdout",
     "output_type": "stream",
     "text": [
      "Function Took 36.7684 seconds\n"
     ]
    },
    {
     "name": "stderr",
     "output_type": "stream",
     "text": [
      "Avg Test Loss: 1.515905932535099 Avg Test Metric: 0.44919698336456393: 100%|███████████████████████████████████████████████████████████████████████████████████████████████████████████████████████████████████████████████████████████████████████████████████████████████████████████████████████████████████████████████████████████████████████████████████████████████████████████████████████████████████████████████████████████████████████████████████████████████████████████████████████████████████████████████████████████████████████████████████████████████████████████████████████████████████████████████████████████████████████████████████████████████████████████████████████████████████████████████████████████████████████████████████████████████████████████████████████████████████████████████████████████████████████████████████████████████████████████████████████████████████████████████████████████████████████████████████████████████████████████████████████████| 79/79 [00:02<00:00, 30.85it/s]\n"
     ]
    },
    {
     "name": "stdout",
     "output_type": "stream",
     "text": [
      "Function Took 2.5650 seconds\n",
      "For next epoch 0.008\n",
      "Validation loss decreased (inf --> 1.515906).  Saving model ...\n",
      "Epoch 1\n"
     ]
    },
    {
     "name": "stderr",
     "output_type": "stream",
     "text": [
      "Avg Train Loss: 1.4090955388515503 Avg Train Metric: 0.45398265534959487: 100%|██████████████████████████████████████████████████████████████████████████████████████████████████████████████████████████████████████████████████████████████████████████████████████████████████████████████████████████████████████████████████████████████████████████████████████████████████████████████████████████████████████████████████████████████████████████████████████████████████████████████████████████████████████████████████████████████████████████████████████████████████████████████████████████████████████████████████████████████████████████████████████████████████████████████████████████████████████████████████████████████████████████████████████████████████████████████████████████████████████████████████████████████████████████████████████████████████████████████████████████████████████████████████████████████████████████████████████████████████████████████████████| 391/391 [00:36<00:00, 10.79it/s]\n"
     ]
    },
    {
     "name": "stdout",
     "output_type": "stream",
     "text": [
      "Function Took 36.2517 seconds\n"
     ]
    },
    {
     "name": "stderr",
     "output_type": "stream",
     "text": [
      "Avg Test Loss: 1.2840705083895334 Avg Test Metric: 0.5217213166665428: 100%|███████████████████████████████████████████████████████████████████████████████████████████████████████████████████████████████████████████████████████████████████████████████████████████████████████████████████████████████████████████████████████████████████████████████████████████████████████████████████████████████████████████████████████████████████████████████████████████████████████████████████████████████████████████████████████████████████████████████████████████████████████████████████████████████████████████████████████████████████████████████████████████████████████████████████████████████████████████████████████████████████████████████████████████████████████████████████████████████████████████████████████████████████████████████████████████████████████████████████████████████████████████████████████████████████████████████████████████████████████████████████████████| 79/79 [00:02<00:00, 31.67it/s]\n"
     ]
    },
    {
     "name": "stdout",
     "output_type": "stream",
     "text": [
      "Function Took 2.4982 seconds\n",
      "For next epoch 0.0064\n",
      "Validation loss decreased (1.515906 --> 1.284071).  Saving model ...\n",
      "Epoch 2\n"
     ]
    },
    {
     "name": "stderr",
     "output_type": "stream",
     "text": [
      "Avg Train Loss: 1.2745849738645432 Avg Train Metric: 0.5264147460613104: 100%|███████████████████████████████████████████████████████████████████████████████████████████████████████████████████████████████████████████████████████████████████████████████████████████████████████████████████████████████████████████████████████████████████████████████████████████████████████████████████████████████████████████████████████████████████████████████████████████████████████████████████████████████████████████████████████████████████████████████████████████████████████████████████████████████████████████████████████████████████████████████████████████████████████████████████████████████████████████████████████████████████████████████████████████████████████████████████████████████████████████████████████████████████████████████████████████████████████████████████████████████████████████████████████████████████████████████████████████████████████████████████████| 391/391 [00:36<00:00, 10.82it/s]\n"
     ]
    },
    {
     "name": "stdout",
     "output_type": "stream",
     "text": [
      "Function Took 36.1545 seconds\n"
     ]
    },
    {
     "name": "stderr",
     "output_type": "stream",
     "text": [
      "Avg Test Loss: 1.2162004090562653 Avg Test Metric: 0.5560106265393994: 100%|███████████████████████████████████████████████████████████████████████████████████████████████████████████████████████████████████████████████████████████████████████████████████████████████████████████████████████████████████████████████████████████████████████████████████████████████████████████████████████████████████████████████████████████████████████████████████████████████████████████████████████████████████████████████████████████████████████████████████████████████████████████████████████████████████████████████████████████████████████████████████████████████████████████████████████████████████████████████████████████████████████████████████████████████████████████████████████████████████████████████████████████████████████████████████████████████████████████████████████████████████████████████████████████████████████████████████████████████████████████████████████████| 79/79 [00:02<00:00, 32.36it/s]\n"
     ]
    },
    {
     "name": "stdout",
     "output_type": "stream",
     "text": [
      "Function Took 2.4576 seconds\n",
      "For next epoch 0.00512\n",
      "Validation loss decreased (1.284071 --> 1.216200).  Saving model ...\n",
      "Epoch 3\n"
     ]
    },
    {
     "name": "stderr",
     "output_type": "stream",
     "text": [
      "Avg Train Loss: 1.164334485140603 Avg Train Metric: 0.5714392207772531: 100%|████████████████████████████████████████████████████████████████████████████████████████████████████████████████████████████████████████████████████████████████████████████████████████████████████████████████████████████████████████████████████████████████████████████████████████████████████████████████████████████████████████████████████████████████████████████████████████████████████████████████████████████████████████████████████████████████████████████████████████████████████████████████████████████████████████████████████████████████████████████████████████████████████████████████████████████████████████████████████████████████████████████████████████████████████████████████████████████████████████████████████████████████████████████████████████████████████████████████████████████████████████████████████████████████████████████████████████████████████████████████████████| 391/391 [00:36<00:00, 10.75it/s]\n"
     ]
    },
    {
     "name": "stdout",
     "output_type": "stream",
     "text": [
      "Function Took 36.3734 seconds\n"
     ]
    },
    {
     "name": "stderr",
     "output_type": "stream",
     "text": [
      "Avg Test Loss: 1.0703148653235617 Avg Test Metric: 0.6131486802161494: 100%|███████████████████████████████████████████████████████████████████████████████████████████████████████████████████████████████████████████████████████████████████████████████████████████████████████████████████████████████████████████████████████████████████████████████████████████████████████████████████████████████████████████████████████████████████████████████████████████████████████████████████████████████████████████████████████████████████████████████████████████████████████████████████████████████████████████████████████████████████████████████████████████████████████████████████████████████████████████████████████████████████████████████████████████████████████████████████████████████████████████████████████████████████████████████████████████████████████████████████████████████████████████████████████████████████████████████████████████████████████████████████████████| 79/79 [00:02<00:00, 32.28it/s]\n"
     ]
    },
    {
     "name": "stdout",
     "output_type": "stream",
     "text": [
      "Function Took 2.4507 seconds\n",
      "For next epoch 0.004096000000000001\n",
      "Validation loss decreased (1.216200 --> 1.070315).  Saving model ...\n",
      "Epoch 4\n"
     ]
    },
    {
     "name": "stderr",
     "output_type": "stream",
     "text": [
      "Avg Train Loss: 1.0816055958533226 Avg Train Metric: 0.6046817787467976: 100%|███████████████████████████████████████████████████████████████████████████████████████████████████████████████████████████████████████████████████████████████████████████████████████████████████████████████████████████████████████████████████████████████████████████████████████████████████████████████████████████████████████████████████████████████████████████████████████████████████████████████████████████████████████████████████████████████████████████████████████████████████████████████████████████████████████████████████████████████████████████████████████████████████████████████████████████████████████████████████████████████████████████████████████████████████████████████████████████████████████████████████████████████████████████████████████████████████████████████████████████████████████████████████████████████████████████████████████████████████████████████████████| 391/391 [00:36<00:00, 10.77it/s]\n"
     ]
    },
    {
     "name": "stdout",
     "output_type": "stream",
     "text": [
      "Function Took 36.2971 seconds\n"
     ]
    },
    {
     "name": "stderr",
     "output_type": "stream",
     "text": [
      "Avg Test Loss: 1.014425459541852 Avg Test Metric: 0.6381180920178378: 100%|████████████████████████████████████████████████████████████████████████████████████████████████████████████████████████████████████████████████████████████████████████████████████████████████████████████████████████████████████████████████████████████████████████████████████████████████████████████████████████████████████████████████████████████████████████████████████████████████████████████████████████████████████████████████████████████████████████████████████████████████████████████████████████████████████████████████████████████████████████████████████████████████████████████████████████████████████████████████████████████████████████████████████████████████████████████████████████████████████████████████████████████████████████████████████████████████████████████████████████████████████████████████████████████████████████████████████████████████████████████████████████████| 79/79 [00:02<00:00, 32.07it/s]\n"
     ]
    },
    {
     "name": "stdout",
     "output_type": "stream",
     "text": [
      "Function Took 2.4669 seconds\n",
      "For next epoch 0.0032768000000000007\n",
      "Validation loss decreased (1.070315 --> 1.014425).  Saving model ...\n",
      "Epoch 5\n"
     ]
    },
    {
     "name": "stderr",
     "output_type": "stream",
     "text": [
      "Avg Train Loss: 1.0198703232933493 Avg Train Metric: 0.6326016419378998: 100%|███████████████████████████████████████████████████████████████████████████████████████████████████████████████████████████████████████████████████████████████████████████████████████████████████████████████████████████████████████████████████████████████████████████████████████████████████████████████████████████████████████████████████████████████████████████████████████████████████████████████████████████████████████████████████████████████████████████████████████████████████████████████████████████████████████████████████████████████████████████████████████████████████████████████████████████████████████████████████████████████████████████████████████████████████████████████████████████████████████████████████████████████████████████████████████████████████████████████████████████████████████████████████████████████████████████████████████████████████████████████████████| 391/391 [00:36<00:00, 10.76it/s]\n"
     ]
    },
    {
     "name": "stdout",
     "output_type": "stream",
     "text": [
      "Function Took 36.3376 seconds\n"
     ]
    },
    {
     "name": "stderr",
     "output_type": "stream",
     "text": [
      "Avg Test Loss: 0.9477043544189839 Avg Test Metric: 0.6641827369038062: 100%|███████████████████████████████████████████████████████████████████████████████████████████████████████████████████████████████████████████████████████████████████████████████████████████████████████████████████████████████████████████████████████████████████████████████████████████████████████████████████████████████████████████████████████████████████████████████████████████████████████████████████████████████████████████████████████████████████████████████████████████████████████████████████████████████████████████████████████████████████████████████████████████████████████████████████████████████████████████████████████████████████████████████████████████████████████████████████████████████████████████████████████████████████████████████████████████████████████████████████████████████████████████████████████████████████████████████████████████████████████████████████████████| 79/79 [00:02<00:00, 32.06it/s]\n"
     ]
    },
    {
     "name": "stdout",
     "output_type": "stream",
     "text": [
      "Function Took 2.4689 seconds\n",
      "For next epoch 0.002621440000000001\n",
      "Validation loss decreased (1.014425 --> 0.947704).  Saving model ...\n",
      "Epoch 6\n"
     ]
    },
    {
     "name": "stderr",
     "output_type": "stream",
     "text": [
      "Avg Train Loss: 0.9723581237256375 Avg Train Metric: 0.6488075646598016: 100%|███████████████████████████████████████████████████████████████████████████████████████████████████████████████████████████████████████████████████████████████████████████████████████████████████████████████████████████████████████████████████████████████████████████████████████████████████████████████████████████████████████████████████████████████████████████████████████████████████████████████████████████████████████████████████████████████████████████████████████████████████████████████████████████████████████████████████████████████████████████████████████████████████████████████████████████████████████████████████████████████████████████████████████████████████████████████████████████████████████████████████████████████████████████████████████████████████████████████████████████████████████████████████████████████████████████████████████████████████████████████████████| 391/391 [00:36<00:00, 10.80it/s]\n"
     ]
    },
    {
     "name": "stdout",
     "output_type": "stream",
     "text": [
      "Function Took 36.2094 seconds\n"
     ]
    },
    {
     "name": "stderr",
     "output_type": "stream",
     "text": [
      "Avg Test Loss: 0.8681554122816159 Avg Test Metric: 0.6938436853734753: 100%|███████████████████████████████████████████████████████████████████████████████████████████████████████████████████████████████████████████████████████████████████████████████████████████████████████████████████████████████████████████████████████████████████████████████████████████████████████████████████████████████████████████████████████████████████████████████████████████████████████████████████████████████████████████████████████████████████████████████████████████████████████████████████████████████████████████████████████████████████████████████████████████████████████████████████████████████████████████████████████████████████████████████████████████████████████████████████████████████████████████████████████████████████████████████████████████████████████████████████████████████████████████████████████████████████████████████████████████████████████████████████████████| 79/79 [00:02<00:00, 32.17it/s]\n"
     ]
    },
    {
     "name": "stdout",
     "output_type": "stream",
     "text": [
      "Function Took 2.4597 seconds\n",
      "For next epoch 0.002097152000000001\n",
      "Validation loss decreased (0.947704 --> 0.868155).  Saving model ...\n",
      "Epoch 7\n"
     ]
    },
    {
     "name": "stderr",
     "output_type": "stream",
     "text": [
      "Avg Train Loss: 0.9283345590162155 Avg Train Metric: 0.6672254652928209: 100%|███████████████████████████████████████████████████████████████████████████████████████████████████████████████████████████████████████████████████████████████████████████████████████████████████████████████████████████████████████████████████████████████████████████████████████████████████████████████████████████████████████████████████████████████████████████████████████████████████████████████████████████████████████████████████████████████████████████████████████████████████████████████████████████████████████████████████████████████████████████████████████████████████████████████████████████████████████████████████████████████████████████████████████████████████████████████████████████████████████████████████████████████████████████████████████████████████████████████████████████████████████████████████████████████████████████████████████████████████████████████████████| 391/391 [00:36<00:00, 10.75it/s]\n"
     ]
    },
    {
     "name": "stdout",
     "output_type": "stream",
     "text": [
      "Function Took 36.3620 seconds\n"
     ]
    },
    {
     "name": "stderr",
     "output_type": "stream",
     "text": [
      "Avg Test Loss: 0.8446494129639638 Avg Test Metric: 0.6999389091624489: 100%|███████████████████████████████████████████████████████████████████████████████████████████████████████████████████████████████████████████████████████████████████████████████████████████████████████████████████████████████████████████████████████████████████████████████████████████████████████████████████████████████████████████████████████████████████████████████████████████████████████████████████████████████████████████████████████████████████████████████████████████████████████████████████████████████████████████████████████████████████████████████████████████████████████████████████████████████████████████████████████████████████████████████████████████████████████████████████████████████████████████████████████████████████████████████████████████████████████████████████████████████████████████████████████████████████████████████████████████████████████████████████████████| 79/79 [00:02<00:00, 31.73it/s]\n"
     ]
    },
    {
     "name": "stdout",
     "output_type": "stream",
     "text": [
      "Function Took 2.4933 seconds\n",
      "For next epoch 0.001677721600000001\n",
      "Validation loss decreased (0.868155 --> 0.844649).  Saving model ...\n",
      "Epoch 8\n"
     ]
    },
    {
     "name": "stderr",
     "output_type": "stream",
     "text": [
      "Avg Train Loss: 0.8928116189549341 Avg Train Metric: 0.6786041650015985: 100%|███████████████████████████████████████████████████████████████████████████████████████████████████████████████████████████████████████████████████████████████████████████████████████████████████████████████████████████████████████████████████████████████████████████████████████████████████████████████████████████████████████████████████████████████████████████████████████████████████████████████████████████████████████████████████████████████████████████████████████████████████████████████████████████████████████████████████████████████████████████████████████████████████████████████████████████████████████████████████████████████████████████████████████████████████████████████████████████████████████████████████████████████████████████████████████████████████████████████████████████████████████████████████████████████████████████████████████████████████████████████████████| 391/391 [00:36<00:00, 10.76it/s]\n"
     ]
    },
    {
     "name": "stdout",
     "output_type": "stream",
     "text": [
      "Function Took 36.3409 seconds\n"
     ]
    },
    {
     "name": "stderr",
     "output_type": "stream",
     "text": [
      "Avg Test Loss: 0.808985203881807 Avg Test Metric: 0.7145688171628155: 100%|████████████████████████████████████████████████████████████████████████████████████████████████████████████████████████████████████████████████████████████████████████████████████████████████████████████████████████████████████████████████████████████████████████████████████████████████████████████████████████████████████████████████████████████████████████████████████████████████████████████████████████████████████████████████████████████████████████████████████████████████████████████████████████████████████████████████████████████████████████████████████████████████████████████████████████████████████████████████████████████████████████████████████████████████████████████████████████████████████████████████████████████████████████████████████████████████████████████████████████████████████████████████████████████████████████████████████████████████████████████████████████████| 79/79 [00:02<00:00, 32.08it/s]\n"
     ]
    },
    {
     "name": "stdout",
     "output_type": "stream",
     "text": [
      "Function Took 2.4664 seconds\n",
      "For next epoch 0.0013421772800000008\n",
      "Validation loss decreased (0.844649 --> 0.808985).  Saving model ...\n",
      "Epoch 9\n"
     ]
    },
    {
     "name": "stderr",
     "output_type": "stream",
     "text": [
      "Avg Train Loss: 0.8733359181972415 Avg Train Metric: 0.691586186971201: 100%|████████████████████████████████████████████████████████████████████████████████████████████████████████████████████████████████████████████████████████████████████████████████████████████████████████████████████████████████████████████████████████████████████████████████████████████████████████████████████████████████████████████████████████████████████████████████████████████████████████████████████████████████████████████████████████████████████████████████████████████████████████████████████████████████████████████████████████████████████████████████████████████████████████████████████████████████████████████████████████████████████████████████████████████████████████████████████████████████████████████████████████████████████████████████████████████████████████████████████████████████████████████████████████████████████████████████████████████████████████████████████████| 391/391 [00:36<00:00, 10.83it/s]\n"
     ]
    },
    {
     "name": "stdout",
     "output_type": "stream",
     "text": [
      "Function Took 36.1174 seconds\n"
     ]
    },
    {
     "name": "stderr",
     "output_type": "stream",
     "text": [
      "Avg Test Loss: 0.7614513620545592 Avg Test Metric: 0.7245441245127328: 100%|███████████████████████████████████████████████████████████████████████████████████████████████████████████████████████████████████████████████████████████████████████████████████████████████████████████████████████████████████████████████████████████████████████████████████████████████████████████████████████████████████████████████████████████████████████████████████████████████████████████████████████████████████████████████████████████████████████████████████████████████████████████████████████████████████████████████████████████████████████████████████████████████████████████████████████████████████████████████████████████████████████████████████████████████████████████████████████████████████████████████████████████████████████████████████████████████████████████████████████████████████████████████████████████████████████████████████████████████████████████████████████████| 79/79 [00:02<00:00, 32.69it/s]\n"
     ]
    },
    {
     "name": "stdout",
     "output_type": "stream",
     "text": [
      "Function Took 2.4210 seconds\n",
      "For next epoch 0.0010737418240000006\n",
      "Validation loss decreased (0.808985 --> 0.761451).  Saving model ...\n",
      "Epoch 10\n"
     ]
    },
    {
     "name": "stderr",
     "output_type": "stream",
     "text": [
      "Avg Train Loss: 0.8491321474389957 Avg Train Metric: 0.6964982755653694: 100%|███████████████████████████████████████████████████████████████████████████████████████████████████████████████████████████████████████████████████████████████████████████████████████████████████████████████████████████████████████████████████████████████████████████████████████████████████████████████████████████████████████████████████████████████████████████████████████████████████████████████████████████████████████████████████████████████████████████████████████████████████████████████████████████████████████████████████████████████████████████████████████████████████████████████████████████████████████████████████████████████████████████████████████████████████████████████████████████████████████████████████████████████████████████████████████████████████████████████████████████████████████████████████████████████████████████████████████████████████████████████████████| 391/391 [00:36<00:00, 10.70it/s]\n"
     ]
    },
    {
     "name": "stdout",
     "output_type": "stream",
     "text": [
      "Function Took 36.5519 seconds\n"
     ]
    },
    {
     "name": "stderr",
     "output_type": "stream",
     "text": [
      "Avg Test Loss: 0.7492532156690767 Avg Test Metric: 0.7337958012955098: 100%|███████████████████████████████████████████████████████████████████████████████████████████████████████████████████████████████████████████████████████████████████████████████████████████████████████████████████████████████████████████████████████████████████████████████████████████████████████████████████████████████████████████████████████████████████████████████████████████████████████████████████████████████████████████████████████████████████████████████████████████████████████████████████████████████████████████████████████████████████████████████████████████████████████████████████████████████████████████████████████████████████████████████████████████████████████████████████████████████████████████████████████████████████████████████████████████████████████████████████████████████████████████████████████████████████████████████████████████████████████████████████████████| 79/79 [00:02<00:00, 31.84it/s]\n"
     ]
    },
    {
     "name": "stdout",
     "output_type": "stream",
     "text": [
      "Function Took 2.4866 seconds\n",
      "For next epoch 0.0008589934592000006\n",
      "Validation loss decreased (0.761451 --> 0.749253).  Saving model ...\n",
      "Epoch 11\n"
     ]
    },
    {
     "name": "stderr",
     "output_type": "stream",
     "text": [
      "Avg Train Loss: 0.8333420945555353 Avg Train Metric: 0.7012052519242172: 100%|███████████████████████████████████████████████████████████████████████████████████████████████████████████████████████████████████████████████████████████████████████████████████████████████████████████████████████████████████████████████████████████████████████████████████████████████████████████████████████████████████████████████████████████████████████████████████████████████████████████████████████████████████████████████████████████████████████████████████████████████████████████████████████████████████████████████████████████████████████████████████████████████████████████████████████████████████████████████████████████████████████████████████████████████████████████████████████████████████████████████████████████████████████████████████████████████████████████████████████████████████████████████████████████████████████████████████████████████████████████████████████| 391/391 [00:36<00:00, 10.76it/s]\n"
     ]
    },
    {
     "name": "stdout",
     "output_type": "stream",
     "text": [
      "Function Took 36.3512 seconds\n"
     ]
    },
    {
     "name": "stderr",
     "output_type": "stream",
     "text": [
      "Avg Test Loss: 0.731992257546775 Avg Test Metric: 0.7427862007406694: 100%|████████████████████████████████████████████████████████████████████████████████████████████████████████████████████████████████████████████████████████████████████████████████████████████████████████████████████████████████████████████████████████████████████████████████████████████████████████████████████████████████████████████████████████████████████████████████████████████████████████████████████████████████████████████████████████████████████████████████████████████████████████████████████████████████████████████████████████████████████████████████████████████████████████████████████████████████████████████████████████████████████████████████████████████████████████████████████████████████████████████████████████████████████████████████████████████████████████████████████████████████████████████████████████████████████████████████████████████████████████████████████████████| 79/79 [00:02<00:00, 32.62it/s]\n"
     ]
    },
    {
     "name": "stdout",
     "output_type": "stream",
     "text": [
      "Function Took 2.4257 seconds\n",
      "For next epoch 0.0006871947673600005\n",
      "Validation loss decreased (0.749253 --> 0.731992).  Saving model ...\n",
      "Epoch 12\n"
     ]
    },
    {
     "name": "stderr",
     "output_type": "stream",
     "text": [
      "Avg Train Loss: 0.8225719764104584 Avg Train Metric: 0.7107147300029959: 100%|███████████████████████████████████████████████████████████████████████████████████████████████████████████████████████████████████████████████████████████████████████████████████████████████████████████████████████████████████████████████████████████████████████████████████████████████████████████████████████████████████████████████████████████████████████████████████████████████████████████████████████████████████████████████████████████████████████████████████████████████████████████████████████████████████████████████████████████████████████████████████████████████████████████████████████████████████████████████████████████████████████████████████████████████████████████████████████████████████████████████████████████████████████████████████████████████████████████████████████████████████████████████████████████████████████████████████████████████████████████████████████| 391/391 [00:36<00:00, 10.77it/s]\n"
     ]
    },
    {
     "name": "stdout",
     "output_type": "stream",
     "text": [
      "Function Took 36.3151 seconds\n"
     ]
    },
    {
     "name": "stderr",
     "output_type": "stream",
     "text": [
      "Avg Test Loss: 0.7247781165038483 Avg Test Metric: 0.7447434784490851: 100%|███████████████████████████████████████████████████████████████████████████████████████████████████████████████████████████████████████████████████████████████████████████████████████████████████████████████████████████████████████████████████████████████████████████████████████████████████████████████████████████████████████████████████████████████████████████████████████████████████████████████████████████████████████████████████████████████████████████████████████████████████████████████████████████████████████████████████████████████████████████████████████████████████████████████████████████████████████████████████████████████████████████████████████████████████████████████████████████████████████████████████████████████████████████████████████████████████████████████████████████████████████████████████████████████████████████████████████████████████████████████████████████| 79/79 [00:02<00:00, 30.98it/s]\n"
     ]
    },
    {
     "name": "stdout",
     "output_type": "stream",
     "text": [
      "Function Took 2.5538 seconds\n",
      "For next epoch 0.0005497558138880005\n",
      "Validation loss decreased (0.731992 --> 0.724778).  Saving model ...\n",
      "Epoch 13\n"
     ]
    },
    {
     "name": "stderr",
     "output_type": "stream",
     "text": [
      "Avg Train Loss: 0.8055322587947407 Avg Train Metric: 0.712920842573161: 100%|████████████████████████████████████████████████████████████████████████████████████████████████████████████████████████████████████████████████████████████████████████████████████████████████████████████████████████████████████████████████████████████████████████████████████████████████████████████████████████████████████████████████████████████████████████████████████████████████████████████████████████████████████████████████████████████████████████████████████████████████████████████████████████████████████████████████████████████████████████████████████████████████████████████████████████████████████████████████████████████████████████████████████████████████████████████████████████████████████████████████████████████████████████████████████████████████████████████████████████████████████████████████████████████████████████████████████████████████████████████████████████| 391/391 [00:38<00:00, 10.20it/s]\n"
     ]
    },
    {
     "name": "stdout",
     "output_type": "stream",
     "text": [
      "Function Took 38.3453 seconds\n"
     ]
    },
    {
     "name": "stderr",
     "output_type": "stream",
     "text": [
      "Avg Test Loss: 0.7122864402547667 Avg Test Metric: 0.7442357193065595: 100%|███████████████████████████████████████████████████████████████████████████████████████████████████████████████████████████████████████████████████████████████████████████████████████████████████████████████████████████████████████████████████████████████████████████████████████████████████████████████████████████████████████████████████████████████████████████████████████████████████████████████████████████████████████████████████████████████████████████████████████████████████████████████████████████████████████████████████████████████████████████████████████████████████████████████████████████████████████████████████████████████████████████████████████████████████████████████████████████████████████████████████████████████████████████████████████████████████████████████████████████████████████████████████████████████████████████████████████████████████████████████████████████| 79/79 [00:02<00:00, 28.30it/s]\n"
     ]
    },
    {
     "name": "stdout",
     "output_type": "stream",
     "text": [
      "Function Took 2.7980 seconds\n",
      "For next epoch 0.0004398046511104004\n",
      "Validation loss decreased (0.724778 --> 0.712286).  Saving model ...\n",
      "Epoch 14\n"
     ]
    },
    {
     "name": "stderr",
     "output_type": "stream",
     "text": [
      "Avg Train Loss: 0.8000917843235728 Avg Train Metric: 0.7148293875672324: 100%|███████████████████████████████████████████████████████████████████████████████████████████████████████████████████████████████████████████████████████████████████████████████████████████████████████████████████████████████████████████████████████████████████████████████████████████████████████████████████████████████████████████████████████████████████████████████████████████████████████████████████████████████████████████████████████████████████████████████████████████████████████████████████████████████████████████████████████████████████████████████████████████████████████████████████████████████████████████████████████████████████████████████████████████████████████████████████████████████████████████████████████████████████████████████████████████████████████████████████████████████████████████████████████████████████████████████████████████████████████████████████████| 391/391 [00:37<00:00, 10.48it/s]\n"
     ]
    },
    {
     "name": "stdout",
     "output_type": "stream",
     "text": [
      "Function Took 37.3218 seconds\n"
     ]
    },
    {
     "name": "stderr",
     "output_type": "stream",
     "text": [
      "Avg Test Loss: 0.7109576192083238 Avg Test Metric: 0.7525291231614125: 100%|███████████████████████████████████████████████████████████████████████████████████████████████████████████████████████████████████████████████████████████████████████████████████████████████████████████████████████████████████████████████████████████████████████████████████████████████████████████████████████████████████████████████████████████████████████████████████████████████████████████████████████████████████████████████████████████████████████████████████████████████████████████████████████████████████████████████████████████████████████████████████████████████████████████████████████████████████████████████████████████████████████████████████████████████████████████████████████████████████████████████████████████████████████████████████████████████████████████████████████████████████████████████████████████████████████████████████████████████████████████████████████████| 79/79 [00:02<00:00, 31.73it/s]\n"
     ]
    },
    {
     "name": "stdout",
     "output_type": "stream",
     "text": [
      "Function Took 2.4936 seconds\n",
      "For next epoch 0.00035184372088832035\n",
      "Validation loss decreased (0.712286 --> 0.710958).  Saving model ...\n",
      "Epoch 15\n"
     ]
    },
    {
     "name": "stderr",
     "output_type": "stream",
     "text": [
      "Avg Train Loss: 0.7851339122828316 Avg Train Metric: 0.7225306880138719: 100%|███████████████████████████████████████████████████████████████████████████████████████████████████████████████████████████████████████████████████████████████████████████████████████████████████████████████████████████████████████████████████████████████████████████████████████████████████████████████████████████████████████████████████████████████████████████████████████████████████████████████████████████████████████████████████████████████████████████████████████████████████████████████████████████████████████████████████████████████████████████████████████████████████████████████████████████████████████████████████████████████████████████████████████████████████████████████████████████████████████████████████████████████████████████████████████████████████████████████████████████████████████████████████████████████████████████████████████████████████████████████████████| 391/391 [00:36<00:00, 10.62it/s]\n"
     ]
    },
    {
     "name": "stdout",
     "output_type": "stream",
     "text": [
      "Function Took 36.8233 seconds\n"
     ]
    },
    {
     "name": "stderr",
     "output_type": "stream",
     "text": [
      "Avg Test Loss: 0.6940577920479111 Avg Test Metric: 0.7488467746143099: 100%|███████████████████████████████████████████████████████████████████████████████████████████████████████████████████████████████████████████████████████████████████████████████████████████████████████████████████████████████████████████████████████████████████████████████████████████████████████████████████████████████████████████████████████████████████████████████████████████████████████████████████████████████████████████████████████████████████████████████████████████████████████████████████████████████████████████████████████████████████████████████████████████████████████████████████████████████████████████████████████████████████████████████████████████████████████████████████████████████████████████████████████████████████████████████████████████████████████████████████████████████████████████████████████████████████████████████████████████████████████████████████████████| 79/79 [00:02<00:00, 31.76it/s]\n"
     ]
    },
    {
     "name": "stdout",
     "output_type": "stream",
     "text": [
      "Function Took 2.4912 seconds\n",
      "For next epoch 0.0002814749767106563\n",
      "Validation loss decreased (0.710958 --> 0.694058).  Saving model ...\n",
      "Epoch 16\n"
     ]
    },
    {
     "name": "stderr",
     "output_type": "stream",
     "text": [
      "Avg Train Loss: 0.7831045463871773 Avg Train Metric: 0.7201468214354552: 100%|███████████████████████████████████████████████████████████████████████████████████████████████████████████████████████████████████████████████████████████████████████████████████████████████████████████████████████████████████████████████████████████████████████████████████████████████████████████████████████████████████████████████████████████████████████████████████████████████████████████████████████████████████████████████████████████████████████████████████████████████████████████████████████████████████████████████████████████████████████████████████████████████████████████████████████████████████████████████████████████████████████████████████████████████████████████████████████████████████████████████████████████████████████████████████████████████████████████████████████████████████████████████████████████████████████████████████████████████████████████████████████| 391/391 [00:37<00:00, 10.34it/s]\n"
     ]
    },
    {
     "name": "stdout",
     "output_type": "stream",
     "text": [
      "Function Took 37.8057 seconds\n"
     ]
    },
    {
     "name": "stderr",
     "output_type": "stream",
     "text": [
      "Avg Test Loss: 0.7056820253028145 Avg Test Metric: 0.7548890513709828: 100%|███████████████████████████████████████████████████████████████████████████████████████████████████████████████████████████████████████████████████████████████████████████████████████████████████████████████████████████████████████████████████████████████████████████████████████████████████████████████████████████████████████████████████████████████████████████████████████████████████████████████████████████████████████████████████████████████████████████████████████████████████████████████████████████████████████████████████████████████████████████████████████████████████████████████████████████████████████████████████████████████████████████████████████████████████████████████████████████████████████████████████████████████████████████████████████████████████████████████████████████████████████████████████████████████████████████████████████████████████████████████████████████| 79/79 [00:02<00:00, 32.32it/s]\n"
     ]
    },
    {
     "name": "stdout",
     "output_type": "stream",
     "text": [
      "Function Took 2.4479 seconds\n",
      "For next epoch 0.00022517998136852504\n",
      "EarlyStopping counter: 1 out of 3\n",
      "Epoch 17\n"
     ]
    },
    {
     "name": "stderr",
     "output_type": "stream",
     "text": [
      "Avg Train Loss: 0.7774293125437959 Avg Train Metric: 0.7199146846676117: 100%|███████████████████████████████████████████████████████████████████████████████████████████████████████████████████████████████████████████████████████████████████████████████████████████████████████████████████████████████████████████████████████████████████████████████████████████████████████████████████████████████████████████████████████████████████████████████████████████████████████████████████████████████████████████████████████████████████████████████████████████████████████████████████████████████████████████████████████████████████████████████████████████████████████████████████████████████████████████████████████████████████████████████████████████████████████████████████████████████████████████████████████████████████████████████████████████████████████████████████████████████████████████████████████████████████████████████████████████████████████████████████████| 391/391 [00:37<00:00, 10.47it/s]\n"
     ]
    },
    {
     "name": "stdout",
     "output_type": "stream",
     "text": [
      "Function Took 37.3507 seconds\n"
     ]
    },
    {
     "name": "stderr",
     "output_type": "stream",
     "text": [
      "Avg Test Loss: 0.6902643615686441 Avg Test Metric: 0.7562058816982221: 100%|███████████████████████████████████████████████████████████████████████████████████████████████████████████████████████████████████████████████████████████████████████████████████████████████████████████████████████████████████████████████████████████████████████████████████████████████████████████████████████████████████████████████████████████████████████████████████████████████████████████████████████████████████████████████████████████████████████████████████████████████████████████████████████████████████████████████████████████████████████████████████████████████████████████████████████████████████████████████████████████████████████████████████████████████████████████████████████████████████████████████████████████████████████████████████████████████████████████████████████████████████████████████████████████████████████████████████████████████████████████████████████████| 79/79 [00:02<00:00, 31.94it/s]\n"
     ]
    },
    {
     "name": "stdout",
     "output_type": "stream",
     "text": [
      "Function Took 2.4775 seconds\n",
      "For next epoch 0.00018014398509482005\n",
      "Validation loss decreased (0.694058 --> 0.690264).  Saving model ...\n",
      "Epoch 18\n"
     ]
    },
    {
     "name": "stderr",
     "output_type": "stream",
     "text": [
      "Avg Train Loss: 0.7707302733455472 Avg Train Metric: 0.7268423675881017: 100%|███████████████████████████████████████████████████████████████████████████████████████████████████████████████████████████████████████████████████████████████████████████████████████████████████████████████████████████████████████████████████████████████████████████████████████████████████████████████████████████████████████████████████████████████████████████████████████████████████████████████████████████████████████████████████████████████████████████████████████████████████████████████████████████████████████████████████████████████████████████████████████████████████████████████████████████████████████████████████████████████████████████████████████████████████████████████████████████████████████████████████████████████████████████████████████████████████████████████████████████████████████████████████████████████████████████████████████████████████████████████████████| 391/391 [00:38<00:00, 10.17it/s]\n"
     ]
    },
    {
     "name": "stdout",
     "output_type": "stream",
     "text": [
      "Function Took 38.4586 seconds\n"
     ]
    },
    {
     "name": "stderr",
     "output_type": "stream",
     "text": [
      "Avg Test Loss: 0.6913190272789967 Avg Test Metric: 0.7488118674181685: 100%|███████████████████████████████████████████████████████████████████████████████████████████████████████████████████████████████████████████████████████████████████████████████████████████████████████████████████████████████████████████████████████████████████████████████████████████████████████████████████████████████████████████████████████████████████████████████████████████████████████████████████████████████████████████████████████████████████████████████████████████████████████████████████████████████████████████████████████████████████████████████████████████████████████████████████████████████████████████████████████████████████████████████████████████████████████████████████████████████████████████████████████████████████████████████████████████████████████████████████████████████████████████████████████████████████████████████████████████████████████████████████████████| 79/79 [00:02<00:00, 31.36it/s]\n"
     ]
    },
    {
     "name": "stdout",
     "output_type": "stream",
     "text": [
      "Function Took 2.5235 seconds\n",
      "For next epoch 0.00014411518807585605\n",
      "EarlyStopping counter: 1 out of 3\n",
      "Epoch 19\n"
     ]
    },
    {
     "name": "stderr",
     "output_type": "stream",
     "text": [
      "Avg Train Loss: 0.7673443724279818 Avg Train Metric: 0.7241106588212426: 100%|███████████████████████████████████████████████████████████████████████████████████████████████████████████████████████████████████████████████████████████████████████████████████████████████████████████████████████████████████████████████████████████████████████████████████████████████████████████████████████████████████████████████████████████████████████████████████████████████████████████████████████████████████████████████████████████████████████████████████████████████████████████████████████████████████████████████████████████████████████████████████████████████████████████████████████████████████████████████████████████████████████████████████████████████████████████████████████████████████████████████████████████████████████████████████████████████████████████████████████████████████████████████████████████████████████████████████████████████████████████████████████| 391/391 [00:36<00:00, 10.72it/s]\n"
     ]
    },
    {
     "name": "stdout",
     "output_type": "stream",
     "text": [
      "Function Took 36.4636 seconds\n"
     ]
    },
    {
     "name": "stderr",
     "output_type": "stream",
     "text": [
      "Avg Test Loss: 0.6832703634907927 Avg Test Metric: 0.7628250484225116: 100%|███████████████████████████████████████████████████████████████████████████████████████████████████████████████████████████████████████████████████████████████████████████████████████████████████████████████████████████████████████████████████████████████████████████████████████████████████████████████████████████████████████████████████████████████████████████████████████████████████████████████████████████████████████████████████████████████████████████████████████████████████████████████████████████████████████████████████████████████████████████████████████████████████████████████████████████████████████████████████████████████████████████████████████████████████████████████████████████████████████████████████████████████████████████████████████████████████████████████████████████████████████████████████████████████████████████████████████████████████████████████████████████| 79/79 [00:02<00:00, 29.36it/s]\n"
     ]
    },
    {
     "name": "stdout",
     "output_type": "stream",
     "text": [
      "Function Took 2.6964 seconds\n",
      "For next epoch 0.00011529215046068484\n",
      "Validation loss decreased (0.690264 --> 0.683270).  Saving model ...\n"
     ]
    }
   ],
   "source": [
    "train_losses = []\n",
    "train_metrics = []\n",
    "test_losses = []\n",
    "test_metrics = []\n",
    "\n",
    "for epoch in range(0, epochs):\n",
    "    print(f\"Epoch {epoch}\")\n",
    "    train_losses, train_metrics = train_module(\n",
    "        baseline_model_1,\n",
    "        device,\n",
    "        train_loader,\n",
    "        optimizer,\n",
    "        criterion,\n",
    "        metric,\n",
    "        train_losses,\n",
    "        train_metrics,\n",
    "    )\n",
    "    test_losses, test_metrics = test_module(\n",
    "        baseline_model_1,\n",
    "        device,\n",
    "        test_loader,\n",
    "        criterion,\n",
    "        metric,\n",
    "        test_losses,\n",
    "        test_metrics,\n",
    "    )\n",
    "    lr_scheduler.step()  # lr scheduler stepping\n",
    "    print(f\"For next epoch {lr_scheduler.get_last_lr()[0]}\")\n",
    "    early_stopping(\n",
    "        test_losses[-1], baseline_model_1, epoch\n",
    "    )  # last recorded test loss to measure the improvement against the prior one\n",
    "    if early_stopping.early_stop:\n",
    "        print(\"Early stopping\")\n",
    "        break"
   ]
  },
  {
   "cell_type": "code",
   "execution_count": 22,
   "metadata": {},
   "outputs": [
    {
     "data": {
      "image/png": "[encoded data removed]",
      "text/plain": [
       "<Figure size 1152x720 with 2 Axes>"
      ]
     },
     "metadata": {
      "needs_background": "light"
     },
     "output_type": "display_data"
    }
   ],
   "source": [
    "plot_loss_accuracy(\n",
    "    train_loss=[train_losses],\n",
    "    val_loss=[test_losses],\n",
    "    train_acc=[train_metrics],\n",
    "    val_acc=[test_metrics],\n",
    "    labels=[\"baseline-1\"],\n",
    "    colors=[\"blue\"],\n",
    "    loss_legend_loc=\"upper left\",\n",
    "    acc_legend_loc=\"upper left\",\n",
    "    legend_font=7,\n",
    ")"
   ]
  },
  {
   "cell_type": "markdown",
   "metadata": {},
   "source": [
    "Application of transition block without max pool within each layer"
   ]
  },
  {
   "cell_type": "code",
   "execution_count": 111,
   "metadata": {},
   "outputs": [],
   "source": [
    "class DialatedClassificationTransition(nn.Module):\n",
    "    def __init__(\n",
    "        self,\n",
    "        in_channels,\n",
    "        hidden_units,\n",
    "        out_channels,\n",
    "        multiplier_1=1,\n",
    "        multiplier_2=2,\n",
    "        dropout=0.1,\n",
    "    ):\n",
    "        super(DialatedClassificationTransition, self).__init__()\n",
    "        # block1\n",
    "        self.conv_bl1 = nn.Sequential(\n",
    "            # set1\n",
    "            nn.Conv2d(\n",
    "                in_channels=in_channels,\n",
    "                out_channels=multiplier_1 * hidden_units,\n",
    "                kernel_size=(3, 3),\n",
    "                padding=1,\n",
    "                bias=False,\n",
    "            ),\n",
    "            nn.BatchNorm2d(multiplier_1 * hidden_units),\n",
    "            nn.ReLU(),\n",
    "            nn.Dropout(dropout),\n",
    "            # set2\n",
    "            nn.Conv2d(\n",
    "                in_channels=multiplier_1 * hidden_units,\n",
    "                out_channels=multiplier_2 * hidden_units,\n",
    "                kernel_size=(3, 3),\n",
    "                padding=1,\n",
    "                bias=False,\n",
    "            ),\n",
    "            nn.ReLU(),\n",
    "            nn.BatchNorm2d(multiplier_2 * hidden_units),\n",
    "            nn.Dropout(dropout),\n",
    "            # set3 -dialation\n",
    "            nn.Conv2d(\n",
    "                in_channels=multiplier_2 * hidden_units,\n",
    "                out_channels=multiplier_2 * hidden_units,\n",
    "                kernel_size=(3, 3),\n",
    "                padding=1,\n",
    "                dilation=2,  # application of dialated convolution\n",
    "                bias=False,\n",
    "            ),\n",
    "            nn.ReLU(),\n",
    "            nn.BatchNorm2d(multiplier_2 * hidden_units),\n",
    "            nn.Dropout(dropout),\n",
    "        )\n",
    "        # transition block\n",
    "        self.transition = nn.Sequential(\n",
    "            nn.Conv2d(\n",
    "                in_channels=multiplier_2 * hidden_units,\n",
    "                out_channels=hidden_units,\n",
    "                kernel_size=(1, 1),\n",
    "                padding=0,\n",
    "                bias=False,\n",
    "            ),\n",
    "        )\n",
    "        # block2\n",
    "        self.conv_bl2 = nn.Sequential(\n",
    "            # set1\n",
    "            nn.Conv2d(\n",
    "                in_channels=(hidden_units),\n",
    "                out_channels=multiplier_1 * hidden_units,\n",
    "                kernel_size=(3, 3),\n",
    "                padding=1,\n",
    "                bias=False,\n",
    "            ),\n",
    "            nn.BatchNorm2d(multiplier_1 * hidden_units),\n",
    "            nn.ReLU(),\n",
    "            nn.Dropout(dropout),\n",
    "            # set2\n",
    "            nn.Conv2d(\n",
    "                in_channels=multiplier_1 * hidden_units,\n",
    "                out_channels=multiplier_2 * hidden_units,\n",
    "                kernel_size=(3, 3),\n",
    "                padding=1,\n",
    "                bias=False,\n",
    "            ),\n",
    "            nn.ReLU(),\n",
    "            nn.BatchNorm2d(multiplier_2 * hidden_units),\n",
    "            nn.Dropout(dropout),\n",
    "            # set3 -dialation\n",
    "            nn.Conv2d(\n",
    "                in_channels=multiplier_2 * hidden_units,\n",
    "                out_channels=multiplier_2 * hidden_units,\n",
    "                kernel_size=(3, 3),\n",
    "                padding=1,\n",
    "                dilation=2,  # application of dialated convolution\n",
    "                bias=False,\n",
    "            ),\n",
    "            nn.ReLU(),\n",
    "            nn.BatchNorm2d(multiplier_2 * hidden_units),\n",
    "            nn.Dropout(dropout),\n",
    "        )\n",
    "        # block3\n",
    "        self.conv_bl3 = nn.Sequential(\n",
    "            # set1\n",
    "            nn.Conv2d(\n",
    "                in_channels=(hidden_units),\n",
    "                out_channels=multiplier_1 * hidden_units,\n",
    "                kernel_size=(3, 3),\n",
    "                padding=1,\n",
    "                bias=False,\n",
    "            ),\n",
    "            nn.BatchNorm2d(multiplier_1 * hidden_units),\n",
    "            nn.ReLU(),\n",
    "            nn.Dropout(dropout),\n",
    "            # set2\n",
    "            nn.Conv2d(\n",
    "                in_channels=multiplier_1 * hidden_units,\n",
    "                out_channels=multiplier_2 * hidden_units,\n",
    "                kernel_size=(3, 3),\n",
    "                padding=1,\n",
    "                bias=False,\n",
    "            ),\n",
    "            nn.ReLU(),\n",
    "            nn.BatchNorm2d(multiplier_2 * hidden_units),\n",
    "            nn.Dropout(dropout),\n",
    "            # set3 -dialation\n",
    "            nn.Conv2d(\n",
    "                in_channels=multiplier_2 * hidden_units,\n",
    "                out_channels=multiplier_2 * hidden_units,\n",
    "                kernel_size=(3, 3),\n",
    "                padding=1,\n",
    "                dilation=2,  # application of dialated convolution\n",
    "                bias=False,\n",
    "            ),\n",
    "            nn.ReLU(),\n",
    "            nn.BatchNorm2d(multiplier_2 * hidden_units),\n",
    "            nn.Dropout(dropout),\n",
    "        )\n",
    "        # block4\n",
    "        self.conv_bl4 = nn.Sequential(\n",
    "            # set1\n",
    "            nn.Conv2d(\n",
    "                in_channels=(hidden_units),\n",
    "                out_channels=multiplier_1 * hidden_units,\n",
    "                kernel_size=(3, 3),\n",
    "                padding=1,\n",
    "                bias=False,\n",
    "            ),\n",
    "            nn.BatchNorm2d(multiplier_1 * hidden_units),\n",
    "            nn.ReLU(),\n",
    "            nn.Dropout(dropout),\n",
    "            # set2\n",
    "            nn.Conv2d(\n",
    "                in_channels=multiplier_1 * hidden_units,\n",
    "                out_channels=multiplier_2 * hidden_units,\n",
    "                kernel_size=(3, 3),\n",
    "                padding=1,\n",
    "                bias=False,\n",
    "            ),\n",
    "            nn.ReLU(),\n",
    "            nn.BatchNorm2d(multiplier_2 * hidden_units),\n",
    "            nn.Dropout(dropout),\n",
    "        )\n",
    "\n",
    "        self.gap = nn.AdaptiveAvgPool2d((1, 1))\n",
    "        self.classifier = nn.Sequential(\n",
    "            nn.Conv2d(\n",
    "                in_channels=multiplier_2 * hidden_units,\n",
    "                out_channels=out_channels,\n",
    "                kernel_size=(1, 1),\n",
    "                padding=0,\n",
    "                bias=False,\n",
    "            )\n",
    "        )\n",
    "\n",
    "    def forward(self, x):\n",
    "        x = self.conv_bl1(x)\n",
    "        x = self.transition(x)\n",
    "        x = self.conv_bl2(x)\n",
    "        x = self.transition(x)\n",
    "        x = self.conv_bl3(x)\n",
    "        x = self.transition(x)\n",
    "        x = self.conv_bl4(x)\n",
    "        x = self.gap(x)\n",
    "        x = self.classifier(x)\n",
    "        x = x.view(-1, 10)\n",
    "        return F.log_softmax(x, dim=-1)"
   ]
  },
  {
   "cell_type": "code",
   "execution_count": 112,
   "metadata": {},
   "outputs": [
    {
     "name": "stdout",
     "output_type": "stream",
     "text": [
      "----------------------------------------------------------------\n",
      "        Layer (type)               Output Shape         Param #\n",
      "================================================================\n",
      "            Conv2d-1           [-1, 32, 32, 32]             864\n",
      "       BatchNorm2d-2           [-1, 32, 32, 32]              64\n",
      "              ReLU-3           [-1, 32, 32, 32]               0\n",
      "           Dropout-4           [-1, 32, 32, 32]               0\n",
      "            Conv2d-5           [-1, 64, 32, 32]          18,432\n",
      "              ReLU-6           [-1, 64, 32, 32]               0\n",
      "       BatchNorm2d-7           [-1, 64, 32, 32]             128\n",
      "           Dropout-8           [-1, 64, 32, 32]               0\n",
      "            Conv2d-9           [-1, 64, 30, 30]          36,864\n",
      "             ReLU-10           [-1, 64, 30, 30]               0\n",
      "      BatchNorm2d-11           [-1, 64, 30, 30]             128\n",
      "          Dropout-12           [-1, 64, 30, 30]               0\n",
      "           Conv2d-13           [-1, 16, 30, 30]           1,024\n",
      "           Conv2d-14           [-1, 32, 30, 30]           4,608\n",
      "      BatchNorm2d-15           [-1, 32, 30, 30]              64\n",
      "             ReLU-16           [-1, 32, 30, 30]               0\n",
      "          Dropout-17           [-1, 32, 30, 30]               0\n",
      "           Conv2d-18           [-1, 64, 30, 30]          18,432\n",
      "             ReLU-19           [-1, 64, 30, 30]               0\n",
      "      BatchNorm2d-20           [-1, 64, 30, 30]             128\n",
      "          Dropout-21           [-1, 64, 30, 30]               0\n",
      "           Conv2d-22           [-1, 64, 28, 28]          36,864\n",
      "             ReLU-23           [-1, 64, 28, 28]               0\n",
      "      BatchNorm2d-24           [-1, 64, 28, 28]             128\n",
      "          Dropout-25           [-1, 64, 28, 28]               0\n",
      "           Conv2d-26           [-1, 16, 28, 28]           1,024\n",
      "           Conv2d-27           [-1, 32, 28, 28]           4,608\n",
      "      BatchNorm2d-28           [-1, 32, 28, 28]              64\n",
      "             ReLU-29           [-1, 32, 28, 28]               0\n",
      "          Dropout-30           [-1, 32, 28, 28]               0\n",
      "           Conv2d-31           [-1, 64, 28, 28]          18,432\n",
      "             ReLU-32           [-1, 64, 28, 28]               0\n",
      "      BatchNorm2d-33           [-1, 64, 28, 28]             128\n",
      "          Dropout-34           [-1, 64, 28, 28]               0\n",
      "           Conv2d-35           [-1, 64, 26, 26]          36,864\n",
      "             ReLU-36           [-1, 64, 26, 26]               0\n",
      "      BatchNorm2d-37           [-1, 64, 26, 26]             128\n",
      "          Dropout-38           [-1, 64, 26, 26]               0\n",
      "           Conv2d-39           [-1, 16, 26, 26]           1,024\n",
      "           Conv2d-40           [-1, 32, 26, 26]           4,608\n",
      "      BatchNorm2d-41           [-1, 32, 26, 26]              64\n",
      "             ReLU-42           [-1, 32, 26, 26]               0\n",
      "          Dropout-43           [-1, 32, 26, 26]               0\n",
      "           Conv2d-44           [-1, 64, 26, 26]          18,432\n",
      "             ReLU-45           [-1, 64, 26, 26]               0\n",
      "      BatchNorm2d-46           [-1, 64, 26, 26]             128\n",
      "          Dropout-47           [-1, 64, 26, 26]               0\n",
      "AdaptiveAvgPool2d-48             [-1, 64, 1, 1]               0\n",
      "           Conv2d-49             [-1, 10, 1, 1]             640\n",
      "================================================================\n",
      "Total params: 203,872\n",
      "Trainable params: 203,872\n",
      "Non-trainable params: 0\n",
      "----------------------------------------------------------------\n",
      "Input size (MB): 0.01\n",
      "Forward/backward pass size (MB): 14.81\n",
      "Params size (MB): 0.78\n",
      "Estimated Total Size (MB): 15.60\n",
      "----------------------------------------------------------------\n"
     ]
    }
   ],
   "source": [
    "# New Model Instance\n",
    "baseline_model_2 = DialatedClassificationTransition(\n",
    "    in_channels=3, hidden_units=16, out_channels=10, multiplier_1=2, multiplier_2=4\n",
    ").to(device)\n",
    "summary(baseline_model_2, input_size=(3, 32, 32))"
   ]
  },
  {
   "cell_type": "code",
   "execution_count": 113,
   "metadata": {},
   "outputs": [],
   "source": [
    "# driver setup----\n",
    "# optmizer\n",
    "optimizer = optim.Adam(baseline_model_2.parameters(), lr=lr)\n",
    "# loss\n",
    "criterion = nn.CrossEntropyLoss()\n",
    "# metric\n",
    "metric = MulticlassAccuracy(device=device, num_classes=10)\n",
    "# Early stopping\n",
    "early_stopping = EarlyStopping(patience=3, verbose=True)"
   ]
  },
  {
   "cell_type": "code",
   "execution_count": 114,
   "metadata": {},
   "outputs": [
    {
     "name": "stdout",
     "output_type": "stream",
     "text": [
      "Epoch 0\n"
     ]
    },
    {
     "name": "stderr",
     "output_type": "stream",
     "text": [
      "  0%|                                                                                                                                                                                                                                                                                                                                                                                                                                                                                                                                                                                                                                                                                                                                                                                                                                                                                                                                                                                                          | 0/391 [00:00<?, ?it/s]/anaconda/envs/torch_env/lib/python3.10/multiprocessing/popen_fork.py:66: RuntimeWarning: os.fork() was called. os.fork() is incompatible with multithreaded code, and JAX is multithreaded, so this will likely lead to a deadlock.\n",
      "  self.pid = os.fork()\n"
     ]
    },
    {
     "name": "stderr",
     "output_type": "stream",
     "text": [
      "Avg Train Loss: 1.5334540078097292 Avg Train Metric: 0.345320156868309: 100%|████████████████████████████████████████████████████████████████████████████████████████████████████████████████████████████████████████████████████████████████████████████████████████████████████████████████████████████████████████████████████████████████████████████████████████████████████████████████████████████████████████████████████████████████████████████████████████████████████████████████████████████████████████████████████████████████████████████████████████████████████████████████████████████████████████████████████████████████████████████████████████████████████████████████████████████████████████████████████████████████████████████████████████████████████████████████████████████████████████████████████████████████████████████████████████████████████████████████████████████████████████████████████████████████████████████████████████████████████████████████████████| 391/391 [00:39<00:00, 10.00it/s]\n"
     ]
    },
    {
     "name": "stdout",
     "output_type": "stream",
     "text": [
      "Function Took 39.1134 seconds\n"
     ]
    },
    {
     "name": "stderr",
     "output_type": "stream",
     "text": [
      "Avg Test Loss: 1.3691822350779665 Avg Test Metric: 0.5193777423870715: 100%|███████████████████████████████████████████████████████████████████████████████████████████████████████████████████████████████████████████████████████████████████████████████████████████████████████████████████████████████████████████████████████████████████████████████████████████████████████████████████████████████████████████████████████████████████████████████████████████████████████████████████████████████████████████████████████████████████████████████████████████████████████████████████████████████████████████████████████████████████████████████████████████████████████████████████████████████████████████████████████████████████████████████████████████████████████████████████████████████████████████████████████████████████████████████████████████████████████████████████████████████████████████████████████████████████████████████████████████████████████████████████████████| 79/79 [00:02<00:00, 30.41it/s]\n"
     ]
    },
    {
     "name": "stdout",
     "output_type": "stream",
     "text": [
      "Function Took 2.6019 seconds\n",
      "Validation loss decreased (inf --> 1.369182).  Saving model ...\n",
      "Epoch 1\n"
     ]
    },
    {
     "name": "stderr",
     "output_type": "stream",
     "text": [
      "Avg Train Loss: 1.1944199012368537 Avg Train Metric: 0.5537366903651401: 100%|███████████████████████████████████████████████████████████████████████████████████████████████████████████████████████████████████████████████████████████████████████████████████████████████████████████████████████████████████████████████████████████████████████████████████████████████████████████████████████████████████████████████████████████████████████████████████████████████████████████████████████████████████████████████████████████████████████████████████████████████████████████████████████████████████████████████████████████████████████████████████████████████████████████████████████████████████████████████████████████████████████████████████████████████████████████████████████████████████████████████████████████████████████████████████████████████████████████████████████████████████████████████████████████████████████████████████████████████████████████████████████| 391/391 [00:39<00:00,  9.97it/s]\n"
     ]
    },
    {
     "name": "stdout",
     "output_type": "stream",
     "text": [
      "Function Took 39.2306 seconds\n"
     ]
    },
    {
     "name": "stderr",
     "output_type": "stream",
     "text": [
      "Avg Test Loss: 1.1442353408547896 Avg Test Metric: 0.5896536270274392: 100%|███████████████████████████████████████████████████████████████████████████████████████████████████████████████████████████████████████████████████████████████████████████████████████████████████████████████████████████████████████████████████████████████████████████████████████████████████████████████████████████████████████████████████████████████████████████████████████████████████████████████████████████████████████████████████████████████████████████████████████████████████████████████████████████████████████████████████████████████████████████████████████████████████████████████████████████████████████████████████████████████████████████████████████████████████████████████████████████████████████████████████████████████████████████████████████████████████████████████████████████████████████████████████████████████████████████████████████████████████████████████████████████| 79/79 [00:02<00:00, 30.03it/s]\n"
     ]
    },
    {
     "name": "stdout",
     "output_type": "stream",
     "text": [
      "Function Took 2.6350 seconds\n",
      "Validation loss decreased (1.369182 --> 1.144235).  Saving model ...\n",
      "Epoch 2\n"
     ]
    },
    {
     "name": "stderr",
     "output_type": "stream",
     "text": [
      "Avg Train Loss: 1.0578294192128779 Avg Train Metric: 0.6138292538845326: 100%|███████████████████████████████████████████████████████████████████████████████████████████████████████████████████████████████████████████████████████████████████████████████████████████████████████████████████████████████████████████████████████████████████████████████████████████████████████████████████████████████████████████████████████████████████████████████████████████████████████████████████████████████████████████████████████████████████████████████████████████████████████████████████████████████████████████████████████████████████████████████████████████████████████████████████████████████████████████████████████████████████████████████████████████████████████████████████████████████████████████████████████████████████████████████████████████████████████████████████████████████████████████████████████████████████████████████████████████████████████████████████████| 391/391 [00:38<00:00, 10.04it/s]\n"
     ]
    },
    {
     "name": "stdout",
     "output_type": "stream",
     "text": [
      "Function Took 38.9639 seconds\n"
     ]
    },
    {
     "name": "stderr",
     "output_type": "stream",
     "text": [
      "Avg Test Loss: 0.9661081961438626 Avg Test Metric: 0.662144781667975: 100%|████████████████████████████████████████████████████████████████████████████████████████████████████████████████████████████████████████████████████████████████████████████████████████████████████████████████████████████████████████████████████████████████████████████████████████████████████████████████████████████████████████████████████████████████████████████████████████████████████████████████████████████████████████████████████████████████████████████████████████████████████████████████████████████████████████████████████████████████████████████████████████████████████████████████████████████████████████████████████████████████████████████████████████████████████████████████████████████████████████████████████████████████████████████████████████████████████████████████████████████████████████████████████████████████████████████████████████████████████████████████████████████| 79/79 [00:02<00:00, 29.45it/s]\n"
     ]
    },
    {
     "name": "stdout",
     "output_type": "stream",
     "text": [
      "Function Took 2.6861 seconds\n",
      "Validation loss decreased (1.144235 --> 0.966108).  Saving model ...\n",
      "Epoch 3\n"
     ]
    },
    {
     "name": "stderr",
     "output_type": "stream",
     "text": [
      "Avg Train Loss: 0.9704286590256654 Avg Train Metric: 0.6508292386598904: 100%|███████████████████████████████████████████████████████████████████████████████████████████████████████████████████████████████████████████████████████████████████████████████████████████████████████████████████████████████████████████████████████████████████████████████████████████████████████████████████████████████████████████████████████████████████████████████████████████████████████████████████████████████████████████████████████████████████████████████████████████████████████████████████████████████████████████████████████████████████████████████████████████████████████████████████████████████████████████████████████████████████████████████████████████████████████████████████████████████████████████████████████████████████████████████████████████████████████████████████████████████████████████████████████████████████████████████████████████████████████████████████████| 391/391 [00:38<00:00, 10.11it/s]\n"
     ]
    },
    {
     "name": "stdout",
     "output_type": "stream",
     "text": [
      "Function Took 38.6862 seconds\n"
     ]
    },
    {
     "name": "stderr",
     "output_type": "stream",
     "text": [
      "Avg Test Loss: 0.8821986030928696 Avg Test Metric: 0.6795803813994685: 100%|███████████████████████████████████████████████████████████████████████████████████████████████████████████████████████████████████████████████████████████████████████████████████████████████████████████████████████████████████████████████████████████████████████████████████████████████████████████████████████████████████████████████████████████████████████████████████████████████████████████████████████████████████████████████████████████████████████████████████████████████████████████████████████████████████████████████████████████████████████████████████████████████████████████████████████████████████████████████████████████████████████████████████████████████████████████████████████████████████████████████████████████████████████████████████████████████████████████████████████████████████████████████████████████████████████████████████████████████████████████████████████████| 79/79 [00:02<00:00, 30.47it/s]\n"
     ]
    },
    {
     "name": "stdout",
     "output_type": "stream",
     "text": [
      "Function Took 2.5964 seconds\n",
      "Validation loss decreased (0.966108 --> 0.882199).  Saving model ...\n",
      "Epoch 4\n"
     ]
    },
    {
     "name": "stderr",
     "output_type": "stream",
     "text": [
      "Avg Train Loss: 0.9156775841932467 Avg Train Metric: 0.6720499512179733: 100%|███████████████████████████████████████████████████████████████████████████████████████████████████████████████████████████████████████████████████████████████████████████████████████████████████████████████████████████████████████████████████████████████████████████████████████████████████████████████████████████████████████████████████████████████████████████████████████████████████████████████████████████████████████████████████████████████████████████████████████████████████████████████████████████████████████████████████████████████████████████████████████████████████████████████████████████████████████████████████████████████████████████████████████████████████████████████████████████████████████████████████████████████████████████████████████████████████████████████████████████████████████████████████████████████████████████████████████████████████████████████████████| 391/391 [00:39<00:00,  9.99it/s]\n"
     ]
    },
    {
     "name": "stdout",
     "output_type": "stream",
     "text": [
      "Function Took 39.1444 seconds\n"
     ]
    },
    {
     "name": "stderr",
     "output_type": "stream",
     "text": [
      "Avg Test Loss: 0.8222594336618351 Avg Test Metric: 0.7108335630803169: 100%|███████████████████████████████████████████████████████████████████████████████████████████████████████████████████████████████████████████████████████████████████████████████████████████████████████████████████████████████████████████████████████████████████████████████████████████████████████████████████████████████████████████████████████████████████████████████████████████████████████████████████████████████████████████████████████████████████████████████████████████████████████████████████████████████████████████████████████████████████████████████████████████████████████████████████████████████████████████████████████████████████████████████████████████████████████████████████████████████████████████████████████████████████████████████████████████████████████████████████████████████████████████████████████████████████████████████████████████████████████████████████████████| 79/79 [00:02<00:00, 30.02it/s]\n"
     ]
    },
    {
     "name": "stdout",
     "output_type": "stream",
     "text": [
      "Function Took 2.6372 seconds\n",
      "Validation loss decreased (0.882199 --> 0.822259).  Saving model ...\n",
      "Epoch 5\n"
     ]
    },
    {
     "name": "stderr",
     "output_type": "stream",
     "text": [
      "Avg Train Loss: 0.8658121065105624 Avg Train Metric: 0.695115482563253: 100%|████████████████████████████████████████████████████████████████████████████████████████████████████████████████████████████████████████████████████████████████████████████████████████████████████████████████████████████████████████████████████████████████████████████████████████████████████████████████████████████████████████████████████████████████████████████████████████████████████████████████████████████████████████████████████████████████████████████████████████████████████████████████████████████████████████████████████████████████████████████████████████████████████████████████████████████████████████████████████████████████████████████████████████████████████████████████████████████████████████████████████████████████████████████████████████████████████████████████████████████████████████████████████████████████████████████████████████████████████████████████████████| 391/391 [00:38<00:00, 10.13it/s]\n"
     ]
    },
    {
     "name": "stdout",
     "output_type": "stream",
     "text": [
      "Function Took 38.6212 seconds\n"
     ]
    },
    {
     "name": "stderr",
     "output_type": "stream",
     "text": [
      "Avg Test Loss: 0.772510640228851 Avg Test Metric: 0.719850900052469: 100%|█████████████████████████████████████████████████████████████████████████████████████████████████████████████████████████████████████████████████████████████████████████████████████████████████████████████████████████████████████████████████████████████████████████████████████████████████████████████████████████████████████████████████████████████████████████████████████████████████████████████████████████████████████████████████████████████████████████████████████████████████████████████████████████████████████████████████████████████████████████████████████████████████████████████████████████████████████████████████████████████████████████████████████████████████████████████████████████████████████████████████████████████████████████████████████████████████████████████████████████████████████████████████████████████████████████████████████████████████████████████████████████████| 79/79 [00:02<00:00, 30.24it/s]\n"
     ]
    },
    {
     "name": "stdout",
     "output_type": "stream",
     "text": [
      "Function Took 2.6163 seconds\n",
      "Validation loss decreased (0.822259 --> 0.772511).  Saving model ...\n",
      "Epoch 6\n"
     ]
    },
    {
     "name": "stderr",
     "output_type": "stream",
     "text": [
      "Avg Train Loss: 0.8219308246432058 Avg Train Metric: 0.7074053273786365: 100%|███████████████████████████████████████████████████████████████████████████████████████████████████████████████████████████████████████████████████████████████████████████████████████████████████████████████████████████████████████████████████████████████████████████████████████████████████████████████████████████████████████████████████████████████████████████████████████████████████████████████████████████████████████████████████████████████████████████████████████████████████████████████████████████████████████████████████████████████████████████████████████████████████████████████████████████████████████████████████████████████████████████████████████████████████████████████████████████████████████████████████████████████████████████████████████████████████████████████████████████████████████████████████████████████████████████████████████████████████████████████████████| 391/391 [00:38<00:00, 10.14it/s]\n"
     ]
    },
    {
     "name": "stdout",
     "output_type": "stream",
     "text": [
      "Function Took 38.5477 seconds\n"
     ]
    },
    {
     "name": "stderr",
     "output_type": "stream",
     "text": [
      "Avg Test Loss: 0.7387162077276013 Avg Test Metric: 0.7371690658074391: 100%|███████████████████████████████████████████████████████████████████████████████████████████████████████████████████████████████████████████████████████████████████████████████████████████████████████████████████████████████████████████████████████████████████████████████████████████████████████████████████████████████████████████████████████████████████████████████████████████████████████████████████████████████████████████████████████████████████████████████████████████████████████████████████████████████████████████████████████████████████████████████████████████████████████████████████████████████████████████████████████████████████████████████████████████████████████████████████████████████████████████████████████████████████████████████████████████████████████████████████████████████████████████████████████████████████████████████████████████████████████████████████████████| 79/79 [00:02<00:00, 29.85it/s]\n"
     ]
    },
    {
     "name": "stdout",
     "output_type": "stream",
     "text": [
      "Function Took 2.6508 seconds\n",
      "Validation loss decreased (0.772511 --> 0.738716).  Saving model ...\n",
      "Epoch 7\n"
     ]
    },
    {
     "name": "stderr",
     "output_type": "stream",
     "text": [
      "Avg Train Loss: 0.7910708675299154 Avg Train Metric: 0.7253111268553283: 100%|███████████████████████████████████████████████████████████████████████████████████████████████████████████████████████████████████████████████████████████████████████████████████████████████████████████████████████████████████████████████████████████████████████████████████████████████████████████████████████████████████████████████████████████████████████████████████████████████████████████████████████████████████████████████████████████████████████████████████████████████████████████████████████████████████████████████████████████████████████████████████████████████████████████████████████████████████████████████████████████████████████████████████████████████████████████████████████████████████████████████████████████████████████████████████████████████████████████████████████████████████████████████████████████████████████████████████████████████████████████████████████| 391/391 [00:39<00:00,  9.98it/s]\n"
     ]
    },
    {
     "name": "stdout",
     "output_type": "stream",
     "text": [
      "Function Took 39.1814 seconds\n"
     ]
    },
    {
     "name": "stderr",
     "output_type": "stream",
     "text": [
      "Avg Test Loss: 0.6700387397144414 Avg Test Metric: 0.7653778240650515: 100%|███████████████████████████████████████████████████████████████████████████████████████████████████████████████████████████████████████████████████████████████████████████████████████████████████████████████████████████████████████████████████████████████████████████████████████████████████████████████████████████████████████████████████████████████████████████████████████████████████████████████████████████████████████████████████████████████████████████████████████████████████████████████████████████████████████████████████████████████████████████████████████████████████████████████████████████████████████████████████████████████████████████████████████████████████████████████████████████████████████████████████████████████████████████████████████████████████████████████████████████████████████████████████████████████████████████████████████████████████████████████████████████| 79/79 [00:02<00:00, 29.85it/s]\n"
     ]
    },
    {
     "name": "stdout",
     "output_type": "stream",
     "text": [
      "Function Took 2.6505 seconds\n",
      "Validation loss decreased (0.738716 --> 0.670039).  Saving model ...\n",
      "Epoch 8\n"
     ]
    },
    {
     "name": "stderr",
     "output_type": "stream",
     "text": [
      "Avg Train Loss: 0.7576365211735601 Avg Train Metric: 0.7299334507464142: 100%|███████████████████████████████████████████████████████████████████████████████████████████████████████████████████████████████████████████████████████████████████████████████████████████████████████████████████████████████████████████████████████████████████████████████████████████████████████████████████████████████████████████████████████████████████████████████████████████████████████████████████████████████████████████████████████████████████████████████████████████████████████████████████████████████████████████████████████████████████████████████████████████████████████████████████████████████████████████████████████████████████████████████████████████████████████████████████████████████████████████████████████████████████████████████████████████████████████████████████████████████████████████████████████████████████████████████████████████████████████████████████████| 391/391 [00:38<00:00, 10.07it/s]\n"
     ]
    },
    {
     "name": "stdout",
     "output_type": "stream",
     "text": [
      "Function Took 38.8186 seconds\n"
     ]
    },
    {
     "name": "stderr",
     "output_type": "stream",
     "text": [
      "Avg Test Loss: 0.6829417378087587 Avg Test Metric: 0.7595699595499642: 100%|███████████████████████████████████████████████████████████████████████████████████████████████████████████████████████████████████████████████████████████████████████████████████████████████████████████████████████████████████████████████████████████████████████████████████████████████████████████████████████████████████████████████████████████████████████████████████████████████████████████████████████████████████████████████████████████████████████████████████████████████████████████████████████████████████████████████████████████████████████████████████████████████████████████████████████████████████████████████████████████████████████████████████████████████████████████████████████████████████████████████████████████████████████████████████████████████████████████████████████████████████████████████████████████████████████████████████████████████████████████████████████████| 79/79 [00:02<00:00, 30.24it/s]\n"
     ]
    },
    {
     "name": "stdout",
     "output_type": "stream",
     "text": [
      "Function Took 2.6169 seconds\n",
      "EarlyStopping counter: 1 out of 3\n",
      "Epoch 9\n"
     ]
    },
    {
     "name": "stderr",
     "output_type": "stream",
     "text": [
      "Avg Train Loss: 0.7316521965634183 Avg Train Metric: 0.7449854427896192: 100%|███████████████████████████████████████████████████████████████████████████████████████████████████████████████████████████████████████████████████████████████████████████████████████████████████████████████████████████████████████████████████████████████████████████████████████████████████████████████████████████████████████████████████████████████████████████████████████████████████████████████████████████████████████████████████████████████████████████████████████████████████████████████████████████████████████████████████████████████████████████████████████████████████████████████████████████████████████████████████████████████████████████████████████████████████████████████████████████████████████████████████████████████████████████████████████████████████████████████████████████████████████████████████████████████████████████████████████████████████████████████████████| 391/391 [00:38<00:00, 10.12it/s]\n"
     ]
    },
    {
     "name": "stdout",
     "output_type": "stream",
     "text": [
      "Function Took 38.6343 seconds\n"
     ]
    },
    {
     "name": "stderr",
     "output_type": "stream",
     "text": [
      "Avg Test Loss: 0.6553576049170916 Avg Test Metric: 0.7794946190677111: 100%|███████████████████████████████████████████████████████████████████████████████████████████████████████████████████████████████████████████████████████████████████████████████████████████████████████████████████████████████████████████████████████████████████████████████████████████████████████████████████████████████████████████████████████████████████████████████████████████████████████████████████████████████████████████████████████████████████████████████████████████████████████████████████████████████████████████████████████████████████████████████████████████████████████████████████████████████████████████████████████████████████████████████████████████████████████████████████████████████████████████████████████████████████████████████████████████████████████████████████████████████████████████████████████████████████████████████████████████████████████████████████████████| 79/79 [00:02<00:00, 30.02it/s]\n"
     ]
    },
    {
     "name": "stdout",
     "output_type": "stream",
     "text": [
      "Function Took 2.6359 seconds\n",
      "Validation loss decreased (0.670039 --> 0.655358).  Saving model ...\n",
      "Epoch 10\n"
     ]
    },
    {
     "name": "stderr",
     "output_type": "stream",
     "text": [
      "Avg Train Loss: 0.7109290097680543 Avg Train Metric: 0.7549777378511551: 100%|███████████████████████████████████████████████████████████████████████████████████████████████████████████████████████████████████████████████████████████████████████████████████████████████████████████████████████████████████████████████████████████████████████████████████████████████████████████████████████████████████████████████████████████████████████████████████████████████████████████████████████████████████████████████████████████████████████████████████████████████████████████████████████████████████████████████████████████████████████████████████████████████████████████████████████████████████████████████████████████████████████████████████████████████████████████████████████████████████████████████████████████████████████████████████████████████████████████████████████████████████████████████████████████████████████████████████████████████████████████████████████| 391/391 [00:38<00:00, 10.03it/s]\n"
     ]
    },
    {
     "name": "stdout",
     "output_type": "stream",
     "text": [
      "Function Took 38.9728 seconds\n"
     ]
    },
    {
     "name": "stderr",
     "output_type": "stream",
     "text": [
      "Avg Test Loss: 0.5995035295999502 Avg Test Metric: 0.7985179876979394: 100%|███████████████████████████████████████████████████████████████████████████████████████████████████████████████████████████████████████████████████████████████████████████████████████████████████████████████████████████████████████████████████████████████████████████████████████████████████████████████████████████████████████████████████████████████████████████████████████████████████████████████████████████████████████████████████████████████████████████████████████████████████████████████████████████████████████████████████████████████████████████████████████████████████████████████████████████████████████████████████████████████████████████████████████████████████████████████████████████████████████████████████████████████████████████████████████████████████████████████████████████████████████████████████████████████████████████████████████████████████████████████████████████| 79/79 [00:02<00:00, 29.89it/s]\n"
     ]
    },
    {
     "name": "stdout",
     "output_type": "stream",
     "text": [
      "Function Took 2.6473 seconds\n",
      "Validation loss decreased (0.655358 --> 0.599504).  Saving model ...\n",
      "Epoch 11\n"
     ]
    },
    {
     "name": "stderr",
     "output_type": "stream",
     "text": [
      "Avg Train Loss: 0.6839465649079179 Avg Train Metric: 0.7626233046012156: 100%|███████████████████████████████████████████████████████████████████████████████████████████████████████████████████████████████████████████████████████████████████████████████████████████████████████████████████████████████████████████████████████████████████████████████████████████████████████████████████████████████████████████████████████████████████████████████████████████████████████████████████████████████████████████████████████████████████████████████████████████████████████████████████████████████████████████████████████████████████████████████████████████████████████████████████████████████████████████████████████████████████████████████████████████████████████████████████████████████████████████████████████████████████████████████████████████████████████████████████████████████████████████████████████████████████████████████████████████████████████████████████████| 391/391 [00:39<00:00, 10.02it/s]\n"
     ]
    },
    {
     "name": "stdout",
     "output_type": "stream",
     "text": [
      "Function Took 39.0170 seconds\n"
     ]
    },
    {
     "name": "stderr",
     "output_type": "stream",
     "text": [
      "Avg Test Loss: 0.6036491212965567 Avg Test Metric: 0.7913950742045536: 100%|███████████████████████████████████████████████████████████████████████████████████████████████████████████████████████████████████████████████████████████████████████████████████████████████████████████████████████████████████████████████████████████████████████████████████████████████████████████████████████████████████████████████████████████████████████████████████████████████████████████████████████████████████████████████████████████████████████████████████████████████████████████████████████████████████████████████████████████████████████████████████████████████████████████████████████████████████████████████████████████████████████████████████████████████████████████████████████████████████████████████████████████████████████████████████████████████████████████████████████████████████████████████████████████████████████████████████████████████████████████████████████████| 79/79 [00:02<00:00, 30.39it/s]\n"
     ]
    },
    {
     "name": "stdout",
     "output_type": "stream",
     "text": [
      "Function Took 2.6039 seconds\n",
      "EarlyStopping counter: 1 out of 3\n",
      "Epoch 12\n"
     ]
    },
    {
     "name": "stderr",
     "output_type": "stream",
     "text": [
      "Avg Train Loss: 0.6688820189984558 Avg Train Metric: 0.7675632971631902: 100%|███████████████████████████████████████████████████████████████████████████████████████████████████████████████████████████████████████████████████████████████████████████████████████████████████████████████████████████████████████████████████████████████████████████████████████████████████████████████████████████████████████████████████████████████████████████████████████████████████████████████████████████████████████████████████████████████████████████████████████████████████████████████████████████████████████████████████████████████████████████████████████████████████████████████████████████████████████████████████████████████████████████████████████████████████████████████████████████████████████████████████████████████████████████████████████████████████████████████████████████████████████████████████████████████████████████████████████████████████████████████████████| 391/391 [00:38<00:00, 10.17it/s]\n"
     ]
    },
    {
     "name": "stdout",
     "output_type": "stream",
     "text": [
      "Function Took 38.4570 seconds\n"
     ]
    },
    {
     "name": "stderr",
     "output_type": "stream",
     "text": [
      "Avg Test Loss: 0.5905909183659132 Avg Test Metric: 0.7926738367804999: 100%|███████████████████████████████████████████████████████████████████████████████████████████████████████████████████████████████████████████████████████████████████████████████████████████████████████████████████████████████████████████████████████████████████████████████████████████████████████████████████████████████████████████████████████████████████████████████████████████████████████████████████████████████████████████████████████████████████████████████████████████████████████████████████████████████████████████████████████████████████████████████████████████████████████████████████████████████████████████████████████████████████████████████████████████████████████████████████████████████████████████████████████████████████████████████████████████████████████████████████████████████████████████████████████████████████████████████████████████████████████████████████████████| 79/79 [00:02<00:00, 28.97it/s]\n"
     ]
    },
    {
     "name": "stdout",
     "output_type": "stream",
     "text": [
      "Function Took 2.7312 seconds\n",
      "Validation loss decreased (0.599504 --> 0.590591).  Saving model ...\n",
      "Epoch 13\n"
     ]
    },
    {
     "name": "stderr",
     "output_type": "stream",
     "text": [
      "Avg Train Loss: 0.6555091997851497 Avg Train Metric: 0.7675027226852944: 100%|███████████████████████████████████████████████████████████████████████████████████████████████████████████████████████████████████████████████████████████████████████████████████████████████████████████████████████████████████████████████████████████████████████████████████████████████████████████████████████████████████████████████████████████████████████████████████████████████████████████████████████████████████████████████████████████████████████████████████████████████████████████████████████████████████████████████████████████████████████████████████████████████████████████████████████████████████████████████████████████████████████████████████████████████████████████████████████████████████████████████████████████████████████████████████████████████████████████████████████████████████████████████████████████████████████████████████████████████████████████████████████| 391/391 [00:38<00:00, 10.10it/s]\n"
     ]
    },
    {
     "name": "stdout",
     "output_type": "stream",
     "text": [
      "Function Took 38.7137 seconds\n"
     ]
    },
    {
     "name": "stderr",
     "output_type": "stream",
     "text": [
      "Avg Test Loss: 0.6158280063279068 Avg Test Metric: 0.7862893456145178: 100%|███████████████████████████████████████████████████████████████████████████████████████████████████████████████████████████████████████████████████████████████████████████████████████████████████████████████████████████████████████████████████████████████████████████████████████████████████████████████████████████████████████████████████████████████████████████████████████████████████████████████████████████████████████████████████████████████████████████████████████████████████████████████████████████████████████████████████████████████████████████████████████████████████████████████████████████████████████████████████████████████████████████████████████████████████████████████████████████████████████████████████████████████████████████████████████████████████████████████████████████████████████████████████████████████████████████████████████████████████████████████████████████| 79/79 [00:02<00:00, 30.35it/s]\n"
     ]
    },
    {
     "name": "stdout",
     "output_type": "stream",
     "text": [
      "Function Took 2.6071 seconds\n",
      "EarlyStopping counter: 1 out of 3\n",
      "Epoch 14\n"
     ]
    },
    {
     "name": "stderr",
     "output_type": "stream",
     "text": [
      "Avg Train Loss: 0.6395338487899517 Avg Train Metric: 0.7751219670485963: 100%|███████████████████████████████████████████████████████████████████████████████████████████████████████████████████████████████████████████████████████████████████████████████████████████████████████████████████████████████████████████████████████████████████████████████████████████████████████████████████████████████████████████████████████████████████████████████████████████████████████████████████████████████████████████████████████████████████████████████████████████████████████████████████████████████████████████████████████████████████████████████████████████████████████████████████████████████████████████████████████████████████████████████████████████████████████████████████████████████████████████████████████████████████████████████████████████████████████████████████████████████████████████████████████████████████████████████████████████████████████████████████████| 391/391 [00:38<00:00, 10.15it/s]\n"
     ]
    },
    {
     "name": "stdout",
     "output_type": "stream",
     "text": [
      "Function Took 38.5326 seconds\n"
     ]
    },
    {
     "name": "stderr",
     "output_type": "stream",
     "text": [
      "Avg Test Loss: 0.5542773985410039 Avg Test Metric: 0.8129932548426375: 100%|███████████████████████████████████████████████████████████████████████████████████████████████████████████████████████████████████████████████████████████████████████████████████████████████████████████████████████████████████████████████████████████████████████████████████████████████████████████████████████████████████████████████████████████████████████████████████████████████████████████████████████████████████████████████████████████████████████████████████████████████████████████████████████████████████████████████████████████████████████████████████████████████████████████████████████████████████████████████████████████████████████████████████████████████████████████████████████████████████████████████████████████████████████████████████████████████████████████████████████████████████████████████████████████████████████████████████████████████████████████████████████████| 79/79 [00:02<00:00, 30.04it/s]\n"
     ]
    },
    {
     "name": "stdout",
     "output_type": "stream",
     "text": [
      "Function Took 2.6341 seconds\n",
      "Validation loss decreased (0.590591 --> 0.554277).  Saving model ...\n",
      "Epoch 15\n"
     ]
    },
    {
     "name": "stderr",
     "output_type": "stream",
     "text": [
      "Avg Train Loss: 0.6242173961208909 Avg Train Metric: 0.7846635078530177: 100%|███████████████████████████████████████████████████████████████████████████████████████████████████████████████████████████████████████████████████████████████████████████████████████████████████████████████████████████████████████████████████████████████████████████████████████████████████████████████████████████████████████████████████████████████████████████████████████████████████████████████████████████████████████████████████████████████████████████████████████████████████████████████████████████████████████████████████████████████████████████████████████████████████████████████████████████████████████████████████████████████████████████████████████████████████████████████████████████████████████████████████████████████████████████████████████████████████████████████████████████████████████████████████████████████████████████████████████████████████████████████████████| 391/391 [00:38<00:00, 10.17it/s]\n"
     ]
    },
    {
     "name": "stdout",
     "output_type": "stream",
     "text": [
      "Function Took 38.4507 seconds\n"
     ]
    },
    {
     "name": "stderr",
     "output_type": "stream",
     "text": [
      "Avg Test Loss: 0.5478627210176443 Avg Test Metric: 0.8156217698809467: 100%|███████████████████████████████████████████████████████████████████████████████████████████████████████████████████████████████████████████████████████████████████████████████████████████████████████████████████████████████████████████████████████████████████████████████████████████████████████████████████████████████████████████████████████████████████████████████████████████████████████████████████████████████████████████████████████████████████████████████████████████████████████████████████████████████████████████████████████████████████████████████████████████████████████████████████████████████████████████████████████████████████████████████████████████████████████████████████████████████████████████████████████████████████████████████████████████████████████████████████████████████████████████████████████████████████████████████████████████████████████████████████████████| 79/79 [00:02<00:00, 29.88it/s]\n"
     ]
    },
    {
     "name": "stdout",
     "output_type": "stream",
     "text": [
      "Function Took 2.6481 seconds\n",
      "Validation loss decreased (0.554277 --> 0.547863).  Saving model ...\n",
      "Epoch 16\n"
     ]
    },
    {
     "name": "stderr",
     "output_type": "stream",
     "text": [
      "Avg Train Loss: 0.6131510124029711 Avg Train Metric: 0.788556972123168: 100%|████████████████████████████████████████████████████████████████████████████████████████████████████████████████████████████████████████████████████████████████████████████████████████████████████████████████████████████████████████████████████████████████████████████████████████████████████████████████████████████████████████████████████████████████████████████████████████████████████████████████████████████████████████████████████████████████████████████████████████████████████████████████████████████████████████████████████████████████████████████████████████████████████████████████████████████████████████████████████████████████████████████████████████████████████████████████████████████████████████████████████████████████████████████████████████████████████████████████████████████████████████████████████████████████████████████████████████████████████████████████████████| 391/391 [00:38<00:00, 10.13it/s]\n"
     ]
    },
    {
     "name": "stdout",
     "output_type": "stream",
     "text": [
      "Function Took 38.5855 seconds\n"
     ]
    },
    {
     "name": "stderr",
     "output_type": "stream",
     "text": [
      "Avg Test Loss: 0.5518971809858009 Avg Test Metric: 0.8227232543728019: 100%|███████████████████████████████████████████████████████████████████████████████████████████████████████████████████████████████████████████████████████████████████████████████████████████████████████████████████████████████████████████████████████████████████████████████████████████████████████████████████████████████████████████████████████████████████████████████████████████████████████████████████████████████████████████████████████████████████████████████████████████████████████████████████████████████████████████████████████████████████████████████████████████████████████████████████████████████████████████████████████████████████████████████████████████████████████████████████████████████████████████████████████████████████████████████████████████████████████████████████████████████████████████████████████████████████████████████████████████████████████████████████████████| 79/79 [00:02<00:00, 30.23it/s]\n"
     ]
    },
    {
     "name": "stdout",
     "output_type": "stream",
     "text": [
      "Function Took 2.6173 seconds\n",
      "EarlyStopping counter: 1 out of 3\n",
      "Epoch 17\n"
     ]
    },
    {
     "name": "stderr",
     "output_type": "stream",
     "text": [
      "Avg Train Loss: 0.6008079321030766 Avg Train Metric: 0.793133149518991: 100%|████████████████████████████████████████████████████████████████████████████████████████████████████████████████████████████████████████████████████████████████████████████████████████████████████████████████████████████████████████████████████████████████████████████████████████████████████████████████████████████████████████████████████████████████████████████████████████████████████████████████████████████████████████████████████████████████████████████████████████████████████████████████████████████████████████████████████████████████████████████████████████████████████████████████████████████████████████████████████████████████████████████████████████████████████████████████████████████████████████████████████████████████████████████████████████████████████████████████████████████████████████████████████████████████████████████████████████████████████████████████████████| 391/391 [00:39<00:00, 10.01it/s]\n"
     ]
    },
    {
     "name": "stdout",
     "output_type": "stream",
     "text": [
      "Function Took 39.0768 seconds\n"
     ]
    },
    {
     "name": "stderr",
     "output_type": "stream",
     "text": [
      "Avg Test Loss: 0.5431304770179942 Avg Test Metric: 0.8189848812320565: 100%|███████████████████████████████████████████████████████████████████████████████████████████████████████████████████████████████████████████████████████████████████████████████████████████████████████████████████████████████████████████████████████████████████████████████████████████████████████████████████████████████████████████████████████████████████████████████████████████████████████████████████████████████████████████████████████████████████████████████████████████████████████████████████████████████████████████████████████████████████████████████████████████████████████████████████████████████████████████████████████████████████████████████████████████████████████████████████████████████████████████████████████████████████████████████████████████████████████████████████████████████████████████████████████████████████████████████████████████████████████████████████████████| 79/79 [00:02<00:00, 29.98it/s]\n"
     ]
    },
    {
     "name": "stdout",
     "output_type": "stream",
     "text": [
      "Function Took 2.6389 seconds\n",
      "Validation loss decreased (0.547863 --> 0.543130).  Saving model ...\n",
      "Epoch 18\n"
     ]
    },
    {
     "name": "stderr",
     "output_type": "stream",
     "text": [
      "Avg Train Loss: 0.5912513961572476 Avg Train Metric: 0.7980418775392615: 100%|███████████████████████████████████████████████████████████████████████████████████████████████████████████████████████████████████████████████████████████████████████████████████████████████████████████████████████████████████████████████████████████████████████████████████████████████████████████████████████████████████████████████████████████████████████████████████████████████████████████████████████████████████████████████████████████████████████████████████████████████████████████████████████████████████████████████████████████████████████████████████████████████████████████████████████████████████████████████████████████████████████████████████████████████████████████████████████████████████████████████████████████████████████████████████████████████████████████████████████████████████████████████████████████████████████████████████████████████████████████████████████| 391/391 [00:38<00:00, 10.12it/s]\n"
     ]
    },
    {
     "name": "stdout",
     "output_type": "stream",
     "text": [
      "Function Took 38.6295 seconds\n"
     ]
    },
    {
     "name": "stderr",
     "output_type": "stream",
     "text": [
      "Avg Test Loss: 0.5195158493669727 Avg Test Metric: 0.8236444962175586: 100%|███████████████████████████████████████████████████████████████████████████████████████████████████████████████████████████████████████████████████████████████████████████████████████████████████████████████████████████████████████████████████████████████████████████████████████████████████████████████████████████████████████████████████████████████████████████████████████████████████████████████████████████████████████████████████████████████████████████████████████████████████████████████████████████████████████████████████████████████████████████████████████████████████████████████████████████████████████████████████████████████████████████████████████████████████████████████████████████████████████████████████████████████████████████████████████████████████████████████████████████████████████████████████████████████████████████████████████████████████████████████████████████| 79/79 [00:02<00:00, 29.33it/s]\n"
     ]
    },
    {
     "name": "stdout",
     "output_type": "stream",
     "text": [
      "Function Took 2.6978 seconds\n",
      "Validation loss decreased (0.543130 --> 0.519516).  Saving model ...\n",
      "Epoch 19\n"
     ]
    },
    {
     "name": "stderr",
     "output_type": "stream",
     "text": [
      "Avg Train Loss: 0.5837522967697104 Avg Train Metric: 0.8000481444246629: 100%|███████████████████████████████████████████████████████████████████████████████████████████████████████████████████████████████████████████████████████████████████████████████████████████████████████████████████████████████████████████████████████████████████████████████████████████████████████████████████████████████████████████████████████████████████████████████████████████████████████████████████████████████████████████████████████████████████████████████████████████████████████████████████████████████████████████████████████████████████████████████████████████████████████████████████████████████████████████████████████████████████████████████████████████████████████████████████████████████████████████████████████████████████████████████████████████████████████████████████████████████████████████████████████████████████████████████████████████████████████████████████████| 391/391 [00:38<00:00, 10.12it/s]\n"
     ]
    },
    {
     "name": "stdout",
     "output_type": "stream",
     "text": [
      "Function Took 38.6270 seconds\n"
     ]
    },
    {
     "name": "stderr",
     "output_type": "stream",
     "text": [
      "Avg Test Loss: 0.5122019961664949 Avg Test Metric: 0.8230240797694726: 100%|███████████████████████████████████████████████████████████████████████████████████████████████████████████████████████████████████████████████████████████████████████████████████████████████████████████████████████████████████████████████████████████████████████████████████████████████████████████████████████████████████████████████████████████████████████████████████████████████████████████████████████████████████████████████████████████████████████████████████████████████████████████████████████████████████████████████████████████████████████████████████████████████████████████████████████████████████████████████████████████████████████████████████████████████████████████████████████████████████████████████████████████████████████████████████████████████████████████████████████████████████████████████████████████████████████████████████████████████████████████████████████████| 79/79 [00:02<00:00, 29.75it/s]\n"
     ]
    },
    {
     "name": "stdout",
     "output_type": "stream",
     "text": [
      "Function Took 2.6602 seconds\n",
      "Validation loss decreased (0.519516 --> 0.512202).  Saving model ...\n"
     ]
    }
   ],
   "source": [
    "train_losses = []\n",
    "train_metrics = []\n",
    "test_losses = []\n",
    "test_metrics = []\n",
    "\n",
    "for epoch in range(0, epochs):\n",
    "    print(f\"Epoch {epoch}\")\n",
    "    train_losses, train_metrics = train_module(\n",
    "        baseline_model_2,\n",
    "        device,\n",
    "        train_loader,\n",
    "        optimizer,\n",
    "        criterion,\n",
    "        metric,\n",
    "        train_losses,\n",
    "        train_metrics,\n",
    "    )\n",
    "    test_losses, test_metrics = test_module(\n",
    "        baseline_model_2,\n",
    "        device,\n",
    "        test_loader,\n",
    "        criterion,\n",
    "        metric,\n",
    "        test_losses,\n",
    "        test_metrics,\n",
    "    )\n",
    "    early_stopping(\n",
    "        test_losses[-1], baseline_model_2, epoch\n",
    "    )  # last recorded test loss to measure the improvement against the prior one\n",
    "    if early_stopping.early_stop:\n",
    "        print(\"Early stopping\")\n",
    "        break"
   ]
  },
  {
   "cell_type": "code",
   "execution_count": 116,
   "metadata": {},
   "outputs": [
    {
     "data": {
      "image/png": "[encoded data removed]",
      "text/plain": [
       "<Figure size 1152x720 with 2 Axes>"
      ]
     },
     "metadata": {
      "needs_background": "light"
     },
     "output_type": "display_data"
    }
   ],
   "source": [
    "plot_loss_accuracy(\n",
    "    train_loss=[train_losses],\n",
    "    val_loss=[test_losses],\n",
    "    train_acc=[train_metrics],\n",
    "    val_acc=[test_metrics],\n",
    "    labels=[\"baseline-2\"],\n",
    "    colors=[\"blue\"],\n",
    "    loss_legend_loc=\"upper left\",\n",
    "    acc_legend_loc=\"upper left\",\n",
    "    legend_font=7,\n",
    ")"
   ]
  },
  {
   "cell_type": "markdown",
   "metadata": {},
   "source": [
    "Application of LR scheduler"
   ]
  },
  {
   "cell_type": "code",
   "execution_count": 117,
   "metadata": {},
   "outputs": [
    {
     "name": "stdout",
     "output_type": "stream",
     "text": [
      "----------------------------------------------------------------\n",
      "        Layer (type)               Output Shape         Param #\n",
      "================================================================\n",
      "            Conv2d-1           [-1, 32, 32, 32]             864\n",
      "       BatchNorm2d-2           [-1, 32, 32, 32]              64\n",
      "              ReLU-3           [-1, 32, 32, 32]               0\n",
      "           Dropout-4           [-1, 32, 32, 32]               0\n",
      "            Conv2d-5           [-1, 64, 32, 32]          18,432\n",
      "              ReLU-6           [-1, 64, 32, 32]               0\n",
      "       BatchNorm2d-7           [-1, 64, 32, 32]             128\n",
      "           Dropout-8           [-1, 64, 32, 32]               0\n",
      "            Conv2d-9           [-1, 64, 30, 30]          36,864\n",
      "             ReLU-10           [-1, 64, 30, 30]               0\n",
      "      BatchNorm2d-11           [-1, 64, 30, 30]             128\n",
      "          Dropout-12           [-1, 64, 30, 30]               0\n",
      "           Conv2d-13           [-1, 16, 30, 30]           1,024\n",
      "           Conv2d-14           [-1, 32, 30, 30]           4,608\n",
      "      BatchNorm2d-15           [-1, 32, 30, 30]              64\n",
      "             ReLU-16           [-1, 32, 30, 30]               0\n",
      "          Dropout-17           [-1, 32, 30, 30]               0\n",
      "           Conv2d-18           [-1, 64, 30, 30]          18,432\n",
      "             ReLU-19           [-1, 64, 30, 30]               0\n",
      "      BatchNorm2d-20           [-1, 64, 30, 30]             128\n",
      "          Dropout-21           [-1, 64, 30, 30]               0\n",
      "           Conv2d-22           [-1, 64, 28, 28]          36,864\n",
      "             ReLU-23           [-1, 64, 28, 28]               0\n",
      "      BatchNorm2d-24           [-1, 64, 28, 28]             128\n",
      "          Dropout-25           [-1, 64, 28, 28]               0\n",
      "           Conv2d-26           [-1, 16, 28, 28]           1,024\n",
      "           Conv2d-27           [-1, 32, 28, 28]           4,608\n",
      "      BatchNorm2d-28           [-1, 32, 28, 28]              64\n",
      "             ReLU-29           [-1, 32, 28, 28]               0\n",
      "          Dropout-30           [-1, 32, 28, 28]               0\n",
      "           Conv2d-31           [-1, 64, 28, 28]          18,432\n",
      "             ReLU-32           [-1, 64, 28, 28]               0\n",
      "      BatchNorm2d-33           [-1, 64, 28, 28]             128\n",
      "          Dropout-34           [-1, 64, 28, 28]               0\n",
      "           Conv2d-35           [-1, 64, 26, 26]          36,864\n",
      "             ReLU-36           [-1, 64, 26, 26]               0\n",
      "      BatchNorm2d-37           [-1, 64, 26, 26]             128\n",
      "          Dropout-38           [-1, 64, 26, 26]               0\n",
      "           Conv2d-39           [-1, 16, 26, 26]           1,024\n",
      "           Conv2d-40           [-1, 32, 26, 26]           4,608\n",
      "      BatchNorm2d-41           [-1, 32, 26, 26]              64\n",
      "             ReLU-42           [-1, 32, 26, 26]               0\n",
      "          Dropout-43           [-1, 32, 26, 26]               0\n",
      "           Conv2d-44           [-1, 64, 26, 26]          18,432\n",
      "             ReLU-45           [-1, 64, 26, 26]               0\n",
      "      BatchNorm2d-46           [-1, 64, 26, 26]             128\n",
      "          Dropout-47           [-1, 64, 26, 26]               0\n",
      "AdaptiveAvgPool2d-48             [-1, 64, 1, 1]               0\n",
      "           Conv2d-49             [-1, 10, 1, 1]             640\n",
      "================================================================\n",
      "Total params: 203,872\n",
      "Trainable params: 203,872\n",
      "Non-trainable params: 0\n",
      "----------------------------------------------------------------\n",
      "Input size (MB): 0.01\n",
      "Forward/backward pass size (MB): 14.81\n",
      "Params size (MB): 0.78\n",
      "Estimated Total Size (MB): 15.60\n",
      "----------------------------------------------------------------\n"
     ]
    }
   ],
   "source": [
    "# New Model Instance\n",
    "baseline_model_3 = DialatedClassificationTransition(\n",
    "    in_channels=3, hidden_units=16, out_channels=10, multiplier_1=2, multiplier_2=4\n",
    ").to(device)\n",
    "summary(baseline_model_3, input_size=(3, 32, 32))"
   ]
  },
  {
   "cell_type": "code",
   "execution_count": 118,
   "metadata": {},
   "outputs": [],
   "source": [
    "# driver setup----\n",
    "# optmizer\n",
    "optimizer = optim.Adam(baseline_model_3.parameters(), lr=lr)\n",
    "# loss\n",
    "criterion = nn.CrossEntropyLoss()\n",
    "# metric\n",
    "metric = MulticlassAccuracy(device=device, num_classes=10)\n",
    "# Early stopping\n",
    "early_stopping = EarlyStopping(patience=3, verbose=True)\n",
    "# lr scheduler\n",
    "lr_scheduler = ExponentialLR(optimizer, gamma=0.95)"
   ]
  },
  {
   "cell_type": "code",
   "execution_count": 119,
   "metadata": {},
   "outputs": [
    {
     "name": "stdout",
     "output_type": "stream",
     "text": [
      "Epoch 0\n"
     ]
    },
    {
     "name": "stderr",
     "output_type": "stream",
     "text": [
      "  0%|                                                                                                                                                                                                                                                                                                                                                                                                                                                                                                                                                                                                                                                                                                                                                                                                                                                                                                                                                                                                          | 0/391 [00:00<?, ?it/s]/anaconda/envs/torch_env/lib/python3.10/multiprocessing/popen_fork.py:66: RuntimeWarning: os.fork() was called. os.fork() is incompatible with multithreaded code, and JAX is multithreaded, so this will likely lead to a deadlock.\n",
      "  self.pid = os.fork()\n"
     ]
    },
    {
     "name": "stderr",
     "output_type": "stream",
     "text": [
      "Avg Train Loss: 1.5282588514220683 Avg Train Metric: 0.3482717328783496: 100%|███████████████████████████████████████████████████████████████████████████████████████████████████████████████████████████████████████████████████████████████████████████████████████████████████████████████████████████████████████████████████████████████████████████████████████████████████████████████████████████████████████████████████████████████████████████████████████████████████████████████████████████████████████████████████████████████████████████████████████████████████████████████████████████████████████████████████████████████████████████████████████████████████████████████████████████████████████████████████████████████████████████████████████████████████████████████████████████████████████████████████████████████████████████████████████████████████████████████████████████████████████████████████████████████████████████████████████████████████████████████████████| 391/391 [00:39<00:00, 10.00it/s]\n"
     ]
    },
    {
     "name": "stdout",
     "output_type": "stream",
     "text": [
      "Function Took 39.1002 seconds\n"
     ]
    },
    {
     "name": "stderr",
     "output_type": "stream",
     "text": [
      "Avg Test Loss: 1.2309462594080576 Avg Test Metric: 0.5432434617718563: 100%|███████████████████████████████████████████████████████████████████████████████████████████████████████████████████████████████████████████████████████████████████████████████████████████████████████████████████████████████████████████████████████████████████████████████████████████████████████████████████████████████████████████████████████████████████████████████████████████████████████████████████████████████████████████████████████████████████████████████████████████████████████████████████████████████████████████████████████████████████████████████████████████████████████████████████████████████████████████████████████████████████████████████████████████████████████████████████████████████████████████████████████████████████████████████████████████████████████████████████████████████████████████████████████████████████████████████████████████████████████████████████████████| 79/79 [00:02<00:00, 28.53it/s]\n"
     ]
    },
    {
     "name": "stdout",
     "output_type": "stream",
     "text": [
      "Function Took 2.7732 seconds\n",
      "For next epoch lr:: 0.00095\n",
      "Validation loss decreased (inf --> 1.230946).  Saving model ...\n",
      "Epoch 1\n"
     ]
    },
    {
     "name": "stderr",
     "output_type": "stream",
     "text": [
      "Avg Train Loss: 1.1769590277196196 Avg Train Metric: 0.5605231342108353: 100%|███████████████████████████████████████████████████████████████████████████████████████████████████████████████████████████████████████████████████████████████████████████████████████████████████████████████████████████████████████████████████████████████████████████████████████████████████████████████████████████████████████████████████████████████████████████████████████████████████████████████████████████████████████████████████████████████████████████████████████████████████████████████████████████████████████████████████████████████████████████████████████████████████████████████████████████████████████████████████████████████████████████████████████████████████████████████████████████████████████████████████████████████████████████████████████████████████████████████████████████████████████████████████████████████████████████████████████████████████████████████████████| 391/391 [00:39<00:00,  9.93it/s]\n"
     ]
    },
    {
     "name": "stdout",
     "output_type": "stream",
     "text": [
      "Function Took 39.3667 seconds\n"
     ]
    },
    {
     "name": "stderr",
     "output_type": "stream",
     "text": [
      "Avg Test Loss: 0.9932337335393399 Avg Test Metric: 0.6351236746281008: 100%|███████████████████████████████████████████████████████████████████████████████████████████████████████████████████████████████████████████████████████████████████████████████████████████████████████████████████████████████████████████████████████████████████████████████████████████████████████████████████████████████████████████████████████████████████████████████████████████████████████████████████████████████████████████████████████████████████████████████████████████████████████████████████████████████████████████████████████████████████████████████████████████████████████████████████████████████████████████████████████████████████████████████████████████████████████████████████████████████████████████████████████████████████████████████████████████████████████████████████████████████████████████████████████████████████████████████████████████████████████████████████████████| 79/79 [00:02<00:00, 29.59it/s]\n"
     ]
    },
    {
     "name": "stdout",
     "output_type": "stream",
     "text": [
      "Function Took 2.6738 seconds\n",
      "For next epoch lr:: 0.0009025\n",
      "Validation loss decreased (1.230946 --> 0.993234).  Saving model ...\n",
      "Epoch 2\n"
     ]
    },
    {
     "name": "stderr",
     "output_type": "stream",
     "text": [
      "Avg Train Loss: 1.0461196571664737 Avg Train Metric: 0.6158637512675331: 100%|███████████████████████████████████████████████████████████████████████████████████████████████████████████████████████████████████████████████████████████████████████████████████████████████████████████████████████████████████████████████████████████████████████████████████████████████████████████████████████████████████████████████████████████████████████████████████████████████████████████████████████████████████████████████████████████████████████████████████████████████████████████████████████████████████████████████████████████████████████████████████████████████████████████████████████████████████████████████████████████████████████████████████████████████████████████████████████████████████████████████████████████████████████████████████████████████████████████████████████████████████████████████████████████████████████████████████████████████████████████████████████| 391/391 [00:38<00:00, 10.08it/s]\n"
     ]
    },
    {
     "name": "stdout",
     "output_type": "stream",
     "text": [
      "Function Took 38.7945 seconds\n"
     ]
    },
    {
     "name": "stderr",
     "output_type": "stream",
     "text": [
      "Avg Test Loss: 0.9037436673158332 Avg Test Metric: 0.6740649787685539: 100%|███████████████████████████████████████████████████████████████████████████████████████████████████████████████████████████████████████████████████████████████████████████████████████████████████████████████████████████████████████████████████████████████████████████████████████████████████████████████████████████████████████████████████████████████████████████████████████████████████████████████████████████████████████████████████████████████████████████████████████████████████████████████████████████████████████████████████████████████████████████████████████████████████████████████████████████████████████████████████████████████████████████████████████████████████████████████████████████████████████████████████████████████████████████████████████████████████████████████████████████████████████████████████████████████████████████████████████████████████████████████████████████| 79/79 [00:02<00:00, 29.83it/s]\n"
     ]
    },
    {
     "name": "stdout",
     "output_type": "stream",
     "text": [
      "Function Took 2.6526 seconds\n",
      "For next epoch lr:: 0.000857375\n",
      "Validation loss decreased (0.993234 --> 0.903744).  Saving model ...\n",
      "Epoch 3\n"
     ]
    },
    {
     "name": "stderr",
     "output_type": "stream",
     "text": [
      "Avg Train Loss: 0.9607737321987786 Avg Train Metric: 0.6532329267553051: 100%|███████████████████████████████████████████████████████████████████████████████████████████████████████████████████████████████████████████████████████████████████████████████████████████████████████████████████████████████████████████████████████████████████████████████████████████████████████████████████████████████████████████████████████████████████████████████████████████████████████████████████████████████████████████████████████████████████████████████████████████████████████████████████████████████████████████████████████████████████████████████████████████████████████████████████████████████████████████████████████████████████████████████████████████████████████████████████████████████████████████████████████████████████████████████████████████████████████████████████████████████████████████████████████████████████████████████████████████████████████████████████████| 391/391 [00:39<00:00,  9.96it/s]\n"
     ]
    },
    {
     "name": "stdout",
     "output_type": "stream",
     "text": [
      "Function Took 39.2616 seconds\n"
     ]
    },
    {
     "name": "stderr",
     "output_type": "stream",
     "text": [
      "Avg Test Loss: 0.848149753824065 Avg Test Metric: 0.6934137035019791: 100%|████████████████████████████████████████████████████████████████████████████████████████████████████████████████████████████████████████████████████████████████████████████████████████████████████████████████████████████████████████████████████████████████████████████████████████████████████████████████████████████████████████████████████████████████████████████████████████████████████████████████████████████████████████████████████████████████████████████████████████████████████████████████████████████████████████████████████████████████████████████████████████████████████████████████████████████████████████████████████████████████████████████████████████████████████████████████████████████████████████████████████████████████████████████████████████████████████████████████████████████████████████████████████████████████████████████████████████████████████████████████████████████| 79/79 [00:02<00:00, 29.50it/s]\n"
     ]
    },
    {
     "name": "stdout",
     "output_type": "stream",
     "text": [
      "Function Took 2.6821 seconds\n",
      "For next epoch lr:: 0.0008145062499999999\n",
      "Validation loss decreased (0.903744 --> 0.848150).  Saving model ...\n",
      "Epoch 4\n"
     ]
    },
    {
     "name": "stderr",
     "output_type": "stream",
     "text": [
      "Avg Train Loss: 0.908200681971772 Avg Train Metric: 0.6671725156362099: 100%|████████████████████████████████████████████████████████████████████████████████████████████████████████████████████████████████████████████████████████████████████████████████████████████████████████████████████████████████████████████████████████████████████████████████████████████████████████████████████████████████████████████████████████████████████████████████████████████████████████████████████████████████████████████████████████████████████████████████████████████████████████████████████████████████████████████████████████████████████████████████████████████████████████████████████████████████████████████████████████████████████████████████████████████████████████████████████████████████████████████████████████████████████████████████████████████████████████████████████████████████████████████████████████████████████████████████████████████████████████████████████████| 391/391 [00:41<00:00,  9.36it/s]\n"
     ]
    },
    {
     "name": "stdout",
     "output_type": "stream",
     "text": [
      "Function Took 41.7583 seconds\n"
     ]
    },
    {
     "name": "stderr",
     "output_type": "stream",
     "text": [
      "Avg Test Loss: 0.7809175637703908 Avg Test Metric: 0.7173272288298305: 100%|███████████████████████████████████████████████████████████████████████████████████████████████████████████████████████████████████████████████████████████████████████████████████████████████████████████████████████████████████████████████████████████████████████████████████████████████████████████████████████████████████████████████████████████████████████████████████████████████████████████████████████████████████████████████████████████████████████████████████████████████████████████████████████████████████████████████████████████████████████████████████████████████████████████████████████████████████████████████████████████████████████████████████████████████████████████████████████████████████████████████████████████████████████████████████████████████████████████████████████████████████████████████████████████████████████████████████████████████████████████████████████████| 79/79 [00:02<00:00, 29.26it/s]\n"
     ]
    },
    {
     "name": "stdout",
     "output_type": "stream",
     "text": [
      "Function Took 2.7043 seconds\n",
      "For next epoch lr:: 0.0007737809374999998\n",
      "Validation loss decreased (0.848150 --> 0.780918).  Saving model ...\n",
      "Epoch 5\n"
     ]
    },
    {
     "name": "stderr",
     "output_type": "stream",
     "text": [
      "Avg Train Loss: 0.8578350562268816 Avg Train Metric: 0.6934549857283492: 100%|███████████████████████████████████████████████████████████████████████████████████████████████████████████████████████████████████████████████████████████████████████████████████████████████████████████████████████████████████████████████████████████████████████████████████████████████████████████████████████████████████████████████████████████████████████████████████████████████████████████████████████████████████████████████████████████████████████████████████████████████████████████████████████████████████████████████████████████████████████████████████████████████████████████████████████████████████████████████████████████████████████████████████████████████████████████████████████████████████████████████████████████████████████████████████████████████████████████████████████████████████████████████████████████████████████████████████████████████████████████████████████| 391/391 [00:38<00:00, 10.14it/s]\n"
     ]
    },
    {
     "name": "stdout",
     "output_type": "stream",
     "text": [
      "Function Took 38.5542 seconds\n"
     ]
    },
    {
     "name": "stderr",
     "output_type": "stream",
     "text": [
      "Avg Test Loss: 0.7382694920407066 Avg Test Metric: 0.7452923700779299: 100%|███████████████████████████████████████████████████████████████████████████████████████████████████████████████████████████████████████████████████████████████████████████████████████████████████████████████████████████████████████████████████████████████████████████████████████████████████████████████████████████████████████████████████████████████████████████████████████████████████████████████████████████████████████████████████████████████████████████████████████████████████████████████████████████████████████████████████████████████████████████████████████████████████████████████████████████████████████████████████████████████████████████████████████████████████████████████████████████████████████████████████████████████████████████████████████████████████████████████████████████████████████████████████████████████████████████████████████████████████████████████████████████| 79/79 [00:02<00:00, 28.33it/s]\n"
     ]
    },
    {
     "name": "stdout",
     "output_type": "stream",
     "text": [
      "Function Took 2.7927 seconds\n",
      "For next epoch lr:: 0.0007350918906249997\n",
      "Validation loss decreased (0.780918 --> 0.738269).  Saving model ...\n",
      "Epoch 6\n"
     ]
    },
    {
     "name": "stderr",
     "output_type": "stream",
     "text": [
      "Avg Train Loss: 0.816066125927069 Avg Train Metric: 0.7163548897904204: 100%|████████████████████████████████████████████████████████████████████████████████████████████████████████████████████████████████████████████████████████████████████████████████████████████████████████████████████████████████████████████████████████████████████████████████████████████████████████████████████████████████████████████████████████████████████████████████████████████████████████████████████████████████████████████████████████████████████████████████████████████████████████████████████████████████████████████████████████████████████████████████████████████████████████████████████████████████████████████████████████████████████████████████████████████████████████████████████████████████████████████████████████████████████████████████████████████████████████████████████████████████████████████████████████████████████████████████████████████████████████████████████████| 391/391 [00:40<00:00,  9.71it/s]\n"
     ]
    },
    {
     "name": "stdout",
     "output_type": "stream",
     "text": [
      "Function Took 40.2753 seconds\n"
     ]
    },
    {
     "name": "stderr",
     "output_type": "stream",
     "text": [
      "Avg Test Loss: 0.7160326151908198 Avg Test Metric: 0.7606778688068632: 100%|███████████████████████████████████████████████████████████████████████████████████████████████████████████████████████████████████████████████████████████████████████████████████████████████████████████████████████████████████████████████████████████████████████████████████████████████████████████████████████████████████████████████████████████████████████████████████████████████████████████████████████████████████████████████████████████████████████████████████████████████████████████████████████████████████████████████████████████████████████████████████████████████████████████████████████████████████████████████████████████████████████████████████████████████████████████████████████████████████████████████████████████████████████████████████████████████████████████████████████████████████████████████████████████████████████████████████████████████████████████████████████████| 79/79 [00:02<00:00, 30.55it/s]\n"
     ]
    },
    {
     "name": "stdout",
     "output_type": "stream",
     "text": [
      "Function Took 2.5898 seconds\n",
      "For next epoch lr:: 0.0006983372960937497\n",
      "Validation loss decreased (0.738269 --> 0.716033).  Saving model ...\n",
      "Epoch 7\n"
     ]
    },
    {
     "name": "stderr",
     "output_type": "stream",
     "text": [
      "Avg Train Loss: 0.78133576498617 Avg Train Metric: 0.7265277192415789: 100%|█████████████████████████████████████████████████████████████████████████████████████████████████████████████████████████████████████████████████████████████████████████████████████████████████████████████████████████████████████████████████████████████████████████████████████████████████████████████████████████████████████████████████████████████████████████████████████████████████████████████████████████████████████████████████████████████████████████████████████████████████████████████████████████████████████████████████████████████████████████████████████████████████████████████████████████████████████████████████████████████████████████████████████████████████████████████████████████████████████████████████████████████████████████████████████████████████████████████████████████████████████████████████████████████████████████████████████████████████████████████████████████| 391/391 [00:40<00:00,  9.77it/s]\n"
     ]
    },
    {
     "name": "stdout",
     "output_type": "stream",
     "text": [
      "Function Took 40.0111 seconds\n"
     ]
    },
    {
     "name": "stderr",
     "output_type": "stream",
     "text": [
      "Avg Test Loss: 0.6873875135862375 Avg Test Metric: 0.7648300898226001: 100%|███████████████████████████████████████████████████████████████████████████████████████████████████████████████████████████████████████████████████████████████████████████████████████████████████████████████████████████████████████████████████████████████████████████████████████████████████████████████████████████████████████████████████████████████████████████████████████████████████████████████████████████████████████████████████████████████████████████████████████████████████████████████████████████████████████████████████████████████████████████████████████████████████████████████████████████████████████████████████████████████████████████████████████████████████████████████████████████████████████████████████████████████████████████████████████████████████████████████████████████████████████████████████████████████████████████████████████████████████████████████████████████| 79/79 [00:02<00:00, 29.13it/s]\n"
     ]
    },
    {
     "name": "stdout",
     "output_type": "stream",
     "text": [
      "Function Took 2.7159 seconds\n",
      "For next epoch lr:: 0.0006634204312890621\n",
      "Validation loss decreased (0.716033 --> 0.687388).  Saving model ...\n",
      "Epoch 8\n"
     ]
    },
    {
     "name": "stderr",
     "output_type": "stream",
     "text": [
      "Avg Train Loss: 0.7498704502954507 Avg Train Metric: 0.7376135230979042: 100%|███████████████████████████████████████████████████████████████████████████████████████████████████████████████████████████████████████████████████████████████████████████████████████████████████████████████████████████████████████████████████████████████████████████████████████████████████████████████████████████████████████████████████████████████████████████████████████████████████████████████████████████████████████████████████████████████████████████████████████████████████████████████████████████████████████████████████████████████████████████████████████████████████████████████████████████████████████████████████████████████████████████████████████████████████████████████████████████████████████████████████████████████████████████████████████████████████████████████████████████████████████████████████████████████████████████████████████████████████████████████████████| 391/391 [00:39<00:00,  9.93it/s]\n"
     ]
    },
    {
     "name": "stdout",
     "output_type": "stream",
     "text": [
      "Function Took 39.3682 seconds\n"
     ]
    },
    {
     "name": "stderr",
     "output_type": "stream",
     "text": [
      "Avg Test Loss: 0.642616097685657 Avg Test Metric: 0.7749934966051126: 100%|████████████████████████████████████████████████████████████████████████████████████████████████████████████████████████████████████████████████████████████████████████████████████████████████████████████████████████████████████████████████████████████████████████████████████████████████████████████████████████████████████████████████████████████████████████████████████████████████████████████████████████████████████████████████████████████████████████████████████████████████████████████████████████████████████████████████████████████████████████████████████████████████████████████████████████████████████████████████████████████████████████████████████████████████████████████████████████████████████████████████████████████████████████████████████████████████████████████████████████████████████████████████████████████████████████████████████████████████████████████████████████████| 79/79 [00:02<00:00, 30.47it/s]\n"
     ]
    },
    {
     "name": "stdout",
     "output_type": "stream",
     "text": [
      "Function Took 2.5967 seconds\n",
      "For next epoch lr:: 0.000630249409724609\n",
      "Validation loss decreased (0.687388 --> 0.642616).  Saving model ...\n",
      "Epoch 9\n"
     ]
    },
    {
     "name": "stderr",
     "output_type": "stream",
     "text": [
      "Avg Train Loss: 0.7265419469160193 Avg Train Metric: 0.7444216482474676: 100%|███████████████████████████████████████████████████████████████████████████████████████████████████████████████████████████████████████████████████████████████████████████████████████████████████████████████████████████████████████████████████████████████████████████████████████████████████████████████████████████████████████████████████████████████████████████████████████████████████████████████████████████████████████████████████████████████████████████████████████████████████████████████████████████████████████████████████████████████████████████████████████████████████████████████████████████████████████████████████████████████████████████████████████████████████████████████████████████████████████████████████████████████████████████████████████████████████████████████████████████████████████████████████████████████████████████████████████████████████████████████████████| 391/391 [00:39<00:00,  9.97it/s]\n"
     ]
    },
    {
     "name": "stdout",
     "output_type": "stream",
     "text": [
      "Function Took 39.2039 seconds\n"
     ]
    },
    {
     "name": "stderr",
     "output_type": "stream",
     "text": [
      "Avg Test Loss: 0.6097097004516215 Avg Test Metric: 0.7816547313822976: 100%|███████████████████████████████████████████████████████████████████████████████████████████████████████████████████████████████████████████████████████████████████████████████████████████████████████████████████████████████████████████████████████████████████████████████████████████████████████████████████████████████████████████████████████████████████████████████████████████████████████████████████████████████████████████████████████████████████████████████████████████████████████████████████████████████████████████████████████████████████████████████████████████████████████████████████████████████████████████████████████████████████████████████████████████████████████████████████████████████████████████████████████████████████████████████████████████████████████████████████████████████████████████████████████████████████████████████████████████████████████████████████████████| 79/79 [00:02<00:00, 28.95it/s]\n"
     ]
    },
    {
     "name": "stdout",
     "output_type": "stream",
     "text": [
      "Function Took 2.7333 seconds\n",
      "For next epoch lr:: 0.0005987369392383785\n",
      "Validation loss decreased (0.642616 --> 0.609710).  Saving model ...\n",
      "Epoch 10\n"
     ]
    },
    {
     "name": "stderr",
     "output_type": "stream",
     "text": [
      "Avg Train Loss: 0.6971677068401786 Avg Train Metric: 0.7528118241168654: 100%|███████████████████████████████████████████████████████████████████████████████████████████████████████████████████████████████████████████████████████████████████████████████████████████████████████████████████████████████████████████████████████████████████████████████████████████████████████████████████████████████████████████████████████████████████████████████████████████████████████████████████████████████████████████████████████████████████████████████████████████████████████████████████████████████████████████████████████████████████████████████████████████████████████████████████████████████████████████████████████████████████████████████████████████████████████████████████████████████████████████████████████████████████████████████████████████████████████████████████████████████████████████████████████████████████████████████████████████████████████████████████████| 391/391 [00:38<00:00, 10.04it/s]\n"
     ]
    },
    {
     "name": "stdout",
     "output_type": "stream",
     "text": [
      "Function Took 38.9392 seconds\n"
     ]
    },
    {
     "name": "stderr",
     "output_type": "stream",
     "text": [
      "Avg Test Loss: 0.6208093626589715 Avg Test Metric: 0.7753307442121868: 100%|███████████████████████████████████████████████████████████████████████████████████████████████████████████████████████████████████████████████████████████████████████████████████████████████████████████████████████████████████████████████████████████████████████████████████████████████████████████████████████████████████████████████████████████████████████████████████████████████████████████████████████████████████████████████████████████████████████████████████████████████████████████████████████████████████████████████████████████████████████████████████████████████████████████████████████████████████████████████████████████████████████████████████████████████████████████████████████████████████████████████████████████████████████████████████████████████████████████████████████████████████████████████████████████████████████████████████████████████████████████████████████████| 79/79 [00:02<00:00, 30.54it/s]\n"
     ]
    },
    {
     "name": "stdout",
     "output_type": "stream",
     "text": [
      "Function Took 2.5905 seconds\n",
      "For next epoch lr:: 0.0005688000922764595\n",
      "EarlyStopping counter: 1 out of 3\n",
      "Epoch 11\n"
     ]
    },
    {
     "name": "stderr",
     "output_type": "stream",
     "text": [
      "Avg Train Loss: 0.6824841915494035 Avg Train Metric: 0.7663721980341255: 100%|███████████████████████████████████████████████████████████████████████████████████████████████████████████████████████████████████████████████████████████████████████████████████████████████████████████████████████████████████████████████████████████████████████████████████████████████████████████████████████████████████████████████████████████████████████████████████████████████████████████████████████████████████████████████████████████████████████████████████████████████████████████████████████████████████████████████████████████████████████████████████████████████████████████████████████████████████████████████████████████████████████████████████████████████████████████████████████████████████████████████████████████████████████████████████████████████████████████████████████████████████████████████████████████████████████████████████████████████████████████████████████| 391/391 [00:38<00:00, 10.13it/s]\n"
     ]
    },
    {
     "name": "stdout",
     "output_type": "stream",
     "text": [
      "Function Took 38.5871 seconds\n"
     ]
    },
    {
     "name": "stderr",
     "output_type": "stream",
     "text": [
      "Avg Test Loss: 0.5863341375996795 Avg Test Metric: 0.7976580541345137: 100%|███████████████████████████████████████████████████████████████████████████████████████████████████████████████████████████████████████████████████████████████████████████████████████████████████████████████████████████████████████████████████████████████████████████████████████████████████████████████████████████████████████████████████████████████████████████████████████████████████████████████████████████████████████████████████████████████████████████████████████████████████████████████████████████████████████████████████████████████████████████████████████████████████████████████████████████████████████████████████████████████████████████████████████████████████████████████████████████████████████████████████████████████████████████████████████████████████████████████████████████████████████████████████████████████████████████████████████████████████████████████████████████| 79/79 [00:02<00:00, 30.16it/s]\n"
     ]
    },
    {
     "name": "stdout",
     "output_type": "stream",
     "text": [
      "Function Took 2.6236 seconds\n",
      "For next epoch lr:: 0.0005403600876626365\n",
      "Validation loss decreased (0.609710 --> 0.586334).  Saving model ...\n",
      "Epoch 12\n"
     ]
    },
    {
     "name": "stderr",
     "output_type": "stream",
     "text": [
      "Avg Train Loss: 0.6592914208274363 Avg Train Metric: 0.7703597893190506: 100%|███████████████████████████████████████████████████████████████████████████████████████████████████████████████████████████████████████████████████████████████████████████████████████████████████████████████████████████████████████████████████████████████████████████████████████████████████████████████████████████████████████████████████████████████████████████████████████████████████████████████████████████████████████████████████████████████████████████████████████████████████████████████████████████████████████████████████████████████████████████████████████████████████████████████████████████████████████████████████████████████████████████████████████████████████████████████████████████████████████████████████████████████████████████████████████████████████████████████████████████████████████████████████████████████████████████████████████████████████████████████████████| 391/391 [00:39<00:00, 10.00it/s]\n"
     ]
    },
    {
     "name": "stdout",
     "output_type": "stream",
     "text": [
      "Function Took 39.1149 seconds\n"
     ]
    },
    {
     "name": "stderr",
     "output_type": "stream",
     "text": [
      "Avg Test Loss: 0.5589668279207205 Avg Test Metric: 0.8063204409200934: 100%|███████████████████████████████████████████████████████████████████████████████████████████████████████████████████████████████████████████████████████████████████████████████████████████████████████████████████████████████████████████████████████████████████████████████████████████████████████████████████████████████████████████████████████████████████████████████████████████████████████████████████████████████████████████████████████████████████████████████████████████████████████████████████████████████████████████████████████████████████████████████████████████████████████████████████████████████████████████████████████████████████████████████████████████████████████████████████████████████████████████████████████████████████████████████████████████████████████████████████████████████████████████████████████████████████████████████████████████████████████████████████████████| 79/79 [00:02<00:00, 30.55it/s]\n"
     ]
    },
    {
     "name": "stdout",
     "output_type": "stream",
     "text": [
      "Function Took 2.5894 seconds\n",
      "For next epoch lr:: 0.0005133420832795047\n",
      "Validation loss decreased (0.586334 --> 0.558967).  Saving model ...\n",
      "Epoch 13\n"
     ]
    },
    {
     "name": "stderr",
     "output_type": "stream",
     "text": [
      "Avg Train Loss: 0.6475284725351407 Avg Train Metric: 0.7729393649284187: 100%|███████████████████████████████████████████████████████████████████████████████████████████████████████████████████████████████████████████████████████████████████████████████████████████████████████████████████████████████████████████████████████████████████████████████████████████████████████████████████████████████████████████████████████████████████████████████████████████████████████████████████████████████████████████████████████████████████████████████████████████████████████████████████████████████████████████████████████████████████████████████████████████████████████████████████████████████████████████████████████████████████████████████████████████████████████████████████████████████████████████████████████████████████████████████████████████████████████████████████████████████████████████████████████████████████████████████████████████████████████████████████████| 391/391 [00:38<00:00, 10.17it/s]\n"
     ]
    },
    {
     "name": "stdout",
     "output_type": "stream",
     "text": [
      "Function Took 38.4333 seconds\n"
     ]
    },
    {
     "name": "stderr",
     "output_type": "stream",
     "text": [
      "Avg Test Loss: 0.5688639315246027 Avg Test Metric: 0.7997022346605228: 100%|███████████████████████████████████████████████████████████████████████████████████████████████████████████████████████████████████████████████████████████████████████████████████████████████████████████████████████████████████████████████████████████████████████████████████████████████████████████████████████████████████████████████████████████████████████████████████████████████████████████████████████████████████████████████████████████████████████████████████████████████████████████████████████████████████████████████████████████████████████████████████████████████████████████████████████████████████████████████████████████████████████████████████████████████████████████████████████████████████████████████████████████████████████████████████████████████████████████████████████████████████████████████████████████████████████████████████████████████████████████████████████████| 79/79 [00:02<00:00, 31.14it/s]\n"
     ]
    },
    {
     "name": "stdout",
     "output_type": "stream",
     "text": [
      "Function Took 2.5412 seconds\n",
      "For next epoch lr:: 0.00048767497911552944\n",
      "EarlyStopping counter: 1 out of 3\n",
      "Epoch 14\n"
     ]
    },
    {
     "name": "stderr",
     "output_type": "stream",
     "text": [
      "Avg Train Loss: 0.6255835252802086 Avg Train Metric: 0.7829026050884705: 100%|███████████████████████████████████████████████████████████████████████████████████████████████████████████████████████████████████████████████████████████████████████████████████████████████████████████████████████████████████████████████████████████████████████████████████████████████████████████████████████████████████████████████████████████████████████████████████████████████████████████████████████████████████████████████████████████████████████████████████████████████████████████████████████████████████████████████████████████████████████████████████████████████████████████████████████████████████████████████████████████████████████████████████████████████████████████████████████████████████████████████████████████████████████████████████████████████████████████████████████████████████████████████████████████████████████████████████████████████████████████████████████| 391/391 [00:39<00:00, 10.01it/s]\n"
     ]
    },
    {
     "name": "stdout",
     "output_type": "stream",
     "text": [
      "Function Took 39.0501 seconds\n"
     ]
    },
    {
     "name": "stderr",
     "output_type": "stream",
     "text": [
      "Avg Test Loss: 0.5586902435067334 Avg Test Metric: 0.8101277328744719: 100%|███████████████████████████████████████████████████████████████████████████████████████████████████████████████████████████████████████████████████████████████████████████████████████████████████████████████████████████████████████████████████████████████████████████████████████████████████████████████████████████████████████████████████████████████████████████████████████████████████████████████████████████████████████████████████████████████████████████████████████████████████████████████████████████████████████████████████████████████████████████████████████████████████████████████████████████████████████████████████████████████████████████████████████████████████████████████████████████████████████████████████████████████████████████████████████████████████████████████████████████████████████████████████████████████████████████████████████████████████████████████████████████| 79/79 [00:02<00:00, 30.34it/s]\n"
     ]
    },
    {
     "name": "stdout",
     "output_type": "stream",
     "text": [
      "Function Took 2.6074 seconds\n",
      "For next epoch lr:: 0.00046329123015975297\n",
      "Validation loss decreased (0.558967 --> 0.558690).  Saving model ...\n",
      "Epoch 15\n"
     ]
    },
    {
     "name": "stderr",
     "output_type": "stream",
     "text": [
      "Avg Train Loss: 0.607349965197351 Avg Train Metric: 0.784258686977884: 100%|█████████████████████████████████████████████████████████████████████████████████████████████████████████████████████████████████████████████████████████████████████████████████████████████████████████████████████████████████████████████████████████████████████████████████████████████████████████████████████████████████████████████████████████████████████████████████████████████████████████████████████████████████████████████████████████████████████████████████████████████████████████████████████████████████████████████████████████████████████████████████████████████████████████████████████████████████████████████████████████████████████████████████████████████████████████████████████████████████████████████████████████████████████████████████████████████████████████████████████████████████████████████████████████████████████████████████████████████████████████████████████████| 391/391 [00:38<00:00, 10.09it/s]\n"
     ]
    },
    {
     "name": "stdout",
     "output_type": "stream",
     "text": [
      "Function Took 38.7550 seconds\n"
     ]
    },
    {
     "name": "stderr",
     "output_type": "stream",
     "text": [
      "Avg Test Loss: 0.5149698317805423 Avg Test Metric: 0.8229778952236417: 100%|███████████████████████████████████████████████████████████████████████████████████████████████████████████████████████████████████████████████████████████████████████████████████████████████████████████████████████████████████████████████████████████████████████████████████████████████████████████████████████████████████████████████████████████████████████████████████████████████████████████████████████████████████████████████████████████████████████████████████████████████████████████████████████████████████████████████████████████████████████████████████████████████████████████████████████████████████████████████████████████████████████████████████████████████████████████████████████████████████████████████████████████████████████████████████████████████████████████████████████████████████████████████████████████████████████████████████████████████████████████████████████████| 79/79 [00:02<00:00, 30.20it/s]\n"
     ]
    },
    {
     "name": "stdout",
     "output_type": "stream",
     "text": [
      "Function Took 2.6201 seconds\n",
      "For next epoch lr:: 0.0004401266686517653\n",
      "Validation loss decreased (0.558690 --> 0.514970).  Saving model ...\n",
      "Epoch 16\n"
     ]
    },
    {
     "name": "stderr",
     "output_type": "stream",
     "text": [
      "Avg Train Loss: 0.6041832579218823 Avg Train Metric: 0.7901625153048873: 100%|███████████████████████████████████████████████████████████████████████████████████████████████████████████████████████████████████████████████████████████████████████████████████████████████████████████████████████████████████████████████████████████████████████████████████████████████████████████████████████████████████████████████████████████████████████████████████████████████████████████████████████████████████████████████████████████████████████████████████████████████████████████████████████████████████████████████████████████████████████████████████████████████████████████████████████████████████████████████████████████████████████████████████████████████████████████████████████████████████████████████████████████████████████████████████████████████████████████████████████████████████████████████████████████████████████████████████████████████████████████████████████| 391/391 [00:40<00:00,  9.75it/s]\n"
     ]
    },
    {
     "name": "stdout",
     "output_type": "stream",
     "text": [
      "Function Took 40.1102 seconds\n"
     ]
    },
    {
     "name": "stderr",
     "output_type": "stream",
     "text": [
      "Avg Test Loss: 0.5103524632846252 Avg Test Metric: 0.8216625142701065: 100%|███████████████████████████████████████████████████████████████████████████████████████████████████████████████████████████████████████████████████████████████████████████████████████████████████████████████████████████████████████████████████████████████████████████████████████████████████████████████████████████████████████████████████████████████████████████████████████████████████████████████████████████████████████████████████████████████████████████████████████████████████████████████████████████████████████████████████████████████████████████████████████████████████████████████████████████████████████████████████████████████████████████████████████████████████████████████████████████████████████████████████████████████████████████████████████████████████████████████████████████████████████████████████████████████████████████████████████████████████████████████████████████| 79/79 [00:02<00:00, 28.83it/s]\n"
     ]
    },
    {
     "name": "stdout",
     "output_type": "stream",
     "text": [
      "Function Took 2.7443 seconds\n",
      "For next epoch lr:: 0.00041812033521917703\n",
      "Validation loss decreased (0.514970 --> 0.510352).  Saving model ...\n",
      "Epoch 17\n"
     ]
    },
    {
     "name": "stderr",
     "output_type": "stream",
     "text": [
      "Avg Train Loss: 0.5853301157884281 Avg Train Metric: 0.7976742964571394: 100%|███████████████████████████████████████████████████████████████████████████████████████████████████████████████████████████████████████████████████████████████████████████████████████████████████████████████████████████████████████████████████████████████████████████████████████████████████████████████████████████████████████████████████████████████████████████████████████████████████████████████████████████████████████████████████████████████████████████████████████████████████████████████████████████████████████████████████████████████████████████████████████████████████████████████████████████████████████████████████████████████████████████████████████████████████████████████████████████████████████████████████████████████████████████████████████████████████████████████████████████████████████████████████████████████████████████████████████████████████████████████████████| 391/391 [00:39<00:00,  9.90it/s]\n"
     ]
    },
    {
     "name": "stdout",
     "output_type": "stream",
     "text": [
      "Function Took 39.5107 seconds\n"
     ]
    },
    {
     "name": "stderr",
     "output_type": "stream",
     "text": [
      "Avg Test Loss: 0.5126765061028397 Avg Test Metric: 0.8256248016900654: 100%|███████████████████████████████████████████████████████████████████████████████████████████████████████████████████████████████████████████████████████████████████████████████████████████████████████████████████████████████████████████████████████████████████████████████████████████████████████████████████████████████████████████████████████████████████████████████████████████████████████████████████████████████████████████████████████████████████████████████████████████████████████████████████████████████████████████████████████████████████████████████████████████████████████████████████████████████████████████████████████████████████████████████████████████████████████████████████████████████████████████████████████████████████████████████████████████████████████████████████████████████████████████████████████████████████████████████████████████████████████████████████████████| 79/79 [00:02<00:00, 29.34it/s]\n"
     ]
    },
    {
     "name": "stdout",
     "output_type": "stream",
     "text": [
      "Function Took 2.6967 seconds\n",
      "For next epoch lr:: 0.00039721431845821814\n",
      "EarlyStopping counter: 1 out of 3\n",
      "Epoch 18\n"
     ]
    },
    {
     "name": "stderr",
     "output_type": "stream",
     "text": [
      "Avg Train Loss: 0.5766843467417275 Avg Train Metric: 0.798927943877247: 100%|████████████████████████████████████████████████████████████████████████████████████████████████████████████████████████████████████████████████████████████████████████████████████████████████████████████████████████████████████████████████████████████████████████████████████████████████████████████████████████████████████████████████████████████████████████████████████████████████████████████████████████████████████████████████████████████████████████████████████████████████████████████████████████████████████████████████████████████████████████████████████████████████████████████████████████████████████████████████████████████████████████████████████████████████████████████████████████████████████████████████████████████████████████████████████████████████████████████████████████████████████████████████████████████████████████████████████████████████████████████████████████| 391/391 [00:40<00:00,  9.63it/s]\n"
     ]
    },
    {
     "name": "stdout",
     "output_type": "stream",
     "text": [
      "Function Took 40.5917 seconds\n"
     ]
    },
    {
     "name": "stderr",
     "output_type": "stream",
     "text": [
      "Avg Test Loss: 0.5047116034393069 Avg Test Metric: 0.8326457022111627: 100%|███████████████████████████████████████████████████████████████████████████████████████████████████████████████████████████████████████████████████████████████████████████████████████████████████████████████████████████████████████████████████████████████████████████████████████████████████████████████████████████████████████████████████████████████████████████████████████████████████████████████████████████████████████████████████████████████████████████████████████████████████████████████████████████████████████████████████████████████████████████████████████████████████████████████████████████████████████████████████████████████████████████████████████████████████████████████████████████████████████████████████████████████████████████████████████████████████████████████████████████████████████████████████████████████████████████████████████████████████████████████████████████| 79/79 [00:03<00:00, 25.57it/s]\n"
     ]
    },
    {
     "name": "stdout",
     "output_type": "stream",
     "text": [
      "Function Took 3.0933 seconds\n",
      "For next epoch lr:: 0.0003773536025353072\n",
      "Validation loss decreased (0.510352 --> 0.504712).  Saving model ...\n",
      "Epoch 19\n"
     ]
    },
    {
     "name": "stderr",
     "output_type": "stream",
     "text": [
      "Avg Train Loss: 0.5673255238234235 Avg Train Metric: 0.8001269205756809: 100%|███████████████████████████████████████████████████████████████████████████████████████████████████████████████████████████████████████████████████████████████████████████████████████████████████████████████████████████████████████████████████████████████████████████████████████████████████████████████████████████████████████████████████████████████████████████████████████████████████████████████████████████████████████████████████████████████████████████████████████████████████████████████████████████████████████████████████████████████████████████████████████████████████████████████████████████████████████████████████████████████████████████████████████████████████████████████████████████████████████████████████████████████████████████████████████████████████████████████████████████████████████████████████████████████████████████████████████████████████████████████████████| 391/391 [00:39<00:00,  9.92it/s]\n"
     ]
    },
    {
     "name": "stdout",
     "output_type": "stream",
     "text": [
      "Function Took 39.4216 seconds\n"
     ]
    },
    {
     "name": "stderr",
     "output_type": "stream",
     "text": [
      "Avg Test Loss: 0.4936582491367678 Avg Test Metric: 0.8361358921739119: 100%|███████████████████████████████████████████████████████████████████████████████████████████████████████████████████████████████████████████████████████████████████████████████████████████████████████████████████████████████████████████████████████████████████████████████████████████████████████████████████████████████████████████████████████████████████████████████████████████████████████████████████████████████████████████████████████████████████████████████████████████████████████████████████████████████████████████████████████████████████████████████████████████████████████████████████████████████████████████████████████████████████████████████████████████████████████████████████████████████████████████████████████████████████████████████████████████████████████████████████████████████████████████████████████████████████████████████████████████████████████████████████████████| 79/79 [00:02<00:00, 29.40it/s]\n"
     ]
    },
    {
     "name": "stdout",
     "output_type": "stream",
     "text": [
      "Function Took 2.6912 seconds\n",
      "For next epoch lr:: 0.0003584859224085418\n",
      "Validation loss decreased (0.504712 --> 0.493658).  Saving model ...\n"
     ]
    }
   ],
   "source": [
    "train_losses = []\n",
    "train_metrics = []\n",
    "test_losses = []\n",
    "test_metrics = []\n",
    "\n",
    "for epoch in range(0, epochs):\n",
    "    print(f\"Epoch {epoch}\")\n",
    "    train_losses, train_metrics = train_module(\n",
    "        baseline_model_3,\n",
    "        device,\n",
    "        train_loader,\n",
    "        optimizer,\n",
    "        criterion,\n",
    "        metric,\n",
    "        train_losses,\n",
    "        train_metrics,\n",
    "    )\n",
    "    test_losses, test_metrics = test_module(\n",
    "        baseline_model_3,\n",
    "        device,\n",
    "        test_loader,\n",
    "        criterion,\n",
    "        metric,\n",
    "        test_losses,\n",
    "        test_metrics,\n",
    "    )\n",
    "\n",
    "    lr_scheduler.step()  # lr scheduler stepping\n",
    "    print(f\"For next epoch lr:: {lr_scheduler.get_last_lr()[0]}\")\n",
    "    early_stopping(\n",
    "        test_losses[-1], baseline_model_3, epoch\n",
    "    )  # last recorded test loss to measure the improvement against the prior one\n",
    "    if early_stopping.early_stop:\n",
    "        print(\"Early stopping\")\n",
    "        break"
   ]
  },
  {
   "cell_type": "code",
   "execution_count": 120,
   "metadata": {},
   "outputs": [
    {
     "data": {
      "image/png": "[encoded data removed]",
      "text/plain": [
       "<Figure size 1152x720 with 2 Axes>"
      ]
     },
     "metadata": {
      "needs_background": "light"
     },
     "output_type": "display_data"
    }
   ],
   "source": [
    "plot_loss_accuracy(\n",
    "    train_loss=[train_losses],\n",
    "    val_loss=[test_losses],\n",
    "    train_acc=[train_metrics],\n",
    "    val_acc=[test_metrics],\n",
    "    labels=[\"baseline-3\"],\n",
    "    colors=[\"blue\"],\n",
    "    loss_legend_loc=\"upper left\",\n",
    "    acc_legend_loc=\"upper left\",\n",
    "    legend_font=7,\n",
    ")"
   ]
  },
  {
   "cell_type": "markdown",
   "metadata": {},
   "source": [
    "### Addition of Depth wise Seperable convolution "
   ]
  },
  {
   "cell_type": "code",
   "execution_count": 55,
   "metadata": {},
   "outputs": [],
   "source": [
    "class depthwise_separable_conv(nn.Module):\n",
    "    def __init__(self, nin, kernels_per_layer, nout):\n",
    "        super(depthwise_separable_conv, self).__init__()\n",
    "        self.depthwise = nn.Conv2d(\n",
    "            nin, kernels_per_layer, kernel_size=3, padding=1, groups=nin\n",
    "        )\n",
    "        self.pointwise = nn.Conv2d(kernels_per_layer, nout, kernel_size=1) # always 1\n",
    "\n",
    "    def forward(self, x):\n",
    "        out = self.depthwise(x)\n",
    "        print(out.shape)\n",
    "        out = self.pointwise(out)\n",
    "        print(out.shape)\n",
    "        return out"
   ]
  },
  {
   "cell_type": "code",
   "execution_count": 56,
   "metadata": {},
   "outputs": [
    {
     "name": "stdout",
     "output_type": "stream",
     "text": [
      "torch.Size([2, 3, 32, 32])\n",
      "torch.Size([2, 10, 32, 32])\n",
      "----------------------------------------------------------------\n",
      "        Layer (type)               Output Shape         Param #\n",
      "================================================================\n",
      "            Conv2d-1            [-1, 3, 32, 32]              30\n",
      "            Conv2d-2           [-1, 10, 32, 32]              40\n",
      "================================================================\n",
      "Total params: 70\n",
      "Trainable params: 70\n",
      "Non-trainable params: 0\n",
      "----------------------------------------------------------------\n",
      "Input size (MB): 0.01\n",
      "Forward/backward pass size (MB): 0.10\n",
      "Params size (MB): 0.00\n",
      "Estimated Total Size (MB): 0.11\n",
      "----------------------------------------------------------------\n"
     ]
    }
   ],
   "source": [
    "depth_conv = depthwise_separable_conv(3, 3, 10).to(device)\n",
    "summary(depth_conv, input_size=(3, 32, 32))"
   ]
  },
  {
   "cell_type": "code",
   "execution_count": 59,
   "metadata": {},
   "outputs": [],
   "source": [
    "class DepthwiseSeparableClassifier(nn.Module):\n",
    "    def __init__(\n",
    "        self,\n",
    "        in_channels,\n",
    "        hidden_units,\n",
    "        out_channels,\n",
    "        multiplier_1=1,\n",
    "        multiplier_2=2,\n",
    "        dropout=0.1,\n",
    "    ):\n",
    "        super(DepthwiseSeparableClassifier, self).__init__()\n",
    "        # block1\n",
    "        self.conv_bl1 = nn.Sequential(\n",
    "            # set1\n",
    "            nn.Conv2d(\n",
    "                in_channels=in_channels,\n",
    "                out_channels=multiplier_1 * hidden_units,\n",
    "                kernel_size=(3, 3),\n",
    "                padding=1,\n",
    "                bias=False,\n",
    "            ),\n",
    "            nn.BatchNorm2d(multiplier_1 * hidden_units),\n",
    "            nn.ReLU(),\n",
    "            nn.Dropout(dropout),\n",
    "            # set2\n",
    "            nn.Conv2d(\n",
    "                in_channels=multiplier_1 * hidden_units,\n",
    "                out_channels=multiplier_2 * hidden_units,\n",
    "                kernel_size=(3, 3),\n",
    "                padding=1,\n",
    "                bias=False,\n",
    "            ),\n",
    "            nn.ReLU(),\n",
    "            nn.BatchNorm2d(multiplier_2 * hidden_units),\n",
    "            nn.Dropout(dropout),\n",
    "            # set3 -dialation\n",
    "            nn.Conv2d(\n",
    "                in_channels=multiplier_2 * hidden_units,\n",
    "                out_channels=multiplier_1 * hidden_units,\n",
    "                kernel_size=(3, 3),\n",
    "                padding=1,\n",
    "                dilation=2,  # application of dialated convolution\n",
    "                bias=False,\n",
    "            ),\n",
    "            nn.ReLU(),\n",
    "            nn.BatchNorm2d(multiplier_1 * hidden_units),\n",
    "            nn.Dropout(dropout),\n",
    "        )\n",
    "        # transition block\n",
    "        self.transition = nn.Sequential(\n",
    "            nn.Conv2d(\n",
    "                in_channels=multiplier_1 * hidden_units,\n",
    "                out_channels=multiplier_1 * hidden_units,\n",
    "                kernel_size=(1, 1),\n",
    "                padding=0,\n",
    "                bias=False,\n",
    "            ),\n",
    "        )\n",
    "        # block2\n",
    "        self.conv_bl2 = nn.Sequential(\n",
    "            # set1\n",
    "            nn.Conv2d(\n",
    "                in_channels=(multiplier_1 * hidden_units),\n",
    "                out_channels=multiplier_1 * hidden_units,\n",
    "                kernel_size=(3, 3),\n",
    "                padding=1,\n",
    "                bias=False,\n",
    "            ),\n",
    "            nn.BatchNorm2d(multiplier_1 * hidden_units),\n",
    "            nn.ReLU(),\n",
    "            nn.Dropout(dropout),\n",
    "            # set2\n",
    "            nn.Conv2d(\n",
    "                in_channels=multiplier_1 * hidden_units,\n",
    "                out_channels=multiplier_2 * hidden_units,\n",
    "                kernel_size=(3, 3),\n",
    "                padding=1,\n",
    "                bias=False,\n",
    "            ),\n",
    "            nn.ReLU(),\n",
    "            nn.BatchNorm2d(multiplier_2 * hidden_units),\n",
    "            nn.Dropout(dropout),\n",
    "            # set3 -dialation\n",
    "            nn.Conv2d(\n",
    "                in_channels=multiplier_2 * hidden_units,\n",
    "                out_channels=multiplier_1 * hidden_units,\n",
    "                kernel_size=(3, 3),\n",
    "                padding=1,\n",
    "                dilation=2,  # application of dialated convolution\n",
    "                bias=False,\n",
    "            ),\n",
    "            nn.ReLU(),\n",
    "            nn.BatchNorm2d(multiplier_1 * hidden_units),\n",
    "            nn.Dropout(dropout),\n",
    "        )\n",
    "        # block3\n",
    "        self.conv_bl3 = nn.Sequential(\n",
    "            # set1\n",
    "            nn.Conv2d(\n",
    "                in_channels=(multiplier_1 * hidden_units),\n",
    "                out_channels=multiplier_1 * hidden_units,\n",
    "                kernel_size=(3, 3),\n",
    "                padding=1,\n",
    "                bias=False,\n",
    "            ),\n",
    "            nn.BatchNorm2d(multiplier_1 * hidden_units),\n",
    "            nn.ReLU(),\n",
    "            nn.Dropout(dropout),\n",
    "            # set2\n",
    "            nn.Conv2d(\n",
    "                in_channels=multiplier_1 * hidden_units,\n",
    "                out_channels=multiplier_2 * hidden_units,\n",
    "                kernel_size=(3, 3),\n",
    "                padding=1,\n",
    "                bias=False,\n",
    "            ),\n",
    "            nn.ReLU(),\n",
    "            nn.BatchNorm2d(multiplier_2 * hidden_units),\n",
    "            nn.Dropout(dropout),\n",
    "            # set3 -dialation\n",
    "            nn.Conv2d(\n",
    "                in_channels=multiplier_2 * hidden_units,\n",
    "                out_channels=multiplier_1 * hidden_units,\n",
    "                kernel_size=(3, 3),\n",
    "                padding=1,\n",
    "                dilation=2,  # application of dialated convolution\n",
    "                bias=False,\n",
    "            ),\n",
    "            nn.ReLU(),\n",
    "            nn.BatchNorm2d(multiplier_1 * hidden_units),\n",
    "            nn.Dropout(dropout),\n",
    "        )\n",
    "        # block4 - Depthwise Separable Convolution **\n",
    "        self.conv_bl4 = nn.Sequential(\n",
    "            # set1\n",
    "            # depthwise\n",
    "            nn.Conv2d(\n",
    "                in_channels=(multiplier_1 * hidden_units),\n",
    "                out_channels=multiplier_1 * hidden_units,\n",
    "                kernel_size=(3, 3),\n",
    "                padding=1,\n",
    "                bias=False,\n",
    "                groups=multiplier_1 * hidden_units,\n",
    "            ),\n",
    "            # pointwise\n",
    "            nn.Conv2d(\n",
    "                in_channels=multiplier_1 * hidden_units,\n",
    "                out_channels=multiplier_1 * hidden_units,\n",
    "                kernel_size=(1, 1),\n",
    "                bias=False,\n",
    "            ),\n",
    "            nn.BatchNorm2d(multiplier_1 * hidden_units),\n",
    "            nn.ReLU(),\n",
    "            nn.Dropout(dropout),\n",
    "            # set2\n",
    "            # depthwise\n",
    "            nn.Conv2d(\n",
    "                in_channels=(multiplier_1 * hidden_units),\n",
    "                out_channels=multiplier_2 * hidden_units,\n",
    "                kernel_size=(3, 3),\n",
    "                padding=1,\n",
    "                bias=False,\n",
    "                groups=multiplier_1 * hidden_units,\n",
    "            ),\n",
    "            # pointwise\n",
    "            nn.Conv2d(\n",
    "                in_channels=multiplier_2 * hidden_units,\n",
    "                out_channels=multiplier_2 * hidden_units,\n",
    "                kernel_size=(1, 1),\n",
    "                bias=False,\n",
    "            ),\n",
    "            nn.BatchNorm2d(multiplier_2 * hidden_units),\n",
    "            nn.ReLU(),\n",
    "            nn.Dropout(dropout),\n",
    "\n",
    "            # set3 -non-dialation\n",
    "            # depthwise\n",
    "            nn.Conv2d(\n",
    "                in_channels=(multiplier_2 * hidden_units),\n",
    "                out_channels=multiplier_2 * hidden_units,\n",
    "                kernel_size=(3, 3),\n",
    "                padding=1,\n",
    "                bias=False,\n",
    "                groups=multiplier_2 * hidden_units,\n",
    "            ),\n",
    "            # pointwise\n",
    "            nn.Conv2d(\n",
    "                in_channels=multiplier_2 * hidden_units,\n",
    "                out_channels=multiplier_1 * hidden_units,\n",
    "                kernel_size=(1, 1),\n",
    "                bias=False,\n",
    "            ),\n",
    "            nn.BatchNorm2d(multiplier_1 * hidden_units),\n",
    "            nn.ReLU(),\n",
    "        )\n",
    "\n",
    "\n",
    "        self.gap = nn.AdaptiveAvgPool2d((1, 1))\n",
    "        self.classifier = nn.Sequential(\n",
    "            nn.Conv2d(\n",
    "                in_channels=multiplier_1 * hidden_units,\n",
    "                out_channels=out_channels,\n",
    "                kernel_size=(1, 1),\n",
    "                padding=0,\n",
    "                bias=False,\n",
    "            )\n",
    "        )\n",
    "\n",
    "    def forward(self, x):\n",
    "        x = self.conv_bl1(x)\n",
    "        x = self.transition(x)\n",
    "        x = self.conv_bl2(x)\n",
    "        x = self.transition(x)\n",
    "        x = self.conv_bl3(x)\n",
    "        x = self.transition(x)\n",
    "        x = self.conv_bl4(x)\n",
    "        x = self.gap(x)\n",
    "        x = self.classifier(x)\n",
    "        x = x.view(-1, 10)\n",
    "        return F.log_softmax(x, dim=-1)"
   ]
  },
  {
   "cell_type": "code",
   "execution_count": 66,
   "metadata": {},
   "outputs": [
    {
     "name": "stdout",
     "output_type": "stream",
     "text": [
      "----------------------------------------------------------------\n",
      "        Layer (type)               Output Shape         Param #\n",
      "================================================================\n",
      "            Conv2d-1           [-1, 32, 32, 32]             864\n",
      "       BatchNorm2d-2           [-1, 32, 32, 32]              64\n",
      "              ReLU-3           [-1, 32, 32, 32]               0\n",
      "           Dropout-4           [-1, 32, 32, 32]               0\n",
      "            Conv2d-5           [-1, 96, 32, 32]          27,648\n",
      "              ReLU-6           [-1, 96, 32, 32]               0\n",
      "       BatchNorm2d-7           [-1, 96, 32, 32]             192\n",
      "           Dropout-8           [-1, 96, 32, 32]               0\n",
      "            Conv2d-9           [-1, 32, 30, 30]          27,648\n",
      "             ReLU-10           [-1, 32, 30, 30]               0\n",
      "      BatchNorm2d-11           [-1, 32, 30, 30]              64\n",
      "          Dropout-12           [-1, 32, 30, 30]               0\n",
      "           Conv2d-13           [-1, 32, 30, 30]           1,024\n",
      "           Conv2d-14           [-1, 32, 30, 30]           9,216\n",
      "      BatchNorm2d-15           [-1, 32, 30, 30]              64\n",
      "             ReLU-16           [-1, 32, 30, 30]               0\n",
      "          Dropout-17           [-1, 32, 30, 30]               0\n",
      "           Conv2d-18           [-1, 96, 30, 30]          27,648\n",
      "             ReLU-19           [-1, 96, 30, 30]               0\n",
      "      BatchNorm2d-20           [-1, 96, 30, 30]             192\n",
      "          Dropout-21           [-1, 96, 30, 30]               0\n",
      "           Conv2d-22           [-1, 32, 28, 28]          27,648\n",
      "             ReLU-23           [-1, 32, 28, 28]               0\n",
      "      BatchNorm2d-24           [-1, 32, 28, 28]              64\n",
      "          Dropout-25           [-1, 32, 28, 28]               0\n",
      "           Conv2d-26           [-1, 32, 28, 28]           1,024\n",
      "           Conv2d-27           [-1, 32, 28, 28]           9,216\n",
      "      BatchNorm2d-28           [-1, 32, 28, 28]              64\n",
      "             ReLU-29           [-1, 32, 28, 28]               0\n",
      "          Dropout-30           [-1, 32, 28, 28]               0\n",
      "           Conv2d-31           [-1, 96, 28, 28]          27,648\n",
      "             ReLU-32           [-1, 96, 28, 28]               0\n",
      "      BatchNorm2d-33           [-1, 96, 28, 28]             192\n",
      "          Dropout-34           [-1, 96, 28, 28]               0\n",
      "           Conv2d-35           [-1, 32, 26, 26]          27,648\n",
      "             ReLU-36           [-1, 32, 26, 26]               0\n",
      "      BatchNorm2d-37           [-1, 32, 26, 26]              64\n",
      "          Dropout-38           [-1, 32, 26, 26]               0\n",
      "           Conv2d-39           [-1, 32, 26, 26]           1,024\n",
      "           Conv2d-40           [-1, 32, 26, 26]             288\n",
      "           Conv2d-41           [-1, 32, 26, 26]           1,024\n",
      "      BatchNorm2d-42           [-1, 32, 26, 26]              64\n",
      "             ReLU-43           [-1, 32, 26, 26]               0\n",
      "          Dropout-44           [-1, 32, 26, 26]               0\n",
      "           Conv2d-45           [-1, 96, 26, 26]             864\n",
      "           Conv2d-46           [-1, 96, 26, 26]           9,216\n",
      "      BatchNorm2d-47           [-1, 96, 26, 26]             192\n",
      "             ReLU-48           [-1, 96, 26, 26]               0\n",
      "          Dropout-49           [-1, 96, 26, 26]               0\n",
      "           Conv2d-50           [-1, 96, 26, 26]             864\n",
      "           Conv2d-51           [-1, 32, 26, 26]           3,072\n",
      "      BatchNorm2d-52           [-1, 32, 26, 26]              64\n",
      "             ReLU-53           [-1, 32, 26, 26]               0\n",
      "          Dropout-54           [-1, 32, 26, 26]               0\n",
      "AdaptiveAvgPool2d-55             [-1, 32, 1, 1]               0\n",
      "           Conv2d-56             [-1, 10, 1, 1]             320\n",
      "================================================================\n",
      "Total params: 205,184\n",
      "Trainable params: 205,184\n",
      "Non-trainable params: 0\n",
      "----------------------------------------------------------------\n",
      "Input size (MB): 0.01\n",
      "Forward/backward pass size (MB): 17.92\n",
      "Params size (MB): 0.78\n",
      "Estimated Total Size (MB): 18.71\n",
      "----------------------------------------------------------------\n"
     ]
    }
   ],
   "source": [
    "# New Model Instance\n",
    "depthwise_model1 = DepthwiseSeparableClassifier(\n",
    "    in_channels=3, hidden_units=16, out_channels=10, multiplier_1=2, multiplier_2=6\n",
    ").to(device)\n",
    "summary(depthwise_model1, input_size=(3, 32, 32))"
   ]
  },
  {
   "cell_type": "code",
   "execution_count": 67,
   "metadata": {},
   "outputs": [],
   "source": [
    "# driver setup----\n",
    "# optmizer\n",
    "optimizer = optim.Adam(depthwise_model1.parameters(), lr=lr)\n",
    "# loss\n",
    "criterion = nn.CrossEntropyLoss()\n",
    "# metric\n",
    "metric = MulticlassAccuracy(device=device, num_classes=10)\n",
    "# Early stopping\n",
    "early_stopping = EarlyStopping(patience=3, verbose=True)\n",
    "# lr scheduler\n",
    "lr_scheduler = ExponentialLR(optimizer, gamma=0.95)"
   ]
  },
  {
   "cell_type": "code",
   "execution_count": 69,
   "metadata": {},
   "outputs": [
    {
     "name": "stdout",
     "output_type": "stream",
     "text": [
      "Epoch 0\n"
     ]
    },
    {
     "name": "stderr",
     "output_type": "stream",
     "text": [
      "  0%|                                                                                                                                                                                                                                                                                                                                                                                                                                                                                                                                                                                                                                                                                                                                                                                                                                                                                                                                                                                                          | 0/391 [00:00<?, ?it/s]/anaconda/envs/torch_env/lib/python3.10/multiprocessing/popen_fork.py:66: RuntimeWarning: os.fork() was called. os.fork() is incompatible with multithreaded code, and JAX is multithreaded, so this will likely lead to a deadlock.\n",
      "  self.pid = os.fork()\n",
      "Avg Train Loss: 1.673381339863438 Avg Train Metric: 0.2914132485952219: 100%|████████████████████████████████████████████████████████████████████████████████████████████████████████████████████████████████████████████████████████████████████████████████████████████████████████████████████████████████████████████████████████████████████████████████████████████████████████████████████████████████████████████████████████████████████████████████████████████████████████████████████████████████████████████████████████████████████████████████████████████████████████████████████████████████████████████████████████████████████████████████████████████████████████████████████████████████████████████████████████████████████████████████████████████████████████████████████████████████████████████████████████████████████████████████████████████████████████████████████████████████████████████████████████████████████████████████████████████████████████████████████████| 391/391 [00:42<00:00,  9.27it/s]\n"
     ]
    },
    {
     "name": "stdout",
     "output_type": "stream",
     "text": [
      "Function Took 42.1687 seconds\n"
     ]
    },
    {
     "name": "stderr",
     "output_type": "stream",
     "text": [
      "Avg Test Loss: 1.3974654855607431 Avg Test Metric: 0.46823732573774796: 100%|██████████████████████████████████████████████████████████████████████████████████████████████████████████████████████████████████████████████████████████████████████████████████████████████████████████████████████████████████████████████████████████████████████████████████████████████████████████████████████████████████████████████████████████████████████████████████████████████████████████████████████████████████████████████████████████████████████████████████████████████████████████████████████████████████████████████████████████████████████████████████████████████████████████████████████████████████████████████████████████████████████████████████████████████████████████████████████████████████████████████████████████████████████████████████████████████████████████████████████████████████████████████████████████████████████████████████████████████████████████████████████████| 79/79 [00:02<00:00, 29.65it/s]\n"
     ]
    },
    {
     "name": "stdout",
     "output_type": "stream",
     "text": [
      "Function Took 2.6688 seconds\n",
      "For next epoch lr:: 0.00095\n",
      "Validation loss decreased (inf --> 1.397465).  Saving model ...\n",
      "Epoch 1\n"
     ]
    },
    {
     "name": "stderr",
     "output_type": "stream",
     "text": [
      "Avg Train Loss: 1.263569650747587 Avg Train Metric: 0.5252469474702235: 100%|████████████████████████████████████████████████████████████████████████████████████████████████████████████████████████████████████████████████████████████████████████████████████████████████████████████████████████████████████████████████████████████████████████████████████████████████████████████████████████████████████████████████████████████████████████████████████████████████████████████████████████████████████████████████████████████████████████████████████████████████████████████████████████████████████████████████████████████████████████████████████████████████████████████████████████████████████████████████████████████████████████████████████████████████████████████████████████████████████████████████████████████████████████████████████████████████████████████████████████████████████████████████████████████████████████████████████████████████████████████████████████| 391/391 [00:41<00:00,  9.44it/s]\n"
     ]
    },
    {
     "name": "stdout",
     "output_type": "stream",
     "text": [
      "Function Took 41.4146 seconds\n"
     ]
    },
    {
     "name": "stderr",
     "output_type": "stream",
     "text": [
      "Avg Test Loss: 1.1419765715357624 Avg Test Metric: 0.5806797010989129: 100%|███████████████████████████████████████████████████████████████████████████████████████████████████████████████████████████████████████████████████████████████████████████████████████████████████████████████████████████████████████████████████████████████████████████████████████████████████████████████████████████████████████████████████████████████████████████████████████████████████████████████████████████████████████████████████████████████████████████████████████████████████████████████████████████████████████████████████████████████████████████████████████████████████████████████████████████████████████████████████████████████████████████████████████████████████████████████████████████████████████████████████████████████████████████████████████████████████████████████████████████████████████████████████████████████████████████████████████████████████████████████████████████| 79/79 [00:02<00:00, 31.41it/s]\n"
     ]
    },
    {
     "name": "stdout",
     "output_type": "stream",
     "text": [
      "Function Took 2.5191 seconds\n",
      "For next epoch lr:: 0.0009025\n",
      "Validation loss decreased (1.397465 --> 1.141977).  Saving model ...\n",
      "Epoch 2\n"
     ]
    },
    {
     "name": "stderr",
     "output_type": "stream",
     "text": [
      "Avg Train Loss: 1.1058814426517243 Avg Train Metric: 0.5945779463214338: 100%|███████████████████████████████████████████████████████████████████████████████████████████████████████████████████████████████████████████████████████████████████████████████████████████████████████████████████████████████████████████████████████████████████████████████████████████████████████████████████████████████████████████████████████████████████████████████████████████████████████████████████████████████████████████████████████████████████████████████████████████████████████████████████████████████████████████████████████████████████████████████████████████████████████████████████████████████████████████████████████████████████████████████████████████████████████████████████████████████████████████████████████████████████████████████████████████████████████████████████████████████████████████████████████████████████████████████████████████████████████████████████████| 391/391 [00:42<00:00,  9.31it/s]\n"
     ]
    },
    {
     "name": "stdout",
     "output_type": "stream",
     "text": [
      "Function Took 42.0233 seconds\n"
     ]
    },
    {
     "name": "stderr",
     "output_type": "stream",
     "text": [
      "Avg Test Loss: 0.9503646364694909 Avg Test Metric: 0.657331515716601: 100%|████████████████████████████████████████████████████████████████████████████████████████████████████████████████████████████████████████████████████████████████████████████████████████████████████████████████████████████████████████████████████████████████████████████████████████████████████████████████████████████████████████████████████████████████████████████████████████████████████████████████████████████████████████████████████████████████████████████████████████████████████████████████████████████████████████████████████████████████████████████████████████████████████████████████████████████████████████████████████████████████████████████████████████████████████████████████████████████████████████████████████████████████████████████████████████████████████████████████████████████████████████████████████████████████████████████████████████████████████████████████████████████| 79/79 [00:02<00:00, 29.05it/s]\n"
     ]
    },
    {
     "name": "stdout",
     "output_type": "stream",
     "text": [
      "Function Took 2.7233 seconds\n",
      "For next epoch lr:: 0.000857375\n",
      "Validation loss decreased (1.141977 --> 0.950365).  Saving model ...\n",
      "Epoch 3\n"
     ]
    },
    {
     "name": "stderr",
     "output_type": "stream",
     "text": [
      "Avg Train Loss: 1.0161511134308623 Avg Train Metric: 0.6310057548610756: 100%|███████████████████████████████████████████████████████████████████████████████████████████████████████████████████████████████████████████████████████████████████████████████████████████████████████████████████████████████████████████████████████████████████████████████████████████████████████████████████████████████████████████████████████████████████████████████████████████████████████████████████████████████████████████████████████████████████████████████████████████████████████████████████████████████████████████████████████████████████████████████████████████████████████████████████████████████████████████████████████████████████████████████████████████████████████████████████████████████████████████████████████████████████████████████████████████████████████████████████████████████████████████████████████████████████████████████████████████████████████████████████████| 391/391 [00:42<00:00,  9.18it/s]\n"
     ]
    },
    {
     "name": "stdout",
     "output_type": "stream",
     "text": [
      "Function Took 42.5868 seconds\n"
     ]
    },
    {
     "name": "stderr",
     "output_type": "stream",
     "text": [
      "Avg Test Loss: 0.8831103323381159 Avg Test Metric: 0.6848764759075793: 100%|███████████████████████████████████████████████████████████████████████████████████████████████████████████████████████████████████████████████████████████████████████████████████████████████████████████████████████████████████████████████████████████████████████████████████████████████████████████████████████████████████████████████████████████████████████████████████████████████████████████████████████████████████████████████████████████████████████████████████████████████████████████████████████████████████████████████████████████████████████████████████████████████████████████████████████████████████████████████████████████████████████████████████████████████████████████████████████████████████████████████████████████████████████████████████████████████████████████████████████████████████████████████████████████████████████████████████████████████████████████████████████████| 79/79 [00:02<00:00, 30.37it/s]\n"
     ]
    },
    {
     "name": "stdout",
     "output_type": "stream",
     "text": [
      "Function Took 2.6055 seconds\n",
      "For next epoch lr:: 0.0008145062499999999\n",
      "Validation loss decreased (0.950365 --> 0.883110).  Saving model ...\n",
      "Epoch 4\n"
     ]
    },
    {
     "name": "stderr",
     "output_type": "stream",
     "text": [
      "Avg Train Loss: 0.9478107294463136 Avg Train Metric: 0.659164242884692: 100%|████████████████████████████████████████████████████████████████████████████████████████████████████████████████████████████████████████████████████████████████████████████████████████████████████████████████████████████████████████████████████████████████████████████████████████████████████████████████████████████████████████████████████████████████████████████████████████████████████████████████████████████████████████████████████████████████████████████████████████████████████████████████████████████████████████████████████████████████████████████████████████████████████████████████████████████████████████████████████████████████████████████████████████████████████████████████████████████████████████████████████████████████████████████████████████████████████████████████████████████████████████████████████████████████████████████████████████████████████████████████████████| 391/391 [00:43<00:00,  9.08it/s]\n"
     ]
    },
    {
     "name": "stdout",
     "output_type": "stream",
     "text": [
      "Function Took 43.0816 seconds\n"
     ]
    },
    {
     "name": "stderr",
     "output_type": "stream",
     "text": [
      "Avg Test Loss: 0.8900423351722427 Avg Test Metric: 0.6828662549393086: 100%|███████████████████████████████████████████████████████████████████████████████████████████████████████████████████████████████████████████████████████████████████████████████████████████████████████████████████████████████████████████████████████████████████████████████████████████████████████████████████████████████████████████████████████████████████████████████████████████████████████████████████████████████████████████████████████████████████████████████████████████████████████████████████████████████████████████████████████████████████████████████████████████████████████████████████████████████████████████████████████████████████████████████████████████████████████████████████████████████████████████████████████████████████████████████████████████████████████████████████████████████████████████████████████████████████████████████████████████████████████████████████████████| 79/79 [00:02<00:00, 29.84it/s]\n"
     ]
    },
    {
     "name": "stdout",
     "output_type": "stream",
     "text": [
      "Function Took 2.6522 seconds\n",
      "For next epoch lr:: 0.0007737809374999998\n",
      "EarlyStopping counter: 1 out of 3\n",
      "Epoch 5\n"
     ]
    },
    {
     "name": "stderr",
     "output_type": "stream",
     "text": [
      "Avg Train Loss: 0.9013430736863705 Avg Train Metric: 0.6719453612251964: 100%|███████████████████████████████████████████████████████████████████████████████████████████████████████████████████████████████████████████████████████████████████████████████████████████████████████████████████████████████████████████████████████████████████████████████████████████████████████████████████████████████████████████████████████████████████████████████████████████████████████████████████████████████████████████████████████████████████████████████████████████████████████████████████████████████████████████████████████████████████████████████████████████████████████████████████████████████████████████████████████████████████████████████████████████████████████████████████████████████████████████████████████████████████████████████████████████████████████████████████████████████████████████████████████████████████████████████████████████████████████████████████████| 391/391 [00:42<00:00,  9.31it/s]\n"
     ]
    },
    {
     "name": "stdout",
     "output_type": "stream",
     "text": [
      "Function Took 42.0088 seconds\n"
     ]
    },
    {
     "name": "stderr",
     "output_type": "stream",
     "text": [
      "Avg Test Loss: 0.7769840804836418 Avg Test Metric: 0.7258810212340536: 100%|███████████████████████████████████████████████████████████████████████████████████████████████████████████████████████████████████████████████████████████████████████████████████████████████████████████████████████████████████████████████████████████████████████████████████████████████████████████████████████████████████████████████████████████████████████████████████████████████████████████████████████████████████████████████████████████████████████████████████████████████████████████████████████████████████████████████████████████████████████████████████████████████████████████████████████████████████████████████████████████████████████████████████████████████████████████████████████████████████████████████████████████████████████████████████████████████████████████████████████████████████████████████████████████████████████████████████████████████████████████████████████████| 79/79 [00:02<00:00, 29.37it/s]\n"
     ]
    },
    {
     "name": "stdout",
     "output_type": "stream",
     "text": [
      "Function Took 2.6941 seconds\n",
      "For next epoch lr:: 0.0007350918906249997\n",
      "Validation loss decreased (0.883110 --> 0.776984).  Saving model ...\n",
      "Epoch 6\n"
     ]
    },
    {
     "name": "stderr",
     "output_type": "stream",
     "text": [
      "Avg Train Loss: 0.8583989780577247 Avg Train Metric: 0.6987127489446069: 100%|███████████████████████████████████████████████████████████████████████████████████████████████████████████████████████████████████████████████████████████████████████████████████████████████████████████████████████████████████████████████████████████████████████████████████████████████████████████████████████████████████████████████████████████████████████████████████████████████████████████████████████████████████████████████████████████████████████████████████████████████████████████████████████████████████████████████████████████████████████████████████████████████████████████████████████████████████████████████████████████████████████████████████████████████████████████████████████████████████████████████████████████████████████████████████████████████████████████████████████████████████████████████████████████████████████████████████████████████████████████████████████| 391/391 [00:42<00:00,  9.16it/s]\n"
     ]
    },
    {
     "name": "stdout",
     "output_type": "stream",
     "text": [
      "Function Took 42.6893 seconds\n"
     ]
    },
    {
     "name": "stderr",
     "output_type": "stream",
     "text": [
      "Avg Test Loss: 0.7650435212292249 Avg Test Metric: 0.7333287332631364: 100%|███████████████████████████████████████████████████████████████████████████████████████████████████████████████████████████████████████████████████████████████████████████████████████████████████████████████████████████████████████████████████████████████████████████████████████████████████████████████████████████████████████████████████████████████████████████████████████████████████████████████████████████████████████████████████████████████████████████████████████████████████████████████████████████████████████████████████████████████████████████████████████████████████████████████████████████████████████████████████████████████████████████████████████████████████████████████████████████████████████████████████████████████████████████████████████████████████████████████████████████████████████████████████████████████████████████████████████████████████████████████████████████| 79/79 [00:02<00:00, 30.28it/s]\n"
     ]
    },
    {
     "name": "stdout",
     "output_type": "stream",
     "text": [
      "Function Took 2.6131 seconds\n",
      "For next epoch lr:: 0.0006983372960937497\n",
      "Validation loss decreased (0.776984 --> 0.765044).  Saving model ...\n",
      "Epoch 7\n"
     ]
    },
    {
     "name": "stderr",
     "output_type": "stream",
     "text": [
      "Avg Train Loss: 0.8252802674117905 Avg Train Metric: 0.7102255586468046: 100%|███████████████████████████████████████████████████████████████████████████████████████████████████████████████████████████████████████████████████████████████████████████████████████████████████████████████████████████████████████████████████████████████████████████████████████████████████████████████████████████████████████████████████████████████████████████████████████████████████████████████████████████████████████████████████████████████████████████████████████████████████████████████████████████████████████████████████████████████████████████████████████████████████████████████████████████████████████████████████████████████████████████████████████████████████████████████████████████████████████████████████████████████████████████████████████████████████████████████████████████████████████████████████████████████████████████████████████████████████████████████████████| 391/391 [00:41<00:00,  9.36it/s]\n"
     ]
    },
    {
     "name": "stdout",
     "output_type": "stream",
     "text": [
      "Function Took 41.7703 seconds\n"
     ]
    },
    {
     "name": "stderr",
     "output_type": "stream",
     "text": [
      "Avg Test Loss: 0.7186319450788861 Avg Test Metric: 0.749258885655222: 100%|████████████████████████████████████████████████████████████████████████████████████████████████████████████████████████████████████████████████████████████████████████████████████████████████████████████████████████████████████████████████████████████████████████████████████████████████████████████████████████████████████████████████████████████████████████████████████████████████████████████████████████████████████████████████████████████████████████████████████████████████████████████████████████████████████████████████████████████████████████████████████████████████████████████████████████████████████████████████████████████████████████████████████████████████████████████████████████████████████████████████████████████████████████████████████████████████████████████████████████████████████████████████████████████████████████████████████████████████████████████████████████████| 79/79 [00:02<00:00, 30.04it/s]\n"
     ]
    },
    {
     "name": "stdout",
     "output_type": "stream",
     "text": [
      "Function Took 2.6335 seconds\n",
      "For next epoch lr:: 0.0006634204312890621\n",
      "Validation loss decreased (0.765044 --> 0.718632).  Saving model ...\n",
      "Epoch 8\n"
     ]
    },
    {
     "name": "stderr",
     "output_type": "stream",
     "text": [
      "Avg Train Loss: 0.7888132381012373 Avg Train Metric: 0.7192150727867166: 100%|███████████████████████████████████████████████████████████████████████████████████████████████████████████████████████████████████████████████████████████████████████████████████████████████████████████████████████████████████████████████████████████████████████████████████████████████████████████████████████████████████████████████████████████████████████████████████████████████████████████████████████████████████████████████████████████████████████████████████████████████████████████████████████████████████████████████████████████████████████████████████████████████████████████████████████████████████████████████████████████████████████████████████████████████████████████████████████████████████████████████████████████████████████████████████████████████████████████████████████████████████████████████████████████████████████████████████████████████████████████████████████| 391/391 [00:42<00:00,  9.29it/s]\n"
     ]
    },
    {
     "name": "stdout",
     "output_type": "stream",
     "text": [
      "Function Took 42.1107 seconds\n"
     ]
    },
    {
     "name": "stderr",
     "output_type": "stream",
     "text": [
      "Avg Test Loss: 0.6952868149250369 Avg Test Metric: 0.759440995469878: 100%|████████████████████████████████████████████████████████████████████████████████████████████████████████████████████████████████████████████████████████████████████████████████████████████████████████████████████████████████████████████████████████████████████████████████████████████████████████████████████████████████████████████████████████████████████████████████████████████████████████████████████████████████████████████████████████████████████████████████████████████████████████████████████████████████████████████████████████████████████████████████████████████████████████████████████████████████████████████████████████████████████████████████████████████████████████████████████████████████████████████████████████████████████████████████████████████████████████████████████████████████████████████████████████████████████████████████████████████████████████████████████████████| 79/79 [00:02<00:00, 30.62it/s]\n"
     ]
    },
    {
     "name": "stdout",
     "output_type": "stream",
     "text": [
      "Function Took 2.5848 seconds\n",
      "For next epoch lr:: 0.000630249409724609\n",
      "Validation loss decreased (0.718632 --> 0.695287).  Saving model ...\n",
      "Epoch 9\n"
     ]
    },
    {
     "name": "stderr",
     "output_type": "stream",
     "text": [
      "Avg Train Loss: 0.7556223927251519 Avg Train Metric: 0.7337185927973989: 100%|███████████████████████████████████████████████████████████████████████████████████████████████████████████████████████████████████████████████████████████████████████████████████████████████████████████████████████████████████████████████████████████████████████████████████████████████████████████████████████████████████████████████████████████████████████████████████████████████████████████████████████████████████████████████████████████████████████████████████████████████████████████████████████████████████████████████████████████████████████████████████████████████████████████████████████████████████████████████████████████████████████████████████████████████████████████████████████████████████████████████████████████████████████████████████████████████████████████████████████████████████████████████████████████████████████████████████████████████████████████████████████| 391/391 [00:41<00:00,  9.32it/s]\n"
     ]
    },
    {
     "name": "stdout",
     "output_type": "stream",
     "text": [
      "Function Took 41.9496 seconds\n"
     ]
    },
    {
     "name": "stderr",
     "output_type": "stream",
     "text": [
      "Avg Test Loss: 0.6801485804062856 Avg Test Metric: 0.7602389552925206: 100%|███████████████████████████████████████████████████████████████████████████████████████████████████████████████████████████████████████████████████████████████████████████████████████████████████████████████████████████████████████████████████████████████████████████████████████████████████████████████████████████████████████████████████████████████████████████████████████████████████████████████████████████████████████████████████████████████████████████████████████████████████████████████████████████████████████████████████████████████████████████████████████████████████████████████████████████████████████████████████████████████████████████████████████████████████████████████████████████████████████████████████████████████████████████████████████████████████████████████████████████████████████████████████████████████████████████████████████████████████████████████████████████| 79/79 [00:02<00:00, 30.74it/s]\n"
     ]
    },
    {
     "name": "stdout",
     "output_type": "stream",
     "text": [
      "Function Took 2.5740 seconds\n",
      "For next epoch lr:: 0.0005987369392383785\n",
      "Validation loss decreased (0.695287 --> 0.680149).  Saving model ...\n",
      "Epoch 10\n"
     ]
    },
    {
     "name": "stderr",
     "output_type": "stream",
     "text": [
      "Avg Train Loss: 0.7308768773322825 Avg Train Metric: 0.7456908562909002: 100%|███████████████████████████████████████████████████████████████████████████████████████████████████████████████████████████████████████████████████████████████████████████████████████████████████████████████████████████████████████████████████████████████████████████████████████████████████████████████████████████████████████████████████████████████████████████████████████████████████████████████████████████████████████████████████████████████████████████████████████████████████████████████████████████████████████████████████████████████████████████████████████████████████████████████████████████████████████████████████████████████████████████████████████████████████████████████████████████████████████████████████████████████████████████████████████████████████████████████████████████████████████████████████████████████████████████████████████████████████████████████████████| 391/391 [00:41<00:00,  9.40it/s]\n"
     ]
    },
    {
     "name": "stdout",
     "output_type": "stream",
     "text": [
      "Function Took 41.5934 seconds\n"
     ]
    },
    {
     "name": "stderr",
     "output_type": "stream",
     "text": [
      "Avg Test Loss: 0.6628687393061722 Avg Test Metric: 0.7690258916420273: 100%|███████████████████████████████████████████████████████████████████████████████████████████████████████████████████████████████████████████████████████████████████████████████████████████████████████████████████████████████████████████████████████████████████████████████████████████████████████████████████████████████████████████████████████████████████████████████████████████████████████████████████████████████████████████████████████████████████████████████████████████████████████████████████████████████████████████████████████████████████████████████████████████████████████████████████████████████████████████████████████████████████████████████████████████████████████████████████████████████████████████████████████████████████████████████████████████████████████████████████████████████████████████████████████████████████████████████████████████████████████████████████████████| 79/79 [00:02<00:00, 31.09it/s]\n"
     ]
    },
    {
     "name": "stdout",
     "output_type": "stream",
     "text": [
      "Function Took 2.5450 seconds\n",
      "For next epoch lr:: 0.0005688000922764595\n",
      "Validation loss decreased (0.680149 --> 0.662869).  Saving model ...\n",
      "Epoch 11\n"
     ]
    },
    {
     "name": "stderr",
     "output_type": "stream",
     "text": [
      "Avg Train Loss: 0.7159142629112429 Avg Train Metric: 0.7465199361676755: 100%|███████████████████████████████████████████████████████████████████████████████████████████████████████████████████████████████████████████████████████████████████████████████████████████████████████████████████████████████████████████████████████████████████████████████████████████████████████████████████████████████████████████████████████████████████████████████████████████████████████████████████████████████████████████████████████████████████████████████████████████████████████████████████████████████████████████████████████████████████████████████████████████████████████████████████████████████████████████████████████████████████████████████████████████████████████████████████████████████████████████████████████████████████████████████████████████████████████████████████████████████████████████████████████████████████████████████████████████████████████████████████████| 391/391 [00:41<00:00,  9.33it/s]\n"
     ]
    },
    {
     "name": "stdout",
     "output_type": "stream",
     "text": [
      "Function Took 41.9021 seconds\n"
     ]
    },
    {
     "name": "stderr",
     "output_type": "stream",
     "text": [
      "Avg Test Loss: 0.6218197541900828 Avg Test Metric: 0.7817081839223451: 100%|███████████████████████████████████████████████████████████████████████████████████████████████████████████████████████████████████████████████████████████████████████████████████████████████████████████████████████████████████████████████████████████████████████████████████████████████████████████████████████████████████████████████████████████████████████████████████████████████████████████████████████████████████████████████████████████████████████████████████████████████████████████████████████████████████████████████████████████████████████████████████████████████████████████████████████████████████████████████████████████████████████████████████████████████████████████████████████████████████████████████████████████████████████████████████████████████████████████████████████████████████████████████████████████████████████████████████████████████████████████████████████████| 79/79 [00:02<00:00, 30.63it/s]\n"
     ]
    },
    {
     "name": "stdout",
     "output_type": "stream",
     "text": [
      "Function Took 2.5830 seconds\n",
      "For next epoch lr:: 0.0005403600876626365\n",
      "Validation loss decreased (0.662869 --> 0.621820).  Saving model ...\n",
      "Epoch 12\n"
     ]
    },
    {
     "name": "stderr",
     "output_type": "stream",
     "text": [
      "Avg Train Loss: 0.687320645203066 Avg Train Metric: 0.7597292626605314: 100%|████████████████████████████████████████████████████████████████████████████████████████████████████████████████████████████████████████████████████████████████████████████████████████████████████████████████████████████████████████████████████████████████████████████████████████████████████████████████████████████████████████████████████████████████████████████████████████████████████████████████████████████████████████████████████████████████████████████████████████████████████████████████████████████████████████████████████████████████████████████████████████████████████████████████████████████████████████████████████████████████████████████████████████████████████████████████████████████████████████████████████████████████████████████████████████████████████████████████████████████████████████████████████████████████████████████████████████████████████████████████████████| 391/391 [00:41<00:00,  9.42it/s]\n"
     ]
    },
    {
     "name": "stdout",
     "output_type": "stream",
     "text": [
      "Function Took 41.5310 seconds\n"
     ]
    },
    {
     "name": "stderr",
     "output_type": "stream",
     "text": [
      "Avg Test Loss: 0.5867788829380953 Avg Test Metric: 0.7913828160189376: 100%|███████████████████████████████████████████████████████████████████████████████████████████████████████████████████████████████████████████████████████████████████████████████████████████████████████████████████████████████████████████████████████████████████████████████████████████████████████████████████████████████████████████████████████████████████████████████████████████████████████████████████████████████████████████████████████████████████████████████████████████████████████████████████████████████████████████████████████████████████████████████████████████████████████████████████████████████████████████████████████████████████████████████████████████████████████████████████████████████████████████████████████████████████████████████████████████████████████████████████████████████████████████████████████████████████████████████████████████████████████████████████████████| 79/79 [00:02<00:00, 30.83it/s]\n"
     ]
    },
    {
     "name": "stdout",
     "output_type": "stream",
     "text": [
      "Function Took 2.5664 seconds\n",
      "For next epoch lr:: 0.0005133420832795047\n",
      "Validation loss decreased (0.621820 --> 0.586779).  Saving model ...\n",
      "Epoch 13\n"
     ]
    },
    {
     "name": "stderr",
     "output_type": "stream",
     "text": [
      "Avg Train Loss: 0.6735533766277001 Avg Train Metric: 0.7591365289200297: 100%|███████████████████████████████████████████████████████████████████████████████████████████████████████████████████████████████████████████████████████████████████████████████████████████████████████████████████████████████████████████████████████████████████████████████████████████████████████████████████████████████████████████████████████████████████████████████████████████████████████████████████████████████████████████████████████████████████████████████████████████████████████████████████████████████████████████████████████████████████████████████████████████████████████████████████████████████████████████████████████████████████████████████████████████████████████████████████████████████████████████████████████████████████████████████████████████████████████████████████████████████████████████████████████████████████████████████████████████████████████████████████████| 391/391 [00:41<00:00,  9.39it/s]\n"
     ]
    },
    {
     "name": "stdout",
     "output_type": "stream",
     "text": [
      "Function Took 41.6559 seconds\n"
     ]
    },
    {
     "name": "stderr",
     "output_type": "stream",
     "text": [
      "Avg Test Loss: 0.5783911600143095 Avg Test Metric: 0.8027763351609435: 100%|███████████████████████████████████████████████████████████████████████████████████████████████████████████████████████████████████████████████████████████████████████████████████████████████████████████████████████████████████████████████████████████████████████████████████████████████████████████████████████████████████████████████████████████████████████████████████████████████████████████████████████████████████████████████████████████████████████████████████████████████████████████████████████████████████████████████████████████████████████████████████████████████████████████████████████████████████████████████████████████████████████████████████████████████████████████████████████████████████████████████████████████████████████████████████████████████████████████████████████████████████████████████████████████████████████████████████████████████████████████████████████████| 79/79 [00:02<00:00, 31.25it/s]\n"
     ]
    },
    {
     "name": "stdout",
     "output_type": "stream",
     "text": [
      "Function Took 2.5320 seconds\n",
      "For next epoch lr:: 0.00048767497911552944\n",
      "Validation loss decreased (0.586779 --> 0.578391).  Saving model ...\n",
      "Epoch 14\n"
     ]
    },
    {
     "name": "stderr",
     "output_type": "stream",
     "text": [
      "Avg Train Loss: 0.6599441137917511 Avg Train Metric: 0.7708829156578044: 100%|███████████████████████████████████████████████████████████████████████████████████████████████████████████████████████████████████████████████████████████████████████████████████████████████████████████████████████████████████████████████████████████████████████████████████████████████████████████████████████████████████████████████████████████████████████████████████████████████████████████████████████████████████████████████████████████████████████████████████████████████████████████████████████████████████████████████████████████████████████████████████████████████████████████████████████████████████████████████████████████████████████████████████████████████████████████████████████████████████████████████████████████████████████████████████████████████████████████████████████████████████████████████████████████████████████████████████████████████████████████████████████| 391/391 [00:41<00:00,  9.42it/s]\n"
     ]
    },
    {
     "name": "stdout",
     "output_type": "stream",
     "text": [
      "Function Took 41.4920 seconds\n"
     ]
    },
    {
     "name": "stderr",
     "output_type": "stream",
     "text": [
      "Avg Test Loss: 0.5607266192194782 Avg Test Metric: 0.8077131607864476: 100%|███████████████████████████████████████████████████████████████████████████████████████████████████████████████████████████████████████████████████████████████████████████████████████████████████████████████████████████████████████████████████████████████████████████████████████████████████████████████████████████████████████████████████████████████████████████████████████████████████████████████████████████████████████████████████████████████████████████████████████████████████████████████████████████████████████████████████████████████████████████████████████████████████████████████████████████████████████████████████████████████████████████████████████████████████████████████████████████████████████████████████████████████████████████████████████████████████████████████████████████████████████████████████████████████████████████████████████████████████████████████████████████| 79/79 [00:02<00:00, 31.51it/s]\n"
     ]
    },
    {
     "name": "stdout",
     "output_type": "stream",
     "text": [
      "Function Took 2.5111 seconds\n",
      "For next epoch lr:: 0.00046329123015975297\n",
      "Validation loss decreased (0.578391 --> 0.560727).  Saving model ...\n",
      "Epoch 15\n"
     ]
    },
    {
     "name": "stderr",
     "output_type": "stream",
     "text": [
      "Avg Train Loss: 0.6481048012785899 Avg Train Metric: 0.775738274959652: 100%|████████████████████████████████████████████████████████████████████████████████████████████████████████████████████████████████████████████████████████████████████████████████████████████████████████████████████████████████████████████████████████████████████████████████████████████████████████████████████████████████████████████████████████████████████████████████████████████████████████████████████████████████████████████████████████████████████████████████████████████████████████████████████████████████████████████████████████████████████████████████████████████████████████████████████████████████████████████████████████████████████████████████████████████████████████████████████████████████████████████████████████████████████████████████████████████████████████████████████████████████████████████████████████████████████████████████████████████████████████████████████████| 391/391 [00:41<00:00,  9.37it/s]\n"
     ]
    },
    {
     "name": "stdout",
     "output_type": "stream",
     "text": [
      "Function Took 41.7356 seconds\n"
     ]
    },
    {
     "name": "stderr",
     "output_type": "stream",
     "text": [
      "Avg Test Loss: 0.5452327626415446 Avg Test Metric: 0.8145855604847775: 100%|███████████████████████████████████████████████████████████████████████████████████████████████████████████████████████████████████████████████████████████████████████████████████████████████████████████████████████████████████████████████████████████████████████████████████████████████████████████████████████████████████████████████████████████████████████████████████████████████████████████████████████████████████████████████████████████████████████████████████████████████████████████████████████████████████████████████████████████████████████████████████████████████████████████████████████████████████████████████████████████████████████████████████████████████████████████████████████████████████████████████████████████████████████████████████████████████████████████████████████████████████████████████████████████████████████████████████████████████████████████████████████████| 79/79 [00:02<00:00, 30.05it/s]\n"
     ]
    },
    {
     "name": "stdout",
     "output_type": "stream",
     "text": [
      "Function Took 2.6333 seconds\n",
      "For next epoch lr:: 0.0004401266686517653\n",
      "Validation loss decreased (0.560727 --> 0.545233).  Saving model ...\n",
      "Epoch 16\n"
     ]
    },
    {
     "name": "stderr",
     "output_type": "stream",
     "text": [
      "Avg Train Loss: 0.6252431405322326 Avg Train Metric: 0.7820883745427631: 100%|███████████████████████████████████████████████████████████████████████████████████████████████████████████████████████████████████████████████████████████████████████████████████████████████████████████████████████████████████████████████████████████████████████████████████████████████████████████████████████████████████████████████████████████████████████████████████████████████████████████████████████████████████████████████████████████████████████████████████████████████████████████████████████████████████████████████████████████████████████████████████████████████████████████████████████████████████████████████████████████████████████████████████████████████████████████████████████████████████████████████████████████████████████████████████████████████████████████████████████████████████████████████████████████████████████████████████████████████████████████████████████| 391/391 [00:41<00:00,  9.35it/s]\n"
     ]
    },
    {
     "name": "stdout",
     "output_type": "stream",
     "text": [
      "Function Took 41.8402 seconds\n"
     ]
    },
    {
     "name": "stderr",
     "output_type": "stream",
     "text": [
      "Avg Test Loss: 0.5555268314820302 Avg Test Metric: 0.8131575833393049: 100%|███████████████████████████████████████████████████████████████████████████████████████████████████████████████████████████████████████████████████████████████████████████████████████████████████████████████████████████████████████████████████████████████████████████████████████████████████████████████████████████████████████████████████████████████████████████████████████████████████████████████████████████████████████████████████████████████████████████████████████████████████████████████████████████████████████████████████████████████████████████████████████████████████████████████████████████████████████████████████████████████████████████████████████████████████████████████████████████████████████████████████████████████████████████████████████████████████████████████████████████████████████████████████████████████████████████████████████████████████████████████████████████| 79/79 [00:02<00:00, 30.49it/s]\n"
     ]
    },
    {
     "name": "stdout",
     "output_type": "stream",
     "text": [
      "Function Took 2.5953 seconds\n",
      "For next epoch lr:: 0.00041812033521917703\n",
      "EarlyStopping counter: 1 out of 3\n",
      "Epoch 17\n"
     ]
    },
    {
     "name": "stderr",
     "output_type": "stream",
     "text": [
      "Avg Train Loss: 0.6178332521482501 Avg Train Metric: 0.7834465680524821: 100%|███████████████████████████████████████████████████████████████████████████████████████████████████████████████████████████████████████████████████████████████████████████████████████████████████████████████████████████████████████████████████████████████████████████████████████████████████████████████████████████████████████████████████████████████████████████████████████████████████████████████████████████████████████████████████████████████████████████████████████████████████████████████████████████████████████████████████████████████████████████████████████████████████████████████████████████████████████████████████████████████████████████████████████████████████████████████████████████████████████████████████████████████████████████████████████████████████████████████████████████████████████████████████████████████████████████████████████████████████████████████████████| 391/391 [00:41<00:00,  9.47it/s]\n"
     ]
    },
    {
     "name": "stdout",
     "output_type": "stream",
     "text": [
      "Function Took 41.2720 seconds\n"
     ]
    },
    {
     "name": "stderr",
     "output_type": "stream",
     "text": [
      "Avg Test Loss: 0.5329585362084305 Avg Test Metric: 0.8180881406687484: 100%|███████████████████████████████████████████████████████████████████████████████████████████████████████████████████████████████████████████████████████████████████████████████████████████████████████████████████████████████████████████████████████████████████████████████████████████████████████████████████████████████████████████████████████████████████████████████████████████████████████████████████████████████████████████████████████████████████████████████████████████████████████████████████████████████████████████████████████████████████████████████████████████████████████████████████████████████████████████████████████████████████████████████████████████████████████████████████████████████████████████████████████████████████████████████████████████████████████████████████████████████████████████████████████████████████████████████████████████████████████████████████████████| 79/79 [00:02<00:00, 29.75it/s]\n"
     ]
    },
    {
     "name": "stdout",
     "output_type": "stream",
     "text": [
      "Function Took 2.6597 seconds\n",
      "For next epoch lr:: 0.00039721431845821814\n",
      "Validation loss decreased (0.545233 --> 0.532959).  Saving model ...\n",
      "Epoch 18\n"
     ]
    },
    {
     "name": "stderr",
     "output_type": "stream",
     "text": [
      "Avg Train Loss: 0.6070440702731043 Avg Train Metric: 0.7854715180214104: 100%|███████████████████████████████████████████████████████████████████████████████████████████████████████████████████████████████████████████████████████████████████████████████████████████████████████████████████████████████████████████████████████████████████████████████████████████████████████████████████████████████████████████████████████████████████████████████████████████████████████████████████████████████████████████████████████████████████████████████████████████████████████████████████████████████████████████████████████████████████████████████████████████████████████████████████████████████████████████████████████████████████████████████████████████████████████████████████████████████████████████████████████████████████████████████████████████████████████████████████████████████████████████████████████████████████████████████████████████████████████████████████████| 391/391 [00:41<00:00,  9.39it/s]\n"
     ]
    },
    {
     "name": "stdout",
     "output_type": "stream",
     "text": [
      "Function Took 41.6563 seconds\n"
     ]
    },
    {
     "name": "stderr",
     "output_type": "stream",
     "text": [
      "Avg Test Loss: 0.5272001609017577 Avg Test Metric: 0.8158460357521153: 100%|███████████████████████████████████████████████████████████████████████████████████████████████████████████████████████████████████████████████████████████████████████████████████████████████████████████████████████████████████████████████████████████████████████████████████████████████████████████████████████████████████████████████████████████████████████████████████████████████████████████████████████████████████████████████████████████████████████████████████████████████████████████████████████████████████████████████████████████████████████████████████████████████████████████████████████████████████████████████████████████████████████████████████████████████████████████████████████████████████████████████████████████████████████████████████████████████████████████████████████████████████████████████████████████████████████████████████████████████████████████████████████████| 79/79 [00:02<00:00, 29.86it/s]\n"
     ]
    },
    {
     "name": "stdout",
     "output_type": "stream",
     "text": [
      "Function Took 2.6494 seconds\n",
      "For next epoch lr:: 0.0003773536025353072\n",
      "Validation loss decreased (0.532959 --> 0.527200).  Saving model ...\n",
      "Epoch 19\n"
     ]
    },
    {
     "name": "stderr",
     "output_type": "stream",
     "text": [
      "Avg Train Loss: 0.5916293027913174 Avg Train Metric: 0.793478090439916: 100%|████████████████████████████████████████████████████████████████████████████████████████████████████████████████████████████████████████████████████████████████████████████████████████████████████████████████████████████████████████████████████████████████████████████████████████████████████████████████████████████████████████████████████████████████████████████████████████████████████████████████████████████████████████████████████████████████████████████████████████████████████████████████████████████████████████████████████████████████████████████████████████████████████████████████████████████████████████████████████████████████████████████████████████████████████████████████████████████████████████████████████████████████████████████████████████████████████████████████████████████████████████████████████████████████████████████████████████████████████████████████████████| 391/391 [00:41<00:00,  9.35it/s]\n"
     ]
    },
    {
     "name": "stdout",
     "output_type": "stream",
     "text": [
      "Function Took 41.8381 seconds\n"
     ]
    },
    {
     "name": "stderr",
     "output_type": "stream",
     "text": [
      "Avg Test Loss: 0.5228750369971311 Avg Test Metric: 0.8161795244941229: 100%|███████████████████████████████████████████████████████████████████████████████████████████████████████████████████████████████████████████████████████████████████████████████████████████████████████████████████████████████████████████████████████████████████████████████████████████████████████████████████████████████████████████████████████████████████████████████████████████████████████████████████████████████████████████████████████████████████████████████████████████████████████████████████████████████████████████████████████████████████████████████████████████████████████████████████████████████████████████████████████████████████████████████████████████████████████████████████████████████████████████████████████████████████████████████████████████████████████████████████████████████████████████████████████████████████████████████████████████████████████████████████████████| 79/79 [00:02<00:00, 29.58it/s]\n"
     ]
    },
    {
     "name": "stdout",
     "output_type": "stream",
     "text": [
      "Function Took 2.6746 seconds\n",
      "For next epoch lr:: 0.0003584859224085418\n",
      "Validation loss decreased (0.527200 --> 0.522875).  Saving model ...\n"
     ]
    }
   ],
   "source": [
    "train_losses = []\n",
    "train_metrics = []\n",
    "test_losses = []\n",
    "test_metrics = []\n",
    "\n",
    "for epoch in range(0, epochs):\n",
    "    print(f\"Epoch {epoch}\")\n",
    "    train_losses, train_metrics = train_module(\n",
    "        depthwise_model1,\n",
    "        device,\n",
    "        train_loader,\n",
    "        optimizer,\n",
    "        criterion,\n",
    "        metric,\n",
    "        train_losses,\n",
    "        train_metrics,\n",
    "    )\n",
    "    test_losses, test_metrics = test_module(\n",
    "        depthwise_model1,\n",
    "        device,\n",
    "        test_loader,\n",
    "        criterion,\n",
    "        metric,\n",
    "        test_losses,\n",
    "        test_metrics,\n",
    "    )\n",
    "\n",
    "    lr_scheduler.step()  # lr scheduler stepping\n",
    "    print(f\"For next epoch lr:: {lr_scheduler.get_last_lr()[0]}\")\n",
    "    early_stopping(\n",
    "        test_losses[-1], depthwise_model1, epoch\n",
    "    )  # last recorded test loss to measure the improvement against the prior one\n",
    "    if early_stopping.early_stop:\n",
    "        print(\"Early stopping\")\n",
    "        break"
   ]
  },
  {
   "cell_type": "code",
   "execution_count": 71,
   "metadata": {},
   "outputs": [
    {
     "data": {
      "image/png": "[encoded data removed]",
      "text/plain": [
       "<Figure size 1152x720 with 2 Axes>"
      ]
     },
     "metadata": {
      "needs_background": "light"
     },
     "output_type": "display_data"
    }
   ],
   "source": [
    "plot_loss_accuracy(\n",
    "    train_loss=[train_losses],\n",
    "    val_loss=[test_losses],\n",
    "    train_acc=[train_metrics],\n",
    "    val_acc=[test_metrics],\n",
    "    labels=[\"depthwise_sep-1\"],\n",
    "    colors=[\"blue\"],\n",
    "    loss_legend_loc=\"upper left\",\n",
    "    acc_legend_loc=\"upper left\",\n",
    "    legend_font=7,\n",
    ")"
   ]
  },
  {
   "cell_type": "markdown",
   "metadata": {},
   "source": [
    "Another model with hardcoded multiplier values (2,3,4)"
   ]
  },
  {
   "cell_type": "code",
   "execution_count": 101,
   "metadata": {},
   "outputs": [],
   "source": [
    "class DepthwiseSeparableClassifierSync(nn.Module):\n",
    "    def __init__(\n",
    "        self,\n",
    "        in_channels,\n",
    "        hidden_units,\n",
    "        out_channels,\n",
    "        dropout=0.1,\n",
    "    ):\n",
    "        super(DepthwiseSeparableClassifierSync, self).__init__()\n",
    "        # block1\n",
    "        self.conv_bl1 = nn.Sequential(\n",
    "            # set1\n",
    "            nn.Conv2d(\n",
    "                in_channels=in_channels,\n",
    "                out_channels=2 * hidden_units,\n",
    "                kernel_size=(3, 3),\n",
    "                padding=1,\n",
    "                bias=False,\n",
    "            ),\n",
    "            nn.BatchNorm2d(2 * hidden_units),\n",
    "            nn.ReLU(),\n",
    "            nn.Dropout(dropout),\n",
    "            # set2\n",
    "            nn.Conv2d(\n",
    "                in_channels=2 * hidden_units,\n",
    "                out_channels=4 * hidden_units,\n",
    "                kernel_size=(3, 3),\n",
    "                padding=1,\n",
    "                bias=False,\n",
    "            ),\n",
    "            nn.ReLU(),\n",
    "            nn.BatchNorm2d(4 * hidden_units),\n",
    "            nn.Dropout(dropout),\n",
    "\n",
    "            # set3 -dialation\n",
    "            nn.Conv2d(\n",
    "                in_channels=4 * hidden_units,\n",
    "                out_channels=4 * hidden_units,\n",
    "                kernel_size=(3, 3),\n",
    "                padding=1,\n",
    "                dilation=2,  # application of dialated convolution\n",
    "                bias=False,\n",
    "            ),\n",
    "            nn.ReLU(),\n",
    "            nn.BatchNorm2d(4 * hidden_units),\n",
    "            nn.Dropout(dropout),\n",
    "        )\n",
    "        # transition block\n",
    "        self.transition = nn.Sequential(\n",
    "            nn.Conv2d(\n",
    "                in_channels=4 * hidden_units,\n",
    "                out_channels=hidden_units,\n",
    "                kernel_size=(1, 1),\n",
    "                padding=0,\n",
    "                bias=False,\n",
    "            ),\n",
    "        )\n",
    "        # block2\n",
    "        self.conv_bl2 = nn.Sequential(\n",
    "            # set1\n",
    "            nn.Conv2d(\n",
    "                in_channels=hidden_units,\n",
    "                out_channels=2 * hidden_units,\n",
    "                kernel_size=(3, 3),\n",
    "                padding=1,\n",
    "                bias=False,\n",
    "            ),\n",
    "            nn.BatchNorm2d(2 * hidden_units),\n",
    "            nn.ReLU(),\n",
    "            nn.Dropout(dropout),\n",
    "            # set2\n",
    "            nn.Conv2d(\n",
    "                in_channels=2 * hidden_units,\n",
    "                out_channels=4 * hidden_units,\n",
    "                kernel_size=(3, 3),\n",
    "                padding=1,\n",
    "                bias=False,\n",
    "            ),\n",
    "            nn.ReLU(),\n",
    "            nn.BatchNorm2d(4 * hidden_units),\n",
    "            nn.Dropout(dropout),\n",
    "            # set3 -dialation\n",
    "            nn.Conv2d(\n",
    "                in_channels=4 * hidden_units,\n",
    "                out_channels=4 * hidden_units,\n",
    "                kernel_size=(3, 3),\n",
    "                padding=1,\n",
    "                dilation=2,  # application of dialated convolution\n",
    "                bias=False,\n",
    "            ),\n",
    "            nn.ReLU(),\n",
    "            nn.BatchNorm2d(4 * hidden_units),\n",
    "            nn.Dropout(dropout),\n",
    "        )\n",
    "        # block3\n",
    "        self.conv_bl3 = nn.Sequential(\n",
    "            # set1\n",
    "            nn.Conv2d(\n",
    "                in_channels=hidden_units,\n",
    "                out_channels=2 * hidden_units,\n",
    "                kernel_size=(3, 3),\n",
    "                padding=1,\n",
    "                bias=False,\n",
    "            ),\n",
    "            nn.BatchNorm2d(2 * hidden_units),\n",
    "            nn.ReLU(),\n",
    "            nn.Dropout(dropout),\n",
    "            # set2\n",
    "            nn.Conv2d(\n",
    "                in_channels=2 * hidden_units,\n",
    "                out_channels=4 * hidden_units,\n",
    "                kernel_size=(3, 3),\n",
    "                padding=1,\n",
    "                bias=False,\n",
    "            ),\n",
    "            nn.ReLU(),\n",
    "            nn.BatchNorm2d(4 * hidden_units),\n",
    "            nn.Dropout(dropout),\n",
    "            # set3 -dialation\n",
    "            nn.Conv2d(\n",
    "                in_channels=4 * hidden_units,\n",
    "                out_channels=4 * hidden_units,\n",
    "                kernel_size=(3, 3),\n",
    "                padding=1,\n",
    "                dilation=2,  # application of dialated convolution\n",
    "                bias=False,\n",
    "            ),\n",
    "            nn.ReLU(),\n",
    "            nn.BatchNorm2d(4 * hidden_units),\n",
    "            nn.Dropout(dropout),\n",
    "        )\n",
    "        # block4 - Depthwise Separable Convolution **\n",
    "        self.conv_bl4 = nn.Sequential(\n",
    "            # set1\n",
    "            # depthwise\n",
    "            nn.Conv2d(\n",
    "                in_channels=hidden_units,\n",
    "                out_channels=2 * hidden_units,\n",
    "                kernel_size=(3, 3),\n",
    "                padding=1,\n",
    "                bias=False,\n",
    "                groups=hidden_units,\n",
    "            ),\n",
    "            # pointwise\n",
    "            nn.Conv2d(\n",
    "                in_channels=2 * hidden_units,\n",
    "                out_channels=2 * hidden_units,\n",
    "                kernel_size=(1, 1),\n",
    "                bias=False,\n",
    "            ),\n",
    "            nn.BatchNorm2d(2 * hidden_units),\n",
    "            nn.ReLU(),\n",
    "            nn.Dropout(dropout),\n",
    "            # set2\n",
    "            # depthwise\n",
    "            nn.Conv2d(\n",
    "                in_channels=(2 * hidden_units),\n",
    "                out_channels=4 * hidden_units,\n",
    "                kernel_size=(3, 3),\n",
    "                padding=1,\n",
    "                bias=False,\n",
    "                groups=2 * hidden_units,\n",
    "            ),\n",
    "            # pointwise\n",
    "            nn.Conv2d(\n",
    "                in_channels=4 * hidden_units,\n",
    "                out_channels=4 * hidden_units,\n",
    "                kernel_size=(1, 1),\n",
    "                bias=False,\n",
    "            ),\n",
    "            nn.BatchNorm2d(4 * hidden_units),\n",
    "            nn.ReLU(),\n",
    "            nn.Dropout(dropout),\n",
    "            # set3 -non-dialation - depthwise\n",
    "            # depthwise\n",
    "            nn.Conv2d(\n",
    "                in_channels=(4 * hidden_units),\n",
    "                out_channels=4 * hidden_units,\n",
    "                kernel_size=(3, 3),\n",
    "                padding=1,\n",
    "                bias=False,\n",
    "                groups=4 * hidden_units,\n",
    "            ),\n",
    "            # pointwise\n",
    "            nn.Conv2d(\n",
    "                in_channels=4 * hidden_units,\n",
    "                out_channels=4  * hidden_units,\n",
    "                kernel_size=(1, 1),\n",
    "                bias=False,\n",
    "            ),\n",
    "            nn.BatchNorm2d(4 * hidden_units),\n",
    "            nn.ReLU(),\n",
    "            nn.Dropout(dropout),\n",
    "\n",
    "            #set4- expansion\n",
    "            # depthwise\n",
    "            nn.Conv2d(\n",
    "                in_channels=(4 * hidden_units),\n",
    "                out_channels=8 * hidden_units,\n",
    "                kernel_size=(3, 3),\n",
    "                padding=1,\n",
    "                bias=False,\n",
    "                groups=4 * hidden_units,\n",
    "            ),\n",
    "            # pointwise\n",
    "            nn.Conv2d(\n",
    "                in_channels=8 * hidden_units,\n",
    "                out_channels=8 * hidden_units,\n",
    "                kernel_size=(1, 1),\n",
    "                bias=False,\n",
    "            ),\n",
    "            nn.BatchNorm2d(8 * hidden_units),\n",
    "            nn.ReLU(),\n",
    "\n",
    "        )\n",
    "\n",
    "        self.gap = nn.AdaptiveAvgPool2d((1, 1))\n",
    "        self.classifier = nn.Sequential(\n",
    "            nn.Conv2d(\n",
    "                in_channels=8 * hidden_units,\n",
    "                out_channels=out_channels,\n",
    "                kernel_size=(1, 1),\n",
    "                padding=0,\n",
    "                bias=False,\n",
    "            )\n",
    "        )\n",
    "\n",
    "    def forward(self, x):\n",
    "        x = self.conv_bl1(x)\n",
    "        x = self.transition(x)\n",
    "        x = self.conv_bl2(x)\n",
    "        x = self.transition(x)\n",
    "        x = self.conv_bl3(x)\n",
    "        x = self.transition(x)\n",
    "        x = self.conv_bl4(x)\n",
    "        x = self.gap(x)\n",
    "        x = self.classifier(x)\n",
    "        x = x.view(-1, 10)\n",
    "        return F.log_softmax(x, dim=-1)"
   ]
  },
  {
   "cell_type": "code",
   "execution_count": 102,
   "metadata": {},
   "outputs": [
    {
     "name": "stdout",
     "output_type": "stream",
     "text": [
      "----------------------------------------------------------------\n",
      "        Layer (type)               Output Shape         Param #\n",
      "================================================================\n",
      "            Conv2d-1           [-1, 32, 32, 32]             864\n",
      "       BatchNorm2d-2           [-1, 32, 32, 32]              64\n",
      "              ReLU-3           [-1, 32, 32, 32]               0\n",
      "           Dropout-4           [-1, 32, 32, 32]               0\n",
      "            Conv2d-5           [-1, 64, 32, 32]          18,432\n",
      "              ReLU-6           [-1, 64, 32, 32]               0\n",
      "       BatchNorm2d-7           [-1, 64, 32, 32]             128\n",
      "           Dropout-8           [-1, 64, 32, 32]               0\n",
      "            Conv2d-9           [-1, 64, 30, 30]          36,864\n",
      "             ReLU-10           [-1, 64, 30, 30]               0\n",
      "      BatchNorm2d-11           [-1, 64, 30, 30]             128\n",
      "          Dropout-12           [-1, 64, 30, 30]               0\n",
      "           Conv2d-13           [-1, 16, 30, 30]           1,024\n",
      "           Conv2d-14           [-1, 32, 30, 30]           4,608\n",
      "      BatchNorm2d-15           [-1, 32, 30, 30]              64\n",
      "             ReLU-16           [-1, 32, 30, 30]               0\n",
      "          Dropout-17           [-1, 32, 30, 30]               0\n",
      "           Conv2d-18           [-1, 64, 30, 30]          18,432\n",
      "             ReLU-19           [-1, 64, 30, 30]               0\n",
      "      BatchNorm2d-20           [-1, 64, 30, 30]             128\n",
      "          Dropout-21           [-1, 64, 30, 30]               0\n",
      "           Conv2d-22           [-1, 64, 28, 28]          36,864\n",
      "             ReLU-23           [-1, 64, 28, 28]               0\n",
      "      BatchNorm2d-24           [-1, 64, 28, 28]             128\n",
      "          Dropout-25           [-1, 64, 28, 28]               0\n",
      "           Conv2d-26           [-1, 16, 28, 28]           1,024\n",
      "           Conv2d-27           [-1, 32, 28, 28]           4,608\n",
      "      BatchNorm2d-28           [-1, 32, 28, 28]              64\n",
      "             ReLU-29           [-1, 32, 28, 28]               0\n",
      "          Dropout-30           [-1, 32, 28, 28]               0\n",
      "           Conv2d-31           [-1, 64, 28, 28]          18,432\n",
      "             ReLU-32           [-1, 64, 28, 28]               0\n",
      "      BatchNorm2d-33           [-1, 64, 28, 28]             128\n",
      "          Dropout-34           [-1, 64, 28, 28]               0\n",
      "           Conv2d-35           [-1, 64, 26, 26]          36,864\n",
      "             ReLU-36           [-1, 64, 26, 26]               0\n",
      "      BatchNorm2d-37           [-1, 64, 26, 26]             128\n",
      "          Dropout-38           [-1, 64, 26, 26]               0\n",
      "           Conv2d-39           [-1, 16, 26, 26]           1,024\n",
      "           Conv2d-40           [-1, 32, 26, 26]             288\n",
      "           Conv2d-41           [-1, 32, 26, 26]           1,024\n",
      "      BatchNorm2d-42           [-1, 32, 26, 26]              64\n",
      "             ReLU-43           [-1, 32, 26, 26]               0\n",
      "          Dropout-44           [-1, 32, 26, 26]               0\n",
      "           Conv2d-45           [-1, 64, 26, 26]             576\n",
      "           Conv2d-46           [-1, 64, 26, 26]           4,096\n",
      "      BatchNorm2d-47           [-1, 64, 26, 26]             128\n",
      "             ReLU-48           [-1, 64, 26, 26]               0\n",
      "          Dropout-49           [-1, 64, 26, 26]               0\n",
      "           Conv2d-50           [-1, 64, 26, 26]             576\n",
      "           Conv2d-51           [-1, 64, 26, 26]           4,096\n",
      "      BatchNorm2d-52           [-1, 64, 26, 26]             128\n",
      "             ReLU-53           [-1, 64, 26, 26]               0\n",
      "          Dropout-54           [-1, 64, 26, 26]               0\n",
      "           Conv2d-55          [-1, 128, 26, 26]           1,152\n",
      "           Conv2d-56          [-1, 128, 26, 26]          16,384\n",
      "      BatchNorm2d-57          [-1, 128, 26, 26]             256\n",
      "             ReLU-58          [-1, 128, 26, 26]               0\n",
      "AdaptiveAvgPool2d-59            [-1, 128, 1, 1]               0\n",
      "           Conv2d-60             [-1, 10, 1, 1]           1,280\n",
      "================================================================\n",
      "Total params: 210,048\n",
      "Trainable params: 210,048\n",
      "Non-trainable params: 0\n",
      "----------------------------------------------------------------\n",
      "Input size (MB): 0.01\n",
      "Forward/backward pass size (MB): 19.60\n",
      "Params size (MB): 0.80\n",
      "Estimated Total Size (MB): 20.41\n",
      "----------------------------------------------------------------\n"
     ]
    }
   ],
   "source": [
    "# New Model Instance\n",
    "depthwise_model2 = DepthwiseSeparableClassifierSync(\n",
    "    in_channels=3, hidden_units=16, out_channels=10\n",
    ").to(device)\n",
    "summary(depthwise_model2, input_size=(3, 32, 32))"
   ]
  },
  {
   "cell_type": "code",
   "execution_count": 104,
   "metadata": {},
   "outputs": [],
   "source": [
    "# driver setup----\n",
    "# optmizer\n",
    "optimizer = optim.Adam(depthwise_model2.parameters(), lr=lr)\n",
    "# loss\n",
    "criterion = nn.CrossEntropyLoss()\n",
    "# metric\n",
    "metric = MulticlassAccuracy(device=device, num_classes=10)\n",
    "# Early stopping\n",
    "early_stopping = EarlyStopping(patience=3, verbose=True)\n",
    "# lr scheduler\n",
    "lr_scheduler = ExponentialLR(optimizer, gamma=0.97)"
   ]
  },
  {
   "cell_type": "code",
   "execution_count": 105,
   "metadata": {},
   "outputs": [
    {
     "name": "stdout",
     "output_type": "stream",
     "text": [
      "Epoch 0\n"
     ]
    },
    {
     "name": "stderr",
     "output_type": "stream",
     "text": [
      "  0%|                                                                                                                                                                                                                                                                                                                                                                                                                                                                                                                                                                                                                                                                                                                                                                                                                                                                                                                                                                                                          | 0/391 [00:00<?, ?it/s]/anaconda/envs/torch_env/lib/python3.10/multiprocessing/popen_fork.py:66: RuntimeWarning: os.fork() was called. os.fork() is incompatible with multithreaded code, and JAX is multithreaded, so this will likely lead to a deadlock.\n",
      "  self.pid = os.fork()\n",
      "Avg Train Loss: 2.319479783376058 Avg Train Metric: 0.12369791666666667:   1%|██████▊                                                                                                                                                                                                                                                                                                                                                                                                                                                                                                                                                                                                                                                                                                                                                                                                                                                                                                                  | 3/391 [00:00<01:13,  5.29it/s]"
     ]
    },
    {
     "name": "stderr",
     "output_type": "stream",
     "text": [
      "Avg Train Loss: 1.591092801764798 Avg Train Metric: 0.3171818989622014: 100%|████████████████████████████████████████████████████████████████████████████████████████████████████████████████████████████████████████████████████████████████████████████████████████████████████████████████████████████████████████████████████████████████████████████████████████████████████████████████████████████████████████████████████████████████████████████████████████████████████████████████████████████████████████████████████████████████████████████████████████████████████████████████████████████████████████████████████████████████████████████████████████████████████████████████████████████████████████████████████████████████████████████████████████████████████████████████████████████████████████████████████████████████████████████████████████████████████████████████████████████████████████████████████████████████████████████████████████████████████████████████████████| 391/391 [00:41<00:00,  9.42it/s]\n"
     ]
    },
    {
     "name": "stdout",
     "output_type": "stream",
     "text": [
      "Function Took 41.4921 seconds\n"
     ]
    },
    {
     "name": "stderr",
     "output_type": "stream",
     "text": [
      "Avg Test Loss: 1.3053188776668114 Avg Test Metric: 0.5065686819674093: 100%|███████████████████████████████████████████████████████████████████████████████████████████████████████████████████████████████████████████████████████████████████████████████████████████████████████████████████████████████████████████████████████████████████████████████████████████████████████████████████████████████████████████████████████████████████████████████████████████████████████████████████████████████████████████████████████████████████████████████████████████████████████████████████████████████████████████████████████████████████████████████████████████████████████████████████████████████████████████████████████████████████████████████████████████████████████████████████████████████████████████████████████████████████████████████████████████████████████████████████████████████████████████████████████████████████████████████████████████████████████████████████████████| 79/79 [00:02<00:00, 28.72it/s]\n"
     ]
    },
    {
     "name": "stdout",
     "output_type": "stream",
     "text": [
      "Function Took 2.7543 seconds\n",
      "For next epoch lr:: 0.0009699999999999999\n",
      "Validation loss decreased (inf --> 1.305319).  Saving model ...\n",
      "Epoch 1\n"
     ]
    },
    {
     "name": "stderr",
     "output_type": "stream",
     "text": [
      "Avg Train Loss: 1.2501024571830963 Avg Train Metric: 0.5181429074395953: 100%|███████████████████████████████████████████████████████████████████████████████████████████████████████████████████████████████████████████████████████████████████████████████████████████████████████████████████████████████████████████████████████████████████████████████████████████████████████████████████████████████████████████████████████████████████████████████████████████████████████████████████████████████████████████████████████████████████████████████████████████████████████████████████████████████████████████████████████████████████████████████████████████████████████████████████████████████████████████████████████████████████████████████████████████████████████████████████████████████████████████████████████████████████████████████████████████████████████████████████████████████████████████████████████████████████████████████████████████████████████████████████████| 391/391 [00:41<00:00,  9.33it/s]\n"
     ]
    },
    {
     "name": "stdout",
     "output_type": "stream",
     "text": [
      "Function Took 41.8986 seconds\n"
     ]
    },
    {
     "name": "stderr",
     "output_type": "stream",
     "text": [
      "Avg Test Loss: 1.1513444388969034 Avg Test Metric: 0.5768417799020116: 100%|███████████████████████████████████████████████████████████████████████████████████████████████████████████████████████████████████████████████████████████████████████████████████████████████████████████████████████████████████████████████████████████████████████████████████████████████████████████████████████████████████████████████████████████████████████████████████████████████████████████████████████████████████████████████████████████████████████████████████████████████████████████████████████████████████████████████████████████████████████████████████████████████████████████████████████████████████████████████████████████████████████████████████████████████████████████████████████████████████████████████████████████████████████████████████████████████████████████████████████████████████████████████████████████████████████████████████████████████████████████████████████████| 79/79 [00:02<00:00, 28.31it/s]\n"
     ]
    },
    {
     "name": "stdout",
     "output_type": "stream",
     "text": [
      "Function Took 2.7946 seconds\n",
      "For next epoch lr:: 0.0009408999999999999\n",
      "Validation loss decreased (1.305319 --> 1.151344).  Saving model ...\n",
      "Epoch 2\n"
     ]
    },
    {
     "name": "stderr",
     "output_type": "stream",
     "text": [
      "Avg Train Loss: 1.1012683920848094 Avg Train Metric: 0.5934900521012523: 100%|███████████████████████████████████████████████████████████████████████████████████████████████████████████████████████████████████████████████████████████████████████████████████████████████████████████████████████████████████████████████████████████████████████████████████████████████████████████████████████████████████████████████████████████████████████████████████████████████████████████████████████████████████████████████████████████████████████████████████████████████████████████████████████████████████████████████████████████████████████████████████████████████████████████████████████████████████████████████████████████████████████████████████████████████████████████████████████████████████████████████████████████████████████████████████████████████████████████████████████████████████████████████████████████████████████████████████████████████████████████████████████| 391/391 [00:41<00:00,  9.53it/s]\n"
     ]
    },
    {
     "name": "stdout",
     "output_type": "stream",
     "text": [
      "Function Took 41.0479 seconds\n"
     ]
    },
    {
     "name": "stderr",
     "output_type": "stream",
     "text": [
      "Avg Test Loss: 0.9993647872647152 Avg Test Metric: 0.6438168392905707: 100%|███████████████████████████████████████████████████████████████████████████████████████████████████████████████████████████████████████████████████████████████████████████████████████████████████████████████████████████████████████████████████████████████████████████████████████████████████████████████████████████████████████████████████████████████████████████████████████████████████████████████████████████████████████████████████████████████████████████████████████████████████████████████████████████████████████████████████████████████████████████████████████████████████████████████████████████████████████████████████████████████████████████████████████████████████████████████████████████████████████████████████████████████████████████████████████████████████████████████████████████████████████████████████████████████████████████████████████████████████████████████████████████| 79/79 [00:02<00:00, 29.11it/s]\n"
     ]
    },
    {
     "name": "stdout",
     "output_type": "stream",
     "text": [
      "Function Took 2.7179 seconds\n",
      "For next epoch lr:: 0.0009126729999999999\n",
      "Validation loss decreased (1.151344 --> 0.999365).  Saving model ...\n",
      "Epoch 3\n"
     ]
    },
    {
     "name": "stderr",
     "output_type": "stream",
     "text": [
      "Avg Train Loss: 1.0120673790917067 Avg Train Metric: 0.6349182215797932: 100%|███████████████████████████████████████████████████████████████████████████████████████████████████████████████████████████████████████████████████████████████████████████████████████████████████████████████████████████████████████████████████████████████████████████████████████████████████████████████████████████████████████████████████████████████████████████████████████████████████████████████████████████████████████████████████████████████████████████████████████████████████████████████████████████████████████████████████████████████████████████████████████████████████████████████████████████████████████████████████████████████████████████████████████████████████████████████████████████████████████████████████████████████████████████████████████████████████████████████████████████████████████████████████████████████████████████████████████████████████████████████████████| 391/391 [00:41<00:00,  9.45it/s]\n"
     ]
    },
    {
     "name": "stdout",
     "output_type": "stream",
     "text": [
      "Function Took 41.3605 seconds\n"
     ]
    },
    {
     "name": "stderr",
     "output_type": "stream",
     "text": [
      "Avg Test Loss: 0.9551246981077557 Avg Test Metric: 0.6548411559455002: 100%|███████████████████████████████████████████████████████████████████████████████████████████████████████████████████████████████████████████████████████████████████████████████████████████████████████████████████████████████████████████████████████████████████████████████████████████████████████████████████████████████████████████████████████████████████████████████████████████████████████████████████████████████████████████████████████████████████████████████████████████████████████████████████████████████████████████████████████████████████████████████████████████████████████████████████████████████████████████████████████████████████████████████████████████████████████████████████████████████████████████████████████████████████████████████████████████████████████████████████████████████████████████████████████████████████████████████████████████████████████████████████████████| 79/79 [00:02<00:00, 29.35it/s]\n"
     ]
    },
    {
     "name": "stdout",
     "output_type": "stream",
     "text": [
      "Function Took 2.6958 seconds\n",
      "For next epoch lr:: 0.0008852928099999999\n",
      "Validation loss decreased (0.999365 --> 0.955125).  Saving model ...\n",
      "Epoch 4\n"
     ]
    },
    {
     "name": "stderr",
     "output_type": "stream",
     "text": [
      "Avg Train Loss: 0.9480915084824233 Avg Train Metric: 0.6529643206340273: 100%|███████████████████████████████████████████████████████████████████████████████████████████████████████████████████████████████████████████████████████████████████████████████████████████████████████████████████████████████████████████████████████████████████████████████████████████████████████████████████████████████████████████████████████████████████████████████████████████████████████████████████████████████████████████████████████████████████████████████████████████████████████████████████████████████████████████████████████████████████████████████████████████████████████████████████████████████████████████████████████████████████████████████████████████████████████████████████████████████████████████████████████████████████████████████████████████████████████████████████████████████████████████████████████████████████████████████████████████████████████████████████████| 391/391 [00:41<00:00,  9.44it/s]\n"
     ]
    },
    {
     "name": "stdout",
     "output_type": "stream",
     "text": [
      "Function Took 41.4287 seconds\n"
     ]
    },
    {
     "name": "stderr",
     "output_type": "stream",
     "text": [
      "Avg Test Loss: 0.8830392473860632 Avg Test Metric: 0.6937780946115905: 100%|███████████████████████████████████████████████████████████████████████████████████████████████████████████████████████████████████████████████████████████████████████████████████████████████████████████████████████████████████████████████████████████████████████████████████████████████████████████████████████████████████████████████████████████████████████████████████████████████████████████████████████████████████████████████████████████████████████████████████████████████████████████████████████████████████████████████████████████████████████████████████████████████████████████████████████████████████████████████████████████████████████████████████████████████████████████████████████████████████████████████████████████████████████████████████████████████████████████████████████████████████████████████████████████████████████████████████████████████████████████████████████████| 79/79 [00:02<00:00, 29.48it/s]\n"
     ]
    },
    {
     "name": "stdout",
     "output_type": "stream",
     "text": [
      "Function Took 2.6834 seconds\n",
      "For next epoch lr:: 0.0008587340256999998\n",
      "Validation loss decreased (0.955125 --> 0.883039).  Saving model ...\n",
      "Epoch 5\n"
     ]
    },
    {
     "name": "stderr",
     "output_type": "stream",
     "text": [
      "Avg Train Loss: 0.8937083275421805 Avg Train Metric: 0.6735763598585982: 100%|███████████████████████████████████████████████████████████████████████████████████████████████████████████████████████████████████████████████████████████████████████████████████████████████████████████████████████████████████████████████████████████████████████████████████████████████████████████████████████████████████████████████████████████████████████████████████████████████████████████████████████████████████████████████████████████████████████████████████████████████████████████████████████████████████████████████████████████████████████████████████████████████████████████████████████████████████████████████████████████████████████████████████████████████████████████████████████████████████████████████████████████████████████████████████████████████████████████████████████████████████████████████████████████████████████████████████████████████████████████████████████| 391/391 [00:41<00:00,  9.44it/s]\n"
     ]
    },
    {
     "name": "stdout",
     "output_type": "stream",
     "text": [
      "Function Took 41.4377 seconds\n"
     ]
    },
    {
     "name": "stderr",
     "output_type": "stream",
     "text": [
      "Avg Test Loss: 0.8285574015182785 Avg Test Metric: 0.7146446931211254: 100%|███████████████████████████████████████████████████████████████████████████████████████████████████████████████████████████████████████████████████████████████████████████████████████████████████████████████████████████████████████████████████████████████████████████████████████████████████████████████████████████████████████████████████████████████████████████████████████████████████████████████████████████████████████████████████████████████████████████████████████████████████████████████████████████████████████████████████████████████████████████████████████████████████████████████████████████████████████████████████████████████████████████████████████████████████████████████████████████████████████████████████████████████████████████████████████████████████████████████████████████████████████████████████████████████████████████████████████████████████████████████████████████| 79/79 [00:02<00:00, 26.47it/s]\n"
     ]
    },
    {
     "name": "stdout",
     "output_type": "stream",
     "text": [
      "Function Took 2.9888 seconds\n",
      "For next epoch lr:: 0.0008329720049289999\n",
      "Validation loss decreased (0.883039 --> 0.828557).  Saving model ...\n",
      "Epoch 6\n"
     ]
    },
    {
     "name": "stderr",
     "output_type": "stream",
     "text": [
      "Avg Train Loss: 0.8460737776268473 Avg Train Metric: 0.6950110793113708: 100%|███████████████████████████████████████████████████████████████████████████████████████████████████████████████████████████████████████████████████████████████████████████████████████████████████████████████████████████████████████████████████████████████████████████████████████████████████████████████████████████████████████████████████████████████████████████████████████████████████████████████████████████████████████████████████████████████████████████████████████████████████████████████████████████████████████████████████████████████████████████████████████████████████████████████████████████████████████████████████████████████████████████████████████████████████████████████████████████████████████████████████████████████████████████████████████████████████████████████████████████████████████████████████████████████████████████████████████████████████████████████████████| 391/391 [00:41<00:00,  9.45it/s]\n"
     ]
    },
    {
     "name": "stdout",
     "output_type": "stream",
     "text": [
      "Function Took 41.3914 seconds\n"
     ]
    },
    {
     "name": "stderr",
     "output_type": "stream",
     "text": [
      "Avg Test Loss: 0.7599479918238483 Avg Test Metric: 0.7391021229043792: 100%|███████████████████████████████████████████████████████████████████████████████████████████████████████████████████████████████████████████████████████████████████████████████████████████████████████████████████████████████████████████████████████████████████████████████████████████████████████████████████████████████████████████████████████████████████████████████████████████████████████████████████████████████████████████████████████████████████████████████████████████████████████████████████████████████████████████████████████████████████████████████████████████████████████████████████████████████████████████████████████████████████████████████████████████████████████████████████████████████████████████████████████████████████████████████████████████████████████████████████████████████████████████████████████████████████████████████████████████████████████████████████████████| 79/79 [00:02<00:00, 28.04it/s]\n"
     ]
    },
    {
     "name": "stdout",
     "output_type": "stream",
     "text": [
      "Function Took 2.8221 seconds\n",
      "For next epoch lr:: 0.0008079828447811299\n",
      "Validation loss decreased (0.828557 --> 0.759948).  Saving model ...\n",
      "Epoch 7\n"
     ]
    },
    {
     "name": "stderr",
     "output_type": "stream",
     "text": [
      "Avg Train Loss: 0.8089135557489322 Avg Train Metric: 0.7132799910462421: 100%|███████████████████████████████████████████████████████████████████████████████████████████████████████████████████████████████████████████████████████████████████████████████████████████████████████████████████████████████████████████████████████████████████████████████████████████████████████████████████████████████████████████████████████████████████████████████████████████████████████████████████████████████████████████████████████████████████████████████████████████████████████████████████████████████████████████████████████████████████████████████████████████████████████████████████████████████████████████████████████████████████████████████████████████████████████████████████████████████████████████████████████████████████████████████████████████████████████████████████████████████████████████████████████████████████████████████████████████████████████████████████████| 391/391 [00:42<00:00,  9.18it/s]\n"
     ]
    },
    {
     "name": "stdout",
     "output_type": "stream",
     "text": [
      "Function Took 42.6025 seconds\n"
     ]
    },
    {
     "name": "stderr",
     "output_type": "stream",
     "text": [
      "Avg Test Loss: 0.6816193570819082 Avg Test Metric: 0.76159317055835: 100%|█████████████████████████████████████████████████████████████████████████████████████████████████████████████████████████████████████████████████████████████████████████████████████████████████████████████████████████████████████████████████████████████████████████████████████████████████████████████████████████████████████████████████████████████████████████████████████████████████████████████████████████████████████████████████████████████████████████████████████████████████████████████████████████████████████████████████████████████████████████████████████████████████████████████████████████████████████████████████████████████████████████████████████████████████████████████████████████████████████████████████████████████████████████████████████████████████████████████████████████████████████████████████████████████████████████████████████████████████████████████████████████████| 79/79 [00:02<00:00, 28.67it/s]\n"
     ]
    },
    {
     "name": "stdout",
     "output_type": "stream",
     "text": [
      "Function Took 2.7592 seconds\n",
      "For next epoch lr:: 0.0007837433594376959\n",
      "Validation loss decreased (0.759948 --> 0.681619).  Saving model ...\n",
      "Epoch 8\n"
     ]
    },
    {
     "name": "stderr",
     "output_type": "stream",
     "text": [
      "Avg Train Loss: 0.7746436233105867 Avg Train Metric: 0.723280311088123: 100%|████████████████████████████████████████████████████████████████████████████████████████████████████████████████████████████████████████████████████████████████████████████████████████████████████████████████████████████████████████████████████████████████████████████████████████████████████████████████████████████████████████████████████████████████████████████████████████████████████████████████████████████████████████████████████████████████████████████████████████████████████████████████████████████████████████████████████████████████████████████████████████████████████████████████████████████████████████████████████████████████████████████████████████████████████████████████████████████████████████████████████████████████████████████████████████████████████████████████████████████████████████████████████████████████████████████████████████████████████████████████████████| 391/391 [00:41<00:00,  9.35it/s]\n"
     ]
    },
    {
     "name": "stdout",
     "output_type": "stream",
     "text": [
      "Function Took 41.8133 seconds\n"
     ]
    },
    {
     "name": "stderr",
     "output_type": "stream",
     "text": [
      "Avg Test Loss: 0.669932519333272 Avg Test Metric: 0.7640203893939151: 100%|████████████████████████████████████████████████████████████████████████████████████████████████████████████████████████████████████████████████████████████████████████████████████████████████████████████████████████████████████████████████████████████████████████████████████████████████████████████████████████████████████████████████████████████████████████████████████████████████████████████████████████████████████████████████████████████████████████████████████████████████████████████████████████████████████████████████████████████████████████████████████████████████████████████████████████████████████████████████████████████████████████████████████████████████████████████████████████████████████████████████████████████████████████████████████████████████████████████████████████████████████████████████████████████████████████████████████████████████████████████████████████████| 79/79 [00:02<00:00, 27.65it/s]\n"
     ]
    },
    {
     "name": "stdout",
     "output_type": "stream",
     "text": [
      "Function Took 2.8610 seconds\n",
      "For next epoch lr:: 0.000760231058654565\n",
      "Validation loss decreased (0.681619 --> 0.669933).  Saving model ...\n",
      "Epoch 9\n"
     ]
    },
    {
     "name": "stderr",
     "output_type": "stream",
     "text": [
      "Avg Train Loss: 0.7439786777319506 Avg Train Metric: 0.738206943892457: 100%|████████████████████████████████████████████████████████████████████████████████████████████████████████████████████████████████████████████████████████████████████████████████████████████████████████████████████████████████████████████████████████████████████████████████████████████████████████████████████████████████████████████████████████████████████████████████████████████████████████████████████████████████████████████████████████████████████████████████████████████████████████████████████████████████████████████████████████████████████████████████████████████████████████████████████████████████████████████████████████████████████████████████████████████████████████████████████████████████████████████████████████████████████████████████████████████████████████████████████████████████████████████████████████████████████████████████████████████████████████████████████████| 391/391 [00:42<00:00,  9.28it/s]\n"
     ]
    },
    {
     "name": "stdout",
     "output_type": "stream",
     "text": [
      "Function Took 42.1212 seconds\n"
     ]
    },
    {
     "name": "stderr",
     "output_type": "stream",
     "text": [
      "Avg Test Loss: 0.6420095400719703 Avg Test Metric: 0.7784052747714368: 100%|███████████████████████████████████████████████████████████████████████████████████████████████████████████████████████████████████████████████████████████████████████████████████████████████████████████████████████████████████████████████████████████████████████████████████████████████████████████████████████████████████████████████████████████████████████████████████████████████████████████████████████████████████████████████████████████████████████████████████████████████████████████████████████████████████████████████████████████████████████████████████████████████████████████████████████████████████████████████████████████████████████████████████████████████████████████████████████████████████████████████████████████████████████████████████████████████████████████████████████████████████████████████████████████████████████████████████████████████████████████████████████████| 79/79 [00:02<00:00, 26.51it/s]\n"
     ]
    },
    {
     "name": "stdout",
     "output_type": "stream",
     "text": [
      "Function Took 2.9843 seconds\n",
      "For next epoch lr:: 0.000737424126894928\n",
      "Validation loss decreased (0.669933 --> 0.642010).  Saving model ...\n",
      "Epoch 10\n"
     ]
    },
    {
     "name": "stderr",
     "output_type": "stream",
     "text": [
      "Avg Train Loss: 0.7247757546584624 Avg Train Metric: 0.7401695722509223: 100%|███████████████████████████████████████████████████████████████████████████████████████████████████████████████████████████████████████████████████████████████████████████████████████████████████████████████████████████████████████████████████████████████████████████████████████████████████████████████████████████████████████████████████████████████████████████████████████████████████████████████████████████████████████████████████████████████████████████████████████████████████████████████████████████████████████████████████████████████████████████████████████████████████████████████████████████████████████████████████████████████████████████████████████████████████████████████████████████████████████████████████████████████████████████████████████████████████████████████████████████████████████████████████████████████████████████████████████████████████████████████████████| 391/391 [00:41<00:00,  9.40it/s]\n"
     ]
    },
    {
     "name": "stdout",
     "output_type": "stream",
     "text": [
      "Function Took 41.5936 seconds\n"
     ]
    },
    {
     "name": "stderr",
     "output_type": "stream",
     "text": [
      "Avg Test Loss: 0.6817347214946264 Avg Test Metric: 0.7747835803635513: 100%|███████████████████████████████████████████████████████████████████████████████████████████████████████████████████████████████████████████████████████████████████████████████████████████████████████████████████████████████████████████████████████████████████████████████████████████████████████████████████████████████████████████████████████████████████████████████████████████████████████████████████████████████████████████████████████████████████████████████████████████████████████████████████████████████████████████████████████████████████████████████████████████████████████████████████████████████████████████████████████████████████████████████████████████████████████████████████████████████████████████████████████████████████████████████████████████████████████████████████████████████████████████████████████████████████████████████████████████████████████████████████████████| 79/79 [00:02<00:00, 28.76it/s]\n"
     ]
    },
    {
     "name": "stdout",
     "output_type": "stream",
     "text": [
      "Function Took 2.7513 seconds\n",
      "For next epoch lr:: 0.0007153014030880802\n",
      "EarlyStopping counter: 1 out of 3\n",
      "Epoch 11\n"
     ]
    },
    {
     "name": "stderr",
     "output_type": "stream",
     "text": [
      "Avg Train Loss: 0.695854400810988 Avg Train Metric: 0.756983214174695: 100%|█████████████████████████████████████████████████████████████████████████████████████████████████████████████████████████████████████████████████████████████████████████████████████████████████████████████████████████████████████████████████████████████████████████████████████████████████████████████████████████████████████████████████████████████████████████████████████████████████████████████████████████████████████████████████████████████████████████████████████████████████████████████████████████████████████████████████████████████████████████████████████████████████████████████████████████████████████████████████████████████████████████████████████████████████████████████████████████████████████████████████████████████████████████████████████████████████████████████████████████████████████████████████████████████████████████████████████████████████████████████████████████| 391/391 [00:41<00:00,  9.47it/s]\n"
     ]
    },
    {
     "name": "stdout",
     "output_type": "stream",
     "text": [
      "Function Took 41.3028 seconds\n"
     ]
    },
    {
     "name": "stderr",
     "output_type": "stream",
     "text": [
      "Avg Test Loss: 0.6120442408549635 Avg Test Metric: 0.792592652236359: 100%|████████████████████████████████████████████████████████████████████████████████████████████████████████████████████████████████████████████████████████████████████████████████████████████████████████████████████████████████████████████████████████████████████████████████████████████████████████████████████████████████████████████████████████████████████████████████████████████████████████████████████████████████████████████████████████████████████████████████████████████████████████████████████████████████████████████████████████████████████████████████████████████████████████████████████████████████████████████████████████████████████████████████████████████████████████████████████████████████████████████████████████████████████████████████████████████████████████████████████████████████████████████████████████████████████████████████████████████████████████████████████████████| 79/79 [00:02<00:00, 28.56it/s]\n"
     ]
    },
    {
     "name": "stdout",
     "output_type": "stream",
     "text": [
      "Function Took 2.7704 seconds\n",
      "For next epoch lr:: 0.0006938423609954377\n",
      "Validation loss decreased (0.642010 --> 0.612044).  Saving model ...\n",
      "Epoch 12\n"
     ]
    },
    {
     "name": "stderr",
     "output_type": "stream",
     "text": [
      "Avg Train Loss: 0.6787744599687474 Avg Train Metric: 0.7634023159666135: 100%|███████████████████████████████████████████████████████████████████████████████████████████████████████████████████████████████████████████████████████████████████████████████████████████████████████████████████████████████████████████████████████████████████████████████████████████████████████████████████████████████████████████████████████████████████████████████████████████████████████████████████████████████████████████████████████████████████████████████████████████████████████████████████████████████████████████████████████████████████████████████████████████████████████████████████████████████████████████████████████████████████████████████████████████████████████████████████████████████████████████████████████████████████████████████████████████████████████████████████████████████████████████████████████████████████████████████████████████████████████████████████████| 391/391 [00:41<00:00,  9.42it/s]\n"
     ]
    },
    {
     "name": "stdout",
     "output_type": "stream",
     "text": [
      "Function Took 41.5310 seconds\n"
     ]
    },
    {
     "name": "stderr",
     "output_type": "stream",
     "text": [
      "Avg Test Loss: 0.5759346488910385 Avg Test Metric: 0.8092698545395574: 100%|███████████████████████████████████████████████████████████████████████████████████████████████████████████████████████████████████████████████████████████████████████████████████████████████████████████████████████████████████████████████████████████████████████████████████████████████████████████████████████████████████████████████████████████████████████████████████████████████████████████████████████████████████████████████████████████████████████████████████████████████████████████████████████████████████████████████████████████████████████████████████████████████████████████████████████████████████████████████████████████████████████████████████████████████████████████████████████████████████████████████████████████████████████████████████████████████████████████████████████████████████████████████████████████████████████████████████████████████████████████████████████████| 79/79 [00:02<00:00, 28.73it/s]\n"
     ]
    },
    {
     "name": "stdout",
     "output_type": "stream",
     "text": [
      "Function Took 2.7536 seconds\n",
      "For next epoch lr:: 0.0006730270901655745\n",
      "Validation loss decreased (0.612044 --> 0.575935).  Saving model ...\n",
      "Epoch 13\n"
     ]
    },
    {
     "name": "stderr",
     "output_type": "stream",
     "text": [
      "Avg Train Loss: 0.6572836962959651 Avg Train Metric: 0.7689859618616226: 100%|███████████████████████████████████████████████████████████████████████████████████████████████████████████████████████████████████████████████████████████████████████████████████████████████████████████████████████████████████████████████████████████████████████████████████████████████████████████████████████████████████████████████████████████████████████████████████████████████████████████████████████████████████████████████████████████████████████████████████████████████████████████████████████████████████████████████████████████████████████████████████████████████████████████████████████████████████████████████████████████████████████████████████████████████████████████████████████████████████████████████████████████████████████████████████████████████████████████████████████████████████████████████████████████████████████████████████████████████████████████████████████| 391/391 [00:41<00:00,  9.47it/s]\n"
     ]
    },
    {
     "name": "stdout",
     "output_type": "stream",
     "text": [
      "Function Took 41.2930 seconds\n"
     ]
    },
    {
     "name": "stderr",
     "output_type": "stream",
     "text": [
      "Avg Test Loss: 0.5864844782442986 Avg Test Metric: 0.7937326551992682: 100%|███████████████████████████████████████████████████████████████████████████████████████████████████████████████████████████████████████████████████████████████████████████████████████████████████████████████████████████████████████████████████████████████████████████████████████████████████████████████████████████████████████████████████████████████████████████████████████████████████████████████████████████████████████████████████████████████████████████████████████████████████████████████████████████████████████████████████████████████████████████████████████████████████████████████████████████████████████████████████████████████████████████████████████████████████████████████████████████████████████████████████████████████████████████████████████████████████████████████████████████████████████████████████████████████████████████████████████████████████████████████████████████| 79/79 [00:02<00:00, 28.07it/s]\n"
     ]
    },
    {
     "name": "stdout",
     "output_type": "stream",
     "text": [
      "Function Took 2.8190 seconds\n",
      "For next epoch lr:: 0.0006528362774606073\n",
      "EarlyStopping counter: 1 out of 3\n",
      "Epoch 14\n"
     ]
    },
    {
     "name": "stderr",
     "output_type": "stream",
     "text": [
      "Avg Train Loss: 0.6372474792515835 Avg Train Metric: 0.7799021601676941: 100%|███████████████████████████████████████████████████████████████████████████████████████████████████████████████████████████████████████████████████████████████████████████████████████████████████████████████████████████████████████████████████████████████████████████████████████████████████████████████████████████████████████████████████████████████████████████████████████████████████████████████████████████████████████████████████████████████████████████████████████████████████████████████████████████████████████████████████████████████████████████████████████████████████████████████████████████████████████████████████████████████████████████████████████████████████████████████████████████████████████████████████████████████████████████████████████████████████████████████████████████████████████████████████████████████████████████████████████████████████████████████████████| 391/391 [00:41<00:00,  9.43it/s]\n"
     ]
    },
    {
     "name": "stdout",
     "output_type": "stream",
     "text": [
      "Function Took 41.4500 seconds\n"
     ]
    },
    {
     "name": "stderr",
     "output_type": "stream",
     "text": [
      "Avg Test Loss: 0.5632749411124217 Avg Test Metric: 0.8062742578832409: 100%|███████████████████████████████████████████████████████████████████████████████████████████████████████████████████████████████████████████████████████████████████████████████████████████████████████████████████████████████████████████████████████████████████████████████████████████████████████████████████████████████████████████████████████████████████████████████████████████████████████████████████████████████████████████████████████████████████████████████████████████████████████████████████████████████████████████████████████████████████████████████████████████████████████████████████████████████████████████████████████████████████████████████████████████████████████████████████████████████████████████████████████████████████████████████████████████████████████████████████████████████████████████████████████████████████████████████████████████████████████████████████████████| 79/79 [00:02<00:00, 28.48it/s]\n"
     ]
    },
    {
     "name": "stdout",
     "output_type": "stream",
     "text": [
      "Function Took 2.7774 seconds\n",
      "For next epoch lr:: 0.0006332511891367891\n",
      "Validation loss decreased (0.575935 --> 0.563275).  Saving model ...\n",
      "Epoch 15\n"
     ]
    },
    {
     "name": "stderr",
     "output_type": "stream",
     "text": [
      "Avg Train Loss: 0.6250106921738676 Avg Train Metric: 0.7853188718981146: 100%|███████████████████████████████████████████████████████████████████████████████████████████████████████████████████████████████████████████████████████████████████████████████████████████████████████████████████████████████████████████████████████████████████████████████████████████████████████████████████████████████████████████████████████████████████████████████████████████████████████████████████████████████████████████████████████████████████████████████████████████████████████████████████████████████████████████████████████████████████████████████████████████████████████████████████████████████████████████████████████████████████████████████████████████████████████████████████████████████████████████████████████████████████████████████████████████████████████████████████████████████████████████████████████████████████████████████████████████████████████████████████████| 391/391 [00:41<00:00,  9.35it/s]\n"
     ]
    },
    {
     "name": "stdout",
     "output_type": "stream",
     "text": [
      "Function Took 41.8397 seconds\n"
     ]
    },
    {
     "name": "stderr",
     "output_type": "stream",
     "text": [
      "Avg Test Loss: 0.5363807025589521 Avg Test Metric: 0.8137839481800417: 100%|███████████████████████████████████████████████████████████████████████████████████████████████████████████████████████████████████████████████████████████████████████████████████████████████████████████████████████████████████████████████████████████████████████████████████████████████████████████████████████████████████████████████████████████████████████████████████████████████████████████████████████████████████████████████████████████████████████████████████████████████████████████████████████████████████████████████████████████████████████████████████████████████████████████████████████████████████████████████████████████████████████████████████████████████████████████████████████████████████████████████████████████████████████████████████████████████████████████████████████████████████████████████████████████████████████████████████████████████████████████████████████████| 79/79 [00:02<00:00, 28.30it/s]\n"
     ]
    },
    {
     "name": "stdout",
     "output_type": "stream",
     "text": [
      "Function Took 2.7949 seconds\n",
      "For next epoch lr:: 0.0006142536534626854\n",
      "Validation loss decreased (0.563275 --> 0.536381).  Saving model ...\n",
      "Epoch 16\n"
     ]
    },
    {
     "name": "stderr",
     "output_type": "stream",
     "text": [
      "Avg Train Loss: 0.6078930611500655 Avg Train Metric: 0.7899879563190139: 100%|███████████████████████████████████████████████████████████████████████████████████████████████████████████████████████████████████████████████████████████████████████████████████████████████████████████████████████████████████████████████████████████████████████████████████████████████████████████████████████████████████████████████████████████████████████████████████████████████████████████████████████████████████████████████████████████████████████████████████████████████████████████████████████████████████████████████████████████████████████████████████████████████████████████████████████████████████████████████████████████████████████████████████████████████████████████████████████████████████████████████████████████████████████████████████████████████████████████████████████████████████████████████████████████████████████████████████████████████████████████████████████| 391/391 [00:41<00:00,  9.38it/s]\n"
     ]
    },
    {
     "name": "stdout",
     "output_type": "stream",
     "text": [
      "Function Took 41.6910 seconds\n"
     ]
    },
    {
     "name": "stderr",
     "output_type": "stream",
     "text": [
      "Avg Test Loss: 0.5255904567392566 Avg Test Metric: 0.8206471408469768: 100%|███████████████████████████████████████████████████████████████████████████████████████████████████████████████████████████████████████████████████████████████████████████████████████████████████████████████████████████████████████████████████████████████████████████████████████████████████████████████████████████████████████████████████████████████████████████████████████████████████████████████████████████████████████████████████████████████████████████████████████████████████████████████████████████████████████████████████████████████████████████████████████████████████████████████████████████████████████████████████████████████████████████████████████████████████████████████████████████████████████████████████████████████████████████████████████████████████████████████████████████████████████████████████████████████████████████████████████████████████████████████████████████| 79/79 [00:02<00:00, 28.76it/s]\n"
     ]
    },
    {
     "name": "stdout",
     "output_type": "stream",
     "text": [
      "Function Took 2.7502 seconds\n",
      "For next epoch lr:: 0.0005958260438588048\n",
      "Validation loss decreased (0.536381 --> 0.525590).  Saving model ...\n",
      "Epoch 17\n"
     ]
    },
    {
     "name": "stderr",
     "output_type": "stream",
     "text": [
      "Avg Train Loss: 0.5971316130417387 Avg Train Metric: 0.7930369825314378: 100%|███████████████████████████████████████████████████████████████████████████████████████████████████████████████████████████████████████████████████████████████████████████████████████████████████████████████████████████████████████████████████████████████████████████████████████████████████████████████████████████████████████████████████████████████████████████████████████████████████████████████████████████████████████████████████████████████████████████████████████████████████████████████████████████████████████████████████████████████████████████████████████████████████████████████████████████████████████████████████████████████████████████████████████████████████████████████████████████████████████████████████████████████████████████████████████████████████████████████████████████████████████████████████████████████████████████████████████████████████████████████████████| 391/391 [00:41<00:00,  9.46it/s]\n"
     ]
    },
    {
     "name": "stdout",
     "output_type": "stream",
     "text": [
      "Function Took 41.3407 seconds\n"
     ]
    },
    {
     "name": "stderr",
     "output_type": "stream",
     "text": [
      "Avg Test Loss: 0.5415250606174711 Avg Test Metric: 0.8173898888539665: 100%|███████████████████████████████████████████████████████████████████████████████████████████████████████████████████████████████████████████████████████████████████████████████████████████████████████████████████████████████████████████████████████████████████████████████████████████████████████████████████████████████████████████████████████████████████████████████████████████████████████████████████████████████████████████████████████████████████████████████████████████████████████████████████████████████████████████████████████████████████████████████████████████████████████████████████████████████████████████████████████████████████████████████████████████████████████████████████████████████████████████████████████████████████████████████████████████████████████████████████████████████████████████████████████████████████████████████████████████████████████████████████████████| 79/79 [00:02<00:00, 28.61it/s]\n"
     ]
    },
    {
     "name": "stdout",
     "output_type": "stream",
     "text": [
      "Function Took 2.7648 seconds\n",
      "For next epoch lr:: 0.0005779512625430406\n",
      "EarlyStopping counter: 1 out of 3\n",
      "Epoch 18\n"
     ]
    },
    {
     "name": "stderr",
     "output_type": "stream",
     "text": [
      "Avg Train Loss: 0.584772248707159 Avg Train Metric: 0.7953393523345518: 100%|████████████████████████████████████████████████████████████████████████████████████████████████████████████████████████████████████████████████████████████████████████████████████████████████████████████████████████████████████████████████████████████████████████████████████████████████████████████████████████████████████████████████████████████████████████████████████████████████████████████████████████████████████████████████████████████████████████████████████████████████████████████████████████████████████████████████████████████████████████████████████████████████████████████████████████████████████████████████████████████████████████████████████████████████████████████████████████████████████████████████████████████████████████████████████████████████████████████████████████████████████████████████████████████████████████████████████████████████████████████████████████| 391/391 [00:41<00:00,  9.49it/s]\n"
     ]
    },
    {
     "name": "stdout",
     "output_type": "stream",
     "text": [
      "Function Took 41.2253 seconds\n"
     ]
    },
    {
     "name": "stderr",
     "output_type": "stream",
     "text": [
      "Avg Test Loss: 0.5436204996290086 Avg Test Metric: 0.8060053262529494: 100%|███████████████████████████████████████████████████████████████████████████████████████████████████████████████████████████████████████████████████████████████████████████████████████████████████████████████████████████████████████████████████████████████████████████████████████████████████████████████████████████████████████████████████████████████████████████████████████████████████████████████████████████████████████████████████████████████████████████████████████████████████████████████████████████████████████████████████████████████████████████████████████████████████████████████████████████████████████████████████████████████████████████████████████████████████████████████████████████████████████████████████████████████████████████████████████████████████████████████████████████████████████████████████████████████████████████████████████████████████████████████████████████| 79/79 [00:02<00:00, 29.02it/s]\n"
     ]
    },
    {
     "name": "stdout",
     "output_type": "stream",
     "text": [
      "Function Took 2.7259 seconds\n",
      "For next epoch lr:: 0.0005606127246667494\n",
      "EarlyStopping counter: 2 out of 3\n",
      "Epoch 19\n"
     ]
    },
    {
     "name": "stderr",
     "output_type": "stream",
     "text": [
      "Avg Train Loss: 0.5794426907053993 Avg Train Metric: 0.8010267366838577: 100%|███████████████████████████████████████████████████████████████████████████████████████████████████████████████████████████████████████████████████████████████████████████████████████████████████████████████████████████████████████████████████████████████████████████████████████████████████████████████████████████████████████████████████████████████████████████████████████████████████████████████████████████████████████████████████████████████████████████████████████████████████████████████████████████████████████████████████████████████████████████████████████████████████████████████████████████████████████████████████████████████████████████████████████████████████████████████████████████████████████████████████████████████████████████████████████████████████████████████████████████████████████████████████████████████████████████████████████████████████████████████████████| 391/391 [00:41<00:00,  9.43it/s]\n"
     ]
    },
    {
     "name": "stdout",
     "output_type": "stream",
     "text": [
      "Function Took 41.4543 seconds\n"
     ]
    },
    {
     "name": "stderr",
     "output_type": "stream",
     "text": [
      "Avg Test Loss: 0.49355840305738813 Avg Test Metric: 0.8391348206544225: 100%|██████████████████████████████████████████████████████████████████████████████████████████████████████████████████████████████████████████████████████████████████████████████████████████████████████████████████████████████████████████████████████████████████████████████████████████████████████████████████████████████████████████████████████████████████████████████████████████████████████████████████████████████████████████████████████████████████████████████████████████████████████████████████████████████████████████████████████████████████████████████████████████████████████████████████████████████████████████████████████████████████████████████████████████████████████████████████████████████████████████████████████████████████████████████████████████████████████████████████████████████████████████████████████████████████████████████████████████████████████████████████████████| 79/79 [00:02<00:00, 28.19it/s]\n"
     ]
    },
    {
     "name": "stdout",
     "output_type": "stream",
     "text": [
      "Function Took 2.8061 seconds\n",
      "For next epoch lr:: 0.0005437943429267469\n",
      "Validation loss decreased (0.525590 --> 0.493558).  Saving model ...\n"
     ]
    }
   ],
   "source": [
    "train_losses = []\n",
    "train_metrics = []\n",
    "test_losses = []\n",
    "test_metrics = []\n",
    "\n",
    "for epoch in range(0, epochs):\n",
    "    print(f\"Epoch {epoch}\")\n",
    "    train_losses, train_metrics = train_module(\n",
    "        depthwise_model2,\n",
    "        device,\n",
    "        train_loader,\n",
    "        optimizer,\n",
    "        criterion,\n",
    "        metric,\n",
    "        train_losses,\n",
    "        train_metrics,\n",
    "    )\n",
    "    test_losses, test_metrics = test_module(\n",
    "        depthwise_model2,\n",
    "        device,\n",
    "        test_loader,\n",
    "        criterion,\n",
    "        metric,\n",
    "        test_losses,\n",
    "        test_metrics,\n",
    "    )\n",
    "\n",
    "    lr_scheduler.step()  # lr scheduler stepping\n",
    "    print(f\"For next epoch lr:: {lr_scheduler.get_last_lr()[0]}\")\n",
    "    early_stopping(\n",
    "        test_losses[-1], depthwise_model2, epoch\n",
    "    )  # last recorded test loss to measure the improvement against the prior one\n",
    "    if early_stopping.early_stop:\n",
    "        print(\"Early stopping\")\n",
    "        break"
   ]
  },
  {
   "cell_type": "code",
   "execution_count": 108,
   "metadata": {},
   "outputs": [
    {
     "data": {
      "image/png": "[encoded data removed]",
      "text/plain": [
       "<Figure size 1152x720 with 2 Axes>"
      ]
     },
     "metadata": {
      "needs_background": "light"
     },
     "output_type": "display_data"
    }
   ],
   "source": [
    "plot_loss_accuracy(\n",
    "    train_loss=[train_losses],\n",
    "    val_loss=[test_losses],\n",
    "    train_acc=[train_metrics],\n",
    "    val_acc=[test_metrics],\n",
    "    labels=[\"depthwise_sep-2\"],\n",
    "    colors=[\"blue\"],\n",
    "    loss_legend_loc=\"upper left\",\n",
    "    acc_legend_loc=\"upper left\",\n",
    "    legend_font=7,\n",
    ")"
   ]
  },
  {
   "cell_type": "code",
   "execution_count": null,
   "metadata": {},
   "outputs": [],
   "source": []
  }
 ],
 "metadata": {
  "kernelspec": {
   "display_name": "torch_env",
   "language": "python",
   "name": "python3"
  },
  "language_info": {
   "codemirror_mode": {
    "name": "ipython",
    "version": 3
   },
   "file_extension": ".py",
   "mimetype": "text/x-python",
   "name": "python",
   "nbconvert_exporter": "python",
   "pygments_lexer": "ipython3",
   "version": "3.10.12"
  }
 },
 "nbformat": 4,
 "nbformat_minor": 2
}
