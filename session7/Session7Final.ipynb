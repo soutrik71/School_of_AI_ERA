{
  "nbformat": 4,
  "nbformat_minor": 0,
  "metadata": {
    "colab": {
      "provenance": [],
      "gpuType": "T4",
      "authorship_tag": "ABX9TyP7oPN1Q2UIwEC5rJgEyx8s",
      "include_colab_link": true
    },
    "kernelspec": {
      "name": "python3",
      "display_name": "Python 3"
    },
    "language_info": {
      "name": "python"
    },
    "accelerator": "GPU"
  },
  "cells": [
    {
      "cell_type": "markdown",
      "metadata": {
        "id": "view-in-github",
        "colab_type": "text"
      },
      "source": [
        "<a href=\"https://colab.research.google.com/github/soutrik71/School_of_AI_ERA/blob/main/session7/Session7Final.ipynb\" target=\"_parent\"><img src=\"https://colab.research.google.com/assets/colab-badge.svg\" alt=\"Open In Colab\"/></a>"
      ]
    },
    {
      "cell_type": "markdown",
      "source": [
        "This notebook is used to solve the assignment for the 7th session of the course. This is the final notebook after a lot of experimentations.\n",
        "Below specified are a few key assumptions that we take into consideration.\n",
        "1. For the first block we use 2 Cnn layers as a result of experiments rf=5 is the best to apply the first transition layer\n",
        "2. In the transition layer we apply the (1,1) first and then maxpooling which we call as combine and compress\n",
        "3. We try to keep the model param size under ~ 8/8.5k and epoch under 15"
      ],
      "metadata": {
        "id": "9rHvarTjGJBW"
      }
    },
    {
      "cell_type": "markdown",
      "source": [
        "## Helper Elements"
      ],
      "metadata": {
        "id": "yezA_gVJIeR4"
      }
    },
    {
      "cell_type": "code",
      "source": [
        "import os\n",
        "os.environ['CUDA_LAUNCH_BLOCKING'] = \"1\""
      ],
      "metadata": {
        "id": "0e9vknXJIeVM"
      },
      "execution_count": 2,
      "outputs": []
    },
    {
      "cell_type": "code",
      "source": [
        "!pip install portalocker\n",
        "!pip install torchview\n",
        "!pip install torcheval\n",
        "!pip install scikit-plot"
      ],
      "metadata": {
        "colab": {
          "base_uri": "https://localhost:8080/"
        },
        "id": "KJX7n1v0IeZN",
        "outputId": "1a4e023b-e98a-4c81-88db-31923c1b8cb3"
      },
      "execution_count": 1,
      "outputs": [
        {
          "output_type": "stream",
          "name": "stdout",
          "text": [
            "Collecting portalocker\n",
            "  Downloading portalocker-2.8.2-py3-none-any.whl (17 kB)\n",
            "Installing collected packages: portalocker\n",
            "Successfully installed portalocker-2.8.2\n",
            "Collecting torchview\n",
            "  Downloading torchview-0.2.6-py3-none-any.whl (25 kB)\n",
            "Installing collected packages: torchview\n",
            "Successfully installed torchview-0.2.6\n",
            "Collecting torcheval\n",
            "  Downloading torcheval-0.0.7-py3-none-any.whl (179 kB)\n",
            "\u001b[2K     \u001b[90m━━━━━━━━━━━━━━━━━━━━━━━━━━━━━━━━━━━━━━━━\u001b[0m \u001b[32m179.2/179.2 kB\u001b[0m \u001b[31m5.7 MB/s\u001b[0m eta \u001b[36m0:00:00\u001b[0m\n",
            "\u001b[?25hRequirement already satisfied: typing-extensions in /usr/local/lib/python3.10/dist-packages (from torcheval) (4.10.0)\n",
            "Installing collected packages: torcheval\n",
            "Successfully installed torcheval-0.0.7\n",
            "Collecting scikit-plot\n",
            "  Downloading scikit_plot-0.3.7-py3-none-any.whl (33 kB)\n",
            "Requirement already satisfied: matplotlib>=1.4.0 in /usr/local/lib/python3.10/dist-packages (from scikit-plot) (3.7.1)\n",
            "Requirement already satisfied: scikit-learn>=0.18 in /usr/local/lib/python3.10/dist-packages (from scikit-plot) (1.2.2)\n",
            "Requirement already satisfied: scipy>=0.9 in /usr/local/lib/python3.10/dist-packages (from scikit-plot) (1.11.4)\n",
            "Requirement already satisfied: joblib>=0.10 in /usr/local/lib/python3.10/dist-packages (from scikit-plot) (1.3.2)\n",
            "Requirement already satisfied: contourpy>=1.0.1 in /usr/local/lib/python3.10/dist-packages (from matplotlib>=1.4.0->scikit-plot) (1.2.0)\n",
            "Requirement already satisfied: cycler>=0.10 in /usr/local/lib/python3.10/dist-packages (from matplotlib>=1.4.0->scikit-plot) (0.12.1)\n",
            "Requirement already satisfied: fonttools>=4.22.0 in /usr/local/lib/python3.10/dist-packages (from matplotlib>=1.4.0->scikit-plot) (4.49.0)\n",
            "Requirement already satisfied: kiwisolver>=1.0.1 in /usr/local/lib/python3.10/dist-packages (from matplotlib>=1.4.0->scikit-plot) (1.4.5)\n",
            "Requirement already satisfied: numpy>=1.20 in /usr/local/lib/python3.10/dist-packages (from matplotlib>=1.4.0->scikit-plot) (1.25.2)\n",
            "Requirement already satisfied: packaging>=20.0 in /usr/local/lib/python3.10/dist-packages (from matplotlib>=1.4.0->scikit-plot) (23.2)\n",
            "Requirement already satisfied: pillow>=6.2.0 in /usr/local/lib/python3.10/dist-packages (from matplotlib>=1.4.0->scikit-plot) (9.4.0)\n",
            "Requirement already satisfied: pyparsing>=2.3.1 in /usr/local/lib/python3.10/dist-packages (from matplotlib>=1.4.0->scikit-plot) (3.1.1)\n",
            "Requirement already satisfied: python-dateutil>=2.7 in /usr/local/lib/python3.10/dist-packages (from matplotlib>=1.4.0->scikit-plot) (2.8.2)\n",
            "Requirement already satisfied: threadpoolctl>=2.0.0 in /usr/local/lib/python3.10/dist-packages (from scikit-learn>=0.18->scikit-plot) (3.3.0)\n",
            "Requirement already satisfied: six>=1.5 in /usr/local/lib/python3.10/dist-packages (from python-dateutil>=2.7->matplotlib>=1.4.0->scikit-plot) (1.16.0)\n",
            "Installing collected packages: scikit-plot\n",
            "Successfully installed scikit-plot-0.3.7\n"
          ]
        }
      ]
    },
    {
      "cell_type": "code",
      "source": [
        "import torch\n",
        "import torch.nn as nn\n",
        "import torch.nn.functional as F\n",
        "import torch.optim as optim\n",
        "import torchvision.transforms as transforms\n",
        "import matplotlib.pyplot as plt\n",
        "import numpy as np\n",
        "import torchvision\n",
        "import torchvision.datasets as datasets\n",
        "from torch.utils.data import Dataset, DataLoader\n",
        "from torchsummary import summary\n",
        "from torchview import draw_graph\n",
        "from pathlib import Path\n",
        "import pandas as pd\n",
        "from sklearn.preprocessing import StandardScaler\n",
        "from sklearn.model_selection import train_test_split\n",
        "from tqdm import tqdm\n",
        "import random\n",
        "from torcheval.metrics import MulticlassAccuracy,BinaryAccuracy\n",
        "from torchvision.transforms import ToTensor\n",
        "import matplotlib.pyplot as plt\n",
        "from torch.optim.lr_scheduler import ReduceLROnPlateau, StepLR, OneCycleLR, ExponentialLR"
      ],
      "metadata": {
        "id": "xgTc-vLzIec5"
      },
      "execution_count": 3,
      "outputs": []
    },
    {
      "cell_type": "code",
      "source": [
        "def set_seed(seed: int = 42) -> None:\n",
        "    np.random.seed(seed)\n",
        "    random.seed(seed)\n",
        "    torch.manual_seed(seed)\n",
        "    torch.cuda.manual_seed(seed)\n",
        "    # When running on the CuDNN backend, two further options must be set\n",
        "    torch.backends.cudnn.deterministic = True\n",
        "    torch.backends.cudnn.benchmark = False\n",
        "    # Set a fixed value for the hash seed\n",
        "    os.environ[\"PYTHONHASHSEED\"] = str(seed)\n",
        "    print(f\"Random seed set as {seed}\")"
      ],
      "metadata": {
        "id": "qc4w3PbTNt7X"
      },
      "execution_count": 4,
      "outputs": []
    },
    {
      "cell_type": "code",
      "source": [
        "def plot_loss_accuracy(train_loss, val_loss, train_acc, val_acc, labels, colors,\n",
        "                       loss_legend_loc='upper center', acc_legend_loc='upper left', legend_font=5,\n",
        "                       fig_size=(16, 10), sub_plot1=(1, 2, 1), sub_plot2=(1, 2, 2)):\n",
        "\n",
        "    plt.rcParams[\"figure.figsize\"] = fig_size\n",
        "    plt.figure\n",
        "\n",
        "\n",
        "    plt.subplot(sub_plot1[0], sub_plot1[1], sub_plot1[2])\n",
        "\n",
        "    for i in range(len(train_loss)):\n",
        "        x_train = range(len(train_loss[i]))\n",
        "        x_val = range(len(val_loss[i]))\n",
        "\n",
        "        min_train_loss = np.array(train_loss[i]).min()\n",
        "\n",
        "        min_val_loss = np.array(val_loss[i]).min()\n",
        "\n",
        "        plt.plot(x_train, train_loss[i], linestyle='-', color='tab:{}'.format(colors[i]),\n",
        "                 label=\"TRAIN ({0:.4}): {1}\".format(min_train_loss, labels[i]))\n",
        "        plt.plot(x_val, val_loss[i], linestyle='--' , color='tab:{}'.format(colors[i]),\n",
        "                 label=\"VALID ({0:.4}): {1}\".format(min_val_loss, labels[i]))\n",
        "\n",
        "    plt.xlabel('epoch no.')\n",
        "    plt.ylabel('loss')\n",
        "    plt.legend(loc=loss_legend_loc, prop={'size': legend_font})\n",
        "    plt.title('Training and Validation Loss')\n",
        "\n",
        "    plt.subplot(sub_plot2[0], sub_plot2[1], sub_plot2[2])\n",
        "\n",
        "    for i in range(len(train_acc)):\n",
        "        x_train = range(len(train_acc[i]))\n",
        "        x_val = range(len(val_acc[i]))\n",
        "\n",
        "        max_train_acc = np.array(train_acc[i]).max()\n",
        "\n",
        "        max_val_acc = np.array(val_acc[i]).max()\n",
        "\n",
        "        plt.plot(x_train, train_acc[i], linestyle='-', color='tab:{}'.format(colors[i]),\n",
        "                 label=\"TRAIN ({0:.4}): {1}\".format(max_train_acc, labels[i]))\n",
        "        plt.plot(x_val, val_acc[i], linestyle='--' , color='tab:{}'.format(colors[i]),\n",
        "                 label=\"VALID ({0:.4}): {1}\".format(max_val_acc, labels[i]))\n",
        "\n",
        "    plt.xlabel('epoch no.')\n",
        "    plt.ylabel('accuracy')\n",
        "    plt.legend(loc=acc_legend_loc, prop={'size': legend_font})\n",
        "    plt.title('Training and Validation Accuracy')\n",
        "\n",
        "    plt.show()"
      ],
      "metadata": {
        "id": "-RldAmWgIekD"
      },
      "execution_count": 5,
      "outputs": []
    },
    {
      "cell_type": "code",
      "source": [
        "# decorator function to record time exp\n",
        "from functools import wraps\n",
        "import time\n",
        "\n",
        "def timeit(func):\n",
        "    @wraps(func)\n",
        "    def timeit_wrapper(*args, **kwargs):\n",
        "        start_time = time.perf_counter()\n",
        "        result = func(*args, **kwargs)\n",
        "        end_time = time.perf_counter()\n",
        "        total_time = end_time - start_time\n",
        "        print(f'Function Took {total_time:.4f} seconds')\n",
        "        return result\n",
        "    return timeit_wrapper"
      ],
      "metadata": {
        "id": "JLj32tzMIen_"
      },
      "execution_count": 6,
      "outputs": []
    },
    {
      "cell_type": "code",
      "source": [
        "# Set manual seed since nn.Parameter are randomly initialzied\n",
        "set_seed(42)\n",
        "# Set device cuda for GPU if it's available otherwise run on the CPU\n",
        "device = torch.device(\"cuda\" if torch.cuda.is_available() else \"cpu\")\n",
        "print(device)\n",
        "batch_size = 1024\n",
        "epochs = 15\n",
        "lr = 1e-3"
      ],
      "metadata": {
        "colab": {
          "base_uri": "https://localhost:8080/"
        },
        "id": "ivhMq-4bIert",
        "outputId": "caaca1b0-02b1-4f0d-fd0a-a0211b147f30"
      },
      "execution_count": 7,
      "outputs": [
        {
          "output_type": "stream",
          "name": "stdout",
          "text": [
            "Random seed set as 42\n",
            "cuda\n"
          ]
        }
      ]
    },
    {
      "cell_type": "markdown",
      "source": [
        "## Data Read and Preprocess"
      ],
      "metadata": {
        "id": "zOaSYjNIIevz"
      }
    },
    {
      "cell_type": "code",
      "source": [
        "# Train Phase transformations\n",
        "train_transforms = transforms.Compose([\n",
        "                                      transforms.ToTensor(),\n",
        "                                      transforms.Normalize((0.1307,), (0.3081,)) # The mean and std have to be sequences (e.g., tuples), therefore you should add a comma after the values.\n",
        "                                       ])\n",
        "\n",
        "# Test Phase transformations\n",
        "test_transforms = transforms.Compose([\n",
        "                                transforms.ToTensor(),\n",
        "                                transforms.Normalize((0.1307,), (0.3081,))\n",
        "                                ])\n"
      ],
      "metadata": {
        "id": "_lMvBY1sMKDd"
      },
      "execution_count": 8,
      "outputs": []
    },
    {
      "cell_type": "code",
      "source": [
        "# downloading train and test data\n",
        "train = datasets.MNIST('./data', train=True, download=True, transform=train_transforms)\n",
        "test = datasets.MNIST('./data', train=False, download=True, transform=test_transforms)"
      ],
      "metadata": {
        "id": "IKb1CI0JMKGu",
        "colab": {
          "base_uri": "https://localhost:8080/"
        },
        "outputId": "634f35d4-93fa-4e49-a038-284b0c03104d"
      },
      "execution_count": 9,
      "outputs": [
        {
          "output_type": "stream",
          "name": "stdout",
          "text": [
            "Downloading http://yann.lecun.com/exdb/mnist/train-images-idx3-ubyte.gz\n",
            "Downloading http://yann.lecun.com/exdb/mnist/train-images-idx3-ubyte.gz to ./data/MNIST/raw/train-images-idx3-ubyte.gz\n"
          ]
        },
        {
          "output_type": "stream",
          "name": "stderr",
          "text": [
            "100%|██████████| 9912422/9912422 [00:00<00:00, 100531997.39it/s]\n"
          ]
        },
        {
          "output_type": "stream",
          "name": "stdout",
          "text": [
            "Extracting ./data/MNIST/raw/train-images-idx3-ubyte.gz to ./data/MNIST/raw\n",
            "\n",
            "Downloading http://yann.lecun.com/exdb/mnist/train-labels-idx1-ubyte.gz\n",
            "Downloading http://yann.lecun.com/exdb/mnist/train-labels-idx1-ubyte.gz to ./data/MNIST/raw/train-labels-idx1-ubyte.gz\n"
          ]
        },
        {
          "output_type": "stream",
          "name": "stderr",
          "text": [
            "100%|██████████| 28881/28881 [00:00<00:00, 112579641.10it/s]\n"
          ]
        },
        {
          "output_type": "stream",
          "name": "stdout",
          "text": [
            "Extracting ./data/MNIST/raw/train-labels-idx1-ubyte.gz to ./data/MNIST/raw\n",
            "\n",
            "Downloading http://yann.lecun.com/exdb/mnist/t10k-images-idx3-ubyte.gz\n",
            "Downloading http://yann.lecun.com/exdb/mnist/t10k-images-idx3-ubyte.gz to ./data/MNIST/raw/t10k-images-idx3-ubyte.gz\n"
          ]
        },
        {
          "output_type": "stream",
          "name": "stderr",
          "text": [
            "100%|██████████| 1648877/1648877 [00:00<00:00, 39333053.12it/s]"
          ]
        },
        {
          "output_type": "stream",
          "name": "stdout",
          "text": [
            "Extracting ./data/MNIST/raw/t10k-images-idx3-ubyte.gz to ./data/MNIST/raw\n"
          ]
        },
        {
          "output_type": "stream",
          "name": "stderr",
          "text": [
            "\n"
          ]
        },
        {
          "output_type": "stream",
          "name": "stdout",
          "text": [
            "\n",
            "Downloading http://yann.lecun.com/exdb/mnist/t10k-labels-idx1-ubyte.gz\n",
            "Downloading http://yann.lecun.com/exdb/mnist/t10k-labels-idx1-ubyte.gz to ./data/MNIST/raw/t10k-labels-idx1-ubyte.gz\n"
          ]
        },
        {
          "output_type": "stream",
          "name": "stderr",
          "text": [
            "100%|██████████| 4542/4542 [00:00<00:00, 6882416.46it/s]\n"
          ]
        },
        {
          "output_type": "stream",
          "name": "stdout",
          "text": [
            "Extracting ./data/MNIST/raw/t10k-labels-idx1-ubyte.gz to ./data/MNIST/raw\n",
            "\n"
          ]
        }
      ]
    },
    {
      "cell_type": "code",
      "source": [
        "#Dataloaders\n",
        "# dataloader arguments - something you'll fetch these from cmdprmt\n",
        "dataloader_args = dict(shuffle=True, batch_size=128, num_workers=4, pin_memory=True) if device.type == 'cuda' else dict(shuffle=True, batch_size=64)\n",
        "\n",
        "# train dataloader\n",
        "train_loader = torch.utils.data.DataLoader(train, **dataloader_args)\n",
        "\n",
        "# test dataloader\n",
        "test_loader = torch.utils.data.DataLoader(test, **dataloader_args)"
      ],
      "metadata": {
        "id": "8QhnRlNsMKJ7",
        "colab": {
          "base_uri": "https://localhost:8080/"
        },
        "outputId": "0b2c8993-529e-4b50-ecdd-8cee15fc19ab"
      },
      "execution_count": 10,
      "outputs": [
        {
          "output_type": "stream",
          "name": "stderr",
          "text": [
            "/usr/local/lib/python3.10/dist-packages/torch/utils/data/dataloader.py:557: UserWarning: This DataLoader will create 4 worker processes in total. Our suggested max number of worker in current system is 2, which is smaller than what this DataLoader is going to create. Please be aware that excessive worker creation might get DataLoader running slow or even freeze, lower the worker number to avoid potential slowness/freeze if necessary.\n",
            "  warnings.warn(_create_warning_msg(\n"
          ]
        }
      ]
    },
    {
      "cell_type": "code",
      "source": [
        "## Basic Data Statistics\n",
        "# We'd need to convert it into Numpy! Remember above we have converted it into tensors already\n",
        "train_data = train.train_data\n",
        "train_data = train.transform(train_data.numpy())\n",
        "\n",
        "print('[Train]')\n",
        "print(' - Numpy Shape:', train.train_data.cpu().numpy().shape)\n",
        "print(' - Tensor Shape:', train.train_data.size())\n",
        "print(' - min:', torch.min(train_data))\n",
        "print(' - max:', torch.max(train_data))\n",
        "print(' - mean:', torch.mean(train_data))\n",
        "print(' - std:', torch.std(train_data))\n",
        "print(' - var:', torch.var(train_data))\n",
        "\n",
        "dataiter = iter(train_loader)\n",
        "images, labels = next(dataiter)\n",
        "\n",
        "print(images.shape)\n",
        "print(labels.shape)\n",
        "\n",
        "# Let's visualize some of the images\n",
        "plt.imshow(images[0].numpy().squeeze(), cmap='gray_r')\n"
      ],
      "metadata": {
        "colab": {
          "base_uri": "https://localhost:8080/",
          "height": 667
        },
        "id": "e12WEvqOMKNI",
        "outputId": "db6af3ed-5339-417a-c118-53dc56da455e"
      },
      "execution_count": 11,
      "outputs": [
        {
          "output_type": "stream",
          "name": "stderr",
          "text": [
            "/usr/local/lib/python3.10/dist-packages/torchvision/datasets/mnist.py:75: UserWarning: train_data has been renamed data\n",
            "  warnings.warn(\"train_data has been renamed data\")\n"
          ]
        },
        {
          "output_type": "stream",
          "name": "stdout",
          "text": [
            "[Train]\n",
            " - Numpy Shape: (60000, 28, 28)\n",
            " - Tensor Shape: torch.Size([60000, 28, 28])\n",
            " - min: tensor(-0.4242)\n",
            " - max: tensor(2.8215)\n",
            " - mean: tensor(-0.0001)\n",
            " - std: tensor(1.0000)\n",
            " - var: tensor(1.0001)\n",
            "torch.Size([128, 1, 28, 28])\n",
            "torch.Size([128])\n"
          ]
        },
        {
          "output_type": "execute_result",
          "data": {
            "text/plain": [
              "<matplotlib.image.AxesImage at 0x7b0ffd5db5b0>"
            ]
          },
          "metadata": {},
          "execution_count": 11
        },
        {
          "output_type": "display_data",
          "data": {
            "text/plain": [
              "<Figure size 640x480 with 1 Axes>"
            ],
            "image/png": "[encoded data removed]"
          },
          "metadata": {}
        }
      ]
    },
    {
      "cell_type": "code",
      "source": [
        "figure = plt.figure()\n",
        "num_of_images = 60\n",
        "for index in range(1, num_of_images + 1):\n",
        "    plt.subplot(10, 10, index)\n",
        "    plt.axis('off')\n",
        "    plt.imshow(images[index].numpy().squeeze(), cmap='gray_r')"
      ],
      "metadata": {
        "colab": {
          "base_uri": "https://localhost:8080/",
          "height": 256
        },
        "id": "jR53KQHpMKQr",
        "outputId": "6f51e552-f0db-400b-ba7f-709b01534088"
      },
      "execution_count": 12,
      "outputs": [
        {
          "output_type": "display_data",
          "data": {
            "text/plain": [
              "<Figure size 640x480 with 60 Axes>"
            ],
            "image/png": "[encoded data removed]"
          },
          "metadata": {}
        }
      ]
    },
    {
      "cell_type": "markdown",
      "source": [
        "## Basic Model Setup\n",
        "* Basic Cnn Model under the guidelines\n",
        "* Application of Batchnorm as first step to regularization\n",
        "* Application of Cnn as the final classification layer"
      ],
      "metadata": {
        "id": "Brrfb0SRIezo"
      }
    },
    {
      "cell_type": "code",
      "source": [
        "class Mnist_Baseline(nn.Module):\n",
        "\n",
        "  def __init__(self, in_channels, hidden_units, out_channels):\n",
        "    super(Mnist_Baseline, self).__init__()\n",
        "\n",
        "    # 3 sets of convolution blocks with batchnorm added\n",
        "    self.conv1 = nn.Sequential(\n",
        "        # set-1\n",
        "        nn.Conv2d(in_channels=in_channels, out_channels=hidden_units, kernel_size=3, stride=1, padding=0), #26,3\n",
        "        nn.BatchNorm2d(hidden_units),\n",
        "        nn.ReLU(),\n",
        "        #set-2\n",
        "        nn.Conv2d(in_channels=hidden_units, out_channels=hidden_units,  kernel_size=3, stride=1, padding=0), #24,5\n",
        "        nn.BatchNorm2d(hidden_units),\n",
        "        nn.ReLU(),\n",
        "    )\n",
        "\n",
        "    # transition block with 1,1 mixer and maxpool added after it ie condense and compress\n",
        "    self.transition = nn.Sequential(\n",
        "        nn.Conv2d(in_channels=hidden_units, out_channels=hidden_units, kernel_size=1, stride=1, padding=0), #24,6\n",
        "        nn.BatchNorm2d(hidden_units),\n",
        "        nn.ReLU(),\n",
        "        nn.MaxPool2d(kernel_size=2, stride=2) #12,6\n",
        "    )\n",
        "\n",
        "    # 3 sets of convolution blocks with batchnorm added\n",
        "    self.conv2 = nn.Sequential(\n",
        "        # set-1\n",
        "        nn.Conv2d(in_channels=hidden_units, out_channels=hidden_units, kernel_size=3, stride=1, padding=0), #10,10\n",
        "        nn.BatchNorm2d(hidden_units),\n",
        "        nn.ReLU(),\n",
        "        #set-2\n",
        "        nn.Conv2d(in_channels=hidden_units, out_channels=hidden_units, kernel_size=3, stride=1, padding=0), #8,14\n",
        "        nn.BatchNorm2d(hidden_units),\n",
        "        nn.ReLU(),\n",
        "        #set-3\n",
        "        nn.Conv2d(in_channels=hidden_units, out_channels=hidden_units, kernel_size=3, stride=1, padding=0), #6,18\n",
        "        nn.BatchNorm2d(hidden_units),\n",
        "        nn.ReLU(),\n",
        "        #set-4\n",
        "        nn.Conv2d(in_channels=hidden_units, out_channels=hidden_units, kernel_size=3, stride=1, padding=0), #4,22\n",
        "        nn.BatchNorm2d(hidden_units),\n",
        "        nn.ReLU(),\n",
        "    )\n",
        "\n",
        "    self.classifier = nn.Sequential(nn.Conv2d(in_channels=hidden_units, out_channels=out_channels, kernel_size=4, stride=1, padding=0))\n",
        "\n",
        "\n",
        "  def forward(self, x):\n",
        "      x = self.conv1(x)\n",
        "      x = self.transition(x)\n",
        "      x = self.conv2(x)\n",
        "      x = self.classifier(x)\n",
        "      x = x.view(-1, 10)\n",
        "      return F.log_softmax(x, dim=-1)"
      ],
      "metadata": {
        "id": "eeEyGxz8Ie3Z"
      },
      "execution_count": 18,
      "outputs": []
    },
    {
      "cell_type": "code",
      "source": [
        "# New Model Instance\n",
        "baseline_model = Mnist_Baseline(in_channels=1,hidden_units=12,out_channels=10).to(device)\n",
        "summary(baseline_model, input_size=(1, 28, 28))"
      ],
      "metadata": {
        "colab": {
          "base_uri": "https://localhost:8080/"
        },
        "id": "eSZimXGyIe7K",
        "outputId": "90bfbc25-26c6-423e-d7fd-2ef30dcb6bb2"
      },
      "execution_count": 19,
      "outputs": [
        {
          "output_type": "stream",
          "name": "stdout",
          "text": [
            "----------------------------------------------------------------\n",
            "        Layer (type)               Output Shape         Param #\n",
            "================================================================\n",
            "            Conv2d-1           [-1, 12, 26, 26]             120\n",
            "       BatchNorm2d-2           [-1, 12, 26, 26]              24\n",
            "              ReLU-3           [-1, 12, 26, 26]               0\n",
            "            Conv2d-4           [-1, 12, 24, 24]           1,308\n",
            "       BatchNorm2d-5           [-1, 12, 24, 24]              24\n",
            "              ReLU-6           [-1, 12, 24, 24]               0\n",
            "            Conv2d-7           [-1, 12, 24, 24]             156\n",
            "       BatchNorm2d-8           [-1, 12, 24, 24]              24\n",
            "              ReLU-9           [-1, 12, 24, 24]               0\n",
            "        MaxPool2d-10           [-1, 12, 12, 12]               0\n",
            "           Conv2d-11           [-1, 12, 10, 10]           1,308\n",
            "      BatchNorm2d-12           [-1, 12, 10, 10]              24\n",
            "             ReLU-13           [-1, 12, 10, 10]               0\n",
            "           Conv2d-14             [-1, 12, 8, 8]           1,308\n",
            "      BatchNorm2d-15             [-1, 12, 8, 8]              24\n",
            "             ReLU-16             [-1, 12, 8, 8]               0\n",
            "           Conv2d-17             [-1, 12, 6, 6]           1,308\n",
            "      BatchNorm2d-18             [-1, 12, 6, 6]              24\n",
            "             ReLU-19             [-1, 12, 6, 6]               0\n",
            "           Conv2d-20             [-1, 12, 4, 4]           1,308\n",
            "      BatchNorm2d-21             [-1, 12, 4, 4]              24\n",
            "             ReLU-22             [-1, 12, 4, 4]               0\n",
            "           Conv2d-23             [-1, 10, 1, 1]           1,930\n",
            "================================================================\n",
            "Total params: 8,914\n",
            "Trainable params: 8,914\n",
            "Non-trainable params: 0\n",
            "----------------------------------------------------------------\n",
            "Input size (MB): 0.00\n",
            "Forward/backward pass size (MB): 0.57\n",
            "Params size (MB): 0.03\n",
            "Estimated Total Size (MB): 0.61\n",
            "----------------------------------------------------------------\n"
          ]
        }
      ]
    },
    {
      "cell_type": "code",
      "source": [
        "# graphical representation of the model architecture\n",
        "model_graph = draw_graph(baseline_model, input_size=(1,1, 28, 28), expand_nested=True)\n",
        "model_graph.resize_graph(scale=10)\n",
        "model_graph.visual_graph"
      ],
      "metadata": {
        "colab": {
          "base_uri": "https://localhost:8080/",
          "height": 1000
        },
        "id": "RT8kH1keIe--",
        "outputId": "7dee9cbf-0a7f-4dbe-c7fa-d7786d9e50b4"
      },
      "execution_count": 20,
      "outputs": [
        {
          "output_type": "execute_result",
          "data": {
            "image/svg+xml": "<?xml version=\"1.0\" encoding=\"UTF-8\" standalone=\"no\"?>\n<!DOCTYPE svg PUBLIC \"-//W3C//DTD SVG 1.1//EN\"\n \"http://www.w3.org/Graphics/SVG/1.1/DTD/svg11.dtd\">\n<!-- Generated by graphviz version 2.43.0 (0)\n -->\n<!-- Title: model Pages: 1 -->\n<svg width=\"284pt\" height=\"2086pt\"\n viewBox=\"0.00 0.00 284.00 2086.00\" xmlns=\"http://www.w3.org/2000/svg\" xmlns:xlink=\"http://www.w3.org/1999/xlink\">\n<g id=\"graph0\" class=\"graph\" transform=\"scale(1 1) rotate(0) translate(4 2082)\">\n<title>model</title>\n<polygon fill=\"white\" stroke=\"transparent\" points=\"-4,4 -4,-2082 280,-2082 280,4 -4,4\"/>\n<g id=\"clust1\" class=\"cluster\">\n<title>cluster_2</title>\n<polygon fill=\"none\" stroke=\"black\" stroke-dasharray=\"5,2\" points=\"8,-1569 8,-2038 268,-2038 268,-1569 8,-1569\"/>\n<text text-anchor=\"middle\" x=\"41\" y=\"-2024.4\" font-family=\"Times,serif\" font-size=\"12.00\">Sequential</text>\n</g>\n<g id=\"clust2\" class=\"cluster\">\n<title>cluster_3</title>\n<polygon fill=\"none\" stroke=\"black\" stroke-dasharray=\"5,2\" points=\"8,-1248 8,-1561 268,-1561 268,-1248 8,-1248\"/>\n<text text-anchor=\"middle\" x=\"41\" y=\"-1547.4\" font-family=\"Times,serif\" font-size=\"12.00\">Sequential</text>\n</g>\n<g id=\"clust3\" class=\"cluster\">\n<title>cluster_4</title>\n<polygon fill=\"none\" stroke=\"black\" stroke-dasharray=\"5,2\" points=\"8,-303 8,-1240 268,-1240 268,-303 8,-303\"/>\n<text text-anchor=\"middle\" x=\"41\" y=\"-1226.4\" font-family=\"Times,serif\" font-size=\"12.00\">Sequential</text>\n</g>\n<g id=\"clust4\" class=\"cluster\">\n<title>cluster_5</title>\n<polygon fill=\"none\" stroke=\"black\" stroke-dasharray=\"5,2\" points=\"26,-216 26,-295 250,-295 250,-216 26,-216\"/>\n<text text-anchor=\"middle\" x=\"59\" y=\"-281.4\" font-family=\"Times,serif\" font-size=\"12.00\">Sequential</text>\n</g>\n<!-- 0 -->\n<g id=\"node1\" class=\"node\">\n<title>0</title>\n<polygon fill=\"lightyellow\" stroke=\"transparent\" points=\"227,-2078 49,-2078 49,-2046 227,-2046 227,-2078\"/>\n<polygon fill=\"none\" stroke=\"black\" points=\"49,-2046 49,-2078 132,-2078 132,-2046 49,-2046\"/>\n<text text-anchor=\"start\" x=\"54\" y=\"-2065\" font-family=\"Linux libertine\" font-size=\"10.00\">input&#45;tensor</text>\n<text text-anchor=\"start\" x=\"69\" y=\"-2054\" font-family=\"Linux libertine\" font-size=\"10.00\">depth:0</text>\n<polygon fill=\"none\" stroke=\"black\" points=\"132,-2046 132,-2078 227,-2078 227,-2046 132,-2046\"/>\n<text text-anchor=\"start\" x=\"137\" y=\"-2059.5\" font-family=\"Linux libertine\" font-size=\"10.00\">(1, 1, 28, 28)</text>\n</g>\n<!-- 1 -->\n<g id=\"node2\" class=\"node\">\n<title>1</title>\n<polygon fill=\"#c1ffc1\" stroke=\"transparent\" points=\"247.5,-2009 28.5,-2009 28.5,-1967 247.5,-1967 247.5,-2009\"/>\n<polygon fill=\"none\" stroke=\"black\" points=\"29,-1967 29,-2009 82,-2009 82,-1967 29,-1967\"/>\n<text text-anchor=\"start\" x=\"37\" y=\"-1991\" font-family=\"Linux libertine\" font-size=\"10.00\">Conv2d</text>\n<text text-anchor=\"start\" x=\"34\" y=\"-1980\" font-family=\"Linux libertine\" font-size=\"10.00\">depth:2</text>\n<polygon fill=\"none\" stroke=\"black\" points=\"82,-1988 82,-2009 141,-2009 141,-1988 82,-1988\"/>\n<text text-anchor=\"start\" x=\"93\" y=\"-1996\" font-family=\"Linux libertine\" font-size=\"10.00\">input:</text>\n<polygon fill=\"none\" stroke=\"black\" points=\"141,-1988 141,-2009 248,-2009 248,-1988 141,-1988\"/>\n<text text-anchor=\"start\" x=\"149\" y=\"-1996\" font-family=\"Linux libertine\" font-size=\"10.00\">(1, 1, 28, 28) </text>\n<polygon fill=\"none\" stroke=\"black\" points=\"82,-1967 82,-1988 141,-1988 141,-1967 82,-1967\"/>\n<text text-anchor=\"start\" x=\"87\" y=\"-1975\" font-family=\"Linux libertine\" font-size=\"10.00\">output: </text>\n<polygon fill=\"none\" stroke=\"black\" points=\"141,-1967 141,-1988 248,-1988 248,-1967 141,-1967\"/>\n<text text-anchor=\"start\" x=\"146\" y=\"-1975\" font-family=\"Linux libertine\" font-size=\"10.00\">(1, 12, 26, 26) </text>\n</g>\n<!-- 0&#45;&gt;1 -->\n<g id=\"edge1\" class=\"edge\">\n<title>0&#45;&gt;1</title>\n<path fill=\"none\" stroke=\"black\" d=\"M138,-2045.73C138,-2038.08 138,-2028.52 138,-2019.45\"/>\n<polygon fill=\"black\" stroke=\"black\" points=\"141.5,-2019.17 138,-2009.17 134.5,-2019.17 141.5,-2019.17\"/>\n</g>\n<!-- 2 -->\n<g id=\"node3\" class=\"node\">\n<title>2</title>\n<polygon fill=\"#c1ffc1\" stroke=\"transparent\" points=\"259.5,-1931 16.5,-1931 16.5,-1889 259.5,-1889 259.5,-1931\"/>\n<polygon fill=\"none\" stroke=\"black\" points=\"17,-1889 17,-1931 94,-1931 94,-1889 17,-1889\"/>\n<text text-anchor=\"start\" x=\"22\" y=\"-1913\" font-family=\"Linux libertine\" font-size=\"10.00\">BatchNorm2d</text>\n<text text-anchor=\"start\" x=\"34\" y=\"-1902\" font-family=\"Linux libertine\" font-size=\"10.00\">depth:2</text>\n<polygon fill=\"none\" stroke=\"black\" points=\"94,-1910 94,-1931 153,-1931 153,-1910 94,-1910\"/>\n<text text-anchor=\"start\" x=\"105\" y=\"-1918\" font-family=\"Linux libertine\" font-size=\"10.00\">input:</text>\n<polygon fill=\"none\" stroke=\"black\" points=\"153,-1910 153,-1931 260,-1931 260,-1910 153,-1910\"/>\n<text text-anchor=\"start\" x=\"158\" y=\"-1918\" font-family=\"Linux libertine\" font-size=\"10.00\">(1, 12, 26, 26) </text>\n<polygon fill=\"none\" stroke=\"black\" points=\"94,-1889 94,-1910 153,-1910 153,-1889 94,-1889\"/>\n<text text-anchor=\"start\" x=\"99\" y=\"-1897\" font-family=\"Linux libertine\" font-size=\"10.00\">output: </text>\n<polygon fill=\"none\" stroke=\"black\" points=\"153,-1889 153,-1910 260,-1910 260,-1889 153,-1889\"/>\n<text text-anchor=\"start\" x=\"158\" y=\"-1897\" font-family=\"Linux libertine\" font-size=\"10.00\">(1, 12, 26, 26) </text>\n</g>\n<!-- 1&#45;&gt;2 -->\n<g id=\"edge2\" class=\"edge\">\n<title>1&#45;&gt;2</title>\n<path fill=\"none\" stroke=\"black\" d=\"M138,-1966.63C138,-1958.82 138,-1949.73 138,-1941.18\"/>\n<polygon fill=\"black\" stroke=\"black\" points=\"141.5,-1941.16 138,-1931.16 134.5,-1941.16 141.5,-1941.16\"/>\n</g>\n<!-- 3 -->\n<g id=\"node4\" class=\"node\">\n<title>3</title>\n<polygon fill=\"#c1ffc1\" stroke=\"transparent\" points=\"247.5,-1853 28.5,-1853 28.5,-1811 247.5,-1811 247.5,-1853\"/>\n<polygon fill=\"none\" stroke=\"black\" points=\"29,-1811 29,-1853 82,-1853 82,-1811 29,-1811\"/>\n<text text-anchor=\"start\" x=\"43\" y=\"-1835\" font-family=\"Linux libertine\" font-size=\"10.00\">ReLU</text>\n<text text-anchor=\"start\" x=\"34\" y=\"-1824\" font-family=\"Linux libertine\" font-size=\"10.00\">depth:2</text>\n<polygon fill=\"none\" stroke=\"black\" points=\"82,-1832 82,-1853 141,-1853 141,-1832 82,-1832\"/>\n<text text-anchor=\"start\" x=\"93\" y=\"-1840\" font-family=\"Linux libertine\" font-size=\"10.00\">input:</text>\n<polygon fill=\"none\" stroke=\"black\" points=\"141,-1832 141,-1853 248,-1853 248,-1832 141,-1832\"/>\n<text text-anchor=\"start\" x=\"146\" y=\"-1840\" font-family=\"Linux libertine\" font-size=\"10.00\">(1, 12, 26, 26) </text>\n<polygon fill=\"none\" stroke=\"black\" points=\"82,-1811 82,-1832 141,-1832 141,-1811 82,-1811\"/>\n<text text-anchor=\"start\" x=\"87\" y=\"-1819\" font-family=\"Linux libertine\" font-size=\"10.00\">output: </text>\n<polygon fill=\"none\" stroke=\"black\" points=\"141,-1811 141,-1832 248,-1832 248,-1811 141,-1811\"/>\n<text text-anchor=\"start\" x=\"146\" y=\"-1819\" font-family=\"Linux libertine\" font-size=\"10.00\">(1, 12, 26, 26) </text>\n</g>\n<!-- 2&#45;&gt;3 -->\n<g id=\"edge3\" class=\"edge\">\n<title>2&#45;&gt;3</title>\n<path fill=\"none\" stroke=\"black\" d=\"M138,-1888.63C138,-1880.82 138,-1871.73 138,-1863.18\"/>\n<polygon fill=\"black\" stroke=\"black\" points=\"141.5,-1863.16 138,-1853.16 134.5,-1863.16 141.5,-1863.16\"/>\n</g>\n<!-- 4 -->\n<g id=\"node5\" class=\"node\">\n<title>4</title>\n<polygon fill=\"#c1ffc1\" stroke=\"transparent\" points=\"247.5,-1775 28.5,-1775 28.5,-1733 247.5,-1733 247.5,-1775\"/>\n<polygon fill=\"none\" stroke=\"black\" points=\"29,-1733 29,-1775 82,-1775 82,-1733 29,-1733\"/>\n<text text-anchor=\"start\" x=\"37\" y=\"-1757\" font-family=\"Linux libertine\" font-size=\"10.00\">Conv2d</text>\n<text text-anchor=\"start\" x=\"34\" y=\"-1746\" font-family=\"Linux libertine\" font-size=\"10.00\">depth:2</text>\n<polygon fill=\"none\" stroke=\"black\" points=\"82,-1754 82,-1775 141,-1775 141,-1754 82,-1754\"/>\n<text text-anchor=\"start\" x=\"93\" y=\"-1762\" font-family=\"Linux libertine\" font-size=\"10.00\">input:</text>\n<polygon fill=\"none\" stroke=\"black\" points=\"141,-1754 141,-1775 248,-1775 248,-1754 141,-1754\"/>\n<text text-anchor=\"start\" x=\"146\" y=\"-1762\" font-family=\"Linux libertine\" font-size=\"10.00\">(1, 12, 26, 26) </text>\n<polygon fill=\"none\" stroke=\"black\" points=\"82,-1733 82,-1754 141,-1754 141,-1733 82,-1733\"/>\n<text text-anchor=\"start\" x=\"87\" y=\"-1741\" font-family=\"Linux libertine\" font-size=\"10.00\">output: </text>\n<polygon fill=\"none\" stroke=\"black\" points=\"141,-1733 141,-1754 248,-1754 248,-1733 141,-1733\"/>\n<text text-anchor=\"start\" x=\"146\" y=\"-1741\" font-family=\"Linux libertine\" font-size=\"10.00\">(1, 12, 24, 24) </text>\n</g>\n<!-- 3&#45;&gt;4 -->\n<g id=\"edge4\" class=\"edge\">\n<title>3&#45;&gt;4</title>\n<path fill=\"none\" stroke=\"black\" d=\"M138,-1810.63C138,-1802.82 138,-1793.73 138,-1785.18\"/>\n<polygon fill=\"black\" stroke=\"black\" points=\"141.5,-1785.16 138,-1775.16 134.5,-1785.16 141.5,-1785.16\"/>\n</g>\n<!-- 5 -->\n<g id=\"node6\" class=\"node\">\n<title>5</title>\n<polygon fill=\"#c1ffc1\" stroke=\"transparent\" points=\"259.5,-1697 16.5,-1697 16.5,-1655 259.5,-1655 259.5,-1697\"/>\n<polygon fill=\"none\" stroke=\"black\" points=\"17,-1655 17,-1697 94,-1697 94,-1655 17,-1655\"/>\n<text text-anchor=\"start\" x=\"22\" y=\"-1679\" font-family=\"Linux libertine\" font-size=\"10.00\">BatchNorm2d</text>\n<text text-anchor=\"start\" x=\"34\" y=\"-1668\" font-family=\"Linux libertine\" font-size=\"10.00\">depth:2</text>\n<polygon fill=\"none\" stroke=\"black\" points=\"94,-1676 94,-1697 153,-1697 153,-1676 94,-1676\"/>\n<text text-anchor=\"start\" x=\"105\" y=\"-1684\" font-family=\"Linux libertine\" font-size=\"10.00\">input:</text>\n<polygon fill=\"none\" stroke=\"black\" points=\"153,-1676 153,-1697 260,-1697 260,-1676 153,-1676\"/>\n<text text-anchor=\"start\" x=\"158\" y=\"-1684\" font-family=\"Linux libertine\" font-size=\"10.00\">(1, 12, 24, 24) </text>\n<polygon fill=\"none\" stroke=\"black\" points=\"94,-1655 94,-1676 153,-1676 153,-1655 94,-1655\"/>\n<text text-anchor=\"start\" x=\"99\" y=\"-1663\" font-family=\"Linux libertine\" font-size=\"10.00\">output: </text>\n<polygon fill=\"none\" stroke=\"black\" points=\"153,-1655 153,-1676 260,-1676 260,-1655 153,-1655\"/>\n<text text-anchor=\"start\" x=\"158\" y=\"-1663\" font-family=\"Linux libertine\" font-size=\"10.00\">(1, 12, 24, 24) </text>\n</g>\n<!-- 4&#45;&gt;5 -->\n<g id=\"edge5\" class=\"edge\">\n<title>4&#45;&gt;5</title>\n<path fill=\"none\" stroke=\"black\" d=\"M138,-1732.63C138,-1724.82 138,-1715.73 138,-1707.18\"/>\n<polygon fill=\"black\" stroke=\"black\" points=\"141.5,-1707.16 138,-1697.16 134.5,-1707.16 141.5,-1707.16\"/>\n</g>\n<!-- 6 -->\n<g id=\"node7\" class=\"node\">\n<title>6</title>\n<polygon fill=\"#c1ffc1\" stroke=\"transparent\" points=\"247.5,-1619 28.5,-1619 28.5,-1577 247.5,-1577 247.5,-1619\"/>\n<polygon fill=\"none\" stroke=\"black\" points=\"29,-1577 29,-1619 82,-1619 82,-1577 29,-1577\"/>\n<text text-anchor=\"start\" x=\"43\" y=\"-1601\" font-family=\"Linux libertine\" font-size=\"10.00\">ReLU</text>\n<text text-anchor=\"start\" x=\"34\" y=\"-1590\" font-family=\"Linux libertine\" font-size=\"10.00\">depth:2</text>\n<polygon fill=\"none\" stroke=\"black\" points=\"82,-1598 82,-1619 141,-1619 141,-1598 82,-1598\"/>\n<text text-anchor=\"start\" x=\"93\" y=\"-1606\" font-family=\"Linux libertine\" font-size=\"10.00\">input:</text>\n<polygon fill=\"none\" stroke=\"black\" points=\"141,-1598 141,-1619 248,-1619 248,-1598 141,-1598\"/>\n<text text-anchor=\"start\" x=\"146\" y=\"-1606\" font-family=\"Linux libertine\" font-size=\"10.00\">(1, 12, 24, 24) </text>\n<polygon fill=\"none\" stroke=\"black\" points=\"82,-1577 82,-1598 141,-1598 141,-1577 82,-1577\"/>\n<text text-anchor=\"start\" x=\"87\" y=\"-1585\" font-family=\"Linux libertine\" font-size=\"10.00\">output: </text>\n<polygon fill=\"none\" stroke=\"black\" points=\"141,-1577 141,-1598 248,-1598 248,-1577 141,-1577\"/>\n<text text-anchor=\"start\" x=\"146\" y=\"-1585\" font-family=\"Linux libertine\" font-size=\"10.00\">(1, 12, 24, 24) </text>\n</g>\n<!-- 5&#45;&gt;6 -->\n<g id=\"edge6\" class=\"edge\">\n<title>5&#45;&gt;6</title>\n<path fill=\"none\" stroke=\"black\" d=\"M138,-1654.63C138,-1646.82 138,-1637.73 138,-1629.18\"/>\n<polygon fill=\"black\" stroke=\"black\" points=\"141.5,-1629.16 138,-1619.16 134.5,-1629.16 141.5,-1629.16\"/>\n</g>\n<!-- 7 -->\n<g id=\"node8\" class=\"node\">\n<title>7</title>\n<polygon fill=\"#c1ffc1\" stroke=\"transparent\" points=\"247.5,-1532 28.5,-1532 28.5,-1490 247.5,-1490 247.5,-1532\"/>\n<polygon fill=\"none\" stroke=\"black\" points=\"29,-1490 29,-1532 82,-1532 82,-1490 29,-1490\"/>\n<text text-anchor=\"start\" x=\"37\" y=\"-1514\" font-family=\"Linux libertine\" font-size=\"10.00\">Conv2d</text>\n<text text-anchor=\"start\" x=\"34\" y=\"-1503\" font-family=\"Linux libertine\" font-size=\"10.00\">depth:2</text>\n<polygon fill=\"none\" stroke=\"black\" points=\"82,-1511 82,-1532 141,-1532 141,-1511 82,-1511\"/>\n<text text-anchor=\"start\" x=\"93\" y=\"-1519\" font-family=\"Linux libertine\" font-size=\"10.00\">input:</text>\n<polygon fill=\"none\" stroke=\"black\" points=\"141,-1511 141,-1532 248,-1532 248,-1511 141,-1511\"/>\n<text text-anchor=\"start\" x=\"146\" y=\"-1519\" font-family=\"Linux libertine\" font-size=\"10.00\">(1, 12, 24, 24) </text>\n<polygon fill=\"none\" stroke=\"black\" points=\"82,-1490 82,-1511 141,-1511 141,-1490 82,-1490\"/>\n<text text-anchor=\"start\" x=\"87\" y=\"-1498\" font-family=\"Linux libertine\" font-size=\"10.00\">output: </text>\n<polygon fill=\"none\" stroke=\"black\" points=\"141,-1490 141,-1511 248,-1511 248,-1490 141,-1490\"/>\n<text text-anchor=\"start\" x=\"146\" y=\"-1498\" font-family=\"Linux libertine\" font-size=\"10.00\">(1, 12, 24, 24) </text>\n</g>\n<!-- 6&#45;&gt;7 -->\n<g id=\"edge7\" class=\"edge\">\n<title>6&#45;&gt;7</title>\n<path fill=\"none\" stroke=\"black\" d=\"M138,-1576.86C138,-1566.56 138,-1553.81 138,-1542.35\"/>\n<polygon fill=\"black\" stroke=\"black\" points=\"141.5,-1542.29 138,-1532.29 134.5,-1542.29 141.5,-1542.29\"/>\n</g>\n<!-- 8 -->\n<g id=\"node9\" class=\"node\">\n<title>8</title>\n<polygon fill=\"#c1ffc1\" stroke=\"transparent\" points=\"259.5,-1454 16.5,-1454 16.5,-1412 259.5,-1412 259.5,-1454\"/>\n<polygon fill=\"none\" stroke=\"black\" points=\"17,-1412 17,-1454 94,-1454 94,-1412 17,-1412\"/>\n<text text-anchor=\"start\" x=\"22\" y=\"-1436\" font-family=\"Linux libertine\" font-size=\"10.00\">BatchNorm2d</text>\n<text text-anchor=\"start\" x=\"34\" y=\"-1425\" font-family=\"Linux libertine\" font-size=\"10.00\">depth:2</text>\n<polygon fill=\"none\" stroke=\"black\" points=\"94,-1433 94,-1454 153,-1454 153,-1433 94,-1433\"/>\n<text text-anchor=\"start\" x=\"105\" y=\"-1441\" font-family=\"Linux libertine\" font-size=\"10.00\">input:</text>\n<polygon fill=\"none\" stroke=\"black\" points=\"153,-1433 153,-1454 260,-1454 260,-1433 153,-1433\"/>\n<text text-anchor=\"start\" x=\"158\" y=\"-1441\" font-family=\"Linux libertine\" font-size=\"10.00\">(1, 12, 24, 24) </text>\n<polygon fill=\"none\" stroke=\"black\" points=\"94,-1412 94,-1433 153,-1433 153,-1412 94,-1412\"/>\n<text text-anchor=\"start\" x=\"99\" y=\"-1420\" font-family=\"Linux libertine\" font-size=\"10.00\">output: </text>\n<polygon fill=\"none\" stroke=\"black\" points=\"153,-1412 153,-1433 260,-1433 260,-1412 153,-1412\"/>\n<text text-anchor=\"start\" x=\"158\" y=\"-1420\" font-family=\"Linux libertine\" font-size=\"10.00\">(1, 12, 24, 24) </text>\n</g>\n<!-- 7&#45;&gt;8 -->\n<g id=\"edge8\" class=\"edge\">\n<title>7&#45;&gt;8</title>\n<path fill=\"none\" stroke=\"black\" d=\"M138,-1489.63C138,-1481.82 138,-1472.73 138,-1464.18\"/>\n<polygon fill=\"black\" stroke=\"black\" points=\"141.5,-1464.16 138,-1454.16 134.5,-1464.16 141.5,-1464.16\"/>\n</g>\n<!-- 9 -->\n<g id=\"node10\" class=\"node\">\n<title>9</title>\n<polygon fill=\"#c1ffc1\" stroke=\"transparent\" points=\"247.5,-1376 28.5,-1376 28.5,-1334 247.5,-1334 247.5,-1376\"/>\n<polygon fill=\"none\" stroke=\"black\" points=\"29,-1334 29,-1376 82,-1376 82,-1334 29,-1334\"/>\n<text text-anchor=\"start\" x=\"43\" y=\"-1358\" font-family=\"Linux libertine\" font-size=\"10.00\">ReLU</text>\n<text text-anchor=\"start\" x=\"34\" y=\"-1347\" font-family=\"Linux libertine\" font-size=\"10.00\">depth:2</text>\n<polygon fill=\"none\" stroke=\"black\" points=\"82,-1355 82,-1376 141,-1376 141,-1355 82,-1355\"/>\n<text text-anchor=\"start\" x=\"93\" y=\"-1363\" font-family=\"Linux libertine\" font-size=\"10.00\">input:</text>\n<polygon fill=\"none\" stroke=\"black\" points=\"141,-1355 141,-1376 248,-1376 248,-1355 141,-1355\"/>\n<text text-anchor=\"start\" x=\"146\" y=\"-1363\" font-family=\"Linux libertine\" font-size=\"10.00\">(1, 12, 24, 24) </text>\n<polygon fill=\"none\" stroke=\"black\" points=\"82,-1334 82,-1355 141,-1355 141,-1334 82,-1334\"/>\n<text text-anchor=\"start\" x=\"87\" y=\"-1342\" font-family=\"Linux libertine\" font-size=\"10.00\">output: </text>\n<polygon fill=\"none\" stroke=\"black\" points=\"141,-1334 141,-1355 248,-1355 248,-1334 141,-1334\"/>\n<text text-anchor=\"start\" x=\"146\" y=\"-1342\" font-family=\"Linux libertine\" font-size=\"10.00\">(1, 12, 24, 24) </text>\n</g>\n<!-- 8&#45;&gt;9 -->\n<g id=\"edge9\" class=\"edge\">\n<title>8&#45;&gt;9</title>\n<path fill=\"none\" stroke=\"black\" d=\"M138,-1411.63C138,-1403.82 138,-1394.73 138,-1386.18\"/>\n<polygon fill=\"black\" stroke=\"black\" points=\"141.5,-1386.16 138,-1376.16 134.5,-1386.16 141.5,-1386.16\"/>\n</g>\n<!-- 10 -->\n<g id=\"node11\" class=\"node\">\n<title>10</title>\n<polygon fill=\"#c1ffc1\" stroke=\"transparent\" points=\"253.5,-1298 22.5,-1298 22.5,-1256 253.5,-1256 253.5,-1298\"/>\n<polygon fill=\"none\" stroke=\"black\" points=\"23,-1256 23,-1298 88,-1298 88,-1256 23,-1256\"/>\n<text text-anchor=\"start\" x=\"28\" y=\"-1280\" font-family=\"Linux libertine\" font-size=\"10.00\">MaxPool2d</text>\n<text text-anchor=\"start\" x=\"34\" y=\"-1269\" font-family=\"Linux libertine\" font-size=\"10.00\">depth:2</text>\n<polygon fill=\"none\" stroke=\"black\" points=\"88,-1277 88,-1298 147,-1298 147,-1277 88,-1277\"/>\n<text text-anchor=\"start\" x=\"99\" y=\"-1285\" font-family=\"Linux libertine\" font-size=\"10.00\">input:</text>\n<polygon fill=\"none\" stroke=\"black\" points=\"147,-1277 147,-1298 254,-1298 254,-1277 147,-1277\"/>\n<text text-anchor=\"start\" x=\"152\" y=\"-1285\" font-family=\"Linux libertine\" font-size=\"10.00\">(1, 12, 24, 24) </text>\n<polygon fill=\"none\" stroke=\"black\" points=\"88,-1256 88,-1277 147,-1277 147,-1256 88,-1256\"/>\n<text text-anchor=\"start\" x=\"93\" y=\"-1264\" font-family=\"Linux libertine\" font-size=\"10.00\">output: </text>\n<polygon fill=\"none\" stroke=\"black\" points=\"147,-1256 147,-1277 254,-1277 254,-1256 147,-1256\"/>\n<text text-anchor=\"start\" x=\"152\" y=\"-1264\" font-family=\"Linux libertine\" font-size=\"10.00\">(1, 12, 12, 12) </text>\n</g>\n<!-- 9&#45;&gt;10 -->\n<g id=\"edge10\" class=\"edge\">\n<title>9&#45;&gt;10</title>\n<path fill=\"none\" stroke=\"black\" d=\"M138,-1333.63C138,-1325.82 138,-1316.73 138,-1308.18\"/>\n<polygon fill=\"black\" stroke=\"black\" points=\"141.5,-1308.16 138,-1298.16 134.5,-1308.16 141.5,-1308.16\"/>\n</g>\n<!-- 11 -->\n<g id=\"node12\" class=\"node\">\n<title>11</title>\n<polygon fill=\"#c1ffc1\" stroke=\"transparent\" points=\"247.5,-1211 28.5,-1211 28.5,-1169 247.5,-1169 247.5,-1211\"/>\n<polygon fill=\"none\" stroke=\"black\" points=\"29,-1169 29,-1211 82,-1211 82,-1169 29,-1169\"/>\n<text text-anchor=\"start\" x=\"37\" y=\"-1193\" font-family=\"Linux libertine\" font-size=\"10.00\">Conv2d</text>\n<text text-anchor=\"start\" x=\"34\" y=\"-1182\" font-family=\"Linux libertine\" font-size=\"10.00\">depth:2</text>\n<polygon fill=\"none\" stroke=\"black\" points=\"82,-1190 82,-1211 141,-1211 141,-1190 82,-1190\"/>\n<text text-anchor=\"start\" x=\"93\" y=\"-1198\" font-family=\"Linux libertine\" font-size=\"10.00\">input:</text>\n<polygon fill=\"none\" stroke=\"black\" points=\"141,-1190 141,-1211 248,-1211 248,-1190 141,-1190\"/>\n<text text-anchor=\"start\" x=\"146\" y=\"-1198\" font-family=\"Linux libertine\" font-size=\"10.00\">(1, 12, 12, 12) </text>\n<polygon fill=\"none\" stroke=\"black\" points=\"82,-1169 82,-1190 141,-1190 141,-1169 82,-1169\"/>\n<text text-anchor=\"start\" x=\"87\" y=\"-1177\" font-family=\"Linux libertine\" font-size=\"10.00\">output: </text>\n<polygon fill=\"none\" stroke=\"black\" points=\"141,-1169 141,-1190 248,-1190 248,-1169 141,-1169\"/>\n<text text-anchor=\"start\" x=\"146\" y=\"-1177\" font-family=\"Linux libertine\" font-size=\"10.00\">(1, 12, 10, 10) </text>\n</g>\n<!-- 10&#45;&gt;11 -->\n<g id=\"edge11\" class=\"edge\">\n<title>10&#45;&gt;11</title>\n<path fill=\"none\" stroke=\"black\" d=\"M138,-1255.86C138,-1245.56 138,-1232.81 138,-1221.35\"/>\n<polygon fill=\"black\" stroke=\"black\" points=\"141.5,-1221.29 138,-1211.29 134.5,-1221.29 141.5,-1221.29\"/>\n</g>\n<!-- 12 -->\n<g id=\"node13\" class=\"node\">\n<title>12</title>\n<polygon fill=\"#c1ffc1\" stroke=\"transparent\" points=\"259.5,-1133 16.5,-1133 16.5,-1091 259.5,-1091 259.5,-1133\"/>\n<polygon fill=\"none\" stroke=\"black\" points=\"17,-1091 17,-1133 94,-1133 94,-1091 17,-1091\"/>\n<text text-anchor=\"start\" x=\"22\" y=\"-1115\" font-family=\"Linux libertine\" font-size=\"10.00\">BatchNorm2d</text>\n<text text-anchor=\"start\" x=\"34\" y=\"-1104\" font-family=\"Linux libertine\" font-size=\"10.00\">depth:2</text>\n<polygon fill=\"none\" stroke=\"black\" points=\"94,-1112 94,-1133 153,-1133 153,-1112 94,-1112\"/>\n<text text-anchor=\"start\" x=\"105\" y=\"-1120\" font-family=\"Linux libertine\" font-size=\"10.00\">input:</text>\n<polygon fill=\"none\" stroke=\"black\" points=\"153,-1112 153,-1133 260,-1133 260,-1112 153,-1112\"/>\n<text text-anchor=\"start\" x=\"158\" y=\"-1120\" font-family=\"Linux libertine\" font-size=\"10.00\">(1, 12, 10, 10) </text>\n<polygon fill=\"none\" stroke=\"black\" points=\"94,-1091 94,-1112 153,-1112 153,-1091 94,-1091\"/>\n<text text-anchor=\"start\" x=\"99\" y=\"-1099\" font-family=\"Linux libertine\" font-size=\"10.00\">output: </text>\n<polygon fill=\"none\" stroke=\"black\" points=\"153,-1091 153,-1112 260,-1112 260,-1091 153,-1091\"/>\n<text text-anchor=\"start\" x=\"158\" y=\"-1099\" font-family=\"Linux libertine\" font-size=\"10.00\">(1, 12, 10, 10) </text>\n</g>\n<!-- 11&#45;&gt;12 -->\n<g id=\"edge12\" class=\"edge\">\n<title>11&#45;&gt;12</title>\n<path fill=\"none\" stroke=\"black\" d=\"M138,-1168.63C138,-1160.82 138,-1151.73 138,-1143.18\"/>\n<polygon fill=\"black\" stroke=\"black\" points=\"141.5,-1143.16 138,-1133.16 134.5,-1143.16 141.5,-1143.16\"/>\n</g>\n<!-- 13 -->\n<g id=\"node14\" class=\"node\">\n<title>13</title>\n<polygon fill=\"#c1ffc1\" stroke=\"transparent\" points=\"247.5,-1055 28.5,-1055 28.5,-1013 247.5,-1013 247.5,-1055\"/>\n<polygon fill=\"none\" stroke=\"black\" points=\"29,-1013 29,-1055 82,-1055 82,-1013 29,-1013\"/>\n<text text-anchor=\"start\" x=\"43\" y=\"-1037\" font-family=\"Linux libertine\" font-size=\"10.00\">ReLU</text>\n<text text-anchor=\"start\" x=\"34\" y=\"-1026\" font-family=\"Linux libertine\" font-size=\"10.00\">depth:2</text>\n<polygon fill=\"none\" stroke=\"black\" points=\"82,-1034 82,-1055 141,-1055 141,-1034 82,-1034\"/>\n<text text-anchor=\"start\" x=\"93\" y=\"-1042\" font-family=\"Linux libertine\" font-size=\"10.00\">input:</text>\n<polygon fill=\"none\" stroke=\"black\" points=\"141,-1034 141,-1055 248,-1055 248,-1034 141,-1034\"/>\n<text text-anchor=\"start\" x=\"146\" y=\"-1042\" font-family=\"Linux libertine\" font-size=\"10.00\">(1, 12, 10, 10) </text>\n<polygon fill=\"none\" stroke=\"black\" points=\"82,-1013 82,-1034 141,-1034 141,-1013 82,-1013\"/>\n<text text-anchor=\"start\" x=\"87\" y=\"-1021\" font-family=\"Linux libertine\" font-size=\"10.00\">output: </text>\n<polygon fill=\"none\" stroke=\"black\" points=\"141,-1013 141,-1034 248,-1034 248,-1013 141,-1013\"/>\n<text text-anchor=\"start\" x=\"146\" y=\"-1021\" font-family=\"Linux libertine\" font-size=\"10.00\">(1, 12, 10, 10) </text>\n</g>\n<!-- 12&#45;&gt;13 -->\n<g id=\"edge13\" class=\"edge\">\n<title>12&#45;&gt;13</title>\n<path fill=\"none\" stroke=\"black\" d=\"M138,-1090.63C138,-1082.82 138,-1073.73 138,-1065.18\"/>\n<polygon fill=\"black\" stroke=\"black\" points=\"141.5,-1065.16 138,-1055.16 134.5,-1065.16 141.5,-1065.16\"/>\n</g>\n<!-- 14 -->\n<g id=\"node15\" class=\"node\">\n<title>14</title>\n<polygon fill=\"#c1ffc1\" stroke=\"transparent\" points=\"247.5,-977 28.5,-977 28.5,-935 247.5,-935 247.5,-977\"/>\n<polygon fill=\"none\" stroke=\"black\" points=\"29,-935 29,-977 82,-977 82,-935 29,-935\"/>\n<text text-anchor=\"start\" x=\"37\" y=\"-959\" font-family=\"Linux libertine\" font-size=\"10.00\">Conv2d</text>\n<text text-anchor=\"start\" x=\"34\" y=\"-948\" font-family=\"Linux libertine\" font-size=\"10.00\">depth:2</text>\n<polygon fill=\"none\" stroke=\"black\" points=\"82,-956 82,-977 141,-977 141,-956 82,-956\"/>\n<text text-anchor=\"start\" x=\"93\" y=\"-964\" font-family=\"Linux libertine\" font-size=\"10.00\">input:</text>\n<polygon fill=\"none\" stroke=\"black\" points=\"141,-956 141,-977 248,-977 248,-956 141,-956\"/>\n<text text-anchor=\"start\" x=\"146\" y=\"-964\" font-family=\"Linux libertine\" font-size=\"10.00\">(1, 12, 10, 10) </text>\n<polygon fill=\"none\" stroke=\"black\" points=\"82,-935 82,-956 141,-956 141,-935 82,-935\"/>\n<text text-anchor=\"start\" x=\"87\" y=\"-943\" font-family=\"Linux libertine\" font-size=\"10.00\">output: </text>\n<polygon fill=\"none\" stroke=\"black\" points=\"141,-935 141,-956 248,-956 248,-935 141,-935\"/>\n<text text-anchor=\"start\" x=\"152\" y=\"-943\" font-family=\"Linux libertine\" font-size=\"10.00\">(1, 12, 8, 8) </text>\n</g>\n<!-- 13&#45;&gt;14 -->\n<g id=\"edge14\" class=\"edge\">\n<title>13&#45;&gt;14</title>\n<path fill=\"none\" stroke=\"black\" d=\"M138,-1012.63C138,-1004.82 138,-995.73 138,-987.18\"/>\n<polygon fill=\"black\" stroke=\"black\" points=\"141.5,-987.16 138,-977.16 134.5,-987.16 141.5,-987.16\"/>\n</g>\n<!-- 15 -->\n<g id=\"node16\" class=\"node\">\n<title>15</title>\n<polygon fill=\"#c1ffc1\" stroke=\"transparent\" points=\"253.5,-899 22.5,-899 22.5,-857 253.5,-857 253.5,-899\"/>\n<polygon fill=\"none\" stroke=\"black\" points=\"23,-857 23,-899 100,-899 100,-857 23,-857\"/>\n<text text-anchor=\"start\" x=\"28\" y=\"-881\" font-family=\"Linux libertine\" font-size=\"10.00\">BatchNorm2d</text>\n<text text-anchor=\"start\" x=\"40\" y=\"-870\" font-family=\"Linux libertine\" font-size=\"10.00\">depth:2</text>\n<polygon fill=\"none\" stroke=\"black\" points=\"100,-878 100,-899 159,-899 159,-878 100,-878\"/>\n<text text-anchor=\"start\" x=\"111\" y=\"-886\" font-family=\"Linux libertine\" font-size=\"10.00\">input:</text>\n<polygon fill=\"none\" stroke=\"black\" points=\"159,-878 159,-899 254,-899 254,-878 159,-878\"/>\n<text text-anchor=\"start\" x=\"164\" y=\"-886\" font-family=\"Linux libertine\" font-size=\"10.00\">(1, 12, 8, 8) </text>\n<polygon fill=\"none\" stroke=\"black\" points=\"100,-857 100,-878 159,-878 159,-857 100,-857\"/>\n<text text-anchor=\"start\" x=\"105\" y=\"-865\" font-family=\"Linux libertine\" font-size=\"10.00\">output: </text>\n<polygon fill=\"none\" stroke=\"black\" points=\"159,-857 159,-878 254,-878 254,-857 159,-857\"/>\n<text text-anchor=\"start\" x=\"164\" y=\"-865\" font-family=\"Linux libertine\" font-size=\"10.00\">(1, 12, 8, 8) </text>\n</g>\n<!-- 14&#45;&gt;15 -->\n<g id=\"edge15\" class=\"edge\">\n<title>14&#45;&gt;15</title>\n<path fill=\"none\" stroke=\"black\" d=\"M138,-934.63C138,-926.82 138,-917.73 138,-909.18\"/>\n<polygon fill=\"black\" stroke=\"black\" points=\"141.5,-909.16 138,-899.16 134.5,-909.16 141.5,-909.16\"/>\n</g>\n<!-- 16 -->\n<g id=\"node17\" class=\"node\">\n<title>16</title>\n<polygon fill=\"#c1ffc1\" stroke=\"transparent\" points=\"241.5,-821 34.5,-821 34.5,-779 241.5,-779 241.5,-821\"/>\n<polygon fill=\"none\" stroke=\"black\" points=\"35,-779 35,-821 88,-821 88,-779 35,-779\"/>\n<text text-anchor=\"start\" x=\"49\" y=\"-803\" font-family=\"Linux libertine\" font-size=\"10.00\">ReLU</text>\n<text text-anchor=\"start\" x=\"40\" y=\"-792\" font-family=\"Linux libertine\" font-size=\"10.00\">depth:2</text>\n<polygon fill=\"none\" stroke=\"black\" points=\"88,-800 88,-821 147,-821 147,-800 88,-800\"/>\n<text text-anchor=\"start\" x=\"99\" y=\"-808\" font-family=\"Linux libertine\" font-size=\"10.00\">input:</text>\n<polygon fill=\"none\" stroke=\"black\" points=\"147,-800 147,-821 242,-821 242,-800 147,-800\"/>\n<text text-anchor=\"start\" x=\"152\" y=\"-808\" font-family=\"Linux libertine\" font-size=\"10.00\">(1, 12, 8, 8) </text>\n<polygon fill=\"none\" stroke=\"black\" points=\"88,-779 88,-800 147,-800 147,-779 88,-779\"/>\n<text text-anchor=\"start\" x=\"93\" y=\"-787\" font-family=\"Linux libertine\" font-size=\"10.00\">output: </text>\n<polygon fill=\"none\" stroke=\"black\" points=\"147,-779 147,-800 242,-800 242,-779 147,-779\"/>\n<text text-anchor=\"start\" x=\"152\" y=\"-787\" font-family=\"Linux libertine\" font-size=\"10.00\">(1, 12, 8, 8) </text>\n</g>\n<!-- 15&#45;&gt;16 -->\n<g id=\"edge16\" class=\"edge\">\n<title>15&#45;&gt;16</title>\n<path fill=\"none\" stroke=\"black\" d=\"M138,-856.63C138,-848.82 138,-839.73 138,-831.18\"/>\n<polygon fill=\"black\" stroke=\"black\" points=\"141.5,-831.16 138,-821.16 134.5,-831.16 141.5,-831.16\"/>\n</g>\n<!-- 17 -->\n<g id=\"node18\" class=\"node\">\n<title>17</title>\n<polygon fill=\"#c1ffc1\" stroke=\"transparent\" points=\"241.5,-743 34.5,-743 34.5,-701 241.5,-701 241.5,-743\"/>\n<polygon fill=\"none\" stroke=\"black\" points=\"35,-701 35,-743 88,-743 88,-701 35,-701\"/>\n<text text-anchor=\"start\" x=\"43\" y=\"-725\" font-family=\"Linux libertine\" font-size=\"10.00\">Conv2d</text>\n<text text-anchor=\"start\" x=\"40\" y=\"-714\" font-family=\"Linux libertine\" font-size=\"10.00\">depth:2</text>\n<polygon fill=\"none\" stroke=\"black\" points=\"88,-722 88,-743 147,-743 147,-722 88,-722\"/>\n<text text-anchor=\"start\" x=\"99\" y=\"-730\" font-family=\"Linux libertine\" font-size=\"10.00\">input:</text>\n<polygon fill=\"none\" stroke=\"black\" points=\"147,-722 147,-743 242,-743 242,-722 147,-722\"/>\n<text text-anchor=\"start\" x=\"152\" y=\"-730\" font-family=\"Linux libertine\" font-size=\"10.00\">(1, 12, 8, 8) </text>\n<polygon fill=\"none\" stroke=\"black\" points=\"88,-701 88,-722 147,-722 147,-701 88,-701\"/>\n<text text-anchor=\"start\" x=\"93\" y=\"-709\" font-family=\"Linux libertine\" font-size=\"10.00\">output: </text>\n<polygon fill=\"none\" stroke=\"black\" points=\"147,-701 147,-722 242,-722 242,-701 147,-701\"/>\n<text text-anchor=\"start\" x=\"152\" y=\"-709\" font-family=\"Linux libertine\" font-size=\"10.00\">(1, 12, 6, 6) </text>\n</g>\n<!-- 16&#45;&gt;17 -->\n<g id=\"edge17\" class=\"edge\">\n<title>16&#45;&gt;17</title>\n<path fill=\"none\" stroke=\"black\" d=\"M138,-778.63C138,-770.82 138,-761.73 138,-753.18\"/>\n<polygon fill=\"black\" stroke=\"black\" points=\"141.5,-753.16 138,-743.16 134.5,-753.16 141.5,-753.16\"/>\n</g>\n<!-- 18 -->\n<g id=\"node19\" class=\"node\">\n<title>18</title>\n<polygon fill=\"#c1ffc1\" stroke=\"transparent\" points=\"253.5,-665 22.5,-665 22.5,-623 253.5,-623 253.5,-665\"/>\n<polygon fill=\"none\" stroke=\"black\" points=\"23,-623 23,-665 100,-665 100,-623 23,-623\"/>\n<text text-anchor=\"start\" x=\"28\" y=\"-647\" font-family=\"Linux libertine\" font-size=\"10.00\">BatchNorm2d</text>\n<text text-anchor=\"start\" x=\"40\" y=\"-636\" font-family=\"Linux libertine\" font-size=\"10.00\">depth:2</text>\n<polygon fill=\"none\" stroke=\"black\" points=\"100,-644 100,-665 159,-665 159,-644 100,-644\"/>\n<text text-anchor=\"start\" x=\"111\" y=\"-652\" font-family=\"Linux libertine\" font-size=\"10.00\">input:</text>\n<polygon fill=\"none\" stroke=\"black\" points=\"159,-644 159,-665 254,-665 254,-644 159,-644\"/>\n<text text-anchor=\"start\" x=\"164\" y=\"-652\" font-family=\"Linux libertine\" font-size=\"10.00\">(1, 12, 6, 6) </text>\n<polygon fill=\"none\" stroke=\"black\" points=\"100,-623 100,-644 159,-644 159,-623 100,-623\"/>\n<text text-anchor=\"start\" x=\"105\" y=\"-631\" font-family=\"Linux libertine\" font-size=\"10.00\">output: </text>\n<polygon fill=\"none\" stroke=\"black\" points=\"159,-623 159,-644 254,-644 254,-623 159,-623\"/>\n<text text-anchor=\"start\" x=\"164\" y=\"-631\" font-family=\"Linux libertine\" font-size=\"10.00\">(1, 12, 6, 6) </text>\n</g>\n<!-- 17&#45;&gt;18 -->\n<g id=\"edge18\" class=\"edge\">\n<title>17&#45;&gt;18</title>\n<path fill=\"none\" stroke=\"black\" d=\"M138,-700.63C138,-692.82 138,-683.73 138,-675.18\"/>\n<polygon fill=\"black\" stroke=\"black\" points=\"141.5,-675.16 138,-665.16 134.5,-675.16 141.5,-675.16\"/>\n</g>\n<!-- 19 -->\n<g id=\"node20\" class=\"node\">\n<title>19</title>\n<polygon fill=\"#c1ffc1\" stroke=\"transparent\" points=\"241.5,-587 34.5,-587 34.5,-545 241.5,-545 241.5,-587\"/>\n<polygon fill=\"none\" stroke=\"black\" points=\"35,-545 35,-587 88,-587 88,-545 35,-545\"/>\n<text text-anchor=\"start\" x=\"49\" y=\"-569\" font-family=\"Linux libertine\" font-size=\"10.00\">ReLU</text>\n<text text-anchor=\"start\" x=\"40\" y=\"-558\" font-family=\"Linux libertine\" font-size=\"10.00\">depth:2</text>\n<polygon fill=\"none\" stroke=\"black\" points=\"88,-566 88,-587 147,-587 147,-566 88,-566\"/>\n<text text-anchor=\"start\" x=\"99\" y=\"-574\" font-family=\"Linux libertine\" font-size=\"10.00\">input:</text>\n<polygon fill=\"none\" stroke=\"black\" points=\"147,-566 147,-587 242,-587 242,-566 147,-566\"/>\n<text text-anchor=\"start\" x=\"152\" y=\"-574\" font-family=\"Linux libertine\" font-size=\"10.00\">(1, 12, 6, 6) </text>\n<polygon fill=\"none\" stroke=\"black\" points=\"88,-545 88,-566 147,-566 147,-545 88,-545\"/>\n<text text-anchor=\"start\" x=\"93\" y=\"-553\" font-family=\"Linux libertine\" font-size=\"10.00\">output: </text>\n<polygon fill=\"none\" stroke=\"black\" points=\"147,-545 147,-566 242,-566 242,-545 147,-545\"/>\n<text text-anchor=\"start\" x=\"152\" y=\"-553\" font-family=\"Linux libertine\" font-size=\"10.00\">(1, 12, 6, 6) </text>\n</g>\n<!-- 18&#45;&gt;19 -->\n<g id=\"edge19\" class=\"edge\">\n<title>18&#45;&gt;19</title>\n<path fill=\"none\" stroke=\"black\" d=\"M138,-622.63C138,-614.82 138,-605.73 138,-597.18\"/>\n<polygon fill=\"black\" stroke=\"black\" points=\"141.5,-597.16 138,-587.16 134.5,-597.16 141.5,-597.16\"/>\n</g>\n<!-- 20 -->\n<g id=\"node21\" class=\"node\">\n<title>20</title>\n<polygon fill=\"#c1ffc1\" stroke=\"transparent\" points=\"241.5,-509 34.5,-509 34.5,-467 241.5,-467 241.5,-509\"/>\n<polygon fill=\"none\" stroke=\"black\" points=\"35,-467 35,-509 88,-509 88,-467 35,-467\"/>\n<text text-anchor=\"start\" x=\"43\" y=\"-491\" font-family=\"Linux libertine\" font-size=\"10.00\">Conv2d</text>\n<text text-anchor=\"start\" x=\"40\" y=\"-480\" font-family=\"Linux libertine\" font-size=\"10.00\">depth:2</text>\n<polygon fill=\"none\" stroke=\"black\" points=\"88,-488 88,-509 147,-509 147,-488 88,-488\"/>\n<text text-anchor=\"start\" x=\"99\" y=\"-496\" font-family=\"Linux libertine\" font-size=\"10.00\">input:</text>\n<polygon fill=\"none\" stroke=\"black\" points=\"147,-488 147,-509 242,-509 242,-488 147,-488\"/>\n<text text-anchor=\"start\" x=\"152\" y=\"-496\" font-family=\"Linux libertine\" font-size=\"10.00\">(1, 12, 6, 6) </text>\n<polygon fill=\"none\" stroke=\"black\" points=\"88,-467 88,-488 147,-488 147,-467 88,-467\"/>\n<text text-anchor=\"start\" x=\"93\" y=\"-475\" font-family=\"Linux libertine\" font-size=\"10.00\">output: </text>\n<polygon fill=\"none\" stroke=\"black\" points=\"147,-467 147,-488 242,-488 242,-467 147,-467\"/>\n<text text-anchor=\"start\" x=\"152\" y=\"-475\" font-family=\"Linux libertine\" font-size=\"10.00\">(1, 12, 4, 4) </text>\n</g>\n<!-- 19&#45;&gt;20 -->\n<g id=\"edge20\" class=\"edge\">\n<title>19&#45;&gt;20</title>\n<path fill=\"none\" stroke=\"black\" d=\"M138,-544.63C138,-536.82 138,-527.73 138,-519.18\"/>\n<polygon fill=\"black\" stroke=\"black\" points=\"141.5,-519.16 138,-509.16 134.5,-519.16 141.5,-519.16\"/>\n</g>\n<!-- 21 -->\n<g id=\"node22\" class=\"node\">\n<title>21</title>\n<polygon fill=\"#c1ffc1\" stroke=\"transparent\" points=\"253.5,-431 22.5,-431 22.5,-389 253.5,-389 253.5,-431\"/>\n<polygon fill=\"none\" stroke=\"black\" points=\"23,-389 23,-431 100,-431 100,-389 23,-389\"/>\n<text text-anchor=\"start\" x=\"28\" y=\"-413\" font-family=\"Linux libertine\" font-size=\"10.00\">BatchNorm2d</text>\n<text text-anchor=\"start\" x=\"40\" y=\"-402\" font-family=\"Linux libertine\" font-size=\"10.00\">depth:2</text>\n<polygon fill=\"none\" stroke=\"black\" points=\"100,-410 100,-431 159,-431 159,-410 100,-410\"/>\n<text text-anchor=\"start\" x=\"111\" y=\"-418\" font-family=\"Linux libertine\" font-size=\"10.00\">input:</text>\n<polygon fill=\"none\" stroke=\"black\" points=\"159,-410 159,-431 254,-431 254,-410 159,-410\"/>\n<text text-anchor=\"start\" x=\"164\" y=\"-418\" font-family=\"Linux libertine\" font-size=\"10.00\">(1, 12, 4, 4) </text>\n<polygon fill=\"none\" stroke=\"black\" points=\"100,-389 100,-410 159,-410 159,-389 100,-389\"/>\n<text text-anchor=\"start\" x=\"105\" y=\"-397\" font-family=\"Linux libertine\" font-size=\"10.00\">output: </text>\n<polygon fill=\"none\" stroke=\"black\" points=\"159,-389 159,-410 254,-410 254,-389 159,-389\"/>\n<text text-anchor=\"start\" x=\"164\" y=\"-397\" font-family=\"Linux libertine\" font-size=\"10.00\">(1, 12, 4, 4) </text>\n</g>\n<!-- 20&#45;&gt;21 -->\n<g id=\"edge21\" class=\"edge\">\n<title>20&#45;&gt;21</title>\n<path fill=\"none\" stroke=\"black\" d=\"M138,-466.63C138,-458.82 138,-449.73 138,-441.18\"/>\n<polygon fill=\"black\" stroke=\"black\" points=\"141.5,-441.16 138,-431.16 134.5,-441.16 141.5,-441.16\"/>\n</g>\n<!-- 22 -->\n<g id=\"node23\" class=\"node\">\n<title>22</title>\n<polygon fill=\"#c1ffc1\" stroke=\"transparent\" points=\"241.5,-353 34.5,-353 34.5,-311 241.5,-311 241.5,-353\"/>\n<polygon fill=\"none\" stroke=\"black\" points=\"35,-311 35,-353 88,-353 88,-311 35,-311\"/>\n<text text-anchor=\"start\" x=\"49\" y=\"-335\" font-family=\"Linux libertine\" font-size=\"10.00\">ReLU</text>\n<text text-anchor=\"start\" x=\"40\" y=\"-324\" font-family=\"Linux libertine\" font-size=\"10.00\">depth:2</text>\n<polygon fill=\"none\" stroke=\"black\" points=\"88,-332 88,-353 147,-353 147,-332 88,-332\"/>\n<text text-anchor=\"start\" x=\"99\" y=\"-340\" font-family=\"Linux libertine\" font-size=\"10.00\">input:</text>\n<polygon fill=\"none\" stroke=\"black\" points=\"147,-332 147,-353 242,-353 242,-332 147,-332\"/>\n<text text-anchor=\"start\" x=\"152\" y=\"-340\" font-family=\"Linux libertine\" font-size=\"10.00\">(1, 12, 4, 4) </text>\n<polygon fill=\"none\" stroke=\"black\" points=\"88,-311 88,-332 147,-332 147,-311 88,-311\"/>\n<text text-anchor=\"start\" x=\"93\" y=\"-319\" font-family=\"Linux libertine\" font-size=\"10.00\">output: </text>\n<polygon fill=\"none\" stroke=\"black\" points=\"147,-311 147,-332 242,-332 242,-311 147,-311\"/>\n<text text-anchor=\"start\" x=\"152\" y=\"-319\" font-family=\"Linux libertine\" font-size=\"10.00\">(1, 12, 4, 4) </text>\n</g>\n<!-- 21&#45;&gt;22 -->\n<g id=\"edge22\" class=\"edge\">\n<title>21&#45;&gt;22</title>\n<path fill=\"none\" stroke=\"black\" d=\"M138,-388.63C138,-380.82 138,-371.73 138,-363.18\"/>\n<polygon fill=\"black\" stroke=\"black\" points=\"141.5,-363.16 138,-353.16 134.5,-363.16 141.5,-363.16\"/>\n</g>\n<!-- 23 -->\n<g id=\"node24\" class=\"node\">\n<title>23</title>\n<polygon fill=\"#c1ffc1\" stroke=\"transparent\" points=\"241.5,-266 34.5,-266 34.5,-224 241.5,-224 241.5,-266\"/>\n<polygon fill=\"none\" stroke=\"black\" points=\"35,-224 35,-266 88,-266 88,-224 35,-224\"/>\n<text text-anchor=\"start\" x=\"43\" y=\"-248\" font-family=\"Linux libertine\" font-size=\"10.00\">Conv2d</text>\n<text text-anchor=\"start\" x=\"40\" y=\"-237\" font-family=\"Linux libertine\" font-size=\"10.00\">depth:2</text>\n<polygon fill=\"none\" stroke=\"black\" points=\"88,-245 88,-266 147,-266 147,-245 88,-245\"/>\n<text text-anchor=\"start\" x=\"99\" y=\"-253\" font-family=\"Linux libertine\" font-size=\"10.00\">input:</text>\n<polygon fill=\"none\" stroke=\"black\" points=\"147,-245 147,-266 242,-266 242,-245 147,-245\"/>\n<text text-anchor=\"start\" x=\"152\" y=\"-253\" font-family=\"Linux libertine\" font-size=\"10.00\">(1, 12, 4, 4) </text>\n<polygon fill=\"none\" stroke=\"black\" points=\"88,-224 88,-245 147,-245 147,-224 88,-224\"/>\n<text text-anchor=\"start\" x=\"93\" y=\"-232\" font-family=\"Linux libertine\" font-size=\"10.00\">output: </text>\n<polygon fill=\"none\" stroke=\"black\" points=\"147,-224 147,-245 242,-245 242,-224 147,-224\"/>\n<text text-anchor=\"start\" x=\"152\" y=\"-232\" font-family=\"Linux libertine\" font-size=\"10.00\">(1, 10, 1, 1) </text>\n</g>\n<!-- 22&#45;&gt;23 -->\n<g id=\"edge23\" class=\"edge\">\n<title>22&#45;&gt;23</title>\n<path fill=\"none\" stroke=\"black\" d=\"M138,-310.86C138,-300.56 138,-287.81 138,-276.35\"/>\n<polygon fill=\"black\" stroke=\"black\" points=\"141.5,-276.29 138,-266.29 134.5,-276.29 141.5,-276.29\"/>\n</g>\n<!-- 24 -->\n<g id=\"node25\" class=\"node\">\n<title>24</title>\n<polygon fill=\"aliceblue\" stroke=\"transparent\" points=\"241.5,-188 34.5,-188 34.5,-146 241.5,-146 241.5,-188\"/>\n<polygon fill=\"none\" stroke=\"black\" points=\"35,-146 35,-188 88,-188 88,-146 35,-146\"/>\n<text text-anchor=\"start\" x=\"49\" y=\"-170\" font-family=\"Linux libertine\" font-size=\"10.00\">view</text>\n<text text-anchor=\"start\" x=\"40\" y=\"-159\" font-family=\"Linux libertine\" font-size=\"10.00\">depth:1</text>\n<polygon fill=\"none\" stroke=\"black\" points=\"88,-167 88,-188 147,-188 147,-167 88,-167\"/>\n<text text-anchor=\"start\" x=\"99\" y=\"-175\" font-family=\"Linux libertine\" font-size=\"10.00\">input:</text>\n<polygon fill=\"none\" stroke=\"black\" points=\"147,-167 147,-188 242,-188 242,-167 147,-167\"/>\n<text text-anchor=\"start\" x=\"152\" y=\"-175\" font-family=\"Linux libertine\" font-size=\"10.00\">(1, 10, 1, 1) </text>\n<polygon fill=\"none\" stroke=\"black\" points=\"88,-146 88,-167 147,-167 147,-146 88,-146\"/>\n<text text-anchor=\"start\" x=\"93\" y=\"-154\" font-family=\"Linux libertine\" font-size=\"10.00\">output: </text>\n<polygon fill=\"none\" stroke=\"black\" points=\"147,-146 147,-167 242,-167 242,-146 147,-146\"/>\n<text text-anchor=\"start\" x=\"170\" y=\"-154\" font-family=\"Linux libertine\" font-size=\"10.00\">(1, 10) </text>\n</g>\n<!-- 23&#45;&gt;24 -->\n<g id=\"edge24\" class=\"edge\">\n<title>23&#45;&gt;24</title>\n<path fill=\"none\" stroke=\"black\" d=\"M138,-223.63C138,-215.82 138,-206.73 138,-198.18\"/>\n<polygon fill=\"black\" stroke=\"black\" points=\"141.5,-198.16 138,-188.16 134.5,-198.16 141.5,-198.16\"/>\n</g>\n<!-- 25 -->\n<g id=\"node26\" class=\"node\">\n<title>25</title>\n<polygon fill=\"aliceblue\" stroke=\"transparent\" points=\"235.5,-110 40.5,-110 40.5,-68 235.5,-68 235.5,-110\"/>\n<polygon fill=\"none\" stroke=\"black\" points=\"41,-68 41,-110 118,-110 118,-68 41,-68\"/>\n<text text-anchor=\"start\" x=\"46\" y=\"-92\" font-family=\"Linux libertine\" font-size=\"10.00\">log_softmax</text>\n<text text-anchor=\"start\" x=\"58\" y=\"-81\" font-family=\"Linux libertine\" font-size=\"10.00\">depth:1</text>\n<polygon fill=\"none\" stroke=\"black\" points=\"118,-89 118,-110 177,-110 177,-89 118,-89\"/>\n<text text-anchor=\"start\" x=\"129\" y=\"-97\" font-family=\"Linux libertine\" font-size=\"10.00\">input:</text>\n<polygon fill=\"none\" stroke=\"black\" points=\"177,-89 177,-110 236,-110 236,-89 177,-89\"/>\n<text text-anchor=\"start\" x=\"182\" y=\"-97\" font-family=\"Linux libertine\" font-size=\"10.00\">(1, 10) </text>\n<polygon fill=\"none\" stroke=\"black\" points=\"118,-68 118,-89 177,-89 177,-68 118,-68\"/>\n<text text-anchor=\"start\" x=\"123\" y=\"-76\" font-family=\"Linux libertine\" font-size=\"10.00\">output: </text>\n<polygon fill=\"none\" stroke=\"black\" points=\"177,-68 177,-89 236,-89 236,-68 177,-68\"/>\n<text text-anchor=\"start\" x=\"182\" y=\"-76\" font-family=\"Linux libertine\" font-size=\"10.00\">(1, 10) </text>\n</g>\n<!-- 24&#45;&gt;25 -->\n<g id=\"edge25\" class=\"edge\">\n<title>24&#45;&gt;25</title>\n<path fill=\"none\" stroke=\"black\" d=\"M138,-145.63C138,-137.82 138,-128.73 138,-120.18\"/>\n<polygon fill=\"black\" stroke=\"black\" points=\"141.5,-120.16 138,-110.16 134.5,-120.16 141.5,-120.16\"/>\n</g>\n<!-- 26 -->\n<g id=\"node27\" class=\"node\">\n<title>26</title>\n<polygon fill=\"lightyellow\" stroke=\"transparent\" points=\"209,-32 67,-32 67,0 209,0 209,-32\"/>\n<polygon fill=\"none\" stroke=\"black\" points=\"67,0 67,-32 156,-32 156,0 67,0\"/>\n<text text-anchor=\"start\" x=\"72\" y=\"-19\" font-family=\"Linux libertine\" font-size=\"10.00\">output&#45;tensor</text>\n<text text-anchor=\"start\" x=\"90\" y=\"-8\" font-family=\"Linux libertine\" font-size=\"10.00\">depth:0</text>\n<polygon fill=\"none\" stroke=\"black\" points=\"156,0 156,-32 209,-32 209,0 156,0\"/>\n<text text-anchor=\"start\" x=\"161\" y=\"-13.5\" font-family=\"Linux libertine\" font-size=\"10.00\">(1, 10)</text>\n</g>\n<!-- 25&#45;&gt;26 -->\n<g id=\"edge26\" class=\"edge\">\n<title>25&#45;&gt;26</title>\n<path fill=\"none\" stroke=\"black\" d=\"M138,-67.84C138,-59.89 138,-50.66 138,-42.26\"/>\n<polygon fill=\"black\" stroke=\"black\" points=\"141.5,-42.24 138,-32.24 134.5,-42.24 141.5,-42.24\"/>\n</g>\n</g>\n</svg>\n",
            "text/plain": [
              "<graphviz.graphs.Digraph at 0x7b0fd4873eb0>"
            ]
          },
          "metadata": {},
          "execution_count": 20
        }
      ]
    },
    {
      "cell_type": "code",
      "source": [
        "# updated training module---\n",
        "@timeit\n",
        "def train_module(model:torch.nn.Module,\n",
        "                 device:torch.device,\n",
        "                 train_dataloader:torch.utils.data.DataLoader ,\n",
        "                 optimizer:torch.optim.Optimizer,\n",
        "                 criterion:torch.nn.Module,\n",
        "                 metric,\n",
        "                 train_losses:list,\n",
        "                 train_metrics:list):\n",
        "\n",
        "  # setting model to train mode\n",
        "  model.train()\n",
        "  pbar = tqdm(train_dataloader)\n",
        "\n",
        "  # batch metrics\n",
        "  train_loss = 0\n",
        "  train_metric = 0\n",
        "  processed_batch = 0\n",
        "\n",
        "  for idx, (data,label) in enumerate(pbar):\n",
        "    # setting up device\n",
        "    data = data.to(device)\n",
        "    label = label.to(device)\n",
        "\n",
        "    # forward pass output\n",
        "    preds = model(data)\n",
        "\n",
        "    # calc loss\n",
        "    loss = criterion(preds, label)\n",
        "    train_loss += loss.item()\n",
        "    # print(f\"training loss for batch {idx} is {loss}\")\n",
        "\n",
        "    # backpropagation\n",
        "    optimizer.zero_grad() # flush out  existing grads\n",
        "    loss.backward() # back prop of weights wrt loss\n",
        "    optimizer.step() # optimizer step -> minima\n",
        "\n",
        "    # metric calc\n",
        "    preds = torch.argmax(preds,dim=1)\n",
        "    # print(f\"preds:: {preds}\")\n",
        "    metric.update(preds,label)\n",
        "    train_metric += metric.compute().detach().item()\n",
        "\n",
        "    #updating batch count\n",
        "    processed_batch += 1\n",
        "\n",
        "    pbar.set_description(f\"Avg Train Loss: {train_loss/processed_batch} Avg Train Metric: {train_metric/processed_batch}\")\n",
        "\n",
        "  # It's typically called after the epoch completes\n",
        "  metric.reset()\n",
        "  # updating epoch metrics\n",
        "  train_losses.append(train_loss/processed_batch)\n",
        "  train_metrics.append(train_metric/processed_batch)\n",
        "\n",
        "  return train_losses, train_metrics\n"
      ],
      "metadata": {
        "id": "9zjADc4_IfDE"
      },
      "execution_count": 21,
      "outputs": []
    },
    {
      "cell_type": "code",
      "source": [
        "# updated testing modules---\n",
        "@timeit\n",
        "def test_module(model:torch.nn.Module,\n",
        "                device:torch.device,\n",
        "                test_dataloader:torch.utils.data.DataLoader,\n",
        "                criterion:torch.nn.Module,\n",
        "                metric,\n",
        "                test_losses,\n",
        "                test_metrics):\n",
        "  # setting model to eval mode\n",
        "  model.eval()\n",
        "  pbar = tqdm(test_dataloader)\n",
        "\n",
        "  # batch metrics\n",
        "  test_loss = 0\n",
        "  test_metric = 0\n",
        "  processed_batch = 0\n",
        "\n",
        "  with torch.inference_mode():\n",
        "    for idx, (data,label) in enumerate(pbar):\n",
        "      data , label = data.to(device), label.to(device)\n",
        "      # predictions\n",
        "      preds = model(data)\n",
        "      # print(preds.shape)\n",
        "      # print(label.shape)\n",
        "\n",
        "      #loss calc\n",
        "      loss = criterion(preds, label)\n",
        "      test_loss += loss.item()\n",
        "\n",
        "      # metric calc\n",
        "      preds = torch.argmax(preds,dim=1)\n",
        "      metric.update(preds,label)\n",
        "      test_metric += metric.compute().detach().item()\n",
        "\n",
        "      #updating batch count\n",
        "      processed_batch += 1\n",
        "\n",
        "      pbar.set_description(f\"Avg Test Loss: {test_loss/processed_batch} Avg Test Metric: {test_metric/processed_batch}\")\n",
        "\n",
        "    # It's typically called after the epoch completes\n",
        "    metric.reset()\n",
        "    # updating epoch metrics\n",
        "    test_losses.append(test_loss/processed_batch)\n",
        "    test_metrics.append(test_metric/processed_batch)\n",
        "\n",
        "  return test_losses, test_metrics"
      ],
      "metadata": {
        "id": "OPtJODehIfGU"
      },
      "execution_count": 22,
      "outputs": []
    },
    {
      "cell_type": "code",
      "source": [
        "# driver setup----\n",
        "# optmizer\n",
        "optimizer = optim.Adam(baseline_model.parameters(), lr=lr)\n",
        "# loss\n",
        "criterion = nn.CrossEntropyLoss()\n",
        "# metric\n",
        "metric = MulticlassAccuracy(device = device, num_classes=10)"
      ],
      "metadata": {
        "id": "9o2VMdx6IfKM"
      },
      "execution_count": 23,
      "outputs": []
    },
    {
      "cell_type": "code",
      "source": [
        "train_losses = []\n",
        "train_metrics = []\n",
        "test_losses = []\n",
        "test_metrics = []\n",
        "\n",
        "for epoch in range(0,epochs):\n",
        "  print(f'Epoch {epoch}')\n",
        "  train_losses, train_metrics = train_module(baseline_model, device, train_loader, optimizer, criterion, metric, train_losses, train_metrics)\n",
        "  test_losses , test_metrics = test_module(baseline_model, device, test_loader, criterion, metric, test_losses, test_metrics)"
      ],
      "metadata": {
        "colab": {
          "base_uri": "https://localhost:8080/"
        },
        "id": "RELx18d6IfOO",
        "outputId": "1a561a85-f276-4f11-fc48-90d4492cffbd"
      },
      "execution_count": 24,
      "outputs": [
        {
          "output_type": "stream",
          "name": "stdout",
          "text": [
            "Epoch 0\n"
          ]
        },
        {
          "output_type": "stream",
          "name": "stderr",
          "text": [
            "\r  0%|          | 0/469 [00:00<?, ?it/s]/usr/local/lib/python3.10/dist-packages/torch/utils/data/dataloader.py:557: UserWarning: This DataLoader will create 4 worker processes in total. Our suggested max number of worker in current system is 2, which is smaller than what this DataLoader is going to create. Please be aware that excessive worker creation might get DataLoader running slow or even freeze, lower the worker number to avoid potential slowness/freeze if necessary.\n",
            "  warnings.warn(_create_warning_msg(\n",
            "Avg Train Loss: 0.2986378018249835 Avg Train Metric: 0.8092362558218971: 100%|██████████| 469/469 [00:20<00:00, 23.25it/s]\n"
          ]
        },
        {
          "output_type": "stream",
          "name": "stdout",
          "text": [
            "Function Took 20.1813 seconds\n"
          ]
        },
        {
          "output_type": "stream",
          "name": "stderr",
          "text": [
            "Avg Test Loss: 0.06780259069526874 Avg Test Metric: 0.9801386979561818: 100%|██████████| 79/79 [00:03<00:00, 26.00it/s]\n"
          ]
        },
        {
          "output_type": "stream",
          "name": "stdout",
          "text": [
            "Function Took 3.0501 seconds\n",
            "Epoch 1\n"
          ]
        },
        {
          "output_type": "stream",
          "name": "stderr",
          "text": [
            "Avg Train Loss: 0.057823663336167265 Avg Train Metric: 0.9821715607826136: 100%|██████████| 469/469 [00:19<00:00, 24.46it/s]\n"
          ]
        },
        {
          "output_type": "stream",
          "name": "stdout",
          "text": [
            "Function Took 19.1870 seconds\n"
          ]
        },
        {
          "output_type": "stream",
          "name": "stderr",
          "text": [
            "Avg Test Loss: 0.04726444594738887 Avg Test Metric: 0.9837311317649069: 100%|██████████| 79/79 [00:02<00:00, 29.33it/s]\n"
          ]
        },
        {
          "output_type": "stream",
          "name": "stdout",
          "text": [
            "Function Took 2.7001 seconds\n",
            "Epoch 2\n"
          ]
        },
        {
          "output_type": "stream",
          "name": "stderr",
          "text": [
            "Avg Train Loss: 0.043327810915945564 Avg Train Metric: 0.9874869452864885: 100%|██████████| 469/469 [00:17<00:00, 26.76it/s]\n"
          ]
        },
        {
          "output_type": "stream",
          "name": "stdout",
          "text": [
            "Function Took 17.5388 seconds\n"
          ]
        },
        {
          "output_type": "stream",
          "name": "stderr",
          "text": [
            "Avg Test Loss: 0.04337791872175434 Avg Test Metric: 0.9842973653274246: 100%|██████████| 79/79 [00:02<00:00, 34.39it/s]\n"
          ]
        },
        {
          "output_type": "stream",
          "name": "stdout",
          "text": [
            "Function Took 2.3077 seconds\n",
            "Epoch 3\n"
          ]
        },
        {
          "output_type": "stream",
          "name": "stderr",
          "text": [
            "Avg Train Loss: 0.03539531875147558 Avg Train Metric: 0.9891170037072351: 100%|██████████| 469/469 [00:18<00:00, 24.84it/s]\n"
          ]
        },
        {
          "output_type": "stream",
          "name": "stdout",
          "text": [
            "Function Took 18.8862 seconds\n"
          ]
        },
        {
          "output_type": "stream",
          "name": "stderr",
          "text": [
            "Avg Test Loss: 0.036620656827087456 Avg Test Metric: 0.9873603582382202: 100%|██████████| 79/79 [00:02<00:00, 35.47it/s]\n"
          ]
        },
        {
          "output_type": "stream",
          "name": "stdout",
          "text": [
            "Function Took 2.2324 seconds\n",
            "Epoch 4\n"
          ]
        },
        {
          "output_type": "stream",
          "name": "stderr",
          "text": [
            "Avg Train Loss: 0.031165338151141017 Avg Train Metric: 0.9906810603416296: 100%|██████████| 469/469 [00:17<00:00, 27.12it/s]\n"
          ]
        },
        {
          "output_type": "stream",
          "name": "stdout",
          "text": [
            "Function Took 17.2984 seconds\n"
          ]
        },
        {
          "output_type": "stream",
          "name": "stderr",
          "text": [
            "Avg Test Loss: 0.036541674608848045 Avg Test Metric: 0.9869906012016006: 100%|██████████| 79/79 [00:02<00:00, 34.47it/s]\n"
          ]
        },
        {
          "output_type": "stream",
          "name": "stdout",
          "text": [
            "Function Took 2.3081 seconds\n",
            "Epoch 5\n"
          ]
        },
        {
          "output_type": "stream",
          "name": "stderr",
          "text": [
            "Avg Train Loss: 0.02760564338148776 Avg Train Metric: 0.9911122670305818: 100%|██████████| 469/469 [00:18<00:00, 25.53it/s]\n"
          ]
        },
        {
          "output_type": "stream",
          "name": "stdout",
          "text": [
            "Function Took 18.3795 seconds\n"
          ]
        },
        {
          "output_type": "stream",
          "name": "stderr",
          "text": [
            "Avg Test Loss: 0.029719877273398393 Avg Test Metric: 0.9920037019101879: 100%|██████████| 79/79 [00:02<00:00, 33.55it/s]\n"
          ]
        },
        {
          "output_type": "stream",
          "name": "stdout",
          "text": [
            "Function Took 2.3631 seconds\n",
            "Epoch 6\n"
          ]
        },
        {
          "output_type": "stream",
          "name": "stderr",
          "text": [
            "Avg Train Loss: 0.02514413163077825 Avg Train Metric: 0.992596037352263: 100%|██████████| 469/469 [00:18<00:00, 25.19it/s]\n"
          ]
        },
        {
          "output_type": "stream",
          "name": "stdout",
          "text": [
            "Function Took 18.6297 seconds\n"
          ]
        },
        {
          "output_type": "stream",
          "name": "stderr",
          "text": [
            "Avg Test Loss: 0.027581260355389853 Avg Test Metric: 0.9903169115887412: 100%|██████████| 79/79 [00:03<00:00, 25.51it/s]\n"
          ]
        },
        {
          "output_type": "stream",
          "name": "stdout",
          "text": [
            "Function Took 3.1050 seconds\n",
            "Epoch 7\n"
          ]
        },
        {
          "output_type": "stream",
          "name": "stderr",
          "text": [
            "Avg Train Loss: 0.02184474770091911 Avg Train Metric: 0.9935220702370601: 100%|██████████| 469/469 [00:17<00:00, 27.20it/s]\n"
          ]
        },
        {
          "output_type": "stream",
          "name": "stdout",
          "text": [
            "Function Took 17.2464 seconds\n"
          ]
        },
        {
          "output_type": "stream",
          "name": "stderr",
          "text": [
            "Avg Test Loss: 0.030782722291843142 Avg Test Metric: 0.9917029708246642: 100%|██████████| 79/79 [00:02<00:00, 32.37it/s]\n"
          ]
        },
        {
          "output_type": "stream",
          "name": "stdout",
          "text": [
            "Function Took 2.4485 seconds\n",
            "Epoch 8\n"
          ]
        },
        {
          "output_type": "stream",
          "name": "stderr",
          "text": [
            "Avg Train Loss: 0.019934046801416947 Avg Train Metric: 0.9941217319797605: 100%|██████████| 469/469 [00:18<00:00, 25.90it/s]\n"
          ]
        },
        {
          "output_type": "stream",
          "name": "stdout",
          "text": [
            "Function Took 18.1150 seconds\n"
          ]
        },
        {
          "output_type": "stream",
          "name": "stderr",
          "text": [
            "Avg Test Loss: 0.030196609426454843 Avg Test Metric: 0.991044313092775: 100%|██████████| 79/79 [00:02<00:00, 30.74it/s]\n"
          ]
        },
        {
          "output_type": "stream",
          "name": "stdout",
          "text": [
            "Function Took 2.5811 seconds\n",
            "Epoch 9\n"
          ]
        },
        {
          "output_type": "stream",
          "name": "stderr",
          "text": [
            "Avg Train Loss: 0.019352035934422245 Avg Train Metric: 0.9943953662284656: 100%|██████████| 469/469 [00:17<00:00, 26.85it/s]\n"
          ]
        },
        {
          "output_type": "stream",
          "name": "stdout",
          "text": [
            "Function Took 17.4775 seconds\n"
          ]
        },
        {
          "output_type": "stream",
          "name": "stderr",
          "text": [
            "Avg Test Loss: 0.03634690179465975 Avg Test Metric: 0.9892619591725024: 100%|██████████| 79/79 [00:02<00:00, 35.63it/s]\n"
          ]
        },
        {
          "output_type": "stream",
          "name": "stdout",
          "text": [
            "Function Took 2.2266 seconds\n",
            "Epoch 10\n"
          ]
        },
        {
          "output_type": "stream",
          "name": "stderr",
          "text": [
            "Avg Train Loss: 0.01781754868615395 Avg Train Metric: 0.9943216385871871: 100%|██████████| 469/469 [00:18<00:00, 25.20it/s]\n"
          ]
        },
        {
          "output_type": "stream",
          "name": "stdout",
          "text": [
            "Function Took 18.6170 seconds\n"
          ]
        },
        {
          "output_type": "stream",
          "name": "stderr",
          "text": [
            "Avg Test Loss: 0.028469627018711422 Avg Test Metric: 0.9906110001515739: 100%|██████████| 79/79 [00:02<00:00, 34.13it/s]\n"
          ]
        },
        {
          "output_type": "stream",
          "name": "stdout",
          "text": [
            "Function Took 2.3209 seconds\n",
            "Epoch 11\n"
          ]
        },
        {
          "output_type": "stream",
          "name": "stderr",
          "text": [
            "Avg Train Loss: 0.015618731719635324 Avg Train Metric: 0.995635234343726: 100%|██████████| 469/469 [00:17<00:00, 26.88it/s]\n"
          ]
        },
        {
          "output_type": "stream",
          "name": "stdout",
          "text": [
            "Function Took 17.4628 seconds\n"
          ]
        },
        {
          "output_type": "stream",
          "name": "stderr",
          "text": [
            "Avg Test Loss: 0.029253691706741584 Avg Test Metric: 0.9899078215224834: 100%|██████████| 79/79 [00:03<00:00, 22.88it/s]\n"
          ]
        },
        {
          "output_type": "stream",
          "name": "stdout",
          "text": [
            "Function Took 3.4638 seconds\n",
            "Epoch 12\n"
          ]
        },
        {
          "output_type": "stream",
          "name": "stderr",
          "text": [
            "Avg Train Loss: 0.016562731543268913 Avg Train Metric: 0.9948351224348235: 100%|██████████| 469/469 [00:18<00:00, 25.59it/s]\n"
          ]
        },
        {
          "output_type": "stream",
          "name": "stdout",
          "text": [
            "Function Took 18.3335 seconds\n"
          ]
        },
        {
          "output_type": "stream",
          "name": "stderr",
          "text": [
            "Avg Test Loss: 0.02780316952730918 Avg Test Metric: 0.9898801981648312: 100%|██████████| 79/79 [00:02<00:00, 35.20it/s]\n"
          ]
        },
        {
          "output_type": "stream",
          "name": "stdout",
          "text": [
            "Function Took 2.2563 seconds\n",
            "Epoch 13\n"
          ]
        },
        {
          "output_type": "stream",
          "name": "stderr",
          "text": [
            "Avg Train Loss: 0.01518964383595768 Avg Train Metric: 0.9961290003648445: 100%|██████████| 469/469 [00:17<00:00, 26.44it/s]\n"
          ]
        },
        {
          "output_type": "stream",
          "name": "stdout",
          "text": [
            "Function Took 17.7460 seconds\n"
          ]
        },
        {
          "output_type": "stream",
          "name": "stderr",
          "text": [
            "Avg Test Loss: 0.027326729006054398 Avg Test Metric: 0.9917674909664106: 100%|██████████| 79/79 [00:03<00:00, 24.66it/s]\n"
          ]
        },
        {
          "output_type": "stream",
          "name": "stdout",
          "text": [
            "Function Took 3.2106 seconds\n",
            "Epoch 14\n"
          ]
        },
        {
          "output_type": "stream",
          "name": "stderr",
          "text": [
            "Avg Train Loss: 0.013966951865642301 Avg Train Metric: 0.9950562781616569: 100%|██████████| 469/469 [00:17<00:00, 26.78it/s]\n"
          ]
        },
        {
          "output_type": "stream",
          "name": "stdout",
          "text": [
            "Function Took 17.5222 seconds\n"
          ]
        },
        {
          "output_type": "stream",
          "name": "stderr",
          "text": [
            "Avg Test Loss: 0.027051369149733006 Avg Test Metric: 0.9902219727069517: 100%|██████████| 79/79 [00:02<00:00, 35.51it/s]"
          ]
        },
        {
          "output_type": "stream",
          "name": "stdout",
          "text": [
            "Function Took 2.2327 seconds\n"
          ]
        },
        {
          "output_type": "stream",
          "name": "stderr",
          "text": [
            "\n"
          ]
        }
      ]
    },
    {
      "cell_type": "code",
      "source": [
        "plot_loss_accuracy(train_loss= [train_losses],\n",
        "                   val_loss= [test_losses],\n",
        "                   train_acc= [train_metrics],\n",
        "                   val_acc= [test_metrics],\n",
        "                   labels=['baseline-1'],\n",
        "                   colors=['blue'],\n",
        "                   loss_legend_loc='upper left',\n",
        "                   acc_legend_loc='upper left',\n",
        "                   legend_font=7)"
      ],
      "metadata": {
        "colab": {
          "base_uri": "https://localhost:8080/",
          "height": 872
        },
        "id": "NSRH-gExIfR0",
        "outputId": "c37aadd0-28ff-4ebc-eb3c-767c6fc25f38"
      },
      "execution_count": 25,
      "outputs": [
        {
          "output_type": "display_data",
          "data": {
            "text/plain": [
              "<Figure size 1600x1000 with 2 Axes>"
            ],
            "image/png": "[encoded data removed]"
          },
          "metadata": {}
        }
      ]
    },
    {
      "cell_type": "markdown",
      "source": [
        "Target:\n",
        "\n",
        "1. Setting up the basic premise for model development\n",
        "2. Baselin model with 2 sets of convolution blocks and 1 transition block\n",
        "3. Application of only Batch normalization after every Cnn layer\n",
        "4. Transition block applied after RF==5\n",
        "\n",
        "Results:\\\n",
        "Parameters: 8.9k\\\n",
        "Best Training Accuracy: 99.61\\\n",
        "Best Test Accuracy: 99.20\n",
        "\n",
        "Analysis:\n",
        "1. As a Baseline model extremely effective with consistent results ie Accuracy>99 for both train & test\n",
        "2. Diverging gap between both loss metrics of Train & Test"
      ],
      "metadata": {
        "id": "gLvWtm9YK84c"
      }
    },
    {
      "cell_type": "markdown",
      "source": [
        "## Overfitting Killer\n",
        "* Application of dropout layers to solve the problem of overfitting\n",
        "* In experiments dropout was tried at block level and also layer level and the former was found to be more effective"
      ],
      "metadata": {
        "id": "27O51sdvK88y"
      }
    },
    {
      "cell_type": "code",
      "source": [
        "class Mnist_Baseline_Dropout(nn.Module):\n",
        "\n",
        "  def __init__(self, in_channels, hidden_units, out_channels):\n",
        "    super(Mnist_Baseline_Dropout, self).__init__()\n",
        "\n",
        "    # 3 sets of convolution blocks with batchnorm added\n",
        "    self.conv1 = nn.Sequential(\n",
        "        # set-1\n",
        "        nn.Conv2d(in_channels=in_channels, out_channels=hidden_units, kernel_size=3, stride=1, padding=0), #26,3\n",
        "        nn.BatchNorm2d(hidden_units),\n",
        "        nn.ReLU(),\n",
        "        nn.Dropout(p=0.1),\n",
        "        #set-2\n",
        "        nn.Conv2d(in_channels=hidden_units, out_channels=hidden_units,  kernel_size=3, stride=1, padding=0), #24,5\n",
        "        nn.BatchNorm2d(hidden_units),\n",
        "        nn.ReLU(),\n",
        "        nn.Dropout(p=0.1),\n",
        "    )\n",
        "\n",
        "    # transition block with 1,1 mixer and maxpool added after it ie condense and compress\n",
        "    self.transition = nn.Sequential(\n",
        "        nn.Conv2d(in_channels=hidden_units, out_channels=hidden_units, kernel_size=1, stride=1, padding=0), #24,6\n",
        "        nn.BatchNorm2d(hidden_units),\n",
        "        nn.ReLU(),\n",
        "        nn.MaxPool2d(kernel_size=2, stride=2) #12,6\n",
        "    )\n",
        "\n",
        "    # 3 sets of convolution blocks with batchnorm added\n",
        "    self.conv2 = nn.Sequential(\n",
        "        # set-1\n",
        "        nn.Conv2d(in_channels=hidden_units, out_channels=hidden_units, kernel_size=3, stride=1, padding=0), #10,10\n",
        "        nn.BatchNorm2d(hidden_units),\n",
        "        nn.ReLU(),\n",
        "        nn.Dropout(p=0.1),\n",
        "        #set-2\n",
        "        nn.Conv2d(in_channels=hidden_units, out_channels=hidden_units, kernel_size=3, stride=1, padding=0), #8,14\n",
        "        nn.BatchNorm2d(hidden_units),\n",
        "        nn.ReLU(),\n",
        "        nn.Dropout(p=0.1),\n",
        "        #set-3\n",
        "        nn.Conv2d(in_channels=hidden_units, out_channels=hidden_units, kernel_size=3, stride=1, padding=0), #6,18\n",
        "        nn.BatchNorm2d(hidden_units),\n",
        "        nn.ReLU(),\n",
        "        nn.Dropout(p=0.1),\n",
        "        #set-4\n",
        "        nn.Conv2d(in_channels=hidden_units, out_channels=hidden_units, kernel_size=3, stride=1, padding=0), #4,22\n",
        "        nn.BatchNorm2d(hidden_units),\n",
        "        nn.ReLU(),\n",
        "        nn.Dropout(p=0.1),\n",
        "    )\n",
        "\n",
        "    self.classifier = nn.Sequential(nn.Conv2d(in_channels=hidden_units, out_channels=out_channels, kernel_size=4, stride=1, padding=0))\n",
        "\n",
        "\n",
        "  def forward(self, x):\n",
        "      x = self.conv1(x)\n",
        "      x = self.transition(x)\n",
        "      x = self.conv2(x)\n",
        "      x = self.classifier(x)\n",
        "      x = x.view(-1, 10)\n",
        "      return F.log_softmax(x, dim=-1)"
      ],
      "metadata": {
        "id": "hAkVwK8KK9Ad"
      },
      "execution_count": 27,
      "outputs": []
    },
    {
      "cell_type": "code",
      "source": [
        "# New Model Instance\n",
        "baseline_model_2 = Mnist_Baseline_Dropout(in_channels=1,hidden_units=12,out_channels=10).to(device)\n",
        "summary(baseline_model_2, input_size=(1, 28, 28))"
      ],
      "metadata": {
        "colab": {
          "base_uri": "https://localhost:8080/"
        },
        "id": "cXRzEsxMK9Ea",
        "outputId": "d33382cd-d70f-4d58-8754-f719a77b83e3"
      },
      "execution_count": 29,
      "outputs": [
        {
          "output_type": "stream",
          "name": "stdout",
          "text": [
            "----------------------------------------------------------------\n",
            "        Layer (type)               Output Shape         Param #\n",
            "================================================================\n",
            "            Conv2d-1           [-1, 12, 26, 26]             120\n",
            "       BatchNorm2d-2           [-1, 12, 26, 26]              24\n",
            "              ReLU-3           [-1, 12, 26, 26]               0\n",
            "           Dropout-4           [-1, 12, 26, 26]               0\n",
            "            Conv2d-5           [-1, 12, 24, 24]           1,308\n",
            "       BatchNorm2d-6           [-1, 12, 24, 24]              24\n",
            "              ReLU-7           [-1, 12, 24, 24]               0\n",
            "           Dropout-8           [-1, 12, 24, 24]               0\n",
            "            Conv2d-9           [-1, 12, 24, 24]             156\n",
            "      BatchNorm2d-10           [-1, 12, 24, 24]              24\n",
            "             ReLU-11           [-1, 12, 24, 24]               0\n",
            "        MaxPool2d-12           [-1, 12, 12, 12]               0\n",
            "           Conv2d-13           [-1, 12, 10, 10]           1,308\n",
            "      BatchNorm2d-14           [-1, 12, 10, 10]              24\n",
            "             ReLU-15           [-1, 12, 10, 10]               0\n",
            "          Dropout-16           [-1, 12, 10, 10]               0\n",
            "           Conv2d-17             [-1, 12, 8, 8]           1,308\n",
            "      BatchNorm2d-18             [-1, 12, 8, 8]              24\n",
            "             ReLU-19             [-1, 12, 8, 8]               0\n",
            "          Dropout-20             [-1, 12, 8, 8]               0\n",
            "           Conv2d-21             [-1, 12, 6, 6]           1,308\n",
            "      BatchNorm2d-22             [-1, 12, 6, 6]              24\n",
            "             ReLU-23             [-1, 12, 6, 6]               0\n",
            "          Dropout-24             [-1, 12, 6, 6]               0\n",
            "           Conv2d-25             [-1, 12, 4, 4]           1,308\n",
            "      BatchNorm2d-26             [-1, 12, 4, 4]              24\n",
            "             ReLU-27             [-1, 12, 4, 4]               0\n",
            "          Dropout-28             [-1, 12, 4, 4]               0\n",
            "           Conv2d-29             [-1, 10, 1, 1]           1,930\n",
            "================================================================\n",
            "Total params: 8,914\n",
            "Trainable params: 8,914\n",
            "Non-trainable params: 0\n",
            "----------------------------------------------------------------\n",
            "Input size (MB): 0.00\n",
            "Forward/backward pass size (MB): 0.71\n",
            "Params size (MB): 0.03\n",
            "Estimated Total Size (MB): 0.75\n",
            "----------------------------------------------------------------\n"
          ]
        }
      ]
    },
    {
      "cell_type": "code",
      "source": [
        "# driver setup----\n",
        "# optmizer\n",
        "optimizer = optim.Adam(baseline_model_2.parameters(), lr=lr)\n",
        "# loss\n",
        "criterion = nn.CrossEntropyLoss()\n",
        "# metric\n",
        "metric = MulticlassAccuracy(device = device, num_classes=10)"
      ],
      "metadata": {
        "id": "CIDN9IUAN4Cd"
      },
      "execution_count": 30,
      "outputs": []
    },
    {
      "cell_type": "code",
      "source": [
        "train_losses = []\n",
        "train_metrics = []\n",
        "test_losses = []\n",
        "test_metrics = []\n",
        "\n",
        "for epoch in range(0,epochs):\n",
        "  print(f'Epoch {epoch}')\n",
        "  train_losses, train_metrics = train_module(baseline_model_2, device, train_loader, optimizer, criterion, metric, train_losses, train_metrics)\n",
        "  test_losses , test_metrics = test_module(baseline_model_2, device, test_loader, criterion, metric, test_losses, test_metrics)"
      ],
      "metadata": {
        "colab": {
          "base_uri": "https://localhost:8080/"
        },
        "outputId": "a7b65a89-61bf-4556-c442-9f29d6014177",
        "id": "g7qOekc4N4Cd"
      },
      "execution_count": 31,
      "outputs": [
        {
          "output_type": "stream",
          "name": "stdout",
          "text": [
            "Epoch 0\n"
          ]
        },
        {
          "output_type": "stream",
          "name": "stderr",
          "text": [
            "\r  0%|          | 0/469 [00:00<?, ?it/s]/usr/local/lib/python3.10/dist-packages/torch/utils/data/dataloader.py:557: UserWarning: This DataLoader will create 4 worker processes in total. Our suggested max number of worker in current system is 2, which is smaller than what this DataLoader is going to create. Please be aware that excessive worker creation might get DataLoader running slow or even freeze, lower the worker number to avoid potential slowness/freeze if necessary.\n",
            "  warnings.warn(_create_warning_msg(\n",
            "Avg Train Loss: 0.4469337827091151 Avg Train Metric: 0.7211955099154129: 100%|██████████| 469/469 [00:19<00:00, 24.33it/s]\n"
          ]
        },
        {
          "output_type": "stream",
          "name": "stdout",
          "text": [
            "Function Took 19.2802 seconds\n"
          ]
        },
        {
          "output_type": "stream",
          "name": "stderr",
          "text": [
            "Avg Test Loss: 0.09873904085046128 Avg Test Metric: 0.9702320702468292: 100%|██████████| 79/79 [00:02<00:00, 36.04it/s]\n"
          ]
        },
        {
          "output_type": "stream",
          "name": "stdout",
          "text": [
            "Function Took 2.1975 seconds\n",
            "Epoch 1\n"
          ]
        },
        {
          "output_type": "stream",
          "name": "stderr",
          "text": [
            "Avg Train Loss: 0.09620239464903692 Avg Train Metric: 0.9681225782518448: 100%|██████████| 469/469 [00:17<00:00, 27.05it/s]\n"
          ]
        },
        {
          "output_type": "stream",
          "name": "stdout",
          "text": [
            "Function Took 17.3516 seconds\n"
          ]
        },
        {
          "output_type": "stream",
          "name": "stderr",
          "text": [
            "Avg Test Loss: 0.059870537087509904 Avg Test Metric: 0.9825304565550406: 100%|██████████| 79/79 [00:02<00:00, 35.93it/s]\n"
          ]
        },
        {
          "output_type": "stream",
          "name": "stdout",
          "text": [
            "Function Took 2.2062 seconds\n",
            "Epoch 2\n"
          ]
        },
        {
          "output_type": "stream",
          "name": "stderr",
          "text": [
            "Avg Train Loss: 0.0704014442428184 Avg Train Metric: 0.9776249449136161: 100%|██████████| 469/469 [00:19<00:00, 24.51it/s]\n"
          ]
        },
        {
          "output_type": "stream",
          "name": "stdout",
          "text": [
            "Function Took 19.1470 seconds\n"
          ]
        },
        {
          "output_type": "stream",
          "name": "stderr",
          "text": [
            "Avg Test Loss: 0.03658211241252249 Avg Test Metric: 0.9907987110222443: 100%|██████████| 79/79 [00:02<00:00, 35.93it/s]\n"
          ]
        },
        {
          "output_type": "stream",
          "name": "stdout",
          "text": [
            "Function Took 2.2065 seconds\n",
            "Epoch 3\n"
          ]
        },
        {
          "output_type": "stream",
          "name": "stderr",
          "text": [
            "Avg Train Loss: 0.059107019166861265 Avg Train Metric: 0.9820423321937447: 100%|██████████| 469/469 [00:17<00:00, 27.35it/s]\n"
          ]
        },
        {
          "output_type": "stream",
          "name": "stdout",
          "text": [
            "Function Took 17.1525 seconds\n"
          ]
        },
        {
          "output_type": "stream",
          "name": "stderr",
          "text": [
            "Avg Test Loss: 0.04102815318664041 Avg Test Metric: 0.9883622821373276: 100%|██████████| 79/79 [00:02<00:00, 33.27it/s]\n"
          ]
        },
        {
          "output_type": "stream",
          "name": "stdout",
          "text": [
            "Function Took 2.3885 seconds\n",
            "Epoch 4\n"
          ]
        },
        {
          "output_type": "stream",
          "name": "stderr",
          "text": [
            "Avg Train Loss: 0.05433312237266697 Avg Train Metric: 0.9834925960630242: 100%|██████████| 469/469 [00:19<00:00, 24.50it/s]\n"
          ]
        },
        {
          "output_type": "stream",
          "name": "stdout",
          "text": [
            "Function Took 19.1511 seconds\n"
          ]
        },
        {
          "output_type": "stream",
          "name": "stderr",
          "text": [
            "Avg Test Loss: 0.043232350745768866 Avg Test Metric: 0.9849085853069643: 100%|██████████| 79/79 [00:02<00:00, 34.45it/s]\n"
          ]
        },
        {
          "output_type": "stream",
          "name": "stdout",
          "text": [
            "Function Took 2.3003 seconds\n",
            "Epoch 5\n"
          ]
        },
        {
          "output_type": "stream",
          "name": "stderr",
          "text": [
            "Avg Train Loss: 0.04827989981984342 Avg Train Metric: 0.9850054653977026: 100%|██████████| 469/469 [00:17<00:00, 26.78it/s]\n"
          ]
        },
        {
          "output_type": "stream",
          "name": "stdout",
          "text": [
            "Function Took 17.5246 seconds\n"
          ]
        },
        {
          "output_type": "stream",
          "name": "stderr",
          "text": [
            "Avg Test Loss: 0.03534238557390208 Avg Test Metric: 0.9878970203520376: 100%|██████████| 79/79 [00:02<00:00, 28.39it/s]\n"
          ]
        },
        {
          "output_type": "stream",
          "name": "stdout",
          "text": [
            "Function Took 2.7901 seconds\n",
            "Epoch 6\n"
          ]
        },
        {
          "output_type": "stream",
          "name": "stderr",
          "text": [
            "Avg Train Loss: 0.04717924132365296 Avg Train Metric: 0.9853691795487394: 100%|██████████| 469/469 [00:17<00:00, 26.38it/s]\n"
          ]
        },
        {
          "output_type": "stream",
          "name": "stdout",
          "text": [
            "Function Took 17.7847 seconds\n"
          ]
        },
        {
          "output_type": "stream",
          "name": "stderr",
          "text": [
            "Avg Test Loss: 0.02906794305684493 Avg Test Metric: 0.9906689358662956: 100%|██████████| 79/79 [00:02<00:00, 35.09it/s]\n"
          ]
        },
        {
          "output_type": "stream",
          "name": "stdout",
          "text": [
            "Function Took 2.2573 seconds\n",
            "Epoch 7\n"
          ]
        },
        {
          "output_type": "stream",
          "name": "stderr",
          "text": [
            "Avg Train Loss: 0.042823538719328924 Avg Train Metric: 0.9869073229049569: 100%|██████████| 469/469 [00:17<00:00, 26.48it/s]\n"
          ]
        },
        {
          "output_type": "stream",
          "name": "stdout",
          "text": [
            "Function Took 17.7237 seconds\n"
          ]
        },
        {
          "output_type": "stream",
          "name": "stderr",
          "text": [
            "Avg Test Loss: 0.02909539774343183 Avg Test Metric: 0.9916595824157135: 100%|██████████| 79/79 [00:03<00:00, 26.13it/s]\n"
          ]
        },
        {
          "output_type": "stream",
          "name": "stdout",
          "text": [
            "Function Took 3.0288 seconds\n",
            "Epoch 8\n"
          ]
        },
        {
          "output_type": "stream",
          "name": "stderr",
          "text": [
            "Avg Train Loss: 0.04150130183372432 Avg Train Metric: 0.987350381132382: 100%|██████████| 469/469 [00:17<00:00, 26.53it/s]\n"
          ]
        },
        {
          "output_type": "stream",
          "name": "stdout",
          "text": [
            "Function Took 17.6870 seconds\n"
          ]
        },
        {
          "output_type": "stream",
          "name": "stderr",
          "text": [
            "Avg Test Loss: 0.028578838159601334 Avg Test Metric: 0.9910919145692753: 100%|██████████| 79/79 [00:02<00:00, 34.99it/s]\n"
          ]
        },
        {
          "output_type": "stream",
          "name": "stdout",
          "text": [
            "Function Took 2.2644 seconds\n",
            "Epoch 9\n"
          ]
        },
        {
          "output_type": "stream",
          "name": "stderr",
          "text": [
            "Avg Train Loss: 0.03920100321387574 Avg Train Metric: 0.9868620951800967: 100%|██████████| 469/469 [00:18<00:00, 24.83it/s]\n"
          ]
        },
        {
          "output_type": "stream",
          "name": "stdout",
          "text": [
            "Function Took 18.8974 seconds\n"
          ]
        },
        {
          "output_type": "stream",
          "name": "stderr",
          "text": [
            "Avg Test Loss: 0.02613847448396249 Avg Test Metric: 0.993008099779298: 100%|██████████| 79/79 [00:02<00:00, 27.84it/s]\n"
          ]
        },
        {
          "output_type": "stream",
          "name": "stdout",
          "text": [
            "Function Took 2.8445 seconds\n",
            "Epoch 10\n"
          ]
        },
        {
          "output_type": "stream",
          "name": "stderr",
          "text": [
            "Avg Train Loss: 0.03760771609511155 Avg Train Metric: 0.9879435688447851: 100%|██████████| 469/469 [00:17<00:00, 26.71it/s]\n"
          ]
        },
        {
          "output_type": "stream",
          "name": "stdout",
          "text": [
            "Function Took 17.5676 seconds\n"
          ]
        },
        {
          "output_type": "stream",
          "name": "stderr",
          "text": [
            "Avg Test Loss: 0.025068215426069365 Avg Test Metric: 0.9909485736979714: 100%|██████████| 79/79 [00:02<00:00, 35.84it/s]\n"
          ]
        },
        {
          "output_type": "stream",
          "name": "stdout",
          "text": [
            "Function Took 2.2140 seconds\n",
            "Epoch 11\n"
          ]
        },
        {
          "output_type": "stream",
          "name": "stderr",
          "text": [
            "Avg Train Loss: 0.03844297370925021 Avg Train Metric: 0.9881297014415391: 100%|██████████| 469/469 [00:18<00:00, 24.90it/s]\n"
          ]
        },
        {
          "output_type": "stream",
          "name": "stdout",
          "text": [
            "Function Took 18.8434 seconds\n"
          ]
        },
        {
          "output_type": "stream",
          "name": "stderr",
          "text": [
            "Avg Test Loss: 0.02782243902535661 Avg Test Metric: 0.9927384415759316: 100%|██████████| 79/79 [00:02<00:00, 35.53it/s]\n"
          ]
        },
        {
          "output_type": "stream",
          "name": "stdout",
          "text": [
            "Function Took 2.2321 seconds\n",
            "Epoch 12\n"
          ]
        },
        {
          "output_type": "stream",
          "name": "stderr",
          "text": [
            "Avg Train Loss: 0.03620558568506813 Avg Train Metric: 0.9884489195179075: 100%|██████████| 469/469 [00:17<00:00, 26.70it/s]\n"
          ]
        },
        {
          "output_type": "stream",
          "name": "stdout",
          "text": [
            "Function Took 17.5765 seconds\n"
          ]
        },
        {
          "output_type": "stream",
          "name": "stderr",
          "text": [
            "Avg Test Loss: 0.026315832112715404 Avg Test Metric: 0.9924538973011549: 100%|██████████| 79/79 [00:02<00:00, 29.21it/s]\n"
          ]
        },
        {
          "output_type": "stream",
          "name": "stdout",
          "text": [
            "Function Took 2.7167 seconds\n",
            "Epoch 13\n"
          ]
        },
        {
          "output_type": "stream",
          "name": "stderr",
          "text": [
            "Avg Train Loss: 0.03473935504781523 Avg Train Metric: 0.9883078386280328: 100%|██████████| 469/469 [00:17<00:00, 26.28it/s]\n"
          ]
        },
        {
          "output_type": "stream",
          "name": "stdout",
          "text": [
            "Function Took 17.8541 seconds\n"
          ]
        },
        {
          "output_type": "stream",
          "name": "stderr",
          "text": [
            "Avg Test Loss: 0.026327962524410855 Avg Test Metric: 0.9924689569050753: 100%|██████████| 79/79 [00:02<00:00, 33.83it/s]\n"
          ]
        },
        {
          "output_type": "stream",
          "name": "stdout",
          "text": [
            "Function Took 2.3431 seconds\n",
            "Epoch 14\n"
          ]
        },
        {
          "output_type": "stream",
          "name": "stderr",
          "text": [
            "Avg Train Loss: 0.034592379864279446 Avg Train Metric: 0.9890040389256183: 100%|██████████| 469/469 [00:17<00:00, 26.41it/s]\n"
          ]
        },
        {
          "output_type": "stream",
          "name": "stdout",
          "text": [
            "Function Took 17.7689 seconds\n"
          ]
        },
        {
          "output_type": "stream",
          "name": "stderr",
          "text": [
            "Avg Test Loss: 0.024515276468252835 Avg Test Metric: 0.9919412717034545: 100%|██████████| 79/79 [00:02<00:00, 26.86it/s]"
          ]
        },
        {
          "output_type": "stream",
          "name": "stdout",
          "text": [
            "Function Took 2.9503 seconds\n"
          ]
        },
        {
          "output_type": "stream",
          "name": "stderr",
          "text": [
            "\n"
          ]
        }
      ]
    },
    {
      "cell_type": "code",
      "source": [
        "plot_loss_accuracy(train_loss= [train_losses],\n",
        "                   val_loss= [test_losses],\n",
        "                   train_acc= [train_metrics],\n",
        "                   val_acc= [test_metrics],\n",
        "                   labels=['baseline-2'],\n",
        "                   colors=['blue'],\n",
        "                   loss_legend_loc='upper left',\n",
        "                   acc_legend_loc='upper left',\n",
        "                   legend_font=7)"
      ],
      "metadata": {
        "colab": {
          "base_uri": "https://localhost:8080/",
          "height": 872
        },
        "outputId": "51298122-e008-4d8e-aecd-c083546cf732",
        "id": "HDZ2c2h1N4Ce"
      },
      "execution_count": 33,
      "outputs": [
        {
          "output_type": "display_data",
          "data": {
            "text/plain": [
              "<Figure size 1600x1000 with 2 Axes>"
            ],
            "image/png": "[encoded data removed]"
          },
          "metadata": {}
        }
      ]
    },
    {
      "cell_type": "markdown",
      "source": [
        "Target:\n",
        "1. Improve the situation of overfitting by adding dropout layers to the model\n",
        "2. Closed performance metrics for train and test\n",
        "Results:\\\n",
        "Parameters: 8.9k\\\n",
        "Best Training Accuracy: 98.99\\\n",
        "Best Test Accuracy: 99.3\n",
        "\n",
        "Analysis:\n",
        "1. Though train acc metric has comedown but test metrics are better by substantial margin"
      ],
      "metadata": {
        "id": "Pgf6PrbvK9Ij"
      }
    },
    {
      "cell_type": "code",
      "source": [],
      "metadata": {
        "id": "hmsFJOKzK9Mf"
      },
      "execution_count": null,
      "outputs": []
    },
    {
      "cell_type": "code",
      "source": [],
      "metadata": {
        "id": "uL8e9XtrK9QU"
      },
      "execution_count": null,
      "outputs": []
    },
    {
      "cell_type": "code",
      "source": [],
      "metadata": {
        "id": "jU2BqMSmK9Uw"
      },
      "execution_count": null,
      "outputs": []
    },
    {
      "cell_type": "code",
      "source": [],
      "metadata": {
        "id": "sYZkZ5aAK9Y3"
      },
      "execution_count": null,
      "outputs": []
    },
    {
      "cell_type": "code",
      "source": [],
      "metadata": {
        "id": "s0zS_AhXK9dF"
      },
      "execution_count": null,
      "outputs": []
    },
    {
      "cell_type": "code",
      "source": [],
      "metadata": {
        "id": "zo4FVTyHK9hD"
      },
      "execution_count": null,
      "outputs": []
    },
    {
      "cell_type": "code",
      "source": [],
      "metadata": {
        "id": "ue1S0qPAK9lE"
      },
      "execution_count": null,
      "outputs": []
    },
    {
      "cell_type": "code",
      "source": [],
      "metadata": {
        "id": "Dl5pVcgaK9pi"
      },
      "execution_count": null,
      "outputs": []
    },
    {
      "cell_type": "code",
      "source": [],
      "metadata": {
        "id": "5SsWx7oNK9uF"
      },
      "execution_count": null,
      "outputs": []
    },
    {
      "cell_type": "code",
      "source": [],
      "metadata": {
        "id": "h24YapszK9yM"
      },
      "execution_count": null,
      "outputs": []
    },
    {
      "cell_type": "code",
      "source": [],
      "metadata": {
        "id": "6Xy1K0h0K92R"
      },
      "execution_count": null,
      "outputs": []
    },
    {
      "cell_type": "code",
      "source": [],
      "metadata": {
        "id": "jJ0oPkGOIfVP"
      },
      "execution_count": null,
      "outputs": []
    },
    {
      "cell_type": "code",
      "source": [],
      "metadata": {
        "id": "PYG5SGteIfZd"
      },
      "execution_count": null,
      "outputs": []
    },
    {
      "cell_type": "code",
      "source": [
        "b"
      ],
      "metadata": {
        "id": "tKjYddxIIfdP"
      },
      "execution_count": null,
      "outputs": []
    }
  ]
}