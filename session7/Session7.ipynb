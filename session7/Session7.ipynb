{
  "nbformat": 4,
  "nbformat_minor": 0,
  "metadata": {
    "colab": {
      "provenance": [],
      "gpuType": "T4",
      "mount_file_id": "1cm_JUWMV2-8EZa1FNgCMrsnSYg3T3UQo",
      "authorship_tag": "ABX9TyOWP7r0+90B1wOzduLJj8N1",
      "include_colab_link": true
    },
    "kernelspec": {
      "name": "python3",
      "display_name": "Python 3"
    },
    "language_info": {
      "name": "python"
    },
    "accelerator": "GPU"
  },
  "cells": [
    {
      "cell_type": "markdown",
      "metadata": {
        "id": "view-in-github",
        "colab_type": "text"
      },
      "source": [
        "<a href=\"https://colab.research.google.com/github/soutrik71/School_of_AI_ERA/blob/main/session7/Session7.ipynb\" target=\"_parent\"><img src=\"https://colab.research.google.com/assets/colab-badge.svg\" alt=\"Open In Colab\"/></a>"
      ]
    },
    {
      "cell_type": "code",
      "execution_count": 1,
      "metadata": {
        "id": "Ybg43l77L6FY"
      },
      "outputs": [],
      "source": [
        "import os\n",
        "os.environ['CUDA_LAUNCH_BLOCKING'] = \"1\""
      ]
    },
    {
      "cell_type": "code",
      "source": [
        "!pip install portalocker\n",
        "!pip install torchview\n",
        "!pip install torcheval\n",
        "!pip install scikit-plot"
      ],
      "metadata": {
        "colab": {
          "base_uri": "https://localhost:8080/"
        },
        "id": "f4rmfKXgMJdx",
        "outputId": "f489fd2a-fd72-41b7-fc96-70db424613ce"
      },
      "execution_count": 2,
      "outputs": [
        {
          "output_type": "stream",
          "name": "stdout",
          "text": [
            "Requirement already satisfied: portalocker in /usr/local/lib/python3.10/dist-packages (2.8.2)\n",
            "Requirement already satisfied: torchview in /usr/local/lib/python3.10/dist-packages (0.2.6)\n",
            "Requirement already satisfied: torcheval in /usr/local/lib/python3.10/dist-packages (0.0.7)\n",
            "Requirement already satisfied: typing-extensions in /usr/local/lib/python3.10/dist-packages (from torcheval) (4.10.0)\n",
            "Requirement already satisfied: scikit-plot in /usr/local/lib/python3.10/dist-packages (0.3.7)\n",
            "Requirement already satisfied: matplotlib>=1.4.0 in /usr/local/lib/python3.10/dist-packages (from scikit-plot) (3.7.1)\n",
            "Requirement already satisfied: scikit-learn>=0.18 in /usr/local/lib/python3.10/dist-packages (from scikit-plot) (1.2.2)\n",
            "Requirement already satisfied: scipy>=0.9 in /usr/local/lib/python3.10/dist-packages (from scikit-plot) (1.11.4)\n",
            "Requirement already satisfied: joblib>=0.10 in /usr/local/lib/python3.10/dist-packages (from scikit-plot) (1.3.2)\n",
            "Requirement already satisfied: contourpy>=1.0.1 in /usr/local/lib/python3.10/dist-packages (from matplotlib>=1.4.0->scikit-plot) (1.2.0)\n",
            "Requirement already satisfied: cycler>=0.10 in /usr/local/lib/python3.10/dist-packages (from matplotlib>=1.4.0->scikit-plot) (0.12.1)\n",
            "Requirement already satisfied: fonttools>=4.22.0 in /usr/local/lib/python3.10/dist-packages (from matplotlib>=1.4.0->scikit-plot) (4.49.0)\n",
            "Requirement already satisfied: kiwisolver>=1.0.1 in /usr/local/lib/python3.10/dist-packages (from matplotlib>=1.4.0->scikit-plot) (1.4.5)\n",
            "Requirement already satisfied: numpy>=1.20 in /usr/local/lib/python3.10/dist-packages (from matplotlib>=1.4.0->scikit-plot) (1.25.2)\n",
            "Requirement already satisfied: packaging>=20.0 in /usr/local/lib/python3.10/dist-packages (from matplotlib>=1.4.0->scikit-plot) (24.0)\n",
            "Requirement already satisfied: pillow>=6.2.0 in /usr/local/lib/python3.10/dist-packages (from matplotlib>=1.4.0->scikit-plot) (9.4.0)\n",
            "Requirement already satisfied: pyparsing>=2.3.1 in /usr/local/lib/python3.10/dist-packages (from matplotlib>=1.4.0->scikit-plot) (3.1.2)\n",
            "Requirement already satisfied: python-dateutil>=2.7 in /usr/local/lib/python3.10/dist-packages (from matplotlib>=1.4.0->scikit-plot) (2.8.2)\n",
            "Requirement already satisfied: threadpoolctl>=2.0.0 in /usr/local/lib/python3.10/dist-packages (from scikit-learn>=0.18->scikit-plot) (3.3.0)\n",
            "Requirement already satisfied: six>=1.5 in /usr/local/lib/python3.10/dist-packages (from python-dateutil>=2.7->matplotlib>=1.4.0->scikit-plot) (1.16.0)\n"
          ]
        }
      ]
    },
    {
      "cell_type": "code",
      "source": [
        "import torch\n",
        "import torch.nn as nn\n",
        "import torch.nn.functional as F\n",
        "import torch.optim as optim\n",
        "import torchvision.transforms as transforms\n",
        "import matplotlib.pyplot as plt\n",
        "import numpy as np\n",
        "import torchvision\n",
        "import torchvision.datasets as datasets\n",
        "from torch.utils.data import Dataset, DataLoader\n",
        "from torchsummary import summary\n",
        "from torchview import draw_graph\n",
        "from pathlib import Path\n",
        "import pandas as pd\n",
        "from sklearn.preprocessing import StandardScaler\n",
        "from sklearn.model_selection import train_test_split\n",
        "from tqdm import tqdm\n",
        "import random\n",
        "from torcheval.metrics import MulticlassAccuracy,BinaryAccuracy\n",
        "from torchvision.transforms import ToTensor\n",
        "import matplotlib.pyplot as plt\n",
        "from torch.optim.lr_scheduler import ReduceLROnPlateau, StepLR, OneCycleLR, ExponentialLR"
      ],
      "metadata": {
        "id": "a83ckFfnMJyH"
      },
      "execution_count": 18,
      "outputs": []
    },
    {
      "cell_type": "markdown",
      "source": [
        "## Helper Methods"
      ],
      "metadata": {
        "id": "tYneF2L9NrGh"
      }
    },
    {
      "cell_type": "code",
      "source": [
        "def set_seed(seed: int = 42) -> None:\n",
        "    np.random.seed(seed)\n",
        "    random.seed(seed)\n",
        "    torch.manual_seed(seed)\n",
        "    torch.cuda.manual_seed(seed)\n",
        "    # When running on the CuDNN backend, two further options must be set\n",
        "    torch.backends.cudnn.deterministic = True\n",
        "    torch.backends.cudnn.benchmark = False\n",
        "    # Set a fixed value for the hash seed\n",
        "    os.environ[\"PYTHONHASHSEED\"] = str(seed)\n",
        "    print(f\"Random seed set as {seed}\")"
      ],
      "metadata": {
        "id": "qc4w3PbTNt7X"
      },
      "execution_count": 4,
      "outputs": []
    },
    {
      "cell_type": "code",
      "source": [
        "# Set manual seed since nn.Parameter are randomly initialzied\n",
        "set_seed(42)\n",
        "# Set device cuda for GPU if it's available otherwise run on the CPU\n",
        "device = torch.device(\"cuda\" if torch.cuda.is_available() else \"cpu\")\n",
        "print(device)\n",
        "batch_size = 1024\n",
        "epochs = 15\n",
        "lr = 1e-3"
      ],
      "metadata": {
        "colab": {
          "base_uri": "https://localhost:8080/"
        },
        "id": "Jdh4WCBkNt_Q",
        "outputId": "85b7b43e-7d4a-4828-ccf6-062d454e61ae"
      },
      "execution_count": 30,
      "outputs": [
        {
          "output_type": "stream",
          "name": "stdout",
          "text": [
            "Random seed set as 42\n",
            "cuda\n"
          ]
        }
      ]
    },
    {
      "cell_type": "code",
      "source": [
        "def plot_loss_accuracy(train_loss, val_loss, train_acc, val_acc, labels, colors,\n",
        "                       loss_legend_loc='upper center', acc_legend_loc='upper left', legend_font=5,\n",
        "                       fig_size=(16, 10), sub_plot1=(1, 2, 1), sub_plot2=(1, 2, 2)):\n",
        "\n",
        "    plt.rcParams[\"figure.figsize\"] = fig_size\n",
        "    plt.figure\n",
        "\n",
        "\n",
        "    plt.subplot(sub_plot1[0], sub_plot1[1], sub_plot1[2])\n",
        "\n",
        "    for i in range(len(train_loss)):\n",
        "        x_train = range(len(train_loss[i]))\n",
        "        x_val = range(len(val_loss[i]))\n",
        "\n",
        "        min_train_loss = np.array(train_loss[i]).min()\n",
        "\n",
        "        min_val_loss = np.array(val_loss[i]).min()\n",
        "\n",
        "        plt.plot(x_train, train_loss[i], linestyle='-', color='tab:{}'.format(colors[i]),\n",
        "                 label=\"TRAIN ({0:.4}): {1}\".format(min_train_loss, labels[i]))\n",
        "        plt.plot(x_val, val_loss[i], linestyle='--' , color='tab:{}'.format(colors[i]),\n",
        "                 label=\"VALID ({0:.4}): {1}\".format(min_val_loss, labels[i]))\n",
        "\n",
        "    plt.xlabel('epoch no.')\n",
        "    plt.ylabel('loss')\n",
        "    plt.legend(loc=loss_legend_loc, prop={'size': legend_font})\n",
        "    plt.title('Training and Validation Loss')\n",
        "\n",
        "    plt.subplot(sub_plot2[0], sub_plot2[1], sub_plot2[2])\n",
        "\n",
        "    for i in range(len(train_acc)):\n",
        "        x_train = range(len(train_acc[i]))\n",
        "        x_val = range(len(val_acc[i]))\n",
        "\n",
        "        max_train_acc = np.array(train_acc[i]).max()\n",
        "\n",
        "        max_val_acc = np.array(val_acc[i]).max()\n",
        "\n",
        "        plt.plot(x_train, train_acc[i], linestyle='-', color='tab:{}'.format(colors[i]),\n",
        "                 label=\"TRAIN ({0:.4}): {1}\".format(max_train_acc, labels[i]))\n",
        "        plt.plot(x_val, val_acc[i], linestyle='--' , color='tab:{}'.format(colors[i]),\n",
        "                 label=\"VALID ({0:.4}): {1}\".format(max_val_acc, labels[i]))\n",
        "\n",
        "    plt.xlabel('epoch no.')\n",
        "    plt.ylabel('accuracy')\n",
        "    plt.legend(loc=acc_legend_loc, prop={'size': legend_font})\n",
        "    plt.title('Training and Validation Accuracy')\n",
        "\n",
        "    plt.show()"
      ],
      "metadata": {
        "id": "BjuRCO2FOD7O"
      },
      "execution_count": 6,
      "outputs": []
    },
    {
      "cell_type": "code",
      "source": [
        "# decorator function to record time exp\n",
        "from functools import wraps\n",
        "import time\n",
        "\n",
        "def timeit(func):\n",
        "    @wraps(func)\n",
        "    def timeit_wrapper(*args, **kwargs):\n",
        "        start_time = time.perf_counter()\n",
        "        result = func(*args, **kwargs)\n",
        "        end_time = time.perf_counter()\n",
        "        total_time = end_time - start_time\n",
        "        print(f'Function Took {total_time:.4f} seconds')\n",
        "        return result\n",
        "    return timeit_wrapper"
      ],
      "metadata": {
        "id": "VXSlF0YicBdv"
      },
      "execution_count": 7,
      "outputs": []
    },
    {
      "cell_type": "markdown",
      "source": [
        "## DataPrep\n",
        "\n",
        "Basic train test dataprep without much changes"
      ],
      "metadata": {
        "id": "Bd0MDt3BMhQp"
      }
    },
    {
      "cell_type": "code",
      "source": [
        "# Train Phase transformations\n",
        "train_transforms = transforms.Compose([\n",
        "                                      transforms.ToTensor(),\n",
        "                                      transforms.Normalize((0.1307,), (0.3081,)) # The mean and std have to be sequences (e.g., tuples), therefore you should add a comma after the values.\n",
        "                                       ])\n",
        "\n",
        "# Test Phase transformations\n",
        "test_transforms = transforms.Compose([\n",
        "                                transforms.ToTensor(),\n",
        "                                transforms.Normalize((0.1307,), (0.3081,))\n",
        "                                ])\n"
      ],
      "metadata": {
        "id": "_lMvBY1sMKDd"
      },
      "execution_count": 8,
      "outputs": []
    },
    {
      "cell_type": "code",
      "source": [
        "# downloading train and test data\n",
        "train = datasets.MNIST('./data', train=True, download=True, transform=train_transforms)\n",
        "test = datasets.MNIST('./data', train=False, download=True, transform=test_transforms)"
      ],
      "metadata": {
        "id": "IKb1CI0JMKGu"
      },
      "execution_count": 9,
      "outputs": []
    },
    {
      "cell_type": "code",
      "source": [
        "#Dataloaders\n",
        "# dataloader arguments - something you'll fetch these from cmdprmt\n",
        "dataloader_args = dict(shuffle=True, batch_size=128, num_workers=4, pin_memory=True) if device.type == 'cuda' else dict(shuffle=True, batch_size=64)\n",
        "\n",
        "# train dataloader\n",
        "train_loader = torch.utils.data.DataLoader(train, **dataloader_args)\n",
        "\n",
        "# test dataloader\n",
        "test_loader = torch.utils.data.DataLoader(test, **dataloader_args)"
      ],
      "metadata": {
        "id": "8QhnRlNsMKJ7",
        "colab": {
          "base_uri": "https://localhost:8080/"
        },
        "outputId": "1c1e6e86-6310-4836-9b11-22154e12a332"
      },
      "execution_count": 10,
      "outputs": [
        {
          "output_type": "stream",
          "name": "stderr",
          "text": [
            "/usr/local/lib/python3.10/dist-packages/torch/utils/data/dataloader.py:558: UserWarning: This DataLoader will create 4 worker processes in total. Our suggested max number of worker in current system is 2, which is smaller than what this DataLoader is going to create. Please be aware that excessive worker creation might get DataLoader running slow or even freeze, lower the worker number to avoid potential slowness/freeze if necessary.\n",
            "  warnings.warn(_create_warning_msg(\n"
          ]
        }
      ]
    },
    {
      "cell_type": "code",
      "source": [
        "## Basic Data Statistics\n",
        "# We'd need to convert it into Numpy! Remember above we have converted it into tensors already\n",
        "train_data = train.train_data\n",
        "train_data = train.transform(train_data.numpy())\n",
        "\n",
        "print('[Train]')\n",
        "print(' - Numpy Shape:', train.train_data.cpu().numpy().shape)\n",
        "print(' - Tensor Shape:', train.train_data.size())\n",
        "print(' - min:', torch.min(train_data))\n",
        "print(' - max:', torch.max(train_data))\n",
        "print(' - mean:', torch.mean(train_data))\n",
        "print(' - std:', torch.std(train_data))\n",
        "print(' - var:', torch.var(train_data))\n",
        "\n",
        "dataiter = iter(train_loader)\n",
        "images, labels = next(dataiter)\n",
        "\n",
        "print(images.shape)\n",
        "print(labels.shape)\n",
        "\n",
        "# Let's visualize some of the images\n",
        "plt.imshow(images[0].numpy().squeeze(), cmap='gray_r')\n"
      ],
      "metadata": {
        "colab": {
          "base_uri": "https://localhost:8080/",
          "height": 724
        },
        "id": "e12WEvqOMKNI",
        "outputId": "74de7979-d5e2-4f6b-d870-751e852ae763"
      },
      "execution_count": 19,
      "outputs": [
        {
          "output_type": "stream",
          "name": "stderr",
          "text": [
            "/usr/local/lib/python3.10/dist-packages/torchvision/datasets/mnist.py:75: UserWarning: train_data has been renamed data\n",
            "  warnings.warn(\"train_data has been renamed data\")\n"
          ]
        },
        {
          "output_type": "stream",
          "name": "stdout",
          "text": [
            "[Train]\n",
            " - Numpy Shape: (60000, 28, 28)\n",
            " - Tensor Shape: torch.Size([60000, 28, 28])\n",
            " - min: tensor(-0.4242)\n",
            " - max: tensor(2.8215)\n",
            " - mean: tensor(-0.0001)\n",
            " - std: tensor(1.0000)\n",
            " - var: tensor(1.0001)\n"
          ]
        },
        {
          "output_type": "stream",
          "name": "stderr",
          "text": [
            "/usr/local/lib/python3.10/dist-packages/torch/utils/data/dataloader.py:558: UserWarning: This DataLoader will create 4 worker processes in total. Our suggested max number of worker in current system is 2, which is smaller than what this DataLoader is going to create. Please be aware that excessive worker creation might get DataLoader running slow or even freeze, lower the worker number to avoid potential slowness/freeze if necessary.\n",
            "  warnings.warn(_create_warning_msg(\n"
          ]
        },
        {
          "output_type": "stream",
          "name": "stdout",
          "text": [
            "torch.Size([128, 1, 28, 28])\n",
            "torch.Size([128])\n"
          ]
        },
        {
          "output_type": "execute_result",
          "data": {
            "text/plain": [
              "<matplotlib.image.AxesImage at 0x7dce2153d5a0>"
            ]
          },
          "metadata": {},
          "execution_count": 19
        },
        {
          "output_type": "display_data",
          "data": {
            "text/plain": [
              "<Figure size 640x480 with 1 Axes>"
            ],
            "image/png": "[encoded data removed]"
          },
          "metadata": {}
        }
      ]
    },
    {
      "cell_type": "code",
      "source": [
        "figure = plt.figure()\n",
        "num_of_images = 60\n",
        "for index in range(1, num_of_images + 1):\n",
        "    plt.subplot(10, 10, index)\n",
        "    plt.axis('off')\n",
        "    plt.imshow(images[index].numpy().squeeze(), cmap='gray_r')"
      ],
      "metadata": {
        "colab": {
          "base_uri": "https://localhost:8080/",
          "height": 256
        },
        "id": "jR53KQHpMKQr",
        "outputId": "7c9744fe-2c88-4bf8-8ef8-43882fba48fa"
      },
      "execution_count": 20,
      "outputs": [
        {
          "output_type": "display_data",
          "data": {
            "text/plain": [
              "<Figure size 640x480 with 60 Axes>"
            ],
            "image/png": "[encoded data removed]"
          },
          "metadata": {}
        }
      ]
    },
    {
      "cell_type": "markdown",
      "source": [
        "## Basic Cnn Classification Model\n",
        "\n",
        "A few layers of Convolution with Batch Normalization and transition layer with (1,1) consolidator layer and maxpooling between 2 sets of conviolutuion layers"
      ],
      "metadata": {
        "id": "mE7dP9eEMKTv"
      }
    },
    {
      "cell_type": "code",
      "source": [
        "class Mnist_Baseline(nn.Module):\n",
        "\n",
        "  def __init__(self, in_channels, hidden_units, out_channels):\n",
        "    super(Mnist_Baseline, self).__init__()\n",
        "\n",
        "    # 3 sets of convolution blocks with batchnorm added\n",
        "    self.conv1 = nn.Sequential(\n",
        "        # set-1\n",
        "        nn.Conv2d(in_channels=in_channels, out_channels=hidden_units, kernel_size=3, stride=1, padding=0), #26,3\n",
        "        nn.BatchNorm2d(hidden_units),\n",
        "        nn.ReLU(),\n",
        "        #set-2\n",
        "        nn.Conv2d(in_channels=hidden_units, out_channels=hidden_units,  kernel_size=3, stride=1, padding=0), #24,5\n",
        "        nn.BatchNorm2d(hidden_units),\n",
        "        nn.ReLU(),\n",
        "        #set-3\n",
        "        nn.Conv2d(in_channels=hidden_units, out_channels=hidden_units,  kernel_size=3, stride=1, padding=0),#22,7\n",
        "        nn.BatchNorm2d(hidden_units),\n",
        "        nn.ReLU(),\n",
        "    )\n",
        "\n",
        "    # transition block with 1,1 mixer and maxpool added after it ie condense and compress\n",
        "    self.transition = nn.Sequential(\n",
        "        nn.Conv2d(in_channels=hidden_units, out_channels=hidden_units, kernel_size=1, stride=1, padding=0), #22,8\n",
        "        nn.BatchNorm2d(hidden_units),\n",
        "        nn.ReLU(),\n",
        "        nn.MaxPool2d(kernel_size=2, stride=2) #11,8\n",
        "    )\n",
        "\n",
        "    # 3 sets of convolution blocks with batchnorm added\n",
        "    self.conv2 = nn.Sequential(\n",
        "        # set-1\n",
        "        nn.Conv2d(in_channels=hidden_units, out_channels=hidden_units, kernel_size=3, stride=1, padding=0), #9,12\n",
        "        nn.BatchNorm2d(hidden_units),\n",
        "        nn.ReLU(),\n",
        "        #set-2\n",
        "        nn.Conv2d(in_channels=hidden_units, out_channels=hidden_units, kernel_size=3, stride=1, padding=0), #7,16\n",
        "        nn.BatchNorm2d(hidden_units),\n",
        "        nn.ReLU(),\n",
        "        #set-3\n",
        "        nn.Conv2d(in_channels=hidden_units, out_channels=hidden_units, kernel_size=1, stride=1, padding=0), #7,20\n",
        "        nn.BatchNorm2d(hidden_units),\n",
        "        nn.ReLU(),\n",
        "    )\n",
        "\n",
        "    self.classifier = nn.Sequential(nn.Conv2d(in_channels=hidden_units, out_channels=out_channels, kernel_size=7, stride=1, padding=0)) # 7*7 kernel as classifier\n",
        "\n",
        "\n",
        "  def forward(self, x):\n",
        "      x = self.conv1(x)\n",
        "      x = self.transition(x)\n",
        "      x = self.conv2(x)\n",
        "      x = self.classifier(x)\n",
        "      x = x.view(-1, 10)\n",
        "      return F.log_softmax(x, dim=-1)"
      ],
      "metadata": {
        "id": "zfbbZ0wBMKW6"
      },
      "execution_count": 31,
      "outputs": []
    },
    {
      "cell_type": "code",
      "source": [
        "# New Model Instance\n",
        "baseline_model = Mnist_Baseline(in_channels=1,hidden_units=10,out_channels=10).to(device)\n",
        "summary(baseline_model, input_size=(1, 28, 28))"
      ],
      "metadata": {
        "colab": {
          "base_uri": "https://localhost:8080/"
        },
        "id": "IaRED3-lMKZv",
        "outputId": "7415a455-c660-4bda-c2be-c396386a03c3"
      },
      "execution_count": 32,
      "outputs": [
        {
          "output_type": "stream",
          "name": "stdout",
          "text": [
            "----------------------------------------------------------------\n",
            "        Layer (type)               Output Shape         Param #\n",
            "================================================================\n",
            "            Conv2d-1           [-1, 10, 26, 26]             100\n",
            "       BatchNorm2d-2           [-1, 10, 26, 26]              20\n",
            "              ReLU-3           [-1, 10, 26, 26]               0\n",
            "            Conv2d-4           [-1, 10, 24, 24]             910\n",
            "       BatchNorm2d-5           [-1, 10, 24, 24]              20\n",
            "              ReLU-6           [-1, 10, 24, 24]               0\n",
            "            Conv2d-7           [-1, 10, 22, 22]             910\n",
            "       BatchNorm2d-8           [-1, 10, 22, 22]              20\n",
            "              ReLU-9           [-1, 10, 22, 22]               0\n",
            "           Conv2d-10           [-1, 10, 22, 22]             110\n",
            "      BatchNorm2d-11           [-1, 10, 22, 22]              20\n",
            "             ReLU-12           [-1, 10, 22, 22]               0\n",
            "        MaxPool2d-13           [-1, 10, 11, 11]               0\n",
            "           Conv2d-14             [-1, 10, 9, 9]             910\n",
            "      BatchNorm2d-15             [-1, 10, 9, 9]              20\n",
            "             ReLU-16             [-1, 10, 9, 9]               0\n",
            "           Conv2d-17             [-1, 10, 7, 7]             910\n",
            "      BatchNorm2d-18             [-1, 10, 7, 7]              20\n",
            "             ReLU-19             [-1, 10, 7, 7]               0\n",
            "           Conv2d-20             [-1, 10, 7, 7]             110\n",
            "      BatchNorm2d-21             [-1, 10, 7, 7]              20\n",
            "             ReLU-22             [-1, 10, 7, 7]               0\n",
            "           Conv2d-23             [-1, 10, 1, 1]           4,910\n",
            "================================================================\n",
            "Total params: 9,010\n",
            "Trainable params: 9,010\n",
            "Non-trainable params: 0\n",
            "----------------------------------------------------------------\n",
            "Input size (MB): 0.00\n",
            "Forward/backward pass size (MB): 0.56\n",
            "Params size (MB): 0.03\n",
            "Estimated Total Size (MB): 0.60\n",
            "----------------------------------------------------------------\n"
          ]
        }
      ]
    },
    {
      "cell_type": "code",
      "source": [
        "# graphical representation of the model architecture\n",
        "model_graph = draw_graph(baseline_model, input_size=(1,1, 28, 28), expand_nested=True)\n",
        "model_graph.resize_graph(scale=10)\n",
        "model_graph.visual_graph"
      ],
      "metadata": {
        "colab": {
          "base_uri": "https://localhost:8080/",
          "height": 1000
        },
        "id": "Ox6EkYcOMKc1",
        "outputId": "54e50e03-874e-4f38-b5a4-9ff850cf8d6a"
      },
      "execution_count": 33,
      "outputs": [
        {
          "output_type": "execute_result",
          "data": {
            "image/svg+xml": "<?xml version=\"1.0\" encoding=\"UTF-8\" standalone=\"no\"?>\n<!DOCTYPE svg PUBLIC \"-//W3C//DTD SVG 1.1//EN\"\n \"http://www.w3.org/Graphics/SVG/1.1/DTD/svg11.dtd\">\n<!-- Generated by graphviz version 2.43.0 (0)\n -->\n<!-- Title: model Pages: 1 -->\n<svg width=\"284pt\" height=\"2086pt\"\n viewBox=\"0.00 0.00 284.00 2086.00\" xmlns=\"http://www.w3.org/2000/svg\" xmlns:xlink=\"http://www.w3.org/1999/xlink\">\n<g id=\"graph0\" class=\"graph\" transform=\"scale(1 1) rotate(0) translate(4 2082)\">\n<title>model</title>\n<polygon fill=\"white\" stroke=\"transparent\" points=\"-4,4 -4,-2082 280,-2082 280,4 -4,4\"/>\n<g id=\"clust1\" class=\"cluster\">\n<title>cluster_2</title>\n<polygon fill=\"none\" stroke=\"black\" stroke-dasharray=\"5,2\" points=\"8,-1335 8,-2038 268,-2038 268,-1335 8,-1335\"/>\n<text text-anchor=\"middle\" x=\"41\" y=\"-2024.4\" font-family=\"Times,serif\" font-size=\"12.00\">Sequential</text>\n</g>\n<g id=\"clust2\" class=\"cluster\">\n<title>cluster_3</title>\n<polygon fill=\"none\" stroke=\"black\" stroke-dasharray=\"5,2\" points=\"8,-1014 8,-1327 268,-1327 268,-1014 8,-1014\"/>\n<text text-anchor=\"middle\" x=\"41\" y=\"-1313.4\" font-family=\"Times,serif\" font-size=\"12.00\">Sequential</text>\n</g>\n<g id=\"clust3\" class=\"cluster\">\n<title>cluster_4</title>\n<polygon fill=\"none\" stroke=\"black\" stroke-dasharray=\"5,2\" points=\"15,-303 15,-1006 261,-1006 261,-303 15,-303\"/>\n<text text-anchor=\"middle\" x=\"48\" y=\"-992.4\" font-family=\"Times,serif\" font-size=\"12.00\">Sequential</text>\n</g>\n<g id=\"clust4\" class=\"cluster\">\n<title>cluster_5</title>\n<polygon fill=\"none\" stroke=\"black\" stroke-dasharray=\"5,2\" points=\"26,-216 26,-295 250,-295 250,-216 26,-216\"/>\n<text text-anchor=\"middle\" x=\"59\" y=\"-281.4\" font-family=\"Times,serif\" font-size=\"12.00\">Sequential</text>\n</g>\n<!-- 0 -->\n<g id=\"node1\" class=\"node\">\n<title>0</title>\n<polygon fill=\"lightyellow\" stroke=\"transparent\" points=\"227,-2078 49,-2078 49,-2046 227,-2046 227,-2078\"/>\n<polygon fill=\"none\" stroke=\"black\" points=\"49,-2046 49,-2078 132,-2078 132,-2046 49,-2046\"/>\n<text text-anchor=\"start\" x=\"54\" y=\"-2065\" font-family=\"Linux libertine\" font-size=\"10.00\">input&#45;tensor</text>\n<text text-anchor=\"start\" x=\"69\" y=\"-2054\" font-family=\"Linux libertine\" font-size=\"10.00\">depth:0</text>\n<polygon fill=\"none\" stroke=\"black\" points=\"132,-2046 132,-2078 227,-2078 227,-2046 132,-2046\"/>\n<text text-anchor=\"start\" x=\"137\" y=\"-2059.5\" font-family=\"Linux libertine\" font-size=\"10.00\">(1, 1, 28, 28)</text>\n</g>\n<!-- 1 -->\n<g id=\"node2\" class=\"node\">\n<title>1</title>\n<polygon fill=\"#c1ffc1\" stroke=\"transparent\" points=\"247.5,-2009 28.5,-2009 28.5,-1967 247.5,-1967 247.5,-2009\"/>\n<polygon fill=\"none\" stroke=\"black\" points=\"29,-1967 29,-2009 82,-2009 82,-1967 29,-1967\"/>\n<text text-anchor=\"start\" x=\"37\" y=\"-1991\" font-family=\"Linux libertine\" font-size=\"10.00\">Conv2d</text>\n<text text-anchor=\"start\" x=\"34\" y=\"-1980\" font-family=\"Linux libertine\" font-size=\"10.00\">depth:2</text>\n<polygon fill=\"none\" stroke=\"black\" points=\"82,-1988 82,-2009 141,-2009 141,-1988 82,-1988\"/>\n<text text-anchor=\"start\" x=\"93\" y=\"-1996\" font-family=\"Linux libertine\" font-size=\"10.00\">input:</text>\n<polygon fill=\"none\" stroke=\"black\" points=\"141,-1988 141,-2009 248,-2009 248,-1988 141,-1988\"/>\n<text text-anchor=\"start\" x=\"149\" y=\"-1996\" font-family=\"Linux libertine\" font-size=\"10.00\">(1, 1, 28, 28) </text>\n<polygon fill=\"none\" stroke=\"black\" points=\"82,-1967 82,-1988 141,-1988 141,-1967 82,-1967\"/>\n<text text-anchor=\"start\" x=\"87\" y=\"-1975\" font-family=\"Linux libertine\" font-size=\"10.00\">output: </text>\n<polygon fill=\"none\" stroke=\"black\" points=\"141,-1967 141,-1988 248,-1988 248,-1967 141,-1967\"/>\n<text text-anchor=\"start\" x=\"146\" y=\"-1975\" font-family=\"Linux libertine\" font-size=\"10.00\">(1, 10, 26, 26) </text>\n</g>\n<!-- 0&#45;&gt;1 -->\n<g id=\"edge1\" class=\"edge\">\n<title>0&#45;&gt;1</title>\n<path fill=\"none\" stroke=\"black\" d=\"M138,-2045.73C138,-2038.08 138,-2028.52 138,-2019.45\"/>\n<polygon fill=\"black\" stroke=\"black\" points=\"141.5,-2019.17 138,-2009.17 134.5,-2019.17 141.5,-2019.17\"/>\n</g>\n<!-- 2 -->\n<g id=\"node3\" class=\"node\">\n<title>2</title>\n<polygon fill=\"#c1ffc1\" stroke=\"transparent\" points=\"259.5,-1931 16.5,-1931 16.5,-1889 259.5,-1889 259.5,-1931\"/>\n<polygon fill=\"none\" stroke=\"black\" points=\"17,-1889 17,-1931 94,-1931 94,-1889 17,-1889\"/>\n<text text-anchor=\"start\" x=\"22\" y=\"-1913\" font-family=\"Linux libertine\" font-size=\"10.00\">BatchNorm2d</text>\n<text text-anchor=\"start\" x=\"34\" y=\"-1902\" font-family=\"Linux libertine\" font-size=\"10.00\">depth:2</text>\n<polygon fill=\"none\" stroke=\"black\" points=\"94,-1910 94,-1931 153,-1931 153,-1910 94,-1910\"/>\n<text text-anchor=\"start\" x=\"105\" y=\"-1918\" font-family=\"Linux libertine\" font-size=\"10.00\">input:</text>\n<polygon fill=\"none\" stroke=\"black\" points=\"153,-1910 153,-1931 260,-1931 260,-1910 153,-1910\"/>\n<text text-anchor=\"start\" x=\"158\" y=\"-1918\" font-family=\"Linux libertine\" font-size=\"10.00\">(1, 10, 26, 26) </text>\n<polygon fill=\"none\" stroke=\"black\" points=\"94,-1889 94,-1910 153,-1910 153,-1889 94,-1889\"/>\n<text text-anchor=\"start\" x=\"99\" y=\"-1897\" font-family=\"Linux libertine\" font-size=\"10.00\">output: </text>\n<polygon fill=\"none\" stroke=\"black\" points=\"153,-1889 153,-1910 260,-1910 260,-1889 153,-1889\"/>\n<text text-anchor=\"start\" x=\"158\" y=\"-1897\" font-family=\"Linux libertine\" font-size=\"10.00\">(1, 10, 26, 26) </text>\n</g>\n<!-- 1&#45;&gt;2 -->\n<g id=\"edge2\" class=\"edge\">\n<title>1&#45;&gt;2</title>\n<path fill=\"none\" stroke=\"black\" d=\"M138,-1966.63C138,-1958.82 138,-1949.73 138,-1941.18\"/>\n<polygon fill=\"black\" stroke=\"black\" points=\"141.5,-1941.16 138,-1931.16 134.5,-1941.16 141.5,-1941.16\"/>\n</g>\n<!-- 3 -->\n<g id=\"node4\" class=\"node\">\n<title>3</title>\n<polygon fill=\"#c1ffc1\" stroke=\"transparent\" points=\"247.5,-1853 28.5,-1853 28.5,-1811 247.5,-1811 247.5,-1853\"/>\n<polygon fill=\"none\" stroke=\"black\" points=\"29,-1811 29,-1853 82,-1853 82,-1811 29,-1811\"/>\n<text text-anchor=\"start\" x=\"43\" y=\"-1835\" font-family=\"Linux libertine\" font-size=\"10.00\">ReLU</text>\n<text text-anchor=\"start\" x=\"34\" y=\"-1824\" font-family=\"Linux libertine\" font-size=\"10.00\">depth:2</text>\n<polygon fill=\"none\" stroke=\"black\" points=\"82,-1832 82,-1853 141,-1853 141,-1832 82,-1832\"/>\n<text text-anchor=\"start\" x=\"93\" y=\"-1840\" font-family=\"Linux libertine\" font-size=\"10.00\">input:</text>\n<polygon fill=\"none\" stroke=\"black\" points=\"141,-1832 141,-1853 248,-1853 248,-1832 141,-1832\"/>\n<text text-anchor=\"start\" x=\"146\" y=\"-1840\" font-family=\"Linux libertine\" font-size=\"10.00\">(1, 10, 26, 26) </text>\n<polygon fill=\"none\" stroke=\"black\" points=\"82,-1811 82,-1832 141,-1832 141,-1811 82,-1811\"/>\n<text text-anchor=\"start\" x=\"87\" y=\"-1819\" font-family=\"Linux libertine\" font-size=\"10.00\">output: </text>\n<polygon fill=\"none\" stroke=\"black\" points=\"141,-1811 141,-1832 248,-1832 248,-1811 141,-1811\"/>\n<text text-anchor=\"start\" x=\"146\" y=\"-1819\" font-family=\"Linux libertine\" font-size=\"10.00\">(1, 10, 26, 26) </text>\n</g>\n<!-- 2&#45;&gt;3 -->\n<g id=\"edge3\" class=\"edge\">\n<title>2&#45;&gt;3</title>\n<path fill=\"none\" stroke=\"black\" d=\"M138,-1888.63C138,-1880.82 138,-1871.73 138,-1863.18\"/>\n<polygon fill=\"black\" stroke=\"black\" points=\"141.5,-1863.16 138,-1853.16 134.5,-1863.16 141.5,-1863.16\"/>\n</g>\n<!-- 4 -->\n<g id=\"node5\" class=\"node\">\n<title>4</title>\n<polygon fill=\"#c1ffc1\" stroke=\"transparent\" points=\"247.5,-1775 28.5,-1775 28.5,-1733 247.5,-1733 247.5,-1775\"/>\n<polygon fill=\"none\" stroke=\"black\" points=\"29,-1733 29,-1775 82,-1775 82,-1733 29,-1733\"/>\n<text text-anchor=\"start\" x=\"37\" y=\"-1757\" font-family=\"Linux libertine\" font-size=\"10.00\">Conv2d</text>\n<text text-anchor=\"start\" x=\"34\" y=\"-1746\" font-family=\"Linux libertine\" font-size=\"10.00\">depth:2</text>\n<polygon fill=\"none\" stroke=\"black\" points=\"82,-1754 82,-1775 141,-1775 141,-1754 82,-1754\"/>\n<text text-anchor=\"start\" x=\"93\" y=\"-1762\" font-family=\"Linux libertine\" font-size=\"10.00\">input:</text>\n<polygon fill=\"none\" stroke=\"black\" points=\"141,-1754 141,-1775 248,-1775 248,-1754 141,-1754\"/>\n<text text-anchor=\"start\" x=\"146\" y=\"-1762\" font-family=\"Linux libertine\" font-size=\"10.00\">(1, 10, 26, 26) </text>\n<polygon fill=\"none\" stroke=\"black\" points=\"82,-1733 82,-1754 141,-1754 141,-1733 82,-1733\"/>\n<text text-anchor=\"start\" x=\"87\" y=\"-1741\" font-family=\"Linux libertine\" font-size=\"10.00\">output: </text>\n<polygon fill=\"none\" stroke=\"black\" points=\"141,-1733 141,-1754 248,-1754 248,-1733 141,-1733\"/>\n<text text-anchor=\"start\" x=\"146\" y=\"-1741\" font-family=\"Linux libertine\" font-size=\"10.00\">(1, 10, 24, 24) </text>\n</g>\n<!-- 3&#45;&gt;4 -->\n<g id=\"edge4\" class=\"edge\">\n<title>3&#45;&gt;4</title>\n<path fill=\"none\" stroke=\"black\" d=\"M138,-1810.63C138,-1802.82 138,-1793.73 138,-1785.18\"/>\n<polygon fill=\"black\" stroke=\"black\" points=\"141.5,-1785.16 138,-1775.16 134.5,-1785.16 141.5,-1785.16\"/>\n</g>\n<!-- 5 -->\n<g id=\"node6\" class=\"node\">\n<title>5</title>\n<polygon fill=\"#c1ffc1\" stroke=\"transparent\" points=\"259.5,-1697 16.5,-1697 16.5,-1655 259.5,-1655 259.5,-1697\"/>\n<polygon fill=\"none\" stroke=\"black\" points=\"17,-1655 17,-1697 94,-1697 94,-1655 17,-1655\"/>\n<text text-anchor=\"start\" x=\"22\" y=\"-1679\" font-family=\"Linux libertine\" font-size=\"10.00\">BatchNorm2d</text>\n<text text-anchor=\"start\" x=\"34\" y=\"-1668\" font-family=\"Linux libertine\" font-size=\"10.00\">depth:2</text>\n<polygon fill=\"none\" stroke=\"black\" points=\"94,-1676 94,-1697 153,-1697 153,-1676 94,-1676\"/>\n<text text-anchor=\"start\" x=\"105\" y=\"-1684\" font-family=\"Linux libertine\" font-size=\"10.00\">input:</text>\n<polygon fill=\"none\" stroke=\"black\" points=\"153,-1676 153,-1697 260,-1697 260,-1676 153,-1676\"/>\n<text text-anchor=\"start\" x=\"158\" y=\"-1684\" font-family=\"Linux libertine\" font-size=\"10.00\">(1, 10, 24, 24) </text>\n<polygon fill=\"none\" stroke=\"black\" points=\"94,-1655 94,-1676 153,-1676 153,-1655 94,-1655\"/>\n<text text-anchor=\"start\" x=\"99\" y=\"-1663\" font-family=\"Linux libertine\" font-size=\"10.00\">output: </text>\n<polygon fill=\"none\" stroke=\"black\" points=\"153,-1655 153,-1676 260,-1676 260,-1655 153,-1655\"/>\n<text text-anchor=\"start\" x=\"158\" y=\"-1663\" font-family=\"Linux libertine\" font-size=\"10.00\">(1, 10, 24, 24) </text>\n</g>\n<!-- 4&#45;&gt;5 -->\n<g id=\"edge5\" class=\"edge\">\n<title>4&#45;&gt;5</title>\n<path fill=\"none\" stroke=\"black\" d=\"M138,-1732.63C138,-1724.82 138,-1715.73 138,-1707.18\"/>\n<polygon fill=\"black\" stroke=\"black\" points=\"141.5,-1707.16 138,-1697.16 134.5,-1707.16 141.5,-1707.16\"/>\n</g>\n<!-- 6 -->\n<g id=\"node7\" class=\"node\">\n<title>6</title>\n<polygon fill=\"#c1ffc1\" stroke=\"transparent\" points=\"247.5,-1619 28.5,-1619 28.5,-1577 247.5,-1577 247.5,-1619\"/>\n<polygon fill=\"none\" stroke=\"black\" points=\"29,-1577 29,-1619 82,-1619 82,-1577 29,-1577\"/>\n<text text-anchor=\"start\" x=\"43\" y=\"-1601\" font-family=\"Linux libertine\" font-size=\"10.00\">ReLU</text>\n<text text-anchor=\"start\" x=\"34\" y=\"-1590\" font-family=\"Linux libertine\" font-size=\"10.00\">depth:2</text>\n<polygon fill=\"none\" stroke=\"black\" points=\"82,-1598 82,-1619 141,-1619 141,-1598 82,-1598\"/>\n<text text-anchor=\"start\" x=\"93\" y=\"-1606\" font-family=\"Linux libertine\" font-size=\"10.00\">input:</text>\n<polygon fill=\"none\" stroke=\"black\" points=\"141,-1598 141,-1619 248,-1619 248,-1598 141,-1598\"/>\n<text text-anchor=\"start\" x=\"146\" y=\"-1606\" font-family=\"Linux libertine\" font-size=\"10.00\">(1, 10, 24, 24) </text>\n<polygon fill=\"none\" stroke=\"black\" points=\"82,-1577 82,-1598 141,-1598 141,-1577 82,-1577\"/>\n<text text-anchor=\"start\" x=\"87\" y=\"-1585\" font-family=\"Linux libertine\" font-size=\"10.00\">output: </text>\n<polygon fill=\"none\" stroke=\"black\" points=\"141,-1577 141,-1598 248,-1598 248,-1577 141,-1577\"/>\n<text text-anchor=\"start\" x=\"146\" y=\"-1585\" font-family=\"Linux libertine\" font-size=\"10.00\">(1, 10, 24, 24) </text>\n</g>\n<!-- 5&#45;&gt;6 -->\n<g id=\"edge6\" class=\"edge\">\n<title>5&#45;&gt;6</title>\n<path fill=\"none\" stroke=\"black\" d=\"M138,-1654.63C138,-1646.82 138,-1637.73 138,-1629.18\"/>\n<polygon fill=\"black\" stroke=\"black\" points=\"141.5,-1629.16 138,-1619.16 134.5,-1629.16 141.5,-1629.16\"/>\n</g>\n<!-- 7 -->\n<g id=\"node8\" class=\"node\">\n<title>7</title>\n<polygon fill=\"#c1ffc1\" stroke=\"transparent\" points=\"247.5,-1541 28.5,-1541 28.5,-1499 247.5,-1499 247.5,-1541\"/>\n<polygon fill=\"none\" stroke=\"black\" points=\"29,-1499 29,-1541 82,-1541 82,-1499 29,-1499\"/>\n<text text-anchor=\"start\" x=\"37\" y=\"-1523\" font-family=\"Linux libertine\" font-size=\"10.00\">Conv2d</text>\n<text text-anchor=\"start\" x=\"34\" y=\"-1512\" font-family=\"Linux libertine\" font-size=\"10.00\">depth:2</text>\n<polygon fill=\"none\" stroke=\"black\" points=\"82,-1520 82,-1541 141,-1541 141,-1520 82,-1520\"/>\n<text text-anchor=\"start\" x=\"93\" y=\"-1528\" font-family=\"Linux libertine\" font-size=\"10.00\">input:</text>\n<polygon fill=\"none\" stroke=\"black\" points=\"141,-1520 141,-1541 248,-1541 248,-1520 141,-1520\"/>\n<text text-anchor=\"start\" x=\"146\" y=\"-1528\" font-family=\"Linux libertine\" font-size=\"10.00\">(1, 10, 24, 24) </text>\n<polygon fill=\"none\" stroke=\"black\" points=\"82,-1499 82,-1520 141,-1520 141,-1499 82,-1499\"/>\n<text text-anchor=\"start\" x=\"87\" y=\"-1507\" font-family=\"Linux libertine\" font-size=\"10.00\">output: </text>\n<polygon fill=\"none\" stroke=\"black\" points=\"141,-1499 141,-1520 248,-1520 248,-1499 141,-1499\"/>\n<text text-anchor=\"start\" x=\"146\" y=\"-1507\" font-family=\"Linux libertine\" font-size=\"10.00\">(1, 10, 22, 22) </text>\n</g>\n<!-- 6&#45;&gt;7 -->\n<g id=\"edge7\" class=\"edge\">\n<title>6&#45;&gt;7</title>\n<path fill=\"none\" stroke=\"black\" d=\"M138,-1576.63C138,-1568.82 138,-1559.73 138,-1551.18\"/>\n<polygon fill=\"black\" stroke=\"black\" points=\"141.5,-1551.16 138,-1541.16 134.5,-1551.16 141.5,-1551.16\"/>\n</g>\n<!-- 8 -->\n<g id=\"node9\" class=\"node\">\n<title>8</title>\n<polygon fill=\"#c1ffc1\" stroke=\"transparent\" points=\"259.5,-1463 16.5,-1463 16.5,-1421 259.5,-1421 259.5,-1463\"/>\n<polygon fill=\"none\" stroke=\"black\" points=\"17,-1421 17,-1463 94,-1463 94,-1421 17,-1421\"/>\n<text text-anchor=\"start\" x=\"22\" y=\"-1445\" font-family=\"Linux libertine\" font-size=\"10.00\">BatchNorm2d</text>\n<text text-anchor=\"start\" x=\"34\" y=\"-1434\" font-family=\"Linux libertine\" font-size=\"10.00\">depth:2</text>\n<polygon fill=\"none\" stroke=\"black\" points=\"94,-1442 94,-1463 153,-1463 153,-1442 94,-1442\"/>\n<text text-anchor=\"start\" x=\"105\" y=\"-1450\" font-family=\"Linux libertine\" font-size=\"10.00\">input:</text>\n<polygon fill=\"none\" stroke=\"black\" points=\"153,-1442 153,-1463 260,-1463 260,-1442 153,-1442\"/>\n<text text-anchor=\"start\" x=\"158\" y=\"-1450\" font-family=\"Linux libertine\" font-size=\"10.00\">(1, 10, 22, 22) </text>\n<polygon fill=\"none\" stroke=\"black\" points=\"94,-1421 94,-1442 153,-1442 153,-1421 94,-1421\"/>\n<text text-anchor=\"start\" x=\"99\" y=\"-1429\" font-family=\"Linux libertine\" font-size=\"10.00\">output: </text>\n<polygon fill=\"none\" stroke=\"black\" points=\"153,-1421 153,-1442 260,-1442 260,-1421 153,-1421\"/>\n<text text-anchor=\"start\" x=\"158\" y=\"-1429\" font-family=\"Linux libertine\" font-size=\"10.00\">(1, 10, 22, 22) </text>\n</g>\n<!-- 7&#45;&gt;8 -->\n<g id=\"edge8\" class=\"edge\">\n<title>7&#45;&gt;8</title>\n<path fill=\"none\" stroke=\"black\" d=\"M138,-1498.63C138,-1490.82 138,-1481.73 138,-1473.18\"/>\n<polygon fill=\"black\" stroke=\"black\" points=\"141.5,-1473.16 138,-1463.16 134.5,-1473.16 141.5,-1473.16\"/>\n</g>\n<!-- 9 -->\n<g id=\"node10\" class=\"node\">\n<title>9</title>\n<polygon fill=\"#c1ffc1\" stroke=\"transparent\" points=\"247.5,-1385 28.5,-1385 28.5,-1343 247.5,-1343 247.5,-1385\"/>\n<polygon fill=\"none\" stroke=\"black\" points=\"29,-1343 29,-1385 82,-1385 82,-1343 29,-1343\"/>\n<text text-anchor=\"start\" x=\"43\" y=\"-1367\" font-family=\"Linux libertine\" font-size=\"10.00\">ReLU</text>\n<text text-anchor=\"start\" x=\"34\" y=\"-1356\" font-family=\"Linux libertine\" font-size=\"10.00\">depth:2</text>\n<polygon fill=\"none\" stroke=\"black\" points=\"82,-1364 82,-1385 141,-1385 141,-1364 82,-1364\"/>\n<text text-anchor=\"start\" x=\"93\" y=\"-1372\" font-family=\"Linux libertine\" font-size=\"10.00\">input:</text>\n<polygon fill=\"none\" stroke=\"black\" points=\"141,-1364 141,-1385 248,-1385 248,-1364 141,-1364\"/>\n<text text-anchor=\"start\" x=\"146\" y=\"-1372\" font-family=\"Linux libertine\" font-size=\"10.00\">(1, 10, 22, 22) </text>\n<polygon fill=\"none\" stroke=\"black\" points=\"82,-1343 82,-1364 141,-1364 141,-1343 82,-1343\"/>\n<text text-anchor=\"start\" x=\"87\" y=\"-1351\" font-family=\"Linux libertine\" font-size=\"10.00\">output: </text>\n<polygon fill=\"none\" stroke=\"black\" points=\"141,-1343 141,-1364 248,-1364 248,-1343 141,-1343\"/>\n<text text-anchor=\"start\" x=\"146\" y=\"-1351\" font-family=\"Linux libertine\" font-size=\"10.00\">(1, 10, 22, 22) </text>\n</g>\n<!-- 8&#45;&gt;9 -->\n<g id=\"edge9\" class=\"edge\">\n<title>8&#45;&gt;9</title>\n<path fill=\"none\" stroke=\"black\" d=\"M138,-1420.63C138,-1412.82 138,-1403.73 138,-1395.18\"/>\n<polygon fill=\"black\" stroke=\"black\" points=\"141.5,-1395.16 138,-1385.16 134.5,-1395.16 141.5,-1395.16\"/>\n</g>\n<!-- 10 -->\n<g id=\"node11\" class=\"node\">\n<title>10</title>\n<polygon fill=\"#c1ffc1\" stroke=\"transparent\" points=\"247.5,-1298 28.5,-1298 28.5,-1256 247.5,-1256 247.5,-1298\"/>\n<polygon fill=\"none\" stroke=\"black\" points=\"29,-1256 29,-1298 82,-1298 82,-1256 29,-1256\"/>\n<text text-anchor=\"start\" x=\"37\" y=\"-1280\" font-family=\"Linux libertine\" font-size=\"10.00\">Conv2d</text>\n<text text-anchor=\"start\" x=\"34\" y=\"-1269\" font-family=\"Linux libertine\" font-size=\"10.00\">depth:2</text>\n<polygon fill=\"none\" stroke=\"black\" points=\"82,-1277 82,-1298 141,-1298 141,-1277 82,-1277\"/>\n<text text-anchor=\"start\" x=\"93\" y=\"-1285\" font-family=\"Linux libertine\" font-size=\"10.00\">input:</text>\n<polygon fill=\"none\" stroke=\"black\" points=\"141,-1277 141,-1298 248,-1298 248,-1277 141,-1277\"/>\n<text text-anchor=\"start\" x=\"146\" y=\"-1285\" font-family=\"Linux libertine\" font-size=\"10.00\">(1, 10, 22, 22) </text>\n<polygon fill=\"none\" stroke=\"black\" points=\"82,-1256 82,-1277 141,-1277 141,-1256 82,-1256\"/>\n<text text-anchor=\"start\" x=\"87\" y=\"-1264\" font-family=\"Linux libertine\" font-size=\"10.00\">output: </text>\n<polygon fill=\"none\" stroke=\"black\" points=\"141,-1256 141,-1277 248,-1277 248,-1256 141,-1256\"/>\n<text text-anchor=\"start\" x=\"146\" y=\"-1264\" font-family=\"Linux libertine\" font-size=\"10.00\">(1, 10, 22, 22) </text>\n</g>\n<!-- 9&#45;&gt;10 -->\n<g id=\"edge10\" class=\"edge\">\n<title>9&#45;&gt;10</title>\n<path fill=\"none\" stroke=\"black\" d=\"M138,-1342.86C138,-1332.56 138,-1319.81 138,-1308.35\"/>\n<polygon fill=\"black\" stroke=\"black\" points=\"141.5,-1308.29 138,-1298.29 134.5,-1308.29 141.5,-1308.29\"/>\n</g>\n<!-- 11 -->\n<g id=\"node12\" class=\"node\">\n<title>11</title>\n<polygon fill=\"#c1ffc1\" stroke=\"transparent\" points=\"259.5,-1220 16.5,-1220 16.5,-1178 259.5,-1178 259.5,-1220\"/>\n<polygon fill=\"none\" stroke=\"black\" points=\"17,-1178 17,-1220 94,-1220 94,-1178 17,-1178\"/>\n<text text-anchor=\"start\" x=\"22\" y=\"-1202\" font-family=\"Linux libertine\" font-size=\"10.00\">BatchNorm2d</text>\n<text text-anchor=\"start\" x=\"34\" y=\"-1191\" font-family=\"Linux libertine\" font-size=\"10.00\">depth:2</text>\n<polygon fill=\"none\" stroke=\"black\" points=\"94,-1199 94,-1220 153,-1220 153,-1199 94,-1199\"/>\n<text text-anchor=\"start\" x=\"105\" y=\"-1207\" font-family=\"Linux libertine\" font-size=\"10.00\">input:</text>\n<polygon fill=\"none\" stroke=\"black\" points=\"153,-1199 153,-1220 260,-1220 260,-1199 153,-1199\"/>\n<text text-anchor=\"start\" x=\"158\" y=\"-1207\" font-family=\"Linux libertine\" font-size=\"10.00\">(1, 10, 22, 22) </text>\n<polygon fill=\"none\" stroke=\"black\" points=\"94,-1178 94,-1199 153,-1199 153,-1178 94,-1178\"/>\n<text text-anchor=\"start\" x=\"99\" y=\"-1186\" font-family=\"Linux libertine\" font-size=\"10.00\">output: </text>\n<polygon fill=\"none\" stroke=\"black\" points=\"153,-1178 153,-1199 260,-1199 260,-1178 153,-1178\"/>\n<text text-anchor=\"start\" x=\"158\" y=\"-1186\" font-family=\"Linux libertine\" font-size=\"10.00\">(1, 10, 22, 22) </text>\n</g>\n<!-- 10&#45;&gt;11 -->\n<g id=\"edge11\" class=\"edge\">\n<title>10&#45;&gt;11</title>\n<path fill=\"none\" stroke=\"black\" d=\"M138,-1255.63C138,-1247.82 138,-1238.73 138,-1230.18\"/>\n<polygon fill=\"black\" stroke=\"black\" points=\"141.5,-1230.16 138,-1220.16 134.5,-1230.16 141.5,-1230.16\"/>\n</g>\n<!-- 12 -->\n<g id=\"node13\" class=\"node\">\n<title>12</title>\n<polygon fill=\"#c1ffc1\" stroke=\"transparent\" points=\"247.5,-1142 28.5,-1142 28.5,-1100 247.5,-1100 247.5,-1142\"/>\n<polygon fill=\"none\" stroke=\"black\" points=\"29,-1100 29,-1142 82,-1142 82,-1100 29,-1100\"/>\n<text text-anchor=\"start\" x=\"43\" y=\"-1124\" font-family=\"Linux libertine\" font-size=\"10.00\">ReLU</text>\n<text text-anchor=\"start\" x=\"34\" y=\"-1113\" font-family=\"Linux libertine\" font-size=\"10.00\">depth:2</text>\n<polygon fill=\"none\" stroke=\"black\" points=\"82,-1121 82,-1142 141,-1142 141,-1121 82,-1121\"/>\n<text text-anchor=\"start\" x=\"93\" y=\"-1129\" font-family=\"Linux libertine\" font-size=\"10.00\">input:</text>\n<polygon fill=\"none\" stroke=\"black\" points=\"141,-1121 141,-1142 248,-1142 248,-1121 141,-1121\"/>\n<text text-anchor=\"start\" x=\"146\" y=\"-1129\" font-family=\"Linux libertine\" font-size=\"10.00\">(1, 10, 22, 22) </text>\n<polygon fill=\"none\" stroke=\"black\" points=\"82,-1100 82,-1121 141,-1121 141,-1100 82,-1100\"/>\n<text text-anchor=\"start\" x=\"87\" y=\"-1108\" font-family=\"Linux libertine\" font-size=\"10.00\">output: </text>\n<polygon fill=\"none\" stroke=\"black\" points=\"141,-1100 141,-1121 248,-1121 248,-1100 141,-1100\"/>\n<text text-anchor=\"start\" x=\"146\" y=\"-1108\" font-family=\"Linux libertine\" font-size=\"10.00\">(1, 10, 22, 22) </text>\n</g>\n<!-- 11&#45;&gt;12 -->\n<g id=\"edge12\" class=\"edge\">\n<title>11&#45;&gt;12</title>\n<path fill=\"none\" stroke=\"black\" d=\"M138,-1177.63C138,-1169.82 138,-1160.73 138,-1152.18\"/>\n<polygon fill=\"black\" stroke=\"black\" points=\"141.5,-1152.16 138,-1142.16 134.5,-1152.16 141.5,-1152.16\"/>\n</g>\n<!-- 13 -->\n<g id=\"node14\" class=\"node\">\n<title>13</title>\n<polygon fill=\"#c1ffc1\" stroke=\"transparent\" points=\"253.5,-1064 22.5,-1064 22.5,-1022 253.5,-1022 253.5,-1064\"/>\n<polygon fill=\"none\" stroke=\"black\" points=\"23,-1022 23,-1064 88,-1064 88,-1022 23,-1022\"/>\n<text text-anchor=\"start\" x=\"28\" y=\"-1046\" font-family=\"Linux libertine\" font-size=\"10.00\">MaxPool2d</text>\n<text text-anchor=\"start\" x=\"34\" y=\"-1035\" font-family=\"Linux libertine\" font-size=\"10.00\">depth:2</text>\n<polygon fill=\"none\" stroke=\"black\" points=\"88,-1043 88,-1064 147,-1064 147,-1043 88,-1043\"/>\n<text text-anchor=\"start\" x=\"99\" y=\"-1051\" font-family=\"Linux libertine\" font-size=\"10.00\">input:</text>\n<polygon fill=\"none\" stroke=\"black\" points=\"147,-1043 147,-1064 254,-1064 254,-1043 147,-1043\"/>\n<text text-anchor=\"start\" x=\"152\" y=\"-1051\" font-family=\"Linux libertine\" font-size=\"10.00\">(1, 10, 22, 22) </text>\n<polygon fill=\"none\" stroke=\"black\" points=\"88,-1022 88,-1043 147,-1043 147,-1022 88,-1022\"/>\n<text text-anchor=\"start\" x=\"93\" y=\"-1030\" font-family=\"Linux libertine\" font-size=\"10.00\">output: </text>\n<polygon fill=\"none\" stroke=\"black\" points=\"147,-1022 147,-1043 254,-1043 254,-1022 147,-1022\"/>\n<text text-anchor=\"start\" x=\"152\" y=\"-1030\" font-family=\"Linux libertine\" font-size=\"10.00\">(1, 10, 11, 11) </text>\n</g>\n<!-- 12&#45;&gt;13 -->\n<g id=\"edge13\" class=\"edge\">\n<title>12&#45;&gt;13</title>\n<path fill=\"none\" stroke=\"black\" d=\"M138,-1099.63C138,-1091.82 138,-1082.73 138,-1074.18\"/>\n<polygon fill=\"black\" stroke=\"black\" points=\"141.5,-1074.16 138,-1064.16 134.5,-1074.16 141.5,-1074.16\"/>\n</g>\n<!-- 14 -->\n<g id=\"node15\" class=\"node\">\n<title>14</title>\n<polygon fill=\"#c1ffc1\" stroke=\"transparent\" points=\"247.5,-977 28.5,-977 28.5,-935 247.5,-935 247.5,-977\"/>\n<polygon fill=\"none\" stroke=\"black\" points=\"29,-935 29,-977 82,-977 82,-935 29,-935\"/>\n<text text-anchor=\"start\" x=\"37\" y=\"-959\" font-family=\"Linux libertine\" font-size=\"10.00\">Conv2d</text>\n<text text-anchor=\"start\" x=\"34\" y=\"-948\" font-family=\"Linux libertine\" font-size=\"10.00\">depth:2</text>\n<polygon fill=\"none\" stroke=\"black\" points=\"82,-956 82,-977 141,-977 141,-956 82,-956\"/>\n<text text-anchor=\"start\" x=\"93\" y=\"-964\" font-family=\"Linux libertine\" font-size=\"10.00\">input:</text>\n<polygon fill=\"none\" stroke=\"black\" points=\"141,-956 141,-977 248,-977 248,-956 141,-956\"/>\n<text text-anchor=\"start\" x=\"146\" y=\"-964\" font-family=\"Linux libertine\" font-size=\"10.00\">(1, 10, 11, 11) </text>\n<polygon fill=\"none\" stroke=\"black\" points=\"82,-935 82,-956 141,-956 141,-935 82,-935\"/>\n<text text-anchor=\"start\" x=\"87\" y=\"-943\" font-family=\"Linux libertine\" font-size=\"10.00\">output: </text>\n<polygon fill=\"none\" stroke=\"black\" points=\"141,-935 141,-956 248,-956 248,-935 141,-935\"/>\n<text text-anchor=\"start\" x=\"152\" y=\"-943\" font-family=\"Linux libertine\" font-size=\"10.00\">(1, 10, 9, 9) </text>\n</g>\n<!-- 13&#45;&gt;14 -->\n<g id=\"edge14\" class=\"edge\">\n<title>13&#45;&gt;14</title>\n<path fill=\"none\" stroke=\"black\" d=\"M138,-1021.86C138,-1011.56 138,-998.81 138,-987.35\"/>\n<polygon fill=\"black\" stroke=\"black\" points=\"141.5,-987.29 138,-977.29 134.5,-987.29 141.5,-987.29\"/>\n</g>\n<!-- 15 -->\n<g id=\"node16\" class=\"node\">\n<title>15</title>\n<polygon fill=\"#c1ffc1\" stroke=\"transparent\" points=\"253.5,-899 22.5,-899 22.5,-857 253.5,-857 253.5,-899\"/>\n<polygon fill=\"none\" stroke=\"black\" points=\"23,-857 23,-899 100,-899 100,-857 23,-857\"/>\n<text text-anchor=\"start\" x=\"28\" y=\"-881\" font-family=\"Linux libertine\" font-size=\"10.00\">BatchNorm2d</text>\n<text text-anchor=\"start\" x=\"40\" y=\"-870\" font-family=\"Linux libertine\" font-size=\"10.00\">depth:2</text>\n<polygon fill=\"none\" stroke=\"black\" points=\"100,-878 100,-899 159,-899 159,-878 100,-878\"/>\n<text text-anchor=\"start\" x=\"111\" y=\"-886\" font-family=\"Linux libertine\" font-size=\"10.00\">input:</text>\n<polygon fill=\"none\" stroke=\"black\" points=\"159,-878 159,-899 254,-899 254,-878 159,-878\"/>\n<text text-anchor=\"start\" x=\"164\" y=\"-886\" font-family=\"Linux libertine\" font-size=\"10.00\">(1, 10, 9, 9) </text>\n<polygon fill=\"none\" stroke=\"black\" points=\"100,-857 100,-878 159,-878 159,-857 100,-857\"/>\n<text text-anchor=\"start\" x=\"105\" y=\"-865\" font-family=\"Linux libertine\" font-size=\"10.00\">output: </text>\n<polygon fill=\"none\" stroke=\"black\" points=\"159,-857 159,-878 254,-878 254,-857 159,-857\"/>\n<text text-anchor=\"start\" x=\"164\" y=\"-865\" font-family=\"Linux libertine\" font-size=\"10.00\">(1, 10, 9, 9) </text>\n</g>\n<!-- 14&#45;&gt;15 -->\n<g id=\"edge15\" class=\"edge\">\n<title>14&#45;&gt;15</title>\n<path fill=\"none\" stroke=\"black\" d=\"M138,-934.63C138,-926.82 138,-917.73 138,-909.18\"/>\n<polygon fill=\"black\" stroke=\"black\" points=\"141.5,-909.16 138,-899.16 134.5,-909.16 141.5,-909.16\"/>\n</g>\n<!-- 16 -->\n<g id=\"node17\" class=\"node\">\n<title>16</title>\n<polygon fill=\"#c1ffc1\" stroke=\"transparent\" points=\"241.5,-821 34.5,-821 34.5,-779 241.5,-779 241.5,-821\"/>\n<polygon fill=\"none\" stroke=\"black\" points=\"35,-779 35,-821 88,-821 88,-779 35,-779\"/>\n<text text-anchor=\"start\" x=\"49\" y=\"-803\" font-family=\"Linux libertine\" font-size=\"10.00\">ReLU</text>\n<text text-anchor=\"start\" x=\"40\" y=\"-792\" font-family=\"Linux libertine\" font-size=\"10.00\">depth:2</text>\n<polygon fill=\"none\" stroke=\"black\" points=\"88,-800 88,-821 147,-821 147,-800 88,-800\"/>\n<text text-anchor=\"start\" x=\"99\" y=\"-808\" font-family=\"Linux libertine\" font-size=\"10.00\">input:</text>\n<polygon fill=\"none\" stroke=\"black\" points=\"147,-800 147,-821 242,-821 242,-800 147,-800\"/>\n<text text-anchor=\"start\" x=\"152\" y=\"-808\" font-family=\"Linux libertine\" font-size=\"10.00\">(1, 10, 9, 9) </text>\n<polygon fill=\"none\" stroke=\"black\" points=\"88,-779 88,-800 147,-800 147,-779 88,-779\"/>\n<text text-anchor=\"start\" x=\"93\" y=\"-787\" font-family=\"Linux libertine\" font-size=\"10.00\">output: </text>\n<polygon fill=\"none\" stroke=\"black\" points=\"147,-779 147,-800 242,-800 242,-779 147,-779\"/>\n<text text-anchor=\"start\" x=\"152\" y=\"-787\" font-family=\"Linux libertine\" font-size=\"10.00\">(1, 10, 9, 9) </text>\n</g>\n<!-- 15&#45;&gt;16 -->\n<g id=\"edge16\" class=\"edge\">\n<title>15&#45;&gt;16</title>\n<path fill=\"none\" stroke=\"black\" d=\"M138,-856.63C138,-848.82 138,-839.73 138,-831.18\"/>\n<polygon fill=\"black\" stroke=\"black\" points=\"141.5,-831.16 138,-821.16 134.5,-831.16 141.5,-831.16\"/>\n</g>\n<!-- 17 -->\n<g id=\"node18\" class=\"node\">\n<title>17</title>\n<polygon fill=\"#c1ffc1\" stroke=\"transparent\" points=\"241.5,-743 34.5,-743 34.5,-701 241.5,-701 241.5,-743\"/>\n<polygon fill=\"none\" stroke=\"black\" points=\"35,-701 35,-743 88,-743 88,-701 35,-701\"/>\n<text text-anchor=\"start\" x=\"43\" y=\"-725\" font-family=\"Linux libertine\" font-size=\"10.00\">Conv2d</text>\n<text text-anchor=\"start\" x=\"40\" y=\"-714\" font-family=\"Linux libertine\" font-size=\"10.00\">depth:2</text>\n<polygon fill=\"none\" stroke=\"black\" points=\"88,-722 88,-743 147,-743 147,-722 88,-722\"/>\n<text text-anchor=\"start\" x=\"99\" y=\"-730\" font-family=\"Linux libertine\" font-size=\"10.00\">input:</text>\n<polygon fill=\"none\" stroke=\"black\" points=\"147,-722 147,-743 242,-743 242,-722 147,-722\"/>\n<text text-anchor=\"start\" x=\"152\" y=\"-730\" font-family=\"Linux libertine\" font-size=\"10.00\">(1, 10, 9, 9) </text>\n<polygon fill=\"none\" stroke=\"black\" points=\"88,-701 88,-722 147,-722 147,-701 88,-701\"/>\n<text text-anchor=\"start\" x=\"93\" y=\"-709\" font-family=\"Linux libertine\" font-size=\"10.00\">output: </text>\n<polygon fill=\"none\" stroke=\"black\" points=\"147,-701 147,-722 242,-722 242,-701 147,-701\"/>\n<text text-anchor=\"start\" x=\"152\" y=\"-709\" font-family=\"Linux libertine\" font-size=\"10.00\">(1, 10, 7, 7) </text>\n</g>\n<!-- 16&#45;&gt;17 -->\n<g id=\"edge17\" class=\"edge\">\n<title>16&#45;&gt;17</title>\n<path fill=\"none\" stroke=\"black\" d=\"M138,-778.63C138,-770.82 138,-761.73 138,-753.18\"/>\n<polygon fill=\"black\" stroke=\"black\" points=\"141.5,-753.16 138,-743.16 134.5,-753.16 141.5,-753.16\"/>\n</g>\n<!-- 18 -->\n<g id=\"node19\" class=\"node\">\n<title>18</title>\n<polygon fill=\"#c1ffc1\" stroke=\"transparent\" points=\"253.5,-665 22.5,-665 22.5,-623 253.5,-623 253.5,-665\"/>\n<polygon fill=\"none\" stroke=\"black\" points=\"23,-623 23,-665 100,-665 100,-623 23,-623\"/>\n<text text-anchor=\"start\" x=\"28\" y=\"-647\" font-family=\"Linux libertine\" font-size=\"10.00\">BatchNorm2d</text>\n<text text-anchor=\"start\" x=\"40\" y=\"-636\" font-family=\"Linux libertine\" font-size=\"10.00\">depth:2</text>\n<polygon fill=\"none\" stroke=\"black\" points=\"100,-644 100,-665 159,-665 159,-644 100,-644\"/>\n<text text-anchor=\"start\" x=\"111\" y=\"-652\" font-family=\"Linux libertine\" font-size=\"10.00\">input:</text>\n<polygon fill=\"none\" stroke=\"black\" points=\"159,-644 159,-665 254,-665 254,-644 159,-644\"/>\n<text text-anchor=\"start\" x=\"164\" y=\"-652\" font-family=\"Linux libertine\" font-size=\"10.00\">(1, 10, 7, 7) </text>\n<polygon fill=\"none\" stroke=\"black\" points=\"100,-623 100,-644 159,-644 159,-623 100,-623\"/>\n<text text-anchor=\"start\" x=\"105\" y=\"-631\" font-family=\"Linux libertine\" font-size=\"10.00\">output: </text>\n<polygon fill=\"none\" stroke=\"black\" points=\"159,-623 159,-644 254,-644 254,-623 159,-623\"/>\n<text text-anchor=\"start\" x=\"164\" y=\"-631\" font-family=\"Linux libertine\" font-size=\"10.00\">(1, 10, 7, 7) </text>\n</g>\n<!-- 17&#45;&gt;18 -->\n<g id=\"edge18\" class=\"edge\">\n<title>17&#45;&gt;18</title>\n<path fill=\"none\" stroke=\"black\" d=\"M138,-700.63C138,-692.82 138,-683.73 138,-675.18\"/>\n<polygon fill=\"black\" stroke=\"black\" points=\"141.5,-675.16 138,-665.16 134.5,-675.16 141.5,-675.16\"/>\n</g>\n<!-- 19 -->\n<g id=\"node20\" class=\"node\">\n<title>19</title>\n<polygon fill=\"#c1ffc1\" stroke=\"transparent\" points=\"241.5,-587 34.5,-587 34.5,-545 241.5,-545 241.5,-587\"/>\n<polygon fill=\"none\" stroke=\"black\" points=\"35,-545 35,-587 88,-587 88,-545 35,-545\"/>\n<text text-anchor=\"start\" x=\"49\" y=\"-569\" font-family=\"Linux libertine\" font-size=\"10.00\">ReLU</text>\n<text text-anchor=\"start\" x=\"40\" y=\"-558\" font-family=\"Linux libertine\" font-size=\"10.00\">depth:2</text>\n<polygon fill=\"none\" stroke=\"black\" points=\"88,-566 88,-587 147,-587 147,-566 88,-566\"/>\n<text text-anchor=\"start\" x=\"99\" y=\"-574\" font-family=\"Linux libertine\" font-size=\"10.00\">input:</text>\n<polygon fill=\"none\" stroke=\"black\" points=\"147,-566 147,-587 242,-587 242,-566 147,-566\"/>\n<text text-anchor=\"start\" x=\"152\" y=\"-574\" font-family=\"Linux libertine\" font-size=\"10.00\">(1, 10, 7, 7) </text>\n<polygon fill=\"none\" stroke=\"black\" points=\"88,-545 88,-566 147,-566 147,-545 88,-545\"/>\n<text text-anchor=\"start\" x=\"93\" y=\"-553\" font-family=\"Linux libertine\" font-size=\"10.00\">output: </text>\n<polygon fill=\"none\" stroke=\"black\" points=\"147,-545 147,-566 242,-566 242,-545 147,-545\"/>\n<text text-anchor=\"start\" x=\"152\" y=\"-553\" font-family=\"Linux libertine\" font-size=\"10.00\">(1, 10, 7, 7) </text>\n</g>\n<!-- 18&#45;&gt;19 -->\n<g id=\"edge19\" class=\"edge\">\n<title>18&#45;&gt;19</title>\n<path fill=\"none\" stroke=\"black\" d=\"M138,-622.63C138,-614.82 138,-605.73 138,-597.18\"/>\n<polygon fill=\"black\" stroke=\"black\" points=\"141.5,-597.16 138,-587.16 134.5,-597.16 141.5,-597.16\"/>\n</g>\n<!-- 20 -->\n<g id=\"node21\" class=\"node\">\n<title>20</title>\n<polygon fill=\"#c1ffc1\" stroke=\"transparent\" points=\"241.5,-509 34.5,-509 34.5,-467 241.5,-467 241.5,-509\"/>\n<polygon fill=\"none\" stroke=\"black\" points=\"35,-467 35,-509 88,-509 88,-467 35,-467\"/>\n<text text-anchor=\"start\" x=\"43\" y=\"-491\" font-family=\"Linux libertine\" font-size=\"10.00\">Conv2d</text>\n<text text-anchor=\"start\" x=\"40\" y=\"-480\" font-family=\"Linux libertine\" font-size=\"10.00\">depth:2</text>\n<polygon fill=\"none\" stroke=\"black\" points=\"88,-488 88,-509 147,-509 147,-488 88,-488\"/>\n<text text-anchor=\"start\" x=\"99\" y=\"-496\" font-family=\"Linux libertine\" font-size=\"10.00\">input:</text>\n<polygon fill=\"none\" stroke=\"black\" points=\"147,-488 147,-509 242,-509 242,-488 147,-488\"/>\n<text text-anchor=\"start\" x=\"152\" y=\"-496\" font-family=\"Linux libertine\" font-size=\"10.00\">(1, 10, 7, 7) </text>\n<polygon fill=\"none\" stroke=\"black\" points=\"88,-467 88,-488 147,-488 147,-467 88,-467\"/>\n<text text-anchor=\"start\" x=\"93\" y=\"-475\" font-family=\"Linux libertine\" font-size=\"10.00\">output: </text>\n<polygon fill=\"none\" stroke=\"black\" points=\"147,-467 147,-488 242,-488 242,-467 147,-467\"/>\n<text text-anchor=\"start\" x=\"152\" y=\"-475\" font-family=\"Linux libertine\" font-size=\"10.00\">(1, 10, 7, 7) </text>\n</g>\n<!-- 19&#45;&gt;20 -->\n<g id=\"edge20\" class=\"edge\">\n<title>19&#45;&gt;20</title>\n<path fill=\"none\" stroke=\"black\" d=\"M138,-544.63C138,-536.82 138,-527.73 138,-519.18\"/>\n<polygon fill=\"black\" stroke=\"black\" points=\"141.5,-519.16 138,-509.16 134.5,-519.16 141.5,-519.16\"/>\n</g>\n<!-- 21 -->\n<g id=\"node22\" class=\"node\">\n<title>21</title>\n<polygon fill=\"#c1ffc1\" stroke=\"transparent\" points=\"253.5,-431 22.5,-431 22.5,-389 253.5,-389 253.5,-431\"/>\n<polygon fill=\"none\" stroke=\"black\" points=\"23,-389 23,-431 100,-431 100,-389 23,-389\"/>\n<text text-anchor=\"start\" x=\"28\" y=\"-413\" font-family=\"Linux libertine\" font-size=\"10.00\">BatchNorm2d</text>\n<text text-anchor=\"start\" x=\"40\" y=\"-402\" font-family=\"Linux libertine\" font-size=\"10.00\">depth:2</text>\n<polygon fill=\"none\" stroke=\"black\" points=\"100,-410 100,-431 159,-431 159,-410 100,-410\"/>\n<text text-anchor=\"start\" x=\"111\" y=\"-418\" font-family=\"Linux libertine\" font-size=\"10.00\">input:</text>\n<polygon fill=\"none\" stroke=\"black\" points=\"159,-410 159,-431 254,-431 254,-410 159,-410\"/>\n<text text-anchor=\"start\" x=\"164\" y=\"-418\" font-family=\"Linux libertine\" font-size=\"10.00\">(1, 10, 7, 7) </text>\n<polygon fill=\"none\" stroke=\"black\" points=\"100,-389 100,-410 159,-410 159,-389 100,-389\"/>\n<text text-anchor=\"start\" x=\"105\" y=\"-397\" font-family=\"Linux libertine\" font-size=\"10.00\">output: </text>\n<polygon fill=\"none\" stroke=\"black\" points=\"159,-389 159,-410 254,-410 254,-389 159,-389\"/>\n<text text-anchor=\"start\" x=\"164\" y=\"-397\" font-family=\"Linux libertine\" font-size=\"10.00\">(1, 10, 7, 7) </text>\n</g>\n<!-- 20&#45;&gt;21 -->\n<g id=\"edge21\" class=\"edge\">\n<title>20&#45;&gt;21</title>\n<path fill=\"none\" stroke=\"black\" d=\"M138,-466.63C138,-458.82 138,-449.73 138,-441.18\"/>\n<polygon fill=\"black\" stroke=\"black\" points=\"141.5,-441.16 138,-431.16 134.5,-441.16 141.5,-441.16\"/>\n</g>\n<!-- 22 -->\n<g id=\"node23\" class=\"node\">\n<title>22</title>\n<polygon fill=\"#c1ffc1\" stroke=\"transparent\" points=\"241.5,-353 34.5,-353 34.5,-311 241.5,-311 241.5,-353\"/>\n<polygon fill=\"none\" stroke=\"black\" points=\"35,-311 35,-353 88,-353 88,-311 35,-311\"/>\n<text text-anchor=\"start\" x=\"49\" y=\"-335\" font-family=\"Linux libertine\" font-size=\"10.00\">ReLU</text>\n<text text-anchor=\"start\" x=\"40\" y=\"-324\" font-family=\"Linux libertine\" font-size=\"10.00\">depth:2</text>\n<polygon fill=\"none\" stroke=\"black\" points=\"88,-332 88,-353 147,-353 147,-332 88,-332\"/>\n<text text-anchor=\"start\" x=\"99\" y=\"-340\" font-family=\"Linux libertine\" font-size=\"10.00\">input:</text>\n<polygon fill=\"none\" stroke=\"black\" points=\"147,-332 147,-353 242,-353 242,-332 147,-332\"/>\n<text text-anchor=\"start\" x=\"152\" y=\"-340\" font-family=\"Linux libertine\" font-size=\"10.00\">(1, 10, 7, 7) </text>\n<polygon fill=\"none\" stroke=\"black\" points=\"88,-311 88,-332 147,-332 147,-311 88,-311\"/>\n<text text-anchor=\"start\" x=\"93\" y=\"-319\" font-family=\"Linux libertine\" font-size=\"10.00\">output: </text>\n<polygon fill=\"none\" stroke=\"black\" points=\"147,-311 147,-332 242,-332 242,-311 147,-311\"/>\n<text text-anchor=\"start\" x=\"152\" y=\"-319\" font-family=\"Linux libertine\" font-size=\"10.00\">(1, 10, 7, 7) </text>\n</g>\n<!-- 21&#45;&gt;22 -->\n<g id=\"edge22\" class=\"edge\">\n<title>21&#45;&gt;22</title>\n<path fill=\"none\" stroke=\"black\" d=\"M138,-388.63C138,-380.82 138,-371.73 138,-363.18\"/>\n<polygon fill=\"black\" stroke=\"black\" points=\"141.5,-363.16 138,-353.16 134.5,-363.16 141.5,-363.16\"/>\n</g>\n<!-- 23 -->\n<g id=\"node24\" class=\"node\">\n<title>23</title>\n<polygon fill=\"#c1ffc1\" stroke=\"transparent\" points=\"241.5,-266 34.5,-266 34.5,-224 241.5,-224 241.5,-266\"/>\n<polygon fill=\"none\" stroke=\"black\" points=\"35,-224 35,-266 88,-266 88,-224 35,-224\"/>\n<text text-anchor=\"start\" x=\"43\" y=\"-248\" font-family=\"Linux libertine\" font-size=\"10.00\">Conv2d</text>\n<text text-anchor=\"start\" x=\"40\" y=\"-237\" font-family=\"Linux libertine\" font-size=\"10.00\">depth:2</text>\n<polygon fill=\"none\" stroke=\"black\" points=\"88,-245 88,-266 147,-266 147,-245 88,-245\"/>\n<text text-anchor=\"start\" x=\"99\" y=\"-253\" font-family=\"Linux libertine\" font-size=\"10.00\">input:</text>\n<polygon fill=\"none\" stroke=\"black\" points=\"147,-245 147,-266 242,-266 242,-245 147,-245\"/>\n<text text-anchor=\"start\" x=\"152\" y=\"-253\" font-family=\"Linux libertine\" font-size=\"10.00\">(1, 10, 7, 7) </text>\n<polygon fill=\"none\" stroke=\"black\" points=\"88,-224 88,-245 147,-245 147,-224 88,-224\"/>\n<text text-anchor=\"start\" x=\"93\" y=\"-232\" font-family=\"Linux libertine\" font-size=\"10.00\">output: </text>\n<polygon fill=\"none\" stroke=\"black\" points=\"147,-224 147,-245 242,-245 242,-224 147,-224\"/>\n<text text-anchor=\"start\" x=\"152\" y=\"-232\" font-family=\"Linux libertine\" font-size=\"10.00\">(1, 10, 1, 1) </text>\n</g>\n<!-- 22&#45;&gt;23 -->\n<g id=\"edge23\" class=\"edge\">\n<title>22&#45;&gt;23</title>\n<path fill=\"none\" stroke=\"black\" d=\"M138,-310.86C138,-300.56 138,-287.81 138,-276.35\"/>\n<polygon fill=\"black\" stroke=\"black\" points=\"141.5,-276.29 138,-266.29 134.5,-276.29 141.5,-276.29\"/>\n</g>\n<!-- 24 -->\n<g id=\"node25\" class=\"node\">\n<title>24</title>\n<polygon fill=\"aliceblue\" stroke=\"transparent\" points=\"241.5,-188 34.5,-188 34.5,-146 241.5,-146 241.5,-188\"/>\n<polygon fill=\"none\" stroke=\"black\" points=\"35,-146 35,-188 88,-188 88,-146 35,-146\"/>\n<text text-anchor=\"start\" x=\"49\" y=\"-170\" font-family=\"Linux libertine\" font-size=\"10.00\">view</text>\n<text text-anchor=\"start\" x=\"40\" y=\"-159\" font-family=\"Linux libertine\" font-size=\"10.00\">depth:1</text>\n<polygon fill=\"none\" stroke=\"black\" points=\"88,-167 88,-188 147,-188 147,-167 88,-167\"/>\n<text text-anchor=\"start\" x=\"99\" y=\"-175\" font-family=\"Linux libertine\" font-size=\"10.00\">input:</text>\n<polygon fill=\"none\" stroke=\"black\" points=\"147,-167 147,-188 242,-188 242,-167 147,-167\"/>\n<text text-anchor=\"start\" x=\"152\" y=\"-175\" font-family=\"Linux libertine\" font-size=\"10.00\">(1, 10, 1, 1) </text>\n<polygon fill=\"none\" stroke=\"black\" points=\"88,-146 88,-167 147,-167 147,-146 88,-146\"/>\n<text text-anchor=\"start\" x=\"93\" y=\"-154\" font-family=\"Linux libertine\" font-size=\"10.00\">output: </text>\n<polygon fill=\"none\" stroke=\"black\" points=\"147,-146 147,-167 242,-167 242,-146 147,-146\"/>\n<text text-anchor=\"start\" x=\"170\" y=\"-154\" font-family=\"Linux libertine\" font-size=\"10.00\">(1, 10) </text>\n</g>\n<!-- 23&#45;&gt;24 -->\n<g id=\"edge24\" class=\"edge\">\n<title>23&#45;&gt;24</title>\n<path fill=\"none\" stroke=\"black\" d=\"M138,-223.63C138,-215.82 138,-206.73 138,-198.18\"/>\n<polygon fill=\"black\" stroke=\"black\" points=\"141.5,-198.16 138,-188.16 134.5,-198.16 141.5,-198.16\"/>\n</g>\n<!-- 25 -->\n<g id=\"node26\" class=\"node\">\n<title>25</title>\n<polygon fill=\"aliceblue\" stroke=\"transparent\" points=\"235.5,-110 40.5,-110 40.5,-68 235.5,-68 235.5,-110\"/>\n<polygon fill=\"none\" stroke=\"black\" points=\"41,-68 41,-110 118,-110 118,-68 41,-68\"/>\n<text text-anchor=\"start\" x=\"46\" y=\"-92\" font-family=\"Linux libertine\" font-size=\"10.00\">log_softmax</text>\n<text text-anchor=\"start\" x=\"58\" y=\"-81\" font-family=\"Linux libertine\" font-size=\"10.00\">depth:1</text>\n<polygon fill=\"none\" stroke=\"black\" points=\"118,-89 118,-110 177,-110 177,-89 118,-89\"/>\n<text text-anchor=\"start\" x=\"129\" y=\"-97\" font-family=\"Linux libertine\" font-size=\"10.00\">input:</text>\n<polygon fill=\"none\" stroke=\"black\" points=\"177,-89 177,-110 236,-110 236,-89 177,-89\"/>\n<text text-anchor=\"start\" x=\"182\" y=\"-97\" font-family=\"Linux libertine\" font-size=\"10.00\">(1, 10) </text>\n<polygon fill=\"none\" stroke=\"black\" points=\"118,-68 118,-89 177,-89 177,-68 118,-68\"/>\n<text text-anchor=\"start\" x=\"123\" y=\"-76\" font-family=\"Linux libertine\" font-size=\"10.00\">output: </text>\n<polygon fill=\"none\" stroke=\"black\" points=\"177,-68 177,-89 236,-89 236,-68 177,-68\"/>\n<text text-anchor=\"start\" x=\"182\" y=\"-76\" font-family=\"Linux libertine\" font-size=\"10.00\">(1, 10) </text>\n</g>\n<!-- 24&#45;&gt;25 -->\n<g id=\"edge25\" class=\"edge\">\n<title>24&#45;&gt;25</title>\n<path fill=\"none\" stroke=\"black\" d=\"M138,-145.63C138,-137.82 138,-128.73 138,-120.18\"/>\n<polygon fill=\"black\" stroke=\"black\" points=\"141.5,-120.16 138,-110.16 134.5,-120.16 141.5,-120.16\"/>\n</g>\n<!-- 26 -->\n<g id=\"node27\" class=\"node\">\n<title>26</title>\n<polygon fill=\"lightyellow\" stroke=\"transparent\" points=\"209,-32 67,-32 67,0 209,0 209,-32\"/>\n<polygon fill=\"none\" stroke=\"black\" points=\"67,0 67,-32 156,-32 156,0 67,0\"/>\n<text text-anchor=\"start\" x=\"72\" y=\"-19\" font-family=\"Linux libertine\" font-size=\"10.00\">output&#45;tensor</text>\n<text text-anchor=\"start\" x=\"90\" y=\"-8\" font-family=\"Linux libertine\" font-size=\"10.00\">depth:0</text>\n<polygon fill=\"none\" stroke=\"black\" points=\"156,0 156,-32 209,-32 209,0 156,0\"/>\n<text text-anchor=\"start\" x=\"161\" y=\"-13.5\" font-family=\"Linux libertine\" font-size=\"10.00\">(1, 10)</text>\n</g>\n<!-- 25&#45;&gt;26 -->\n<g id=\"edge26\" class=\"edge\">\n<title>25&#45;&gt;26</title>\n<path fill=\"none\" stroke=\"black\" d=\"M138,-67.84C138,-59.89 138,-50.66 138,-42.26\"/>\n<polygon fill=\"black\" stroke=\"black\" points=\"141.5,-42.24 138,-32.24 134.5,-42.24 141.5,-42.24\"/>\n</g>\n</g>\n</svg>\n",
            "text/plain": [
              "<graphviz.graphs.Digraph at 0x7dceb043ef50>"
            ]
          },
          "metadata": {},
          "execution_count": 33
        }
      ]
    },
    {
      "cell_type": "code",
      "source": [
        "# updated training module---\n",
        "@timeit\n",
        "def train_module(model:torch.nn.Module,\n",
        "                 device:torch.device,\n",
        "                 train_dataloader:torch.utils.data.DataLoader ,\n",
        "                 optimizer:torch.optim.Optimizer,\n",
        "                 criterion:torch.nn.Module,\n",
        "                 metric,\n",
        "                 train_losses:list,\n",
        "                 train_metrics:list):\n",
        "\n",
        "  # setting model to train mode\n",
        "  model.train()\n",
        "  pbar = tqdm(train_dataloader)\n",
        "\n",
        "  # batch metrics\n",
        "  train_loss = 0\n",
        "  train_metric = 0\n",
        "  processed_batch = 0\n",
        "\n",
        "  for idx, (data,label) in enumerate(pbar):\n",
        "    # setting up device\n",
        "    data = data.to(device)\n",
        "    label = label.to(device)\n",
        "\n",
        "    # forward pass output\n",
        "    preds = model(data)\n",
        "\n",
        "    # calc loss\n",
        "    loss = criterion(preds, label)\n",
        "    train_loss += loss.item()\n",
        "    # print(f\"training loss for batch {idx} is {loss}\")\n",
        "\n",
        "    # backpropagation\n",
        "    optimizer.zero_grad() # flush out  existing grads\n",
        "    loss.backward() # back prop of weights wrt loss\n",
        "    optimizer.step() # optimizer step -> minima\n",
        "\n",
        "    # metric calc\n",
        "    preds = torch.argmax(preds,dim=1)\n",
        "    # print(f\"preds:: {preds}\")\n",
        "    metric.update(preds,label)\n",
        "    train_metric += metric.compute().detach().item()\n",
        "\n",
        "    #updating batch count\n",
        "    processed_batch += 1\n",
        "\n",
        "    pbar.set_description(f\"Avg Train Loss: {train_loss/processed_batch} Avg Train Metric: {train_metric/processed_batch}\")\n",
        "\n",
        "  # It's typically called after the epoch completes\n",
        "  metric.reset()\n",
        "  # updating epoch metrics\n",
        "  train_losses.append(train_loss/processed_batch)\n",
        "  train_metrics.append(train_metric/processed_batch)\n",
        "\n",
        "  return train_losses, train_metrics\n"
      ],
      "metadata": {
        "id": "TYrupM0cMKf2"
      },
      "execution_count": 34,
      "outputs": []
    },
    {
      "cell_type": "code",
      "source": [
        "# updated testing modules---\n",
        "@timeit\n",
        "def test_module(model:torch.nn.Module,\n",
        "                device:torch.device,\n",
        "                test_dataloader:torch.utils.data.DataLoader,\n",
        "                criterion:torch.nn.Module,\n",
        "                metric,\n",
        "                test_losses,\n",
        "                test_metrics):\n",
        "  # setting model to eval mode\n",
        "  model.eval()\n",
        "  pbar = tqdm(test_dataloader)\n",
        "\n",
        "  # batch metrics\n",
        "  test_loss = 0\n",
        "  test_metric = 0\n",
        "  processed_batch = 0\n",
        "\n",
        "  with torch.inference_mode():\n",
        "    for idx, (data,label) in enumerate(pbar):\n",
        "      data , label = data.to(device), label.to(device)\n",
        "      # predictions\n",
        "      preds = model(data)\n",
        "      # print(preds.shape)\n",
        "      # print(label.shape)\n",
        "\n",
        "      #loss calc\n",
        "      loss = criterion(preds, label)\n",
        "      test_loss += loss.item()\n",
        "\n",
        "      # metric calc\n",
        "      preds = torch.argmax(preds,dim=1)\n",
        "      metric.update(preds,label)\n",
        "      test_metric += metric.compute().detach().item()\n",
        "\n",
        "      #updating batch count\n",
        "      processed_batch += 1\n",
        "\n",
        "      pbar.set_description(f\"Avg Test Loss: {test_loss/processed_batch} Avg Test Metric: {test_metric/processed_batch}\")\n",
        "\n",
        "    # It's typically called after the epoch completes\n",
        "    metric.reset()\n",
        "    # updating epoch metrics\n",
        "    test_losses.append(test_loss/processed_batch)\n",
        "    test_metrics.append(test_metric/processed_batch)\n",
        "\n",
        "  return test_losses, test_metrics"
      ],
      "metadata": {
        "id": "MgWcJ36-MKi3"
      },
      "execution_count": 35,
      "outputs": []
    },
    {
      "cell_type": "code",
      "source": [
        "# driver setup----\n",
        "# optmizer\n",
        "optimizer = optim.Adam(baseline_model.parameters(), lr=lr)\n",
        "# loss\n",
        "criterion = nn.CrossEntropyLoss()\n",
        "# metric\n",
        "metric = MulticlassAccuracy(device = device, num_classes=10)"
      ],
      "metadata": {
        "id": "ZaT1iNX9MKmd"
      },
      "execution_count": 36,
      "outputs": []
    },
    {
      "cell_type": "code",
      "source": [
        "train_losses = []\n",
        "train_metrics = []\n",
        "test_losses = []\n",
        "test_metrics = []\n",
        "\n",
        "for epoch in range(0,epochs):\n",
        "  print(f'Epoch {epoch}')\n",
        "  train_losses, train_metrics = train_module(baseline_model, device, train_loader, optimizer, criterion, metric, train_losses, train_metrics)\n",
        "  test_losses , test_metrics = test_module(baseline_model, device, test_loader, criterion, metric, test_losses, test_metrics)"
      ],
      "metadata": {
        "colab": {
          "base_uri": "https://localhost:8080/"
        },
        "id": "v3JP-XPLMKpp",
        "outputId": "edfab00f-dfd7-4644-cf21-64277a925a4a"
      },
      "execution_count": 37,
      "outputs": [
        {
          "output_type": "stream",
          "name": "stdout",
          "text": [
            "Epoch 0\n"
          ]
        },
        {
          "output_type": "stream",
          "name": "stderr",
          "text": [
            "\r  0%|          | 0/469 [00:00<?, ?it/s]/usr/local/lib/python3.10/dist-packages/torch/utils/data/dataloader.py:558: UserWarning: This DataLoader will create 4 worker processes in total. Our suggested max number of worker in current system is 2, which is smaller than what this DataLoader is going to create. Please be aware that excessive worker creation might get DataLoader running slow or even freeze, lower the worker number to avoid potential slowness/freeze if necessary.\n",
            "  warnings.warn(_create_warning_msg(\n",
            "Avg Train Loss: 0.25226563037331423 Avg Train Metric: 0.8374954014222251: 100%|██████████| 469/469 [00:24<00:00, 19.01it/s]\n"
          ]
        },
        {
          "output_type": "stream",
          "name": "stdout",
          "text": [
            "Function Took 24.6727 seconds\n"
          ]
        },
        {
          "output_type": "stream",
          "name": "stderr",
          "text": [
            "Avg Test Loss: 0.0631502170492954 Avg Test Metric: 0.9813330573371694: 100%|██████████| 79/79 [00:03<00:00, 25.97it/s]\n"
          ]
        },
        {
          "output_type": "stream",
          "name": "stdout",
          "text": [
            "Function Took 3.0520 seconds\n",
            "Epoch 1\n"
          ]
        },
        {
          "output_type": "stream",
          "name": "stderr",
          "text": [
            "Avg Train Loss: 0.05960463008670601 Avg Train Metric: 0.9808718161796456: 100%|██████████| 469/469 [00:25<00:00, 18.35it/s]\n"
          ]
        },
        {
          "output_type": "stream",
          "name": "stdout",
          "text": [
            "Function Took 25.5683 seconds\n"
          ]
        },
        {
          "output_type": "stream",
          "name": "stderr",
          "text": [
            "Avg Test Loss: 0.04718238328689638 Avg Test Metric: 0.9853686811048773: 100%|██████████| 79/79 [00:03<00:00, 26.23it/s]\n"
          ]
        },
        {
          "output_type": "stream",
          "name": "stdout",
          "text": [
            "Function Took 3.0188 seconds\n",
            "Epoch 2\n"
          ]
        },
        {
          "output_type": "stream",
          "name": "stderr",
          "text": [
            "Avg Train Loss: 0.04406493315363982 Avg Train Metric: 0.9864187207557499: 100%|██████████| 469/469 [00:24<00:00, 19.45it/s]\n"
          ]
        },
        {
          "output_type": "stream",
          "name": "stdout",
          "text": [
            "Function Took 24.1215 seconds\n"
          ]
        },
        {
          "output_type": "stream",
          "name": "stderr",
          "text": [
            "Avg Test Loss: 0.036603952887692026 Avg Test Metric: 0.987190414078628: 100%|██████████| 79/79 [00:02<00:00, 31.95it/s]\n"
          ]
        },
        {
          "output_type": "stream",
          "name": "stdout",
          "text": [
            "Function Took 2.4812 seconds\n",
            "Epoch 3\n"
          ]
        },
        {
          "output_type": "stream",
          "name": "stderr",
          "text": [
            "Avg Train Loss: 0.03485566936135451 Avg Train Metric: 0.9888042300494749: 100%|██████████| 469/469 [00:22<00:00, 20.53it/s]\n"
          ]
        },
        {
          "output_type": "stream",
          "name": "stdout",
          "text": [
            "Function Took 22.8600 seconds\n"
          ]
        },
        {
          "output_type": "stream",
          "name": "stderr",
          "text": [
            "Avg Test Loss: 0.033902585385603055 Avg Test Metric: 0.9892761956287336: 100%|██████████| 79/79 [00:04<00:00, 17.63it/s]\n"
          ]
        },
        {
          "output_type": "stream",
          "name": "stdout",
          "text": [
            "Function Took 4.5012 seconds\n",
            "Epoch 4\n"
          ]
        },
        {
          "output_type": "stream",
          "name": "stderr",
          "text": [
            "Avg Train Loss: 0.031218855616215593 Avg Train Metric: 0.9906824205730007: 100%|██████████| 469/469 [00:25<00:00, 18.31it/s]\n"
          ]
        },
        {
          "output_type": "stream",
          "name": "stdout",
          "text": [
            "Function Took 25.6229 seconds\n"
          ]
        },
        {
          "output_type": "stream",
          "name": "stderr",
          "text": [
            "Avg Test Loss: 0.034285808783731886 Avg Test Metric: 0.9872727552546731: 100%|██████████| 79/79 [00:04<00:00, 19.53it/s]\n"
          ]
        },
        {
          "output_type": "stream",
          "name": "stdout",
          "text": [
            "Function Took 4.0600 seconds\n",
            "Epoch 5\n"
          ]
        },
        {
          "output_type": "stream",
          "name": "stderr",
          "text": [
            "Avg Train Loss: 0.026723925668154475 Avg Train Metric: 0.9916642373050454: 100%|██████████| 469/469 [00:24<00:00, 19.22it/s]\n"
          ]
        },
        {
          "output_type": "stream",
          "name": "stdout",
          "text": [
            "Function Took 24.4216 seconds\n"
          ]
        },
        {
          "output_type": "stream",
          "name": "stderr",
          "text": [
            "Avg Test Loss: 0.036644137488041496 Avg Test Metric: 0.987217314635651: 100%|██████████| 79/79 [00:03<00:00, 22.69it/s]\n"
          ]
        },
        {
          "output_type": "stream",
          "name": "stdout",
          "text": [
            "Function Took 3.4924 seconds\n",
            "Epoch 6\n"
          ]
        },
        {
          "output_type": "stream",
          "name": "stderr",
          "text": [
            "Avg Train Loss: 0.02303648055610515 Avg Train Metric: 0.9929554570458337: 100%|██████████| 469/469 [00:22<00:00, 21.14it/s]\n"
          ]
        },
        {
          "output_type": "stream",
          "name": "stdout",
          "text": [
            "Function Took 22.2000 seconds\n"
          ]
        },
        {
          "output_type": "stream",
          "name": "stderr",
          "text": [
            "Avg Test Loss: 0.03062257902767462 Avg Test Metric: 0.9907639569874052: 100%|██████████| 79/79 [00:04<00:00, 17.36it/s]\n"
          ]
        },
        {
          "output_type": "stream",
          "name": "stdout",
          "text": [
            "Function Took 4.5634 seconds\n",
            "Epoch 7\n"
          ]
        },
        {
          "output_type": "stream",
          "name": "stderr",
          "text": [
            "Avg Train Loss: 0.021936112241859217 Avg Train Metric: 0.9936675752149716: 100%|██████████| 469/469 [00:20<00:00, 22.75it/s]\n"
          ]
        },
        {
          "output_type": "stream",
          "name": "stdout",
          "text": [
            "Function Took 20.6241 seconds\n"
          ]
        },
        {
          "output_type": "stream",
          "name": "stderr",
          "text": [
            "Avg Test Loss: 0.029773978392307682 Avg Test Metric: 0.989346778090996: 100%|██████████| 79/79 [00:02<00:00, 31.92it/s]\n"
          ]
        },
        {
          "output_type": "stream",
          "name": "stdout",
          "text": [
            "Function Took 2.4838 seconds\n",
            "Epoch 8\n"
          ]
        },
        {
          "output_type": "stream",
          "name": "stderr",
          "text": [
            "Avg Train Loss: 0.018292112313687547 Avg Train Metric: 0.9950789027630902: 100%|██████████| 469/469 [00:21<00:00, 21.55it/s]\n"
          ]
        },
        {
          "output_type": "stream",
          "name": "stdout",
          "text": [
            "Function Took 21.7792 seconds\n"
          ]
        },
        {
          "output_type": "stream",
          "name": "stderr",
          "text": [
            "Avg Test Loss: 0.029045072176399393 Avg Test Metric: 0.9901328464097614: 100%|██████████| 79/79 [00:02<00:00, 29.79it/s]\n"
          ]
        },
        {
          "output_type": "stream",
          "name": "stdout",
          "text": [
            "Function Took 2.6633 seconds\n",
            "Epoch 9\n"
          ]
        },
        {
          "output_type": "stream",
          "name": "stderr",
          "text": [
            "Avg Train Loss: 0.01712965969937538 Avg Train Metric: 0.9950331711311584: 100%|██████████| 469/469 [00:19<00:00, 23.99it/s]\n"
          ]
        },
        {
          "output_type": "stream",
          "name": "stdout",
          "text": [
            "Function Took 19.5615 seconds\n"
          ]
        },
        {
          "output_type": "stream",
          "name": "stderr",
          "text": [
            "Avg Test Loss: 0.02932003078336792 Avg Test Metric: 0.9913877497745466: 100%|██████████| 79/79 [00:03<00:00, 22.75it/s]\n"
          ]
        },
        {
          "output_type": "stream",
          "name": "stdout",
          "text": [
            "Function Took 3.4826 seconds\n",
            "Epoch 10\n"
          ]
        },
        {
          "output_type": "stream",
          "name": "stderr",
          "text": [
            "Avg Train Loss: 0.014906195408411708 Avg Train Metric: 0.9957679132662857: 100%|██████████| 469/469 [00:18<00:00, 24.96it/s]\n"
          ]
        },
        {
          "output_type": "stream",
          "name": "stdout",
          "text": [
            "Function Took 18.7990 seconds\n"
          ]
        },
        {
          "output_type": "stream",
          "name": "stderr",
          "text": [
            "Avg Test Loss: 0.03545944239425508 Avg Test Metric: 0.9901246051245098: 100%|██████████| 79/79 [00:02<00:00, 31.60it/s]\n"
          ]
        },
        {
          "output_type": "stream",
          "name": "stdout",
          "text": [
            "Function Took 2.5108 seconds\n",
            "Epoch 11\n"
          ]
        },
        {
          "output_type": "stream",
          "name": "stderr",
          "text": [
            "Avg Train Loss: 0.014372680423796665 Avg Train Metric: 0.995674336642853: 100%|██████████| 469/469 [00:21<00:00, 22.10it/s]\n"
          ]
        },
        {
          "output_type": "stream",
          "name": "stdout",
          "text": [
            "Function Took 21.2302 seconds\n"
          ]
        },
        {
          "output_type": "stream",
          "name": "stderr",
          "text": [
            "Avg Test Loss: 0.03111239872825674 Avg Test Metric: 0.9918796163571032: 100%|██████████| 79/79 [00:02<00:00, 32.65it/s]\n"
          ]
        },
        {
          "output_type": "stream",
          "name": "stdout",
          "text": [
            "Function Took 2.4271 seconds\n",
            "Epoch 12\n"
          ]
        },
        {
          "output_type": "stream",
          "name": "stderr",
          "text": [
            "Avg Train Loss: 0.012871810631677092 Avg Train Metric: 0.9964633627232712: 100%|██████████| 469/469 [00:18<00:00, 24.73it/s]\n"
          ]
        },
        {
          "output_type": "stream",
          "name": "stdout",
          "text": [
            "Function Took 18.9732 seconds\n"
          ]
        },
        {
          "output_type": "stream",
          "name": "stderr",
          "text": [
            "Avg Test Loss: 0.04049307650214509 Avg Test Metric: 0.9882669720468642: 100%|██████████| 79/79 [00:02<00:00, 31.30it/s]\n"
          ]
        },
        {
          "output_type": "stream",
          "name": "stdout",
          "text": [
            "Function Took 2.5332 seconds\n",
            "Epoch 13\n"
          ]
        },
        {
          "output_type": "stream",
          "name": "stderr",
          "text": [
            "Avg Train Loss: 0.013621717219058273 Avg Train Metric: 0.9961120523115211: 100%|██████████| 469/469 [00:20<00:00, 22.79it/s]\n"
          ]
        },
        {
          "output_type": "stream",
          "name": "stdout",
          "text": [
            "Function Took 20.5934 seconds\n"
          ]
        },
        {
          "output_type": "stream",
          "name": "stderr",
          "text": [
            "Avg Test Loss: 0.029968137443920337 Avg Test Metric: 0.9909309842918492: 100%|██████████| 79/79 [00:02<00:00, 32.67it/s]\n"
          ]
        },
        {
          "output_type": "stream",
          "name": "stdout",
          "text": [
            "Function Took 2.4262 seconds\n",
            "Epoch 14\n"
          ]
        },
        {
          "output_type": "stream",
          "name": "stderr",
          "text": [
            "Avg Train Loss: 0.011541729587426127 Avg Train Metric: 0.9968405791691372: 100%|██████████| 469/469 [00:18<00:00, 25.06it/s]\n"
          ]
        },
        {
          "output_type": "stream",
          "name": "stdout",
          "text": [
            "Function Took 18.7231 seconds\n"
          ]
        },
        {
          "output_type": "stream",
          "name": "stderr",
          "text": [
            "Avg Test Loss: 0.030437108279571315 Avg Test Metric: 0.9918347657481327: 100%|██████████| 79/79 [00:03<00:00, 23.71it/s]"
          ]
        },
        {
          "output_type": "stream",
          "name": "stdout",
          "text": [
            "Function Took 3.3402 seconds\n"
          ]
        },
        {
          "output_type": "stream",
          "name": "stderr",
          "text": [
            "\n"
          ]
        }
      ]
    },
    {
      "cell_type": "code",
      "source": [
        "plot_loss_accuracy(train_loss= [train_losses],\n",
        "                   val_loss= [test_losses],\n",
        "                   train_acc= [train_metrics],\n",
        "                   val_acc= [test_metrics],\n",
        "                   labels=['baseline'],\n",
        "                   colors=['blue'],\n",
        "                   loss_legend_loc='upper left',\n",
        "                   acc_legend_loc='upper left',\n",
        "                   legend_font=7)"
      ],
      "metadata": {
        "colab": {
          "base_uri": "https://localhost:8080/",
          "height": 872
        },
        "id": "ET9FhjeyMKsc",
        "outputId": "6ce9b551-eebf-4273-bd44-d610771e2b03"
      },
      "execution_count": 39,
      "outputs": [
        {
          "output_type": "display_data",
          "data": {
            "text/plain": [
              "<Figure size 1600x1000 with 2 Axes>"
            ],
            "image/png": "[encoded data removed]"
          },
          "metadata": {}
        }
      ]
    },
    {
      "cell_type": "markdown",
      "source": [
        "Target:\n",
        "\n",
        "1. Setting up the basic premise for model development\n",
        "2. Baselin model with 2 sets of convolution blocks and 1 transition block\n",
        "3. Application of only Batch normalization after every Cnn layer\n",
        "4. Transition block applied after RF==7\n",
        "\n",
        "Results:\\\n",
        "Parameters: 9k\\\n",
        "Best Training Accuracy: 99.68\\\n",
        "Best Test Accuracy: 99.19\n",
        "\n",
        "Analysis:\n",
        "1. As a Baseline model extremely effective with consistent results ie Accuracy>99\n",
        "2. At times have founds extremely faint hints of overfitting but within allowable threshold"
      ],
      "metadata": {
        "id": "GS77sgJhMKvS"
      }
    },
    {
      "cell_type": "markdown",
      "source": [
        "## Baseline Model -2\n",
        "\n",
        "Expansion of second conv block with a layer and double kernels"
      ],
      "metadata": {
        "id": "XHJfMVTWMKyr"
      }
    },
    {
      "cell_type": "code",
      "source": [
        "class Mnist_Baseline2(nn.Module):\n",
        "\n",
        "  def __init__(self, in_channels, hidden_units, out_channels):\n",
        "    super(Mnist_Baseline2, self).__init__()\n",
        "\n",
        "    # 3 sets of convolution blocks with batchnorm added\n",
        "    self.conv1 = nn.Sequential(\n",
        "        # set-1\n",
        "        nn.Conv2d(in_channels=in_channels, out_channels=hidden_units, kernel_size=3, stride=1, padding=0), #26,3\n",
        "        nn.BatchNorm2d(hidden_units),\n",
        "        nn.ReLU(),\n",
        "        #set-2\n",
        "        nn.Conv2d(in_channels=hidden_units, out_channels=hidden_units,  kernel_size=3, stride=1, padding=0), #24,5\n",
        "        nn.BatchNorm2d(hidden_units),\n",
        "        nn.ReLU(),\n",
        "        #set-3\n",
        "        nn.Conv2d(in_channels=hidden_units, out_channels=hidden_units,  kernel_size=3, stride=1, padding=0),#22,7\n",
        "        nn.BatchNorm2d(hidden_units),\n",
        "        nn.ReLU(),\n",
        "    )\n",
        "\n",
        "    # transition block with 1,1 mixer and maxpool added after it ie condense and compress\n",
        "    self.transition1 = nn.Sequential(\n",
        "        nn.Conv2d(in_channels=hidden_units, out_channels=hidden_units, kernel_size=1, stride=1, padding=0), #22,8\n",
        "        nn.BatchNorm2d(hidden_units),\n",
        "        nn.ReLU(),\n",
        "        nn.MaxPool2d(kernel_size=2, stride=2) #11,8\n",
        "    )\n",
        "\n",
        "    # 3 sets of convolution blocks with batchnorm added\n",
        "    self.conv2 = nn.Sequential(\n",
        "        # set-1\n",
        "        nn.Conv2d(in_channels=hidden_units, out_channels=hidden_units, kernel_size=3, stride=1, padding=0), #9,12\n",
        "        nn.BatchNorm2d(hidden_units),\n",
        "        nn.ReLU(),\n",
        "        #set-2\n",
        "        nn.Conv2d(in_channels=hidden_units, out_channels=hidden_units, kernel_size=3, stride=1, padding=0), #7,16\n",
        "        nn.BatchNorm2d(hidden_units),\n",
        "        nn.ReLU(),\n",
        "\n",
        "        #set-3\n",
        "        nn.Conv2d(in_channels=hidden_units, out_channels=hidden_units, kernel_size=3, stride=1, padding=0), #5,20\n",
        "        nn.BatchNorm2d(hidden_units),\n",
        "        nn.ReLU(),\n",
        "\n",
        "        #set-4\n",
        "        nn.Conv2d(in_channels=hidden_units , out_channels=(hidden_units * 2), kernel_size=3, stride=1, padding=0), #3,24\n",
        "        nn.BatchNorm2d(hidden_units*2),\n",
        "        nn.ReLU(),\n",
        "    )\n",
        "\n",
        "    self.classifier = nn.Sequential(nn.Conv2d(in_channels=(hidden_units * 2), out_channels=out_channels, kernel_size=3, stride=1, padding=0)) # 3*3 kernel as classifier\n",
        "\n",
        "\n",
        "  def forward(self, x):\n",
        "      x = self.conv1(x)\n",
        "      x = self.transition1(x)\n",
        "      x = self.conv2(x)\n",
        "      x = self.classifier(x)\n",
        "      x = x.view(-1, 10)\n",
        "      return F.log_softmax(x, dim=-1)"
      ],
      "metadata": {
        "id": "fED1oS8hMK2i"
      },
      "execution_count": 71,
      "outputs": []
    },
    {
      "cell_type": "code",
      "source": [
        "# New Model Instance\n",
        "baseline_model2 = Mnist_Baseline2(in_channels=1,hidden_units=10,out_channels=10).to(device)\n",
        "summary(baseline_model2, input_size=(1, 28, 28))"
      ],
      "metadata": {
        "colab": {
          "base_uri": "https://localhost:8080/"
        },
        "id": "sWn6RMf7hBD2",
        "outputId": "f32d24fc-bda5-44ff-d208-527943da19b5"
      },
      "execution_count": 72,
      "outputs": [
        {
          "output_type": "stream",
          "name": "stdout",
          "text": [
            "----------------------------------------------------------------\n",
            "        Layer (type)               Output Shape         Param #\n",
            "================================================================\n",
            "            Conv2d-1           [-1, 10, 26, 26]             100\n",
            "       BatchNorm2d-2           [-1, 10, 26, 26]              20\n",
            "              ReLU-3           [-1, 10, 26, 26]               0\n",
            "            Conv2d-4           [-1, 10, 24, 24]             910\n",
            "       BatchNorm2d-5           [-1, 10, 24, 24]              20\n",
            "              ReLU-6           [-1, 10, 24, 24]               0\n",
            "            Conv2d-7           [-1, 10, 22, 22]             910\n",
            "       BatchNorm2d-8           [-1, 10, 22, 22]              20\n",
            "              ReLU-9           [-1, 10, 22, 22]               0\n",
            "           Conv2d-10           [-1, 10, 22, 22]             110\n",
            "      BatchNorm2d-11           [-1, 10, 22, 22]              20\n",
            "             ReLU-12           [-1, 10, 22, 22]               0\n",
            "        MaxPool2d-13           [-1, 10, 11, 11]               0\n",
            "           Conv2d-14             [-1, 10, 9, 9]             910\n",
            "      BatchNorm2d-15             [-1, 10, 9, 9]              20\n",
            "             ReLU-16             [-1, 10, 9, 9]               0\n",
            "           Conv2d-17             [-1, 10, 7, 7]             910\n",
            "      BatchNorm2d-18             [-1, 10, 7, 7]              20\n",
            "             ReLU-19             [-1, 10, 7, 7]               0\n",
            "           Conv2d-20             [-1, 10, 5, 5]             910\n",
            "      BatchNorm2d-21             [-1, 10, 5, 5]              20\n",
            "             ReLU-22             [-1, 10, 5, 5]               0\n",
            "           Conv2d-23             [-1, 20, 3, 3]           1,820\n",
            "      BatchNorm2d-24             [-1, 20, 3, 3]              40\n",
            "             ReLU-25             [-1, 20, 3, 3]               0\n",
            "           Conv2d-26             [-1, 10, 1, 1]           1,810\n",
            "================================================================\n",
            "Total params: 8,570\n",
            "Trainable params: 8,570\n",
            "Non-trainable params: 0\n",
            "----------------------------------------------------------------\n",
            "Input size (MB): 0.00\n",
            "Forward/backward pass size (MB): 0.56\n",
            "Params size (MB): 0.03\n",
            "Estimated Total Size (MB): 0.59\n",
            "----------------------------------------------------------------\n"
          ]
        }
      ]
    },
    {
      "cell_type": "code",
      "source": [
        "# driver setup----\n",
        "# optmizer\n",
        "optimizer = optim.Adam(baseline_model2.parameters(), lr=lr)\n",
        "# loss\n",
        "criterion = nn.CrossEntropyLoss()\n",
        "# metric\n",
        "metric = MulticlassAccuracy(device = device, num_classes=10)"
      ],
      "metadata": {
        "id": "dj6WlikohBIv"
      },
      "execution_count": 73,
      "outputs": []
    },
    {
      "cell_type": "code",
      "source": [
        "train_losses = []\n",
        "train_metrics = []\n",
        "test_losses = []\n",
        "test_metrics = []\n",
        "\n",
        "for epoch in range(0,epochs):\n",
        "  print(f'Epoch {epoch}')\n",
        "  train_losses, train_metrics = train_module(baseline_model2, device, train_loader, optimizer, criterion, metric, train_losses, train_metrics)\n",
        "  test_losses , test_metrics = test_module(baseline_model2, device, test_loader, criterion, metric, test_losses, test_metrics)"
      ],
      "metadata": {
        "colab": {
          "base_uri": "https://localhost:8080/"
        },
        "id": "Talpi6_KhBM0",
        "outputId": "847219ee-fed1-4eae-a1a0-ee0069e8c851"
      },
      "execution_count": 74,
      "outputs": [
        {
          "output_type": "stream",
          "name": "stdout",
          "text": [
            "Epoch 0\n"
          ]
        },
        {
          "output_type": "stream",
          "name": "stderr",
          "text": [
            "\r  0%|          | 0/469 [00:00<?, ?it/s]/usr/local/lib/python3.10/dist-packages/torch/utils/data/dataloader.py:558: UserWarning: This DataLoader will create 4 worker processes in total. Our suggested max number of worker in current system is 2, which is smaller than what this DataLoader is going to create. Please be aware that excessive worker creation might get DataLoader running slow or even freeze, lower the worker number to avoid potential slowness/freeze if necessary.\n",
            "  warnings.warn(_create_warning_msg(\n",
            "Avg Train Loss: 0.3283296484293651 Avg Train Metric: 0.7863691413580481: 100%|██████████| 469/469 [00:21<00:00, 21.94it/s]\n"
          ]
        },
        {
          "output_type": "stream",
          "name": "stdout",
          "text": [
            "Function Took 21.3825 seconds\n"
          ]
        },
        {
          "output_type": "stream",
          "name": "stderr",
          "text": [
            "Avg Test Loss: 0.06487018798914136 Avg Test Metric: 0.9788070668148089: 100%|██████████| 79/79 [00:02<00:00, 28.19it/s]\n"
          ]
        },
        {
          "output_type": "stream",
          "name": "stdout",
          "text": [
            "Function Took 2.8086 seconds\n",
            "Epoch 1\n"
          ]
        },
        {
          "output_type": "stream",
          "name": "stderr",
          "text": [
            "Avg Train Loss: 0.059875789214608705 Avg Train Metric: 0.9817220249664046: 100%|██████████| 469/469 [00:24<00:00, 19.46it/s]\n"
          ]
        },
        {
          "output_type": "stream",
          "name": "stdout",
          "text": [
            "Function Took 24.1044 seconds\n"
          ]
        },
        {
          "output_type": "stream",
          "name": "stderr",
          "text": [
            "Avg Test Loss: 0.046841448396915876 Avg Test Metric: 0.9843425878995582: 100%|██████████| 79/79 [00:02<00:00, 27.36it/s]\n"
          ]
        },
        {
          "output_type": "stream",
          "name": "stdout",
          "text": [
            "Function Took 2.8983 seconds\n",
            "Epoch 2\n"
          ]
        },
        {
          "output_type": "stream",
          "name": "stderr",
          "text": [
            "Avg Train Loss: 0.04499429662519299 Avg Train Metric: 0.9860925643937166: 100%|██████████| 469/469 [00:20<00:00, 22.59it/s]\n"
          ]
        },
        {
          "output_type": "stream",
          "name": "stdout",
          "text": [
            "Function Took 20.7662 seconds\n"
          ]
        },
        {
          "output_type": "stream",
          "name": "stderr",
          "text": [
            "Avg Test Loss: 0.034452831752810484 Avg Test Metric: 0.9899343697330619: 100%|██████████| 79/79 [00:03<00:00, 22.73it/s]\n"
          ]
        },
        {
          "output_type": "stream",
          "name": "stdout",
          "text": [
            "Function Took 3.4814 seconds\n",
            "Epoch 3\n"
          ]
        },
        {
          "output_type": "stream",
          "name": "stderr",
          "text": [
            "Avg Train Loss: 0.037459129610085 Avg Train Metric: 0.9885944125494723: 100%|██████████| 469/469 [00:22<00:00, 20.44it/s]\n"
          ]
        },
        {
          "output_type": "stream",
          "name": "stdout",
          "text": [
            "Function Took 22.9551 seconds\n"
          ]
        },
        {
          "output_type": "stream",
          "name": "stderr",
          "text": [
            "Avg Test Loss: 0.035130200689493477 Avg Test Metric: 0.9882037865964672: 100%|██████████| 79/79 [00:03<00:00, 26.29it/s]\n"
          ]
        },
        {
          "output_type": "stream",
          "name": "stdout",
          "text": [
            "Function Took 3.0141 seconds\n",
            "Epoch 4\n"
          ]
        },
        {
          "output_type": "stream",
          "name": "stderr",
          "text": [
            "Avg Train Loss: 0.03245497872131561 Avg Train Metric: 0.9889875194157111: 100%|██████████| 469/469 [00:20<00:00, 23.22it/s]\n"
          ]
        },
        {
          "output_type": "stream",
          "name": "stdout",
          "text": [
            "Function Took 20.2053 seconds\n"
          ]
        },
        {
          "output_type": "stream",
          "name": "stderr",
          "text": [
            "Avg Test Loss: 0.03109943007908856 Avg Test Metric: 0.9885343456570106: 100%|██████████| 79/79 [00:02<00:00, 32.52it/s]\n"
          ]
        },
        {
          "output_type": "stream",
          "name": "stdout",
          "text": [
            "Function Took 2.4382 seconds\n",
            "Epoch 5\n"
          ]
        },
        {
          "output_type": "stream",
          "name": "stderr",
          "text": [
            "Avg Train Loss: 0.030803215677297907 Avg Train Metric: 0.9914320172277341: 100%|██████████| 469/469 [00:20<00:00, 22.64it/s]\n"
          ]
        },
        {
          "output_type": "stream",
          "name": "stdout",
          "text": [
            "Function Took 20.7271 seconds\n"
          ]
        },
        {
          "output_type": "stream",
          "name": "stderr",
          "text": [
            "Avg Test Loss: 0.027918703915975705 Avg Test Metric: 0.9896007353746439: 100%|██████████| 79/79 [00:02<00:00, 27.61it/s]\n"
          ]
        },
        {
          "output_type": "stream",
          "name": "stdout",
          "text": [
            "Function Took 2.8696 seconds\n",
            "Epoch 6\n"
          ]
        },
        {
          "output_type": "stream",
          "name": "stderr",
          "text": [
            "Avg Train Loss: 0.027278921692503063 Avg Train Metric: 0.9923291942203986: 100%|██████████| 469/469 [00:19<00:00, 24.11it/s]\n"
          ]
        },
        {
          "output_type": "stream",
          "name": "stdout",
          "text": [
            "Function Took 19.4569 seconds\n"
          ]
        },
        {
          "output_type": "stream",
          "name": "stderr",
          "text": [
            "Avg Test Loss: 0.033773146160064806 Avg Test Metric: 0.99262250450593: 100%|██████████| 79/79 [00:02<00:00, 31.29it/s]\n"
          ]
        },
        {
          "output_type": "stream",
          "name": "stdout",
          "text": [
            "Function Took 2.5341 seconds\n",
            "Epoch 7\n"
          ]
        },
        {
          "output_type": "stream",
          "name": "stderr",
          "text": [
            "Avg Train Loss: 0.024291769234659172 Avg Train Metric: 0.9925521678253532: 100%|██████████| 469/469 [00:20<00:00, 22.38it/s]\n"
          ]
        },
        {
          "output_type": "stream",
          "name": "stdout",
          "text": [
            "Function Took 20.9655 seconds\n"
          ]
        },
        {
          "output_type": "stream",
          "name": "stderr",
          "text": [
            "Avg Test Loss: 0.030015894872006735 Avg Test Metric: 0.9898539004446585: 100%|██████████| 79/79 [00:02<00:00, 27.59it/s]\n"
          ]
        },
        {
          "output_type": "stream",
          "name": "stdout",
          "text": [
            "Function Took 2.8762 seconds\n",
            "Epoch 8\n"
          ]
        },
        {
          "output_type": "stream",
          "name": "stderr",
          "text": [
            "Avg Train Loss: 0.023082725076711795 Avg Train Metric: 0.9922851005088545: 100%|██████████| 469/469 [00:19<00:00, 23.91it/s]\n"
          ]
        },
        {
          "output_type": "stream",
          "name": "stdout",
          "text": [
            "Function Took 19.6255 seconds\n"
          ]
        },
        {
          "output_type": "stream",
          "name": "stderr",
          "text": [
            "Avg Test Loss: 0.02627077141958672 Avg Test Metric: 0.9894956372961213: 100%|██████████| 79/79 [00:03<00:00, 23.04it/s]\n"
          ]
        },
        {
          "output_type": "stream",
          "name": "stdout",
          "text": [
            "Function Took 3.4358 seconds\n",
            "Epoch 9\n"
          ]
        },
        {
          "output_type": "stream",
          "name": "stderr",
          "text": [
            "Avg Train Loss: 0.02079704593902311 Avg Train Metric: 0.9937374720187075: 100%|██████████| 469/469 [00:19<00:00, 24.02it/s]\n"
          ]
        },
        {
          "output_type": "stream",
          "name": "stdout",
          "text": [
            "Function Took 19.5368 seconds\n"
          ]
        },
        {
          "output_type": "stream",
          "name": "stderr",
          "text": [
            "Avg Test Loss: 0.02747641440592942 Avg Test Metric: 0.9930141673812384: 100%|██████████| 79/79 [00:02<00:00, 32.45it/s]\n"
          ]
        },
        {
          "output_type": "stream",
          "name": "stdout",
          "text": [
            "Function Took 2.4426 seconds\n",
            "Epoch 10\n"
          ]
        },
        {
          "output_type": "stream",
          "name": "stderr",
          "text": [
            "Avg Train Loss: 0.01910403080315375 Avg Train Metric: 0.994485310018698: 100%|██████████| 469/469 [00:21<00:00, 22.21it/s]\n"
          ]
        },
        {
          "output_type": "stream",
          "name": "stdout",
          "text": [
            "Function Took 21.1255 seconds\n"
          ]
        },
        {
          "output_type": "stream",
          "name": "stderr",
          "text": [
            "Avg Test Loss: 0.026622549241207556 Avg Test Metric: 0.9915651294249522: 100%|██████████| 79/79 [00:02<00:00, 32.33it/s]\n"
          ]
        },
        {
          "output_type": "stream",
          "name": "stdout",
          "text": [
            "Function Took 2.4507 seconds\n",
            "Epoch 11\n"
          ]
        },
        {
          "output_type": "stream",
          "name": "stderr",
          "text": [
            "Avg Train Loss: 0.018256911759335262 Avg Train Metric: 0.9946465931975765: 100%|██████████| 469/469 [00:21<00:00, 22.23it/s]\n"
          ]
        },
        {
          "output_type": "stream",
          "name": "stdout",
          "text": [
            "Function Took 21.1055 seconds\n"
          ]
        },
        {
          "output_type": "stream",
          "name": "stderr",
          "text": [
            "Avg Test Loss: 0.031356753401246065 Avg Test Metric: 0.9903580350211904: 100%|██████████| 79/79 [00:02<00:00, 31.04it/s]\n"
          ]
        },
        {
          "output_type": "stream",
          "name": "stdout",
          "text": [
            "Function Took 2.5551 seconds\n",
            "Epoch 12\n"
          ]
        },
        {
          "output_type": "stream",
          "name": "stderr",
          "text": [
            "Avg Train Loss: 0.01785831885866082 Avg Train Metric: 0.99491983321684: 100%|██████████| 469/469 [00:20<00:00, 22.63it/s]\n"
          ]
        },
        {
          "output_type": "stream",
          "name": "stdout",
          "text": [
            "Function Took 20.7297 seconds\n"
          ]
        },
        {
          "output_type": "stream",
          "name": "stderr",
          "text": [
            "Avg Test Loss: 0.028269393965631395 Avg Test Metric: 0.9886210100560249: 100%|██████████| 79/79 [00:02<00:00, 31.19it/s]\n"
          ]
        },
        {
          "output_type": "stream",
          "name": "stdout",
          "text": [
            "Function Took 2.5438 seconds\n",
            "Epoch 13\n"
          ]
        },
        {
          "output_type": "stream",
          "name": "stderr",
          "text": [
            "Avg Train Loss: 0.015796726548806952 Avg Train Metric: 0.9957829567669297: 100%|██████████| 469/469 [00:19<00:00, 23.79it/s]\n"
          ]
        },
        {
          "output_type": "stream",
          "name": "stdout",
          "text": [
            "Function Took 19.7278 seconds\n"
          ]
        },
        {
          "output_type": "stream",
          "name": "stderr",
          "text": [
            "Avg Test Loss: 0.030337665843426637 Avg Test Metric: 0.9897764657117143: 100%|██████████| 79/79 [00:03<00:00, 22.41it/s]\n"
          ]
        },
        {
          "output_type": "stream",
          "name": "stdout",
          "text": [
            "Function Took 3.5317 seconds\n",
            "Epoch 14\n"
          ]
        },
        {
          "output_type": "stream",
          "name": "stderr",
          "text": [
            "Avg Train Loss: 0.0151609531474679 Avg Train Metric: 0.9947716888588375: 100%|██████████| 469/469 [00:19<00:00, 24.10it/s]\n"
          ]
        },
        {
          "output_type": "stream",
          "name": "stdout",
          "text": [
            "Function Took 19.4665 seconds\n"
          ]
        },
        {
          "output_type": "stream",
          "name": "stderr",
          "text": [
            "Avg Test Loss: 0.03003818280714906 Avg Test Metric: 0.986554425728472: 100%|██████████| 79/79 [00:02<00:00, 28.11it/s]"
          ]
        },
        {
          "output_type": "stream",
          "name": "stdout",
          "text": [
            "Function Took 2.8230 seconds\n"
          ]
        },
        {
          "output_type": "stream",
          "name": "stderr",
          "text": [
            "\n"
          ]
        }
      ]
    },
    {
      "cell_type": "code",
      "source": [
        "plot_loss_accuracy(train_loss= [train_losses],\n",
        "                   val_loss= [test_losses],\n",
        "                   train_acc= [train_metrics],\n",
        "                   val_acc= [test_metrics],\n",
        "                   labels=['baseline-2'],\n",
        "                   colors=['blue'],\n",
        "                   loss_legend_loc='upper left',\n",
        "                   acc_legend_loc='upper left',\n",
        "                   legend_font=7)"
      ],
      "metadata": {
        "colab": {
          "base_uri": "https://localhost:8080/",
          "height": 872
        },
        "id": "z8ifIw0XmdHI",
        "outputId": "0d8ac696-d72e-4e87-c55e-e965f486eeca"
      },
      "execution_count": 75,
      "outputs": [
        {
          "output_type": "display_data",
          "data": {
            "text/plain": [
              "<Figure size 1600x1000 with 2 Axes>"
            ],
            "image/png": "[encoded data removed]"
          },
          "metadata": {}
        }
      ]
    },
    {
      "cell_type": "markdown",
      "source": [
        "Analysis:\n",
        "1. Increasing channels/kernels in any layers leads to more overfitting and increased gap with increasing epochs"
      ],
      "metadata": {
        "id": "FzkjaCvBhBQ4"
      }
    },
    {
      "cell_type": "code",
      "source": [],
      "metadata": {
        "id": "c9M17UdqhBUs"
      },
      "execution_count": null,
      "outputs": []
    },
    {
      "cell_type": "code",
      "source": [
        "class Mnist_Baseline3(nn.Module):\n",
        "\n",
        "  def __init__(self, in_channels, hidden_units, out_channels):\n",
        "    super(Mnist_Baseline3, self).__init__()\n",
        "\n",
        "    # 3 sets of convolution blocks with batchnorm added\n",
        "    self.conv1 = nn.Sequential(\n",
        "        # set-1\n",
        "        nn.Conv2d(in_channels=in_channels, out_channels=hidden_units*2, kernel_size=3, stride=1, padding=0), #26,3\n",
        "        nn.BatchNorm2d(hidden_units*2),\n",
        "        nn.ReLU(),\n",
        "        #set-2\n",
        "        nn.Conv2d(in_channels=hidden_units*2, out_channels=hidden_units,  kernel_size=3, stride=1, padding=0), #24,5\n",
        "        nn.BatchNorm2d(hidden_units),\n",
        "        nn.ReLU(),\n",
        "        #set-3\n",
        "        nn.Conv2d(in_channels=hidden_units, out_channels=hidden_units,  kernel_size=3, stride=1, padding=0),#22,7\n",
        "        nn.BatchNorm2d(hidden_units),\n",
        "        nn.ReLU(),\n",
        "    )\n",
        "\n",
        "    # transition block with 1,1 mixer and maxpool added after it ie condense and compress\n",
        "    self.transition1 = nn.Sequential(\n",
        "        nn.Conv2d(in_channels=hidden_units, out_channels=hidden_units, kernel_size=1, stride=1, padding=0), #22,8\n",
        "        nn.BatchNorm2d(hidden_units),\n",
        "        nn.ReLU(),\n",
        "        nn.MaxPool2d(kernel_size=2, stride=2) #11,8\n",
        "    )\n",
        "\n",
        "    # 3 sets of convolution blocks with batchnorm added\n",
        "    self.conv2 = nn.Sequential(\n",
        "        # set-1\n",
        "        nn.Conv2d(in_channels=hidden_units, out_channels=hidden_units*2, kernel_size=3, stride=1, padding=0), #9,12\n",
        "        nn.BatchNorm2d(hidden_units*2),\n",
        "        nn.ReLU(),\n",
        "        #set-2\n",
        "        nn.Conv2d(in_channels=hidden_units*2, out_channels=hidden_units, kernel_size=3, stride=1, padding=0), #7,16\n",
        "        nn.BatchNorm2d(hidden_units),\n",
        "        nn.ReLU(),\n",
        "\n",
        "        #set-3\n",
        "        nn.Conv2d(in_channels=hidden_units, out_channels=hidden_units, kernel_size=3, stride=1, padding=0), #5,20\n",
        "        nn.BatchNorm2d(hidden_units),\n",
        "        nn.ReLU(),\n",
        "\n",
        "        #set-4\n",
        "        nn.Conv2d(in_channels=hidden_units , out_channels=hidden_units, kernel_size=3, stride=1, padding=0), #3,24\n",
        "        nn.BatchNorm2d(hidden_units),\n",
        "        nn.ReLU(),\n",
        "    )\n",
        "\n",
        "    self.classifier = nn.Sequential(nn.Conv2d(in_channels=hidden_units, out_channels=out_channels, kernel_size=3, stride=1, padding=0)) # 3*3 kernel as classifier\n",
        "\n",
        "\n",
        "  def forward(self, x):\n",
        "      x = self.conv1(x)\n",
        "      x = self.transition1(x)\n",
        "      x = self.conv2(x)\n",
        "      x = self.classifier(x)\n",
        "      x = x.view(-1, 10)\n",
        "      return F.log_softmax(x, dim=-1)"
      ],
      "metadata": {
        "id": "JfrI9U2ImZqt"
      },
      "execution_count": 77,
      "outputs": []
    },
    {
      "cell_type": "code",
      "source": [
        "# New Model Instance\n",
        "baseline_model3 = Mnist_Baseline3(in_channels=1,hidden_units=10,out_channels=10).to(device)\n",
        "summary(baseline_model3, input_size=(1, 28, 28))"
      ],
      "metadata": {
        "colab": {
          "base_uri": "https://localhost:8080/"
        },
        "outputId": "3398c3ab-c992-468f-9ec5-51f74bca15fc",
        "id": "GCRIh1nJmZq5"
      },
      "execution_count": 78,
      "outputs": [
        {
          "output_type": "stream",
          "name": "stdout",
          "text": [
            "----------------------------------------------------------------\n",
            "        Layer (type)               Output Shape         Param #\n",
            "================================================================\n",
            "            Conv2d-1           [-1, 20, 26, 26]             200\n",
            "       BatchNorm2d-2           [-1, 20, 26, 26]              40\n",
            "              ReLU-3           [-1, 20, 26, 26]               0\n",
            "            Conv2d-4           [-1, 10, 24, 24]           1,810\n",
            "       BatchNorm2d-5           [-1, 10, 24, 24]              20\n",
            "              ReLU-6           [-1, 10, 24, 24]               0\n",
            "            Conv2d-7           [-1, 10, 22, 22]             910\n",
            "       BatchNorm2d-8           [-1, 10, 22, 22]              20\n",
            "              ReLU-9           [-1, 10, 22, 22]               0\n",
            "           Conv2d-10           [-1, 10, 22, 22]             110\n",
            "      BatchNorm2d-11           [-1, 10, 22, 22]              20\n",
            "             ReLU-12           [-1, 10, 22, 22]               0\n",
            "        MaxPool2d-13           [-1, 10, 11, 11]               0\n",
            "           Conv2d-14             [-1, 20, 9, 9]           1,820\n",
            "      BatchNorm2d-15             [-1, 20, 9, 9]              40\n",
            "             ReLU-16             [-1, 20, 9, 9]               0\n",
            "           Conv2d-17             [-1, 10, 7, 7]           1,810\n",
            "      BatchNorm2d-18             [-1, 10, 7, 7]              20\n",
            "             ReLU-19             [-1, 10, 7, 7]               0\n",
            "           Conv2d-20             [-1, 10, 5, 5]             910\n",
            "      BatchNorm2d-21             [-1, 10, 5, 5]              20\n",
            "             ReLU-22             [-1, 10, 5, 5]               0\n",
            "           Conv2d-23             [-1, 10, 3, 3]             910\n",
            "      BatchNorm2d-24             [-1, 10, 3, 3]              20\n",
            "             ReLU-25             [-1, 10, 3, 3]               0\n",
            "           Conv2d-26             [-1, 10, 1, 1]             910\n",
            "================================================================\n",
            "Total params: 9,590\n",
            "Trainable params: 9,590\n",
            "Non-trainable params: 0\n",
            "----------------------------------------------------------------\n",
            "Input size (MB): 0.00\n",
            "Forward/backward pass size (MB): 0.73\n",
            "Params size (MB): 0.04\n",
            "Estimated Total Size (MB): 0.77\n",
            "----------------------------------------------------------------\n"
          ]
        }
      ]
    },
    {
      "cell_type": "code",
      "source": [
        "# driver setup----\n",
        "# optmizer\n",
        "optimizer = optim.Adam(baseline_model3.parameters(), lr=lr)\n",
        "# loss\n",
        "criterion = nn.CrossEntropyLoss()\n",
        "# metric\n",
        "metric = MulticlassAccuracy(device = device, num_classes=10)"
      ],
      "metadata": {
        "id": "0k3Bg7LsmZq5"
      },
      "execution_count": 79,
      "outputs": []
    },
    {
      "cell_type": "code",
      "source": [
        "train_losses = []\n",
        "train_metrics = []\n",
        "test_losses = []\n",
        "test_metrics = []\n",
        "\n",
        "for epoch in range(0,epochs):\n",
        "  print(f'Epoch {epoch}')\n",
        "  train_losses, train_metrics = train_module(baseline_model3, device, train_loader, optimizer, criterion, metric, train_losses, train_metrics)\n",
        "  test_losses , test_metrics = test_module(baseline_model3, device, test_loader, criterion, metric, test_losses, test_metrics)"
      ],
      "metadata": {
        "colab": {
          "base_uri": "https://localhost:8080/"
        },
        "outputId": "a91d2f02-9538-4159-c5ad-93f60431e48b",
        "id": "vSeMMFyWmZq5"
      },
      "execution_count": 80,
      "outputs": [
        {
          "output_type": "stream",
          "name": "stdout",
          "text": [
            "Epoch 0\n"
          ]
        },
        {
          "output_type": "stream",
          "name": "stderr",
          "text": [
            "\r  0%|          | 0/469 [00:00<?, ?it/s]/usr/local/lib/python3.10/dist-packages/torch/utils/data/dataloader.py:558: UserWarning: This DataLoader will create 4 worker processes in total. Our suggested max number of worker in current system is 2, which is smaller than what this DataLoader is going to create. Please be aware that excessive worker creation might get DataLoader running slow or even freeze, lower the worker number to avoid potential slowness/freeze if necessary.\n",
            "  warnings.warn(_create_warning_msg(\n",
            "Avg Train Loss: 0.4155198448994902 Avg Train Metric: 0.7544693607193574: 100%|██████████| 469/469 [00:21<00:00, 21.95it/s]\n"
          ]
        },
        {
          "output_type": "stream",
          "name": "stdout",
          "text": [
            "Function Took 21.3755 seconds\n"
          ]
        },
        {
          "output_type": "stream",
          "name": "stderr",
          "text": [
            "Avg Test Loss: 0.0938894151698185 Avg Test Metric: 0.9731635541855534: 100%|██████████| 79/79 [00:02<00:00, 31.60it/s]\n"
          ]
        },
        {
          "output_type": "stream",
          "name": "stdout",
          "text": [
            "Function Took 2.5080 seconds\n",
            "Epoch 1\n"
          ]
        },
        {
          "output_type": "stream",
          "name": "stderr",
          "text": [
            "Avg Train Loss: 0.07352545297444502 Avg Train Metric: 0.9770787974664652: 100%|██████████| 469/469 [00:20<00:00, 22.70it/s]\n"
          ]
        },
        {
          "output_type": "stream",
          "name": "stdout",
          "text": [
            "Function Took 20.6716 seconds\n"
          ]
        },
        {
          "output_type": "stream",
          "name": "stderr",
          "text": [
            "Avg Test Loss: 0.05135074145561438 Avg Test Metric: 0.9853009053423435: 100%|██████████| 79/79 [00:02<00:00, 31.22it/s]\n"
          ]
        },
        {
          "output_type": "stream",
          "name": "stdout",
          "text": [
            "Function Took 2.5399 seconds\n",
            "Epoch 2\n"
          ]
        },
        {
          "output_type": "stream",
          "name": "stderr",
          "text": [
            "Avg Train Loss: 0.05144185034919586 Avg Train Metric: 0.9837824547214549: 100%|██████████| 469/469 [00:20<00:00, 22.56it/s]\n"
          ]
        },
        {
          "output_type": "stream",
          "name": "stdout",
          "text": [
            "Function Took 20.7985 seconds\n"
          ]
        },
        {
          "output_type": "stream",
          "name": "stderr",
          "text": [
            "Avg Test Loss: 0.049110479782559446 Avg Test Metric: 0.9852526331249671: 100%|██████████| 79/79 [00:03<00:00, 24.34it/s]\n"
          ]
        },
        {
          "output_type": "stream",
          "name": "stdout",
          "text": [
            "Function Took 3.2540 seconds\n",
            "Epoch 3\n"
          ]
        },
        {
          "output_type": "stream",
          "name": "stderr",
          "text": [
            "Avg Train Loss: 0.04300080965271096 Avg Train Metric: 0.9876549513355247: 100%|██████████| 469/469 [00:20<00:00, 23.39it/s]\n"
          ]
        },
        {
          "output_type": "stream",
          "name": "stdout",
          "text": [
            "Function Took 20.0628 seconds\n"
          ]
        },
        {
          "output_type": "stream",
          "name": "stderr",
          "text": [
            "Avg Test Loss: 0.04062618891696764 Avg Test Metric: 0.9876969849007039: 100%|██████████| 79/79 [00:02<00:00, 31.06it/s]\n"
          ]
        },
        {
          "output_type": "stream",
          "name": "stdout",
          "text": [
            "Function Took 2.5521 seconds\n",
            "Epoch 4\n"
          ]
        },
        {
          "output_type": "stream",
          "name": "stderr",
          "text": [
            "Avg Train Loss: 0.03554780203114345 Avg Train Metric: 0.9890652827616694: 100%|██████████| 469/469 [00:21<00:00, 22.18it/s]\n"
          ]
        },
        {
          "output_type": "stream",
          "name": "stdout",
          "text": [
            "Function Took 21.1583 seconds\n"
          ]
        },
        {
          "output_type": "stream",
          "name": "stderr",
          "text": [
            "Avg Test Loss: 0.03627598661740747 Avg Test Metric: 0.9869487987288946: 100%|██████████| 79/79 [00:02<00:00, 30.36it/s]\n"
          ]
        },
        {
          "output_type": "stream",
          "name": "stdout",
          "text": [
            "Function Took 2.6110 seconds\n",
            "Epoch 5\n"
          ]
        },
        {
          "output_type": "stream",
          "name": "stderr",
          "text": [
            "Avg Train Loss: 0.03227238002062432 Avg Train Metric: 0.9899777276937896: 100%|██████████| 469/469 [00:19<00:00, 23.98it/s]\n"
          ]
        },
        {
          "output_type": "stream",
          "name": "stdout",
          "text": [
            "Function Took 19.5646 seconds\n"
          ]
        },
        {
          "output_type": "stream",
          "name": "stderr",
          "text": [
            "Avg Test Loss: 0.037601126125082374 Avg Test Metric: 0.9887290770494486: 100%|██████████| 79/79 [00:02<00:00, 30.69it/s]\n"
          ]
        },
        {
          "output_type": "stream",
          "name": "stdout",
          "text": [
            "Function Took 2.5825 seconds\n",
            "Epoch 6\n"
          ]
        },
        {
          "output_type": "stream",
          "name": "stderr",
          "text": [
            "Avg Train Loss: 0.02951240263455339 Avg Train Metric: 0.9920284683262107: 100%|██████████| 469/469 [00:20<00:00, 22.63it/s]\n"
          ]
        },
        {
          "output_type": "stream",
          "name": "stdout",
          "text": [
            "Function Took 20.7272 seconds\n"
          ]
        },
        {
          "output_type": "stream",
          "name": "stderr",
          "text": [
            "Avg Test Loss: 0.0387147956150525 Avg Test Metric: 0.9874381091021285: 100%|██████████| 79/79 [00:02<00:00, 31.87it/s]\n"
          ]
        },
        {
          "output_type": "stream",
          "name": "stdout",
          "text": [
            "Function Took 2.4879 seconds\n",
            "Epoch 7\n"
          ]
        },
        {
          "output_type": "stream",
          "name": "stderr",
          "text": [
            "Avg Train Loss: 0.02744695156944721 Avg Train Metric: 0.9920985055630649: 100%|██████████| 469/469 [00:20<00:00, 23.37it/s]\n"
          ]
        },
        {
          "output_type": "stream",
          "name": "stdout",
          "text": [
            "Function Took 20.0815 seconds\n"
          ]
        },
        {
          "output_type": "stream",
          "name": "stderr",
          "text": [
            "Avg Test Loss: 0.03214274429645436 Avg Test Metric: 0.9892149099820777: 100%|██████████| 79/79 [00:03<00:00, 24.22it/s]\n"
          ]
        },
        {
          "output_type": "stream",
          "name": "stdout",
          "text": [
            "Function Took 3.2717 seconds\n",
            "Epoch 8\n"
          ]
        },
        {
          "output_type": "stream",
          "name": "stderr",
          "text": [
            "Avg Train Loss: 0.024587248801253736 Avg Train Metric: 0.99321925767195: 100%|██████████| 469/469 [00:19<00:00, 24.02it/s]\n"
          ]
        },
        {
          "output_type": "stream",
          "name": "stdout",
          "text": [
            "Function Took 19.5322 seconds\n"
          ]
        },
        {
          "output_type": "stream",
          "name": "stderr",
          "text": [
            "Avg Test Loss: 0.03313845098998598 Avg Test Metric: 0.9897501853447926: 100%|██████████| 79/79 [00:02<00:00, 31.23it/s]\n"
          ]
        },
        {
          "output_type": "stream",
          "name": "stdout",
          "text": [
            "Function Took 2.5388 seconds\n",
            "Epoch 9\n"
          ]
        },
        {
          "output_type": "stream",
          "name": "stderr",
          "text": [
            "Avg Train Loss: 0.022026948694354183 Avg Train Metric: 0.9939944394615922: 100%|██████████| 469/469 [00:21<00:00, 21.99it/s]\n"
          ]
        },
        {
          "output_type": "stream",
          "name": "stdout",
          "text": [
            "Function Took 21.3367 seconds\n"
          ]
        },
        {
          "output_type": "stream",
          "name": "stderr",
          "text": [
            "Avg Test Loss: 0.03300970912427653 Avg Test Metric: 0.9891893327990665: 100%|██████████| 79/79 [00:02<00:00, 32.04it/s]\n"
          ]
        },
        {
          "output_type": "stream",
          "name": "stdout",
          "text": [
            "Function Took 2.4741 seconds\n",
            "Epoch 10\n"
          ]
        },
        {
          "output_type": "stream",
          "name": "stderr",
          "text": [
            "Avg Train Loss: 0.0223898977003515 Avg Train Metric: 0.9931400178083732: 100%|██████████| 469/469 [00:21<00:00, 21.51it/s]\n"
          ]
        },
        {
          "output_type": "stream",
          "name": "stdout",
          "text": [
            "Function Took 21.8102 seconds\n"
          ]
        },
        {
          "output_type": "stream",
          "name": "stderr",
          "text": [
            "Avg Test Loss: 0.03396070055933256 Avg Test Metric: 0.9904901800276358: 100%|██████████| 79/79 [00:02<00:00, 27.06it/s]\n"
          ]
        },
        {
          "output_type": "stream",
          "name": "stdout",
          "text": [
            "Function Took 2.9256 seconds\n",
            "Epoch 11\n"
          ]
        },
        {
          "output_type": "stream",
          "name": "stderr",
          "text": [
            "Avg Train Loss: 0.020718405586429067 Avg Train Metric: 0.9937437610077197: 100%|██████████| 469/469 [00:19<00:00, 23.76it/s]\n"
          ]
        },
        {
          "output_type": "stream",
          "name": "stdout",
          "text": [
            "Function Took 19.7472 seconds\n"
          ]
        },
        {
          "output_type": "stream",
          "name": "stderr",
          "text": [
            "Avg Test Loss: 0.02971054510732146 Avg Test Metric: 0.9901982500583311: 100%|██████████| 79/79 [00:02<00:00, 32.22it/s]\n"
          ]
        },
        {
          "output_type": "stream",
          "name": "stdout",
          "text": [
            "Function Took 2.4638 seconds\n",
            "Epoch 12\n"
          ]
        },
        {
          "output_type": "stream",
          "name": "stderr",
          "text": [
            "Avg Train Loss: 0.018354193549412093 Avg Train Metric: 0.9943607553744367: 100%|██████████| 469/469 [00:20<00:00, 22.34it/s]\n"
          ]
        },
        {
          "output_type": "stream",
          "name": "stdout",
          "text": [
            "Function Took 21.0018 seconds\n"
          ]
        },
        {
          "output_type": "stream",
          "name": "stderr",
          "text": [
            "Avg Test Loss: 0.03201844639067842 Avg Test Metric: 0.9881280200390876: 100%|██████████| 79/79 [00:02<00:00, 31.54it/s]\n"
          ]
        },
        {
          "output_type": "stream",
          "name": "stdout",
          "text": [
            "Function Took 2.5118 seconds\n",
            "Epoch 13\n"
          ]
        },
        {
          "output_type": "stream",
          "name": "stderr",
          "text": [
            "Avg Train Loss: 0.01848863724987509 Avg Train Metric: 0.9943460796687649: 100%|██████████| 469/469 [00:19<00:00, 23.72it/s]\n"
          ]
        },
        {
          "output_type": "stream",
          "name": "stdout",
          "text": [
            "Function Took 19.7811 seconds\n"
          ]
        },
        {
          "output_type": "stream",
          "name": "stderr",
          "text": [
            "Avg Test Loss: 0.03789248480461538 Avg Test Metric: 0.9876126865797406: 100%|██████████| 79/79 [00:03<00:00, 22.21it/s]\n"
          ]
        },
        {
          "output_type": "stream",
          "name": "stdout",
          "text": [
            "Function Took 3.5661 seconds\n",
            "Epoch 14\n"
          ]
        },
        {
          "output_type": "stream",
          "name": "stderr",
          "text": [
            "Avg Train Loss: 0.015811996578898178 Avg Train Metric: 0.9952849865213894: 100%|██████████| 469/469 [00:19<00:00, 23.59it/s]\n"
          ]
        },
        {
          "output_type": "stream",
          "name": "stdout",
          "text": [
            "Function Took 19.8961 seconds\n"
          ]
        },
        {
          "output_type": "stream",
          "name": "stderr",
          "text": [
            "Avg Test Loss: 0.027837983525617498 Avg Test Metric: 0.9909027580973468: 100%|██████████| 79/79 [00:02<00:00, 32.01it/s]"
          ]
        },
        {
          "output_type": "stream",
          "name": "stdout",
          "text": [
            "Function Took 2.4746 seconds\n"
          ]
        },
        {
          "output_type": "stream",
          "name": "stderr",
          "text": [
            "\n"
          ]
        }
      ]
    },
    {
      "cell_type": "markdown",
      "source": [
        "# Analysis:\n",
        "1. Increasing channels/kernels in any layers leads to more overfitting and increased gap with increasing epochs"
      ],
      "metadata": {
        "id": "OBAJTqqWhBYa"
      }
    },
    {
      "cell_type": "code",
      "source": [],
      "metadata": {
        "id": "v81drYOphBcE"
      },
      "execution_count": null,
      "outputs": []
    },
    {
      "cell_type": "code",
      "source": [],
      "metadata": {
        "id": "eYblSbuwhBfI"
      },
      "execution_count": null,
      "outputs": []
    },
    {
      "cell_type": "code",
      "source": [],
      "metadata": {
        "id": "CqiZmCRnhBib"
      },
      "execution_count": null,
      "outputs": []
    },
    {
      "cell_type": "code",
      "source": [],
      "metadata": {
        "id": "csyo4mdEhBlp"
      },
      "execution_count": null,
      "outputs": []
    },
    {
      "cell_type": "code",
      "source": [],
      "metadata": {
        "id": "PiXQv-xehBpQ"
      },
      "execution_count": null,
      "outputs": []
    },
    {
      "cell_type": "code",
      "source": [],
      "metadata": {
        "id": "_d4XRgO8hBsT"
      },
      "execution_count": null,
      "outputs": []
    }
  ]
}