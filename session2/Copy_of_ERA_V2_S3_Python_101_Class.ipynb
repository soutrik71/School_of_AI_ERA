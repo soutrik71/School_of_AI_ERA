{
  "nbformat": 4,
  "nbformat_minor": 0,
  "metadata": {
    "colab": {
      "provenance": [],
      "include_colab_link": true
    },
    "kernelspec": {
      "name": "python3",
      "display_name": "Python 3"
    },
    "language_info": {
      "name": "python"
    }
  },
  "cells": [
    {
      "cell_type": "markdown",
      "metadata": {
        "id": "view-in-github",
        "colab_type": "text"
      },
      "source": [
        "<a href=\"https://colab.research.google.com/github/soutrik71/School_of_AI_ERA/blob/main/Copy_of_ERA_V2_S3_Python_101_Class.ipynb\" target=\"_parent\"><img src=\"https://colab.research.google.com/assets/colab-badge.svg\" alt=\"Open In Colab\"/></a>"
      ]
    },
    {
      "cell_type": "code",
      "execution_count": null,
      "metadata": {
        "colab": {
          "base_uri": "https://localhost:8080/"
        },
        "id": "UyN4o8RwgQI4",
        "outputId": "fc8f4f51-639c-4c94-f348-14397430608a"
      },
      "outputs": [
        {
          "output_type": "stream",
          "name": "stdout",
          "text": [
            "Good Morning\n"
          ]
        }
      ],
      "source": [
        "print(\"Good Morning\")"
      ]
    },
    {
      "cell_type": "code",
      "source": [
        "print(\"Good \\\n",
        "Morning\")"
      ],
      "metadata": {
        "colab": {
          "base_uri": "https://localhost:8080/"
        },
        "id": "RAr8670agajW",
        "outputId": "0200a0d8-b449-489b-9a0e-89dd80585006"
      },
      "execution_count": null,
      "outputs": [
        {
          "output_type": "stream",
          "name": "stdout",
          "text": [
            "Good Morning\n"
          ]
        }
      ]
    },
    {
      "cell_type": "code",
      "source": [
        "a = [1, \"red\", \"r\", 3 + 4j, [3, 4, 'a']]"
      ],
      "metadata": {
        "id": "C4NCdeQ3gifT"
      },
      "execution_count": null,
      "outputs": []
    },
    {
      "cell_type": "code",
      "source": [
        "a = [1,\n",
        "     \"red\",\n",
        "     \"r\",\n",
        "     3 + 4j,\n",
        "     [3, 4, 'a']\n",
        "     ]"
      ],
      "metadata": {
        "id": "pTLRtt8-gwkV"
      },
      "execution_count": null,
      "outputs": []
    },
    {
      "cell_type": "code",
      "source": [
        "a"
      ],
      "metadata": {
        "colab": {
          "base_uri": "https://localhost:8080/"
        },
        "id": "1eWIMuK-g1QX",
        "outputId": "e7e6bed8-4f7d-476c-b456-06db6fc0d654"
      },
      "execution_count": null,
      "outputs": [
        {
          "output_type": "execute_result",
          "data": {
            "text/plain": [
              "[1, 'red', 'r', (3+4j), [3, 4, 'a']]"
            ]
          },
          "metadata": {},
          "execution_count": 6
        }
      ]
    },
    {
      "cell_type": "code",
      "source": [
        "a = \"This is a very long string that I am writing about the cup\n",
        "I might get soon which might be full of amazing coffee, and it might be hot as well\""
      ],
      "metadata": {
        "colab": {
          "base_uri": "https://localhost:8080/",
          "height": 145
        },
        "id": "8QL93h8rg645",
        "outputId": "6fc26446-2f67-49a6-a33f-78746bed2ed3"
      },
      "execution_count": null,
      "outputs": [
        {
          "output_type": "error",
          "ename": "SyntaxError",
          "evalue": "unterminated string literal (detected at line 1) (<ipython-input-8-7ab4f901ca8e>, line 1)",
          "traceback": [
            "\u001b[0;36m  File \u001b[0;32m\"<ipython-input-8-7ab4f901ca8e>\"\u001b[0;36m, line \u001b[0;32m1\u001b[0m\n\u001b[0;31m    a = \"This is a very long string that I am writing about the cup\u001b[0m\n\u001b[0m        ^\u001b[0m\n\u001b[0;31mSyntaxError\u001b[0m\u001b[0;31m:\u001b[0m unterminated string literal (detected at line 1)\n"
          ]
        }
      ]
    },
    {
      "cell_type": "code",
      "source": [
        "a = [1, # this is serial number ,\n",
        "     \"red\", # this is the color\n",
        "     \"r\", # this is initial of the code\n",
        "     3 + 4j,\n",
        "     [3, 4, 'a']\n",
        "     ]"
      ],
      "metadata": {
        "id": "Ka4zzwCNhaCL"
      },
      "execution_count": null,
      "outputs": []
    },
    {
      "cell_type": "code",
      "source": [
        "l = [1, \"rohan\", 3.4, 4 + 5j] # a LIST\n",
        "t = (1, \"rohan\", 3.4, 4 + 5j) # a tuple\n",
        "s = {1, \"rohan\", 3.4, 4 + 5j} # a SET\n",
        "d = {\"key1\": 1, 3: \"rohan\", 4: 3.4, \"key2\": 4 + 5j} # DICTOINARY"
      ],
      "metadata": {
        "id": "JxMmMZ9-hg6D"
      },
      "execution_count": null,
      "outputs": []
    },
    {
      "cell_type": "code",
      "source": [
        "l, t, s, d"
      ],
      "metadata": {
        "colab": {
          "base_uri": "https://localhost:8080/"
        },
        "id": "4E7rIWTDhtUC",
        "outputId": "8345c151-ec25-4b07-da2a-b4fbca8698e7"
      },
      "execution_count": null,
      "outputs": [
        {
          "output_type": "execute_result",
          "data": {
            "text/plain": [
              "([1, 'rohan', 3.4, (4+5j)],\n",
              " (1, 'rohan', 3.4, (4+5j)),\n",
              " {(4+5j), 1, 3.4, 'rohan'},\n",
              " {'key1': 1, 3: 'rohan', 4: 3.4, 'key2': (4+5j)})"
            ]
          },
          "metadata": {},
          "execution_count": 18
        }
      ]
    },
    {
      "cell_type": "code",
      "source": [
        "l[0], t[0]"
      ],
      "metadata": {
        "colab": {
          "base_uri": "https://localhost:8080/"
        },
        "id": "W9y5FM8OiGAt",
        "outputId": "44cc5729-ff15-48f1-b47e-b202b41c3a57"
      },
      "execution_count": null,
      "outputs": [
        {
          "output_type": "execute_result",
          "data": {
            "text/plain": [
              "(1, 1)"
            ]
          },
          "metadata": {},
          "execution_count": 19
        }
      ]
    },
    {
      "cell_type": "code",
      "source": [
        "l[0] = 10\n",
        "l"
      ],
      "metadata": {
        "colab": {
          "base_uri": "https://localhost:8080/"
        },
        "id": "jhMobxUkiODR",
        "outputId": "bf5fbf1f-c951-478a-e4fc-5393688543c7"
      },
      "execution_count": null,
      "outputs": [
        {
          "output_type": "execute_result",
          "data": {
            "text/plain": [
              "[10, 'rohan', 3.4, (4+5j)]"
            ]
          },
          "metadata": {},
          "execution_count": 20
        }
      ]
    },
    {
      "cell_type": "code",
      "source": [
        "t[0] = 10\n",
        "t"
      ],
      "metadata": {
        "colab": {
          "base_uri": "https://localhost:8080/",
          "height": 199
        },
        "id": "b826PC3riSDK",
        "outputId": "a045631a-fd11-4801-a3ea-f50142a0c0fc"
      },
      "execution_count": null,
      "outputs": [
        {
          "output_type": "error",
          "ename": "TypeError",
          "evalue": "'tuple' object does not support item assignment",
          "traceback": [
            "\u001b[0;31m---------------------------------------------------------------------------\u001b[0m",
            "\u001b[0;31mTypeError\u001b[0m                                 Traceback (most recent call last)",
            "\u001b[0;32m<ipython-input-21-0ec6968f8d77>\u001b[0m in \u001b[0;36m<cell line: 1>\u001b[0;34m()\u001b[0m\n\u001b[0;32m----> 1\u001b[0;31m \u001b[0mt\u001b[0m\u001b[0;34m[\u001b[0m\u001b[0;36m0\u001b[0m\u001b[0;34m]\u001b[0m \u001b[0;34m=\u001b[0m \u001b[0;36m10\u001b[0m\u001b[0;34m\u001b[0m\u001b[0;34m\u001b[0m\u001b[0m\n\u001b[0m\u001b[1;32m      2\u001b[0m \u001b[0mt\u001b[0m\u001b[0;34m\u001b[0m\u001b[0;34m\u001b[0m\u001b[0m\n",
            "\u001b[0;31mTypeError\u001b[0m: 'tuple' object does not support item assignment"
          ]
        }
      ]
    },
    {
      "cell_type": "code",
      "source": [
        "t[0], l[0], s[0]"
      ],
      "metadata": {
        "colab": {
          "base_uri": "https://localhost:8080/",
          "height": 181
        },
        "id": "2lEOx7r2iU3s",
        "outputId": "48febdec-7d39-4874-9a66-800b4316b49c"
      },
      "execution_count": null,
      "outputs": [
        {
          "output_type": "error",
          "ename": "TypeError",
          "evalue": "'set' object is not subscriptable",
          "traceback": [
            "\u001b[0;31m---------------------------------------------------------------------------\u001b[0m",
            "\u001b[0;31mTypeError\u001b[0m                                 Traceback (most recent call last)",
            "\u001b[0;32m<ipython-input-24-76c3a1755101>\u001b[0m in \u001b[0;36m<cell line: 1>\u001b[0;34m()\u001b[0m\n\u001b[0;32m----> 1\u001b[0;31m \u001b[0mt\u001b[0m\u001b[0;34m[\u001b[0m\u001b[0;36m0\u001b[0m\u001b[0;34m]\u001b[0m\u001b[0;34m,\u001b[0m \u001b[0ml\u001b[0m\u001b[0;34m[\u001b[0m\u001b[0;36m0\u001b[0m\u001b[0;34m]\u001b[0m\u001b[0;34m,\u001b[0m \u001b[0ms\u001b[0m\u001b[0;34m[\u001b[0m\u001b[0;36m0\u001b[0m\u001b[0;34m]\u001b[0m\u001b[0;34m\u001b[0m\u001b[0;34m\u001b[0m\u001b[0m\n\u001b[0m",
            "\u001b[0;31mTypeError\u001b[0m: 'set' object is not subscriptable"
          ]
        }
      ]
    },
    {
      "cell_type": "code",
      "source": [
        "s = {1, 1, 1, 1, 1}"
      ],
      "metadata": {
        "id": "9pwgqmnWiZji"
      },
      "execution_count": null,
      "outputs": []
    },
    {
      "cell_type": "code",
      "source": [
        "s"
      ],
      "metadata": {
        "colab": {
          "base_uri": "https://localhost:8080/"
        },
        "id": "k4PxEnX3i4Mj",
        "outputId": "543ca0ff-fa98-43e1-bc50-3daf313d8815"
      },
      "execution_count": null,
      "outputs": [
        {
          "output_type": "execute_result",
          "data": {
            "text/plain": [
              "{1}"
            ]
          },
          "metadata": {},
          "execution_count": 26
        }
      ]
    },
    {
      "cell_type": "code",
      "source": [
        "s = {1, 1, 2, 2, 3, 3, 3, 3, 4, 4, 4, 4, \"red\", \"red\", \"blue\"}\n",
        "s"
      ],
      "metadata": {
        "colab": {
          "base_uri": "https://localhost:8080/"
        },
        "id": "smKGGHxSi4st",
        "outputId": "4b588866-a8af-4b4e-9024-885ff92a4646"
      },
      "execution_count": null,
      "outputs": [
        {
          "output_type": "execute_result",
          "data": {
            "text/plain": [
              "{1, 2, 3, 4, 'blue', 'red'}"
            ]
          },
          "metadata": {},
          "execution_count": 27
        }
      ]
    },
    {
      "cell_type": "code",
      "source": [
        "d = {\"key1\": 1, 3: \"rohan\", 4: 3.4, \"key2\": 4 + 5j} # DICTOINARY\n",
        "d[\"key1\"], d[3]"
      ],
      "metadata": {
        "colab": {
          "base_uri": "https://localhost:8080/"
        },
        "id": "QmjKUEmAjAIl",
        "outputId": "0cac5f75-967c-48a6-e9ea-a696648ef786"
      },
      "execution_count": null,
      "outputs": [
        {
          "output_type": "execute_result",
          "data": {
            "text/plain": [
              "(1, 'rohan')"
            ]
          },
          "metadata": {},
          "execution_count": 28
        }
      ]
    },
    {
      "cell_type": "code",
      "source": [
        "def myFunc():\n",
        "  print(\"THis is our first fuinction\")\n",
        "\n",
        "myFunc()"
      ],
      "metadata": {
        "colab": {
          "base_uri": "https://localhost:8080/"
        },
        "id": "f35fiihTjNC2",
        "outputId": "61e592c5-7b14-4467-b0cc-c0cb0c4eb451"
      },
      "execution_count": null,
      "outputs": [
        {
          "output_type": "stream",
          "name": "stdout",
          "text": [
            "THis is our first fuinction\n"
          ]
        }
      ]
    },
    {
      "cell_type": "code",
      "source": [
        "myFunc"
      ],
      "metadata": {
        "colab": {
          "base_uri": "https://localhost:8080/"
        },
        "id": "O9E219HtjZ4r",
        "outputId": "ca704a24-4da4-4311-f897-f6900841c2e8"
      },
      "execution_count": null,
      "outputs": [
        {
          "output_type": "execute_result",
          "data": {
            "text/plain": [
              "<function __main__.myFunc()>"
            ]
          },
          "metadata": {},
          "execution_count": 30
        }
      ]
    },
    {
      "cell_type": "code",
      "source": [
        "print"
      ],
      "metadata": {
        "colab": {
          "base_uri": "https://localhost:8080/"
        },
        "id": "_QHpeFlKjbFF",
        "outputId": "4694fdeb-da5b-4fc7-dfeb-7789207f4a62"
      },
      "execution_count": null,
      "outputs": [
        {
          "output_type": "execute_result",
          "data": {
            "text/plain": [
              "<function print>"
            ]
          },
          "metadata": {},
          "execution_count": 31
        }
      ]
    },
    {
      "cell_type": "code",
      "source": [
        "def my_func(a, b):\n",
        "  c = a + b\n",
        "  return c\n",
        "my_func(1, 4)"
      ],
      "metadata": {
        "colab": {
          "base_uri": "https://localhost:8080/"
        },
        "id": "l7GHm0d7jjga",
        "outputId": "2cab20cf-dc0d-4bca-d8aa-ec268827e515"
      },
      "execution_count": null,
      "outputs": [
        {
          "output_type": "execute_result",
          "data": {
            "text/plain": [
              "5"
            ]
          },
          "metadata": {},
          "execution_count": 32
        }
      ]
    },
    {
      "cell_type": "code",
      "source": [
        "def my_func(a, b):\n",
        "  c = a + b\n",
        "  return c\n",
        "my_func(1.5, \"4\")"
      ],
      "metadata": {
        "colab": {
          "base_uri": "https://localhost:8080/",
          "height": 325
        },
        "id": "SXsYqIzljt6K",
        "outputId": "7d7f4941-9887-4cea-fac6-12d38bf93529"
      },
      "execution_count": null,
      "outputs": [
        {
          "output_type": "error",
          "ename": "TypeError",
          "evalue": "unsupported operand type(s) for +: 'float' and 'str'",
          "traceback": [
            "\u001b[0;31m---------------------------------------------------------------------------\u001b[0m",
            "\u001b[0;31mTypeError\u001b[0m                                 Traceback (most recent call last)",
            "\u001b[0;32m<ipython-input-34-f13fd04bdb18>\u001b[0m in \u001b[0;36m<cell line: 4>\u001b[0;34m()\u001b[0m\n\u001b[1;32m      2\u001b[0m   \u001b[0mc\u001b[0m \u001b[0;34m=\u001b[0m \u001b[0ma\u001b[0m \u001b[0;34m+\u001b[0m \u001b[0mb\u001b[0m\u001b[0;34m\u001b[0m\u001b[0;34m\u001b[0m\u001b[0m\n\u001b[1;32m      3\u001b[0m   \u001b[0;32mreturn\u001b[0m \u001b[0mc\u001b[0m\u001b[0;34m\u001b[0m\u001b[0;34m\u001b[0m\u001b[0m\n\u001b[0;32m----> 4\u001b[0;31m \u001b[0mmy_func\u001b[0m\u001b[0;34m(\u001b[0m\u001b[0;36m1.5\u001b[0m\u001b[0;34m,\u001b[0m \u001b[0;34m\"4\"\u001b[0m\u001b[0;34m)\u001b[0m\u001b[0;34m\u001b[0m\u001b[0;34m\u001b[0m\u001b[0m\n\u001b[0m",
            "\u001b[0;32m<ipython-input-34-f13fd04bdb18>\u001b[0m in \u001b[0;36mmy_func\u001b[0;34m(a, b)\u001b[0m\n\u001b[1;32m      1\u001b[0m \u001b[0;32mdef\u001b[0m \u001b[0mmy_func\u001b[0m\u001b[0;34m(\u001b[0m\u001b[0ma\u001b[0m\u001b[0;34m,\u001b[0m \u001b[0mb\u001b[0m\u001b[0;34m)\u001b[0m\u001b[0;34m:\u001b[0m\u001b[0;34m\u001b[0m\u001b[0;34m\u001b[0m\u001b[0m\n\u001b[0;32m----> 2\u001b[0;31m   \u001b[0mc\u001b[0m \u001b[0;34m=\u001b[0m \u001b[0ma\u001b[0m \u001b[0;34m+\u001b[0m \u001b[0mb\u001b[0m\u001b[0;34m\u001b[0m\u001b[0;34m\u001b[0m\u001b[0m\n\u001b[0m\u001b[1;32m      3\u001b[0m   \u001b[0;32mreturn\u001b[0m \u001b[0mc\u001b[0m\u001b[0;34m\u001b[0m\u001b[0;34m\u001b[0m\u001b[0m\n\u001b[1;32m      4\u001b[0m \u001b[0mmy_func\u001b[0m\u001b[0;34m(\u001b[0m\u001b[0;36m1.5\u001b[0m\u001b[0;34m,\u001b[0m \u001b[0;34m\"4\"\u001b[0m\u001b[0;34m)\u001b[0m\u001b[0;34m\u001b[0m\u001b[0;34m\u001b[0m\u001b[0m\n",
            "\u001b[0;31mTypeError\u001b[0m: unsupported operand type(s) for +: 'float' and 'str'"
          ]
        }
      ]
    },
    {
      "cell_type": "code",
      "source": [
        "def my_func(a, b):\n",
        "  c = a * b\n",
        "  return c\n",
        "my_func(3, \"4\")"
      ],
      "metadata": {
        "colab": {
          "base_uri": "https://localhost:8080/",
          "height": 35
        },
        "id": "7Vfyu-PvjzEM",
        "outputId": "d2e8fe53-dba9-4ed9-add4-e77ce69d5210"
      },
      "execution_count": null,
      "outputs": [
        {
          "output_type": "execute_result",
          "data": {
            "text/plain": [
              "'444'"
            ],
            "application/vnd.google.colaboratory.intrinsic+json": {
              "type": "string"
            }
          },
          "metadata": {},
          "execution_count": 35
        }
      ]
    },
    {
      "cell_type": "code",
      "source": [
        "c"
      ],
      "metadata": {
        "colab": {
          "base_uri": "https://localhost:8080/",
          "height": 181
        },
        "id": "OZvCURlIj4k5",
        "outputId": "62eb0b19-778a-4a72-b66c-090b1eaaf550"
      },
      "execution_count": null,
      "outputs": [
        {
          "output_type": "error",
          "ename": "NameError",
          "evalue": "name 'c' is not defined",
          "traceback": [
            "\u001b[0;31m---------------------------------------------------------------------------\u001b[0m",
            "\u001b[0;31mNameError\u001b[0m                                 Traceback (most recent call last)",
            "\u001b[0;32m<ipython-input-36-2b66fd261ee5>\u001b[0m in \u001b[0;36m<cell line: 1>\u001b[0;34m()\u001b[0m\n\u001b[0;32m----> 1\u001b[0;31m \u001b[0mc\u001b[0m\u001b[0;34m\u001b[0m\u001b[0;34m\u001b[0m\u001b[0m\n\u001b[0m",
            "\u001b[0;31mNameError\u001b[0m: name 'c' is not defined"
          ]
        }
      ]
    },
    {
      "cell_type": "code",
      "source": [
        "def my_func(a, b):\n",
        "  print(\"This is a session:\", a, \".\", b)\n",
        "\n",
        "my_func(\"3\")"
      ],
      "metadata": {
        "colab": {
          "base_uri": "https://localhost:8080/",
          "height": 217
        },
        "id": "LGjAsF0Rj_NR",
        "outputId": "94245ba6-b22b-4ee7-a17a-5ac86ec3c399"
      },
      "execution_count": null,
      "outputs": [
        {
          "output_type": "error",
          "ename": "TypeError",
          "evalue": "my_func() missing 1 required positional argument: 'b'",
          "traceback": [
            "\u001b[0;31m---------------------------------------------------------------------------\u001b[0m",
            "\u001b[0;31mTypeError\u001b[0m                                 Traceback (most recent call last)",
            "\u001b[0;32m<ipython-input-38-94742965512f>\u001b[0m in \u001b[0;36m<cell line: 4>\u001b[0;34m()\u001b[0m\n\u001b[1;32m      2\u001b[0m   \u001b[0mprint\u001b[0m\u001b[0;34m(\u001b[0m\u001b[0;34m\"This is a session:\"\u001b[0m\u001b[0;34m,\u001b[0m \u001b[0ma\u001b[0m\u001b[0;34m,\u001b[0m \u001b[0;34m\".\"\u001b[0m\u001b[0;34m,\u001b[0m \u001b[0mb\u001b[0m\u001b[0;34m)\u001b[0m\u001b[0;34m\u001b[0m\u001b[0;34m\u001b[0m\u001b[0m\n\u001b[1;32m      3\u001b[0m \u001b[0;34m\u001b[0m\u001b[0m\n\u001b[0;32m----> 4\u001b[0;31m \u001b[0mmy_func\u001b[0m\u001b[0;34m(\u001b[0m\u001b[0;34m\"3\"\u001b[0m\u001b[0;34m)\u001b[0m\u001b[0;34m\u001b[0m\u001b[0;34m\u001b[0m\u001b[0m\n\u001b[0m",
            "\u001b[0;31mTypeError\u001b[0m: my_func() missing 1 required positional argument: 'b'"
          ]
        }
      ]
    },
    {
      "cell_type": "code",
      "source": [
        "def my_func(a , b = \"5\"):\n",
        "  print(\"This is a session:\", a, \".\", b)\n",
        "\n",
        "my_func( 4)"
      ],
      "metadata": {
        "colab": {
          "base_uri": "https://localhost:8080/"
        },
        "id": "qpuvNaNNkNRY",
        "outputId": "7a9d483b-04c7-46a2-b891-fd1e06b93de0"
      },
      "execution_count": null,
      "outputs": [
        {
          "output_type": "stream",
          "name": "stdout",
          "text": [
            "This is a session: 4 . 5\n"
          ]
        }
      ]
    },
    {
      "cell_type": "code",
      "source": [
        "def func(a, b, d, c = 0):\n",
        "  print(a, b, d, c)\n",
        "\n",
        "func(1, 2, 3, 4)"
      ],
      "metadata": {
        "colab": {
          "base_uri": "https://localhost:8080/"
        },
        "id": "_e4FO14MkZQz",
        "outputId": "23202545-ef45-4dda-b959-0343d13d2c9b"
      },
      "execution_count": null,
      "outputs": [
        {
          "output_type": "stream",
          "name": "stdout",
          "text": [
            "1 2 3 4\n"
          ]
        }
      ]
    },
    {
      "cell_type": "code",
      "source": [
        "a = 10\n",
        "b = -2\n",
        "c = 30\n",
        "\n",
        "if a > 5 and b < 0 or c > 100:\n",
        "    print(f\"Yes {a} {c + b}\")"
      ],
      "metadata": {
        "colab": {
          "base_uri": "https://localhost:8080/"
        },
        "id": "xvKpUQX3k8zO",
        "outputId": "170033b1-94bd-4954-912d-fb15a3b2fdc3"
      },
      "execution_count": null,
      "outputs": [
        {
          "output_type": "stream",
          "name": "stdout",
          "text": [
            "Yes 10 28\n"
          ]
        }
      ]
    },
    {
      "cell_type": "code",
      "source": [
        "if 4 > 2:\n",
        "  print(\"yeah\")"
      ],
      "metadata": {
        "colab": {
          "base_uri": "https://localhost:8080/"
        },
        "id": "2itkGmCNlKhw",
        "outputId": "d796dca9-afcd-4110-b001-e74b1c94ab83"
      },
      "execution_count": null,
      "outputs": [
        {
          "output_type": "stream",
          "name": "stdout",
          "text": [
            "yeah\n"
          ]
        }
      ]
    },
    {
      "cell_type": "code",
      "source": [
        "if a > 5 \\\n",
        "  and b < 0 \\\n",
        "  or c > 100:\n",
        "  print(f\"Yes {a} {c + b}\")"
      ],
      "metadata": {
        "colab": {
          "base_uri": "https://localhost:8080/"
        },
        "id": "6JlkSfs5lRMG",
        "outputId": "f76f1e77-1c48-4253-ff91-4bac990c5b80"
      },
      "execution_count": null,
      "outputs": [
        {
          "output_type": "stream",
          "name": "stdout",
          "text": [
            "Yes 10 28\n"
          ]
        }
      ]
    },
    {
      "cell_type": "code",
      "source": [
        "a = 10\n",
        "b = 4\n",
        "\n",
        "print(\"A: \", a, \"B: \", b)"
      ],
      "metadata": {
        "colab": {
          "base_uri": "https://localhost:8080/"
        },
        "id": "PnLfwAt-ldRY",
        "outputId": "4208dc52-d359-46d3-8676-34017c5e9791"
      },
      "execution_count": null,
      "outputs": [
        {
          "output_type": "stream",
          "name": "stdout",
          "text": [
            "A:  10 B:  4\n"
          ]
        }
      ]
    },
    {
      "cell_type": "code",
      "source": [
        "print(f\"A: {a*a}, B: {b + a*b}\")"
      ],
      "metadata": {
        "colab": {
          "base_uri": "https://localhost:8080/"
        },
        "id": "Q0moq-U0lmNE",
        "outputId": "e22026fc-e2f4-4d6a-b84b-93c086c37024"
      },
      "execution_count": null,
      "outputs": [
        {
          "output_type": "stream",
          "name": "stdout",
          "text": [
            "A: 100, B: 44\n"
          ]
        }
      ]
    },
    {
      "cell_type": "code",
      "source": [
        "a = \"This is one of the lines taken from Shashi Tharoors interview. \\\n",
        "He said, that one the democracy is hindered for its progress by the \\\n",
        "rightist movements and their jabs at the structure of the secularism,\\\n",
        "then it becomes very difficult to beat them at the democratic\\\n",
        "electctions becuase now people are infused with the ideas that have \\\n",
        "no relation to their earnings or finances, but the whims and fan\\\n",
        "cies of what they believe to be true...\""
      ],
      "metadata": {
        "id": "ETVrEkDClq4X"
      },
      "execution_count": null,
      "outputs": []
    },
    {
      "cell_type": "code",
      "source": [
        "print(a)"
      ],
      "metadata": {
        "colab": {
          "base_uri": "https://localhost:8080/"
        },
        "id": "dTNO7ohdl3qA",
        "outputId": "3d8d3b8b-f0d7-4bf9-e448-f44b27658de8"
      },
      "execution_count": null,
      "outputs": [
        {
          "output_type": "stream",
          "name": "stdout",
          "text": [
            "This is one of the lines taken from Shashi Tharoors interview. He said, that one the democracy is hindered for its progress by the rightist movements and their jabs at the structure of the secularism,then it becomes very difficult to beat them at the democraticelectctions becuase now people are infused with the ideas that have no relation to their earnings or finances, but the whims and fancies of what they believe to be true...\n"
          ]
        }
      ]
    },
    {
      "cell_type": "code",
      "source": [
        "\"\"\"This is one of the lines taken from Shashi Tharoors interview.\n",
        "He said, that one the democracy is hindered for its progress by the\n",
        "rightist movements and their jabs at the structure of the secularism,\n",
        "then it becomes very difficult to beat them at the democratic\n",
        "electctions becuase now people are infused with the ideas that have no\n",
        "relation to their earnings or finances, but the whims and fancies of\n",
        "what they believe to be true...\"\"\""
      ],
      "metadata": {
        "colab": {
          "base_uri": "https://localhost:8080/",
          "height": 88
        },
        "id": "-Fvi1t9dl4wR",
        "outputId": "64c20106-4416-4457-bb9a-0a4502b929c8"
      },
      "execution_count": null,
      "outputs": [
        {
          "output_type": "execute_result",
          "data": {
            "text/plain": [
              "'This is one of the lines taken from Shashi Tharoors interview. \\nHe said, that one the democracy is hindered for its progress by the \\nrightist movements and their jabs at the structure of the secularism, \\nthen it becomes very difficult to beat them at the democratic \\nelectctions becuase now people are infused with the ideas that have no \\nrelation to their earnings or finances, but the whims and fancies of \\nwhat they believe to be true...'"
            ],
            "application/vnd.google.colaboratory.intrinsic+json": {
              "type": "string"
            }
          },
          "metadata": {},
          "execution_count": 57
        }
      ]
    },
    {
      "cell_type": "code",
      "source": [
        "a = \"\"\"This is one of the lines taken from Shashi Tharoors interview.\n",
        "He said, that one the democracy is hindered for its progress by the\n",
        "rightist movements and their jabs at the structure of the secularism,\n",
        "then it becomes very difficult to beat them at the democratic\n",
        "electctions becuase now people are infused with the ideas that have no\n",
        "relation to their earnings or finances, but the whims and fancies of\n",
        "what they believe to be true...\"\"\""
      ],
      "metadata": {
        "id": "J4bcuGCwmA1e"
      },
      "execution_count": null,
      "outputs": []
    },
    {
      "cell_type": "code",
      "source": [
        "a"
      ],
      "metadata": {
        "colab": {
          "base_uri": "https://localhost:8080/",
          "height": 88
        },
        "id": "9YLnyb_xmDFs",
        "outputId": "88c2642b-0d10-4fa5-d7f6-8355bb6661e2"
      },
      "execution_count": null,
      "outputs": [
        {
          "output_type": "execute_result",
          "data": {
            "text/plain": [
              "'This is one of the lines taken from Shashi Tharoors interview. \\nHe said, that one the democracy is hindered for its progress by the \\nrightist movements and their jabs at the structure of the secularism, \\nthen it becomes very difficult to beat them at the democratic \\nelectctions becuase now people are infused with the ideas that have no \\nrelation to their earnings or finances, but the whims and fancies of \\nwhat they believe to be true...'"
            ],
            "application/vnd.google.colaboratory.intrinsic+json": {
              "type": "string"
            }
          },
          "metadata": {},
          "execution_count": 59
        }
      ]
    },
    {
      "cell_type": "markdown",
      "source": [
        "# CONTIDIONALS"
      ],
      "metadata": {
        "id": "OxzeJ4YQmGXg"
      }
    },
    {
      "cell_type": "code",
      "source": [
        "# if, else, elif, ternary\n",
        "\n",
        "a = 4\n",
        "if a < 3:\n",
        "  print(\"a<3\")\n",
        "else:\n",
        "  print(\"a>3\")"
      ],
      "metadata": {
        "colab": {
          "base_uri": "https://localhost:8080/"
        },
        "id": "t5ZdJ-PjmEFO",
        "outputId": "456641bc-fe41-46eb-f22a-b119939aabb6"
      },
      "execution_count": null,
      "outputs": [
        {
          "output_type": "stream",
          "name": "stdout",
          "text": [
            "a>3\n"
          ]
        }
      ]
    },
    {
      "cell_type": "code",
      "source": [
        "a = 15000\n",
        "\n",
        "if a < 5:\n",
        "  print(\"Lets sit at home\")\n",
        "else:\n",
        "  if a > 10000:\n",
        "    print(\"I may go with you as I am in a good mood\")\n",
        "  else:\n",
        "    print(\"I will just watch movie at home\")"
      ],
      "metadata": {
        "colab": {
          "base_uri": "https://localhost:8080/"
        },
        "id": "MDnB4kvCmT1m",
        "outputId": "5b9421f0-7cc3-4f63-b1b5-7750124745cf"
      },
      "execution_count": null,
      "outputs": [
        {
          "output_type": "stream",
          "name": "stdout",
          "text": [
            "I may go with you as I am in a good mood\n"
          ]
        }
      ]
    },
    {
      "cell_type": "code",
      "source": [
        "a = 15\n",
        "\n",
        "if a < 5:\n",
        "  print(\"a is less than 5\")\n",
        "elif a < 10:\n",
        "  print(\" a is more than 5 but less than 10\")\n",
        "else:\n",
        "  print(\"a is more than 10\")"
      ],
      "metadata": {
        "colab": {
          "base_uri": "https://localhost:8080/"
        },
        "id": "RGfupv-dmlWH",
        "outputId": "b3ae6135-b2ea-4831-81d7-9a5fdd193a6f"
      },
      "execution_count": null,
      "outputs": [
        {
          "output_type": "stream",
          "name": "stdout",
          "text": [
            "a is more than 10\n"
          ]
        }
      ]
    },
    {
      "cell_type": "code",
      "source": [
        "def say_hello():\n",
        "  print(\"hello\")\n",
        "\n",
        "def say_goodbye():\n",
        "  print(\"goodbye\")\n",
        "\n",
        "time = 6\n",
        "\n",
        "say_hello() if time < 5 else say_goodbye()\n",
        "# DOTHIS IF CONTIDION=TRUE ELSE DOTHISINSTEAD"
      ],
      "metadata": {
        "colab": {
          "base_uri": "https://localhost:8080/"
        },
        "id": "ugG3ZHA1m2YA",
        "outputId": "d07de613-ac71-4967-b8d7-e88b98049de9"
      },
      "execution_count": null,
      "outputs": [
        {
          "output_type": "stream",
          "name": "stdout",
          "text": [
            "goodbye\n"
          ]
        }
      ]
    },
    {
      "cell_type": "code",
      "source": [
        "s = [1, 2, 3]\n",
        "\n",
        "len(s), s[0]"
      ],
      "metadata": {
        "colab": {
          "base_uri": "https://localhost:8080/"
        },
        "id": "dWMkU-DcnEow",
        "outputId": "7106a84e-7cf2-493f-d134-1d3a3897ca44"
      },
      "execution_count": null,
      "outputs": [
        {
          "output_type": "execute_result",
          "data": {
            "text/plain": [
              "(3, 1)"
            ]
          },
          "metadata": {},
          "execution_count": 65
        }
      ]
    },
    {
      "cell_type": "code",
      "source": [
        "s[0], s[2], s[-1], s[-2]"
      ],
      "metadata": {
        "colab": {
          "base_uri": "https://localhost:8080/"
        },
        "id": "lcKTNcgDnRYb",
        "outputId": "c04246ab-636d-4caa-ff40-0a3846af04c8"
      },
      "execution_count": null,
      "outputs": [
        {
          "output_type": "execute_result",
          "data": {
            "text/plain": [
              "(1, 3, 3, 2)"
            ]
          },
          "metadata": {},
          "execution_count": 66
        }
      ]
    },
    {
      "cell_type": "code",
      "source": [
        "len, print"
      ],
      "metadata": {
        "colab": {
          "base_uri": "https://localhost:8080/"
        },
        "id": "Q-VUpz9vnbTw",
        "outputId": "918e1b1d-0de7-48fc-fe09-e400b794e866"
      },
      "execution_count": null,
      "outputs": [
        {
          "output_type": "execute_result",
          "data": {
            "text/plain": [
              "(<function len(obj, /)>, <function print>)"
            ]
          },
          "metadata": {},
          "execution_count": 67
        }
      ]
    },
    {
      "cell_type": "code",
      "source": [
        "sqrt(4)"
      ],
      "metadata": {
        "colab": {
          "base_uri": "https://localhost:8080/",
          "height": 181
        },
        "id": "kmh8cCa0ngVM",
        "outputId": "f5431976-fe44-466d-865d-746657f05b55"
      },
      "execution_count": null,
      "outputs": [
        {
          "output_type": "error",
          "ename": "NameError",
          "evalue": "name 'sqrt' is not defined",
          "traceback": [
            "\u001b[0;31m---------------------------------------------------------------------------\u001b[0m",
            "\u001b[0;31mNameError\u001b[0m                                 Traceback (most recent call last)",
            "\u001b[0;32m<ipython-input-68-317e033d29d5>\u001b[0m in \u001b[0;36m<cell line: 1>\u001b[0;34m()\u001b[0m\n\u001b[0;32m----> 1\u001b[0;31m \u001b[0msqrt\u001b[0m\u001b[0;34m(\u001b[0m\u001b[0;36m4\u001b[0m\u001b[0;34m)\u001b[0m\u001b[0;34m\u001b[0m\u001b[0;34m\u001b[0m\u001b[0m\n\u001b[0m",
            "\u001b[0;31mNameError\u001b[0m: name 'sqrt' is not defined"
          ]
        }
      ]
    },
    {
      "cell_type": "code",
      "source": [
        "from math import sqrt\n",
        "\n",
        "sqrt(4)"
      ],
      "metadata": {
        "colab": {
          "base_uri": "https://localhost:8080/"
        },
        "id": "fld7gVVvnhzA",
        "outputId": "879b2a0e-1ea4-4ffb-c4fc-085aab4a451a"
      },
      "execution_count": null,
      "outputs": [
        {
          "output_type": "execute_result",
          "data": {
            "text/plain": [
              "2.0"
            ]
          },
          "metadata": {},
          "execution_count": 69
        }
      ]
    },
    {
      "cell_type": "code",
      "source": [
        "math.exp(4)"
      ],
      "metadata": {
        "colab": {
          "base_uri": "https://localhost:8080/",
          "height": 181
        },
        "id": "cDf751Z1nl1M",
        "outputId": "ee7877d8-ab5d-48f1-fbdf-073a63cbfba5"
      },
      "execution_count": null,
      "outputs": [
        {
          "output_type": "error",
          "ename": "NameError",
          "evalue": "name 'math' is not defined",
          "traceback": [
            "\u001b[0;31m---------------------------------------------------------------------------\u001b[0m",
            "\u001b[0;31mNameError\u001b[0m                                 Traceback (most recent call last)",
            "\u001b[0;32m<ipython-input-70-1e2b1dcf1e3a>\u001b[0m in \u001b[0;36m<cell line: 1>\u001b[0;34m()\u001b[0m\n\u001b[0;32m----> 1\u001b[0;31m \u001b[0mmath\u001b[0m\u001b[0;34m.\u001b[0m\u001b[0mexp\u001b[0m\u001b[0;34m(\u001b[0m\u001b[0;36m4\u001b[0m\u001b[0;34m)\u001b[0m\u001b[0;34m\u001b[0m\u001b[0;34m\u001b[0m\u001b[0m\n\u001b[0m",
            "\u001b[0;31mNameError\u001b[0m: name 'math' is not defined"
          ]
        }
      ]
    },
    {
      "cell_type": "code",
      "source": [
        "import math\n",
        "\n",
        "math.cos(0)"
      ],
      "metadata": {
        "colab": {
          "base_uri": "https://localhost:8080/"
        },
        "id": "69a-8aMmnr0q",
        "outputId": "3a83face-a531-40ff-e28d-7bc5ee6afee3"
      },
      "execution_count": null,
      "outputs": [
        {
          "output_type": "execute_result",
          "data": {
            "text/plain": [
              "1.0"
            ]
          },
          "metadata": {},
          "execution_count": 71
        }
      ]
    },
    {
      "cell_type": "code",
      "source": [
        "dir()"
      ],
      "metadata": {
        "colab": {
          "base_uri": "https://localhost:8080/"
        },
        "id": "arby4be2nwLc",
        "outputId": "dcaf331e-e50b-471d-c1d5-d68e1c163a03"
      },
      "execution_count": null,
      "outputs": [
        {
          "output_type": "execute_result",
          "data": {
            "text/plain": [
              "['In',\n",
              " 'Out',\n",
              " '_',\n",
              " '_18',\n",
              " '_19',\n",
              " '_20',\n",
              " '_22',\n",
              " '_23',\n",
              " '_26',\n",
              " '_27',\n",
              " '_28',\n",
              " '_30',\n",
              " '_31',\n",
              " '_32',\n",
              " '_33',\n",
              " '_35',\n",
              " '_57',\n",
              " '_59',\n",
              " '_6',\n",
              " '_64',\n",
              " '_65',\n",
              " '_66',\n",
              " '_67',\n",
              " '_69',\n",
              " '_71',\n",
              " '__',\n",
              " '___',\n",
              " '__builtin__',\n",
              " '__builtins__',\n",
              " '__doc__',\n",
              " '__loader__',\n",
              " '__name__',\n",
              " '__package__',\n",
              " '__spec__',\n",
              " '_dh',\n",
              " '_i',\n",
              " '_i1',\n",
              " '_i10',\n",
              " '_i11',\n",
              " '_i12',\n",
              " '_i13',\n",
              " '_i14',\n",
              " '_i15',\n",
              " '_i16',\n",
              " '_i17',\n",
              " '_i18',\n",
              " '_i19',\n",
              " '_i2',\n",
              " '_i20',\n",
              " '_i21',\n",
              " '_i22',\n",
              " '_i23',\n",
              " '_i24',\n",
              " '_i25',\n",
              " '_i26',\n",
              " '_i27',\n",
              " '_i28',\n",
              " '_i29',\n",
              " '_i3',\n",
              " '_i30',\n",
              " '_i31',\n",
              " '_i32',\n",
              " '_i33',\n",
              " '_i34',\n",
              " '_i35',\n",
              " '_i36',\n",
              " '_i37',\n",
              " '_i38',\n",
              " '_i39',\n",
              " '_i4',\n",
              " '_i40',\n",
              " '_i41',\n",
              " '_i42',\n",
              " '_i43',\n",
              " '_i44',\n",
              " '_i45',\n",
              " '_i46',\n",
              " '_i47',\n",
              " '_i48',\n",
              " '_i49',\n",
              " '_i5',\n",
              " '_i50',\n",
              " '_i51',\n",
              " '_i52',\n",
              " '_i53',\n",
              " '_i54',\n",
              " '_i55',\n",
              " '_i56',\n",
              " '_i57',\n",
              " '_i58',\n",
              " '_i59',\n",
              " '_i6',\n",
              " '_i60',\n",
              " '_i61',\n",
              " '_i62',\n",
              " '_i63',\n",
              " '_i64',\n",
              " '_i65',\n",
              " '_i66',\n",
              " '_i67',\n",
              " '_i68',\n",
              " '_i69',\n",
              " '_i7',\n",
              " '_i70',\n",
              " '_i71',\n",
              " '_i72',\n",
              " '_i8',\n",
              " '_i9',\n",
              " '_ih',\n",
              " '_ii',\n",
              " '_iii',\n",
              " '_oh',\n",
              " 'a',\n",
              " 'b',\n",
              " 'c',\n",
              " 'd',\n",
              " 'exit',\n",
              " 'func',\n",
              " 'get_ipython',\n",
              " 'l',\n",
              " 'math',\n",
              " 'myFunc',\n",
              " 'my_func',\n",
              " 'quit',\n",
              " 's',\n",
              " 'say_goodbye',\n",
              " 'say_hello',\n",
              " 'sqrt',\n",
              " 't',\n",
              " 'time']"
            ]
          },
          "metadata": {},
          "execution_count": 72
        }
      ]
    },
    {
      "cell_type": "code",
      "source": [
        "math.sin(45), dir()"
      ],
      "metadata": {
        "colab": {
          "base_uri": "https://localhost:8080/"
        },
        "id": "9DoQxaYGnz2A",
        "outputId": "b55bc538-77c7-41d5-9a81-28e7a5e2d25a"
      },
      "execution_count": null,
      "outputs": [
        {
          "output_type": "execute_result",
          "data": {
            "text/plain": [
              "(0.8509035245341184,\n",
              " ['In',\n",
              "  'Out',\n",
              "  '_',\n",
              "  '_18',\n",
              "  '_19',\n",
              "  '_20',\n",
              "  '_22',\n",
              "  '_23',\n",
              "  '_26',\n",
              "  '_27',\n",
              "  '_28',\n",
              "  '_30',\n",
              "  '_31',\n",
              "  '_32',\n",
              "  '_33',\n",
              "  '_35',\n",
              "  '_57',\n",
              "  '_59',\n",
              "  '_6',\n",
              "  '_64',\n",
              "  '_65',\n",
              "  '_66',\n",
              "  '_67',\n",
              "  '_69',\n",
              "  '_71',\n",
              "  '_72',\n",
              "  '__',\n",
              "  '___',\n",
              "  '__builtin__',\n",
              "  '__builtins__',\n",
              "  '__doc__',\n",
              "  '__loader__',\n",
              "  '__name__',\n",
              "  '__package__',\n",
              "  '__spec__',\n",
              "  '_dh',\n",
              "  '_i',\n",
              "  '_i1',\n",
              "  '_i10',\n",
              "  '_i11',\n",
              "  '_i12',\n",
              "  '_i13',\n",
              "  '_i14',\n",
              "  '_i15',\n",
              "  '_i16',\n",
              "  '_i17',\n",
              "  '_i18',\n",
              "  '_i19',\n",
              "  '_i2',\n",
              "  '_i20',\n",
              "  '_i21',\n",
              "  '_i22',\n",
              "  '_i23',\n",
              "  '_i24',\n",
              "  '_i25',\n",
              "  '_i26',\n",
              "  '_i27',\n",
              "  '_i28',\n",
              "  '_i29',\n",
              "  '_i3',\n",
              "  '_i30',\n",
              "  '_i31',\n",
              "  '_i32',\n",
              "  '_i33',\n",
              "  '_i34',\n",
              "  '_i35',\n",
              "  '_i36',\n",
              "  '_i37',\n",
              "  '_i38',\n",
              "  '_i39',\n",
              "  '_i4',\n",
              "  '_i40',\n",
              "  '_i41',\n",
              "  '_i42',\n",
              "  '_i43',\n",
              "  '_i44',\n",
              "  '_i45',\n",
              "  '_i46',\n",
              "  '_i47',\n",
              "  '_i48',\n",
              "  '_i49',\n",
              "  '_i5',\n",
              "  '_i50',\n",
              "  '_i51',\n",
              "  '_i52',\n",
              "  '_i53',\n",
              "  '_i54',\n",
              "  '_i55',\n",
              "  '_i56',\n",
              "  '_i57',\n",
              "  '_i58',\n",
              "  '_i59',\n",
              "  '_i6',\n",
              "  '_i60',\n",
              "  '_i61',\n",
              "  '_i62',\n",
              "  '_i63',\n",
              "  '_i64',\n",
              "  '_i65',\n",
              "  '_i66',\n",
              "  '_i67',\n",
              "  '_i68',\n",
              "  '_i69',\n",
              "  '_i7',\n",
              "  '_i70',\n",
              "  '_i71',\n",
              "  '_i72',\n",
              "  '_i73',\n",
              "  '_i8',\n",
              "  '_i9',\n",
              "  '_ih',\n",
              "  '_ii',\n",
              "  '_iii',\n",
              "  '_oh',\n",
              "  'a',\n",
              "  'b',\n",
              "  'c',\n",
              "  'd',\n",
              "  'exit',\n",
              "  'func',\n",
              "  'get_ipython',\n",
              "  'l',\n",
              "  'math',\n",
              "  'myFunc',\n",
              "  'my_func',\n",
              "  'quit',\n",
              "  's',\n",
              "  'say_goodbye',\n",
              "  'say_hello',\n",
              "  'sqrt',\n",
              "  't',\n",
              "  'time'])"
            ]
          },
          "metadata": {},
          "execution_count": 73
        }
      ]
    },
    {
      "cell_type": "code",
      "source": [
        "cc = \"organge\"\n",
        "dd = \"organge\"\n",
        "ee = \"organge\""
      ],
      "metadata": {
        "id": "46oY5zQMoCn4"
      },
      "execution_count": null,
      "outputs": []
    },
    {
      "cell_type": "code",
      "source": [
        "id(a)"
      ],
      "metadata": {
        "colab": {
          "base_uri": "https://localhost:8080/"
        },
        "id": "AXjYrhO1oTbE",
        "outputId": "f1a352e3-7808-4032-be79-ba2559949423"
      },
      "execution_count": null,
      "outputs": [
        {
          "output_type": "execute_result",
          "data": {
            "text/plain": [
              "136805355864752"
            ]
          },
          "metadata": {},
          "execution_count": 78
        }
      ]
    },
    {
      "cell_type": "code",
      "source": [
        "id(cc), id(dd), id(ee)"
      ],
      "metadata": {
        "colab": {
          "base_uri": "https://localhost:8080/"
        },
        "id": "AwsHMZrFoW_Q",
        "outputId": "fc963888-4a4f-42ee-effb-192af7ecf31a"
      },
      "execution_count": null,
      "outputs": [
        {
          "output_type": "execute_result",
          "data": {
            "text/plain": [
              "(136804086654448, 136804086654448, 136804086654448)"
            ]
          },
          "metadata": {},
          "execution_count": 79
        }
      ]
    },
    {
      "cell_type": "code",
      "source": [
        "id(1)"
      ],
      "metadata": {
        "colab": {
          "base_uri": "https://localhost:8080/"
        },
        "id": "j5KlWUrzohnJ",
        "outputId": "20745187-e99e-4165-8b3b-05e5cf97784b"
      },
      "execution_count": null,
      "outputs": [
        {
          "output_type": "execute_result",
          "data": {
            "text/plain": [
              "136805355864304"
            ]
          },
          "metadata": {},
          "execution_count": 80
        }
      ]
    },
    {
      "cell_type": "code",
      "source": [
        "g = 1\n",
        "id(g), id(id(g))"
      ],
      "metadata": {
        "colab": {
          "base_uri": "https://localhost:8080/"
        },
        "id": "K7U7Alkxoxmn",
        "outputId": "495ec2a4-a0bf-4043-a0d6-82c22578140b"
      },
      "execution_count": null,
      "outputs": [
        {
          "output_type": "execute_result",
          "data": {
            "text/plain": [
              "(136805355864304, 136804085607984)"
            ]
          },
          "metadata": {},
          "execution_count": 82
        }
      ]
    },
    {
      "cell_type": "code",
      "source": [
        "del cc, dd, ee"
      ],
      "metadata": {
        "id": "xpB7P5Hio0kt"
      },
      "execution_count": null,
      "outputs": []
    },
    {
      "cell_type": "code",
      "source": [
        "cc"
      ],
      "metadata": {
        "colab": {
          "base_uri": "https://localhost:8080/",
          "height": 181
        },
        "id": "P2B5qD2fpWU5",
        "outputId": "61aefb17-1319-4f81-bc28-606b823f63c7"
      },
      "execution_count": null,
      "outputs": [
        {
          "output_type": "error",
          "ename": "NameError",
          "evalue": "name 'cc' is not defined",
          "traceback": [
            "\u001b[0;31m---------------------------------------------------------------------------\u001b[0m",
            "\u001b[0;31mNameError\u001b[0m                                 Traceback (most recent call last)",
            "\u001b[0;32m<ipython-input-85-2bd2965b6208>\u001b[0m in \u001b[0;36m<cell line: 1>\u001b[0;34m()\u001b[0m\n\u001b[0;32m----> 1\u001b[0;31m \u001b[0mcc\u001b[0m\u001b[0;34m\u001b[0m\u001b[0;34m\u001b[0m\u001b[0m\n\u001b[0m",
            "\u001b[0;31mNameError\u001b[0m: name 'cc' is not defined"
          ]
        }
      ]
    },
    {
      "cell_type": "code",
      "source": [
        "kk = \"organge\"\n",
        "id(kk)"
      ],
      "metadata": {
        "colab": {
          "base_uri": "https://localhost:8080/"
        },
        "id": "njEklmr8pYh-",
        "outputId": "0494288c-f9f9-44b5-bf73-fc9e9a60d832"
      },
      "execution_count": null,
      "outputs": [
        {
          "output_type": "execute_result",
          "data": {
            "text/plain": [
              "136804085758384"
            ]
          },
          "metadata": {},
          "execution_count": 86
        }
      ]
    },
    {
      "cell_type": "code",
      "source": [
        "p = 147\n",
        "print(id(p))\n",
        "del p\n",
        "u = 147\n",
        "print(id(u))"
      ],
      "metadata": {
        "colab": {
          "base_uri": "https://localhost:8080/"
        },
        "id": "LhFiB_69pdDK",
        "outputId": "d2bcb37f-865d-472e-8cfe-06a018d09583"
      },
      "execution_count": null,
      "outputs": [
        {
          "output_type": "stream",
          "name": "stdout",
          "text": [
            "136805355868976\n",
            "136805355868976\n"
          ]
        }
      ]
    },
    {
      "cell_type": "code",
      "source": [
        "def new_func(rr):\n",
        "  rr = 45\n",
        "\n",
        "rr = 33\n",
        "new_func(rr)\n",
        "print(rr)"
      ],
      "metadata": {
        "colab": {
          "base_uri": "https://localhost:8080/"
        },
        "id": "DaRkG41spn7T",
        "outputId": "55d22817-309c-4a35-c2e2-cdf218215234"
      },
      "execution_count": null,
      "outputs": [
        {
          "output_type": "stream",
          "name": "stdout",
          "text": [
            "33\n"
          ]
        }
      ]
    },
    {
      "cell_type": "code",
      "source": [
        "# lambda\n",
        "\n",
        "def mouse1(a, b):\n",
        "  return a* b\n",
        "\n",
        "mouse2 = lambda a, b : a * b\n",
        "\n",
        "mouse1(1, 2), mouse2(1, 2)"
      ],
      "metadata": {
        "colab": {
          "base_uri": "https://localhost:8080/"
        },
        "id": "uewXrBApp6U8",
        "outputId": "5181723f-8e8f-4bfd-ab1f-246fa3d900d7"
      },
      "execution_count": null,
      "outputs": [
        {
          "output_type": "execute_result",
          "data": {
            "text/plain": [
              "(2, 2)"
            ]
          },
          "metadata": {},
          "execution_count": 90
        }
      ]
    },
    {
      "cell_type": "code",
      "source": [
        "lambda a, b : a * b"
      ],
      "metadata": {
        "colab": {
          "base_uri": "https://localhost:8080/"
        },
        "id": "0oWGX_DkqgKt",
        "outputId": "32cd467c-8e12-45aa-ec98-9c1cd9e3e632"
      },
      "execution_count": null,
      "outputs": [
        {
          "output_type": "execute_result",
          "data": {
            "text/plain": [
              "<function __main__.<lambda>(a, b)>"
            ]
          },
          "metadata": {},
          "execution_count": 91
        }
      ]
    },
    {
      "cell_type": "code",
      "source": [
        "def newnew(a, b):\n",
        "  red = lambda a, b : a * b\n",
        "  return red(a, b)\n",
        "\n",
        "newnew(3, 4)"
      ],
      "metadata": {
        "colab": {
          "base_uri": "https://localhost:8080/"
        },
        "id": "zEI8C5TOqoCz",
        "outputId": "96b5a3b2-c5c0-48a0-efa1-46f9e7224028"
      },
      "execution_count": null,
      "outputs": [
        {
          "output_type": "execute_result",
          "data": {
            "text/plain": [
              "12"
            ]
          },
          "metadata": {},
          "execution_count": 93
        }
      ]
    },
    {
      "cell_type": "code",
      "source": [
        "red = lambda f, g:  f * g\n",
        "def new3(a, blue):\n",
        "  return blue(a, 3)\n",
        "new3(4, red)"
      ],
      "metadata": {
        "colab": {
          "base_uri": "https://localhost:8080/"
        },
        "id": "cJIbubYJquhf",
        "outputId": "aec476ec-3930-4fee-af5b-662c623f5d19"
      },
      "execution_count": null,
      "outputs": [
        {
          "output_type": "execute_result",
          "data": {
            "text/plain": [
              "12"
            ]
          },
          "metadata": {},
          "execution_count": 97
        }
      ]
    },
    {
      "cell_type": "code",
      "source": [
        "adder = lambda f, g:  f + g\n",
        "subtractor = lambda f, g:  f - g\n",
        "divider = lambda f, g:  f / g\n",
        "multiplier = lambda f, g:  f * g\n",
        "def new3(a, any_func):\n",
        "  if a == 1:\n",
        "    return adder(a, 3)\n",
        "  elif a == 2:\n",
        "    return subtractor(a, 3)\n",
        "  elif a == 3:\n",
        "    return divider(a, 3)\n",
        "print(new3(2, adder))"
      ],
      "metadata": {
        "colab": {
          "base_uri": "https://localhost:8080/"
        },
        "id": "FabLhyETrMvN",
        "outputId": "5ac1fc66-230a-41cf-9749-3020a87eecac"
      },
      "execution_count": null,
      "outputs": [
        {
          "output_type": "stream",
          "name": "stdout",
          "text": [
            "-1\n"
          ]
        }
      ]
    },
    {
      "cell_type": "code",
      "source": [
        "adder = lambda f, g:  f + g\n",
        "subtractor = lambda f, g:  f - g\n",
        "divider = lambda f, g:  f / g\n",
        "multiplier = lambda f, g:  f * g\n",
        "\n",
        "def new3(a, any_func):\n",
        "  return any_func(a, 4)\n",
        "print(new3(2, multiplier))"
      ],
      "metadata": {
        "colab": {
          "base_uri": "https://localhost:8080/"
        },
        "id": "_ZQZDNKNrzdv",
        "outputId": "779cfc2c-e791-4de6-dee6-a1e9ab99f83d"
      },
      "execution_count": null,
      "outputs": [
        {
          "output_type": "stream",
          "name": "stdout",
          "text": [
            "8\n"
          ]
        }
      ]
    },
    {
      "cell_type": "code",
      "source": [
        "i = 0\n",
        "\n",
        "while i < 5:\n",
        "  print(i)\n",
        "  i = i + 1"
      ],
      "metadata": {
        "colab": {
          "base_uri": "https://localhost:8080/"
        },
        "id": "MYjLwv4QsEVu",
        "outputId": "4518c478-81bc-4c38-fd65-09c6173785c2"
      },
      "execution_count": null,
      "outputs": [
        {
          "output_type": "stream",
          "name": "stdout",
          "text": [
            "0\n",
            "1\n",
            "2\n",
            "3\n",
            "4\n"
          ]
        }
      ]
    },
    {
      "cell_type": "code",
      "source": [
        "while True:\n",
        "  print(\"something\")\n",
        "  break"
      ],
      "metadata": {
        "colab": {
          "base_uri": "https://localhost:8080/"
        },
        "id": "hGVEPNJlsaVx",
        "outputId": "8f9bfaa0-5a89-497f-ec70-0beb037a29a5"
      },
      "execution_count": null,
      "outputs": [
        {
          "output_type": "stream",
          "name": "stdout",
          "text": [
            "something\n"
          ]
        }
      ]
    },
    {
      "cell_type": "code",
      "source": [
        "a = 10\n",
        "b = 0\n",
        "\n",
        "a / b"
      ],
      "metadata": {
        "colab": {
          "base_uri": "https://localhost:8080/",
          "height": 217
        },
        "id": "QW2JF4MZsh5L",
        "outputId": "c07f9a56-0f36-4273-8fe7-2b5e4c936613"
      },
      "execution_count": null,
      "outputs": [
        {
          "output_type": "error",
          "ename": "ZeroDivisionError",
          "evalue": "division by zero",
          "traceback": [
            "\u001b[0;31m---------------------------------------------------------------------------\u001b[0m",
            "\u001b[0;31mZeroDivisionError\u001b[0m                         Traceback (most recent call last)",
            "\u001b[0;32m<ipython-input-105-aec8b3488910>\u001b[0m in \u001b[0;36m<cell line: 4>\u001b[0;34m()\u001b[0m\n\u001b[1;32m      2\u001b[0m \u001b[0mb\u001b[0m \u001b[0;34m=\u001b[0m \u001b[0;36m0\u001b[0m\u001b[0;34m\u001b[0m\u001b[0;34m\u001b[0m\u001b[0m\n\u001b[1;32m      3\u001b[0m \u001b[0;34m\u001b[0m\u001b[0m\n\u001b[0;32m----> 4\u001b[0;31m \u001b[0ma\u001b[0m \u001b[0;34m/\u001b[0m \u001b[0mb\u001b[0m\u001b[0;34m\u001b[0m\u001b[0;34m\u001b[0m\u001b[0m\n\u001b[0m",
            "\u001b[0;31mZeroDivisionError\u001b[0m: division by zero"
          ]
        }
      ]
    },
    {
      "cell_type": "code",
      "source": [
        "a = 10\n",
        "b = 10\n",
        "\n",
        "try:\n",
        "  a/b\n",
        "  print(\"works\")\n",
        "except ZeroDivisionError:\n",
        "  print(\"b was 0 dude!\")\n",
        "finally:\n",
        "  print(\"I will always work\")\n"
      ],
      "metadata": {
        "colab": {
          "base_uri": "https://localhost:8080/"
        },
        "id": "NBKvOUyTsnDb",
        "outputId": "da3fe0b2-5036-4d82-ad2f-79f9ab4b36af"
      },
      "execution_count": null,
      "outputs": [
        {
          "output_type": "stream",
          "name": "stdout",
          "text": [
            "works\n",
            "I will always work\n"
          ]
        }
      ]
    },
    {
      "cell_type": "code",
      "source": [
        "a = 10\n",
        "b = 0\n",
        "\n",
        "try:\n",
        "  a/b\n",
        "  print(\"works\")\n",
        "except ZeroDivisionError:\n",
        "  print(\"b was 0 dude!\")"
      ],
      "metadata": {
        "colab": {
          "base_uri": "https://localhost:8080/"
        },
        "id": "aUqCGL7is1nZ",
        "outputId": "8431fd25-a3b8-45e5-d820-5fbda7aea0c0"
      },
      "execution_count": null,
      "outputs": [
        {
          "output_type": "stream",
          "name": "stdout",
          "text": [
            "b was 0 dude!\n"
          ]
        }
      ]
    },
    {
      "cell_type": "code",
      "source": [
        "a = 10\n",
        "b = 0\n",
        "\n",
        "try:\n",
        "  a/b\n",
        "  print(\"works\")\n",
        "except ZeroDivisionError:\n",
        "  print(\"b was 0 dude!\")\n",
        "finally:\n",
        "  print(\"I will always work\")"
      ],
      "metadata": {
        "colab": {
          "base_uri": "https://localhost:8080/"
        },
        "id": "c0XANCPDs5gk",
        "outputId": "74256515-af89-4f94-b894-cf3f91876a88"
      },
      "execution_count": null,
      "outputs": [
        {
          "output_type": "stream",
          "name": "stdout",
          "text": [
            "b was 0 dude!\n",
            "I will always work\n"
          ]
        }
      ]
    },
    {
      "cell_type": "code",
      "source": [
        "a = 0\n",
        "b = 2\n",
        "\n",
        "while a < 3:\n",
        "    print(\"____________________\")\n",
        "    a += 1 # a = a + 1\n",
        "    b -= 1\n",
        "    try:\n",
        "        res = a / b\n",
        "    except ZeroDivisionError:\n",
        "        print(f'a = {a}, b = {b} - division by 0 ZDE Step')\n",
        "        res = 0\n",
        "        continue\n",
        "    finally:\n",
        "        print(f'a = {a}, b = {b} - Finally Step')\n",
        "    print(f'a = {a}, b = {b} - main loop')\n",
        "\n"
      ],
      "metadata": {
        "colab": {
          "base_uri": "https://localhost:8080/"
        },
        "id": "5XC3NTZ1s-mU",
        "outputId": "2d1eefed-7aa8-4b20-8f7a-73a61e4240d6"
      },
      "execution_count": null,
      "outputs": [
        {
          "output_type": "stream",
          "name": "stdout",
          "text": [
            "____________________\n",
            "a = 1, b = 1 - Finally Step\n",
            "a = 1, b = 1 - main loop\n",
            "____________________\n",
            "a = 2, b = 0 - division by 0 ZDE Step\n",
            "a = 2, b = 0 - Finally Step\n",
            "____________________\n",
            "a = 3, b = -1 - Finally Step\n",
            "a = 3, b = -1 - main loop\n"
          ]
        }
      ]
    },
    {
      "cell_type": "code",
      "source": [
        "range(10)"
      ],
      "metadata": {
        "colab": {
          "base_uri": "https://localhost:8080/"
        },
        "id": "2pnWC2AOt1-K",
        "outputId": "146b091a-1aaa-41c9-c9a3-08fb6535f955"
      },
      "execution_count": null,
      "outputs": [
        {
          "output_type": "execute_result",
          "data": {
            "text/plain": [
              "range(0, 10)"
            ]
          },
          "metadata": {},
          "execution_count": 112
        }
      ]
    },
    {
      "cell_type": "markdown",
      "source": [
        "for(i = 0; i <10 ; i++)"
      ],
      "metadata": {
        "id": "3gMzA5ePuAsi"
      }
    },
    {
      "cell_type": "code",
      "source": [
        "l = [1, 2, 3, 4, 8, \"red\"]\n",
        "t = (\"red\", \"green\", \"blue\", 45)\n",
        "r = range(10)\n",
        "\n",
        "for x in l:\n",
        "  print(x)"
      ],
      "metadata": {
        "colab": {
          "base_uri": "https://localhost:8080/"
        },
        "id": "ivYwHATMtef4",
        "outputId": "b5d39d8a-39ae-4e8d-d3e4-dce3aaa2765c"
      },
      "execution_count": null,
      "outputs": [
        {
          "output_type": "stream",
          "name": "stdout",
          "text": [
            "1\n",
            "2\n",
            "3\n",
            "4\n",
            "8\n",
            "red\n"
          ]
        }
      ]
    },
    {
      "cell_type": "code",
      "source": [
        "for x in t:\n",
        "  print(x)"
      ],
      "metadata": {
        "colab": {
          "base_uri": "https://localhost:8080/"
        },
        "id": "sQvj1fmQt_8r",
        "outputId": "bf2fc7bd-979c-4d66-e971-8d656c4c975f"
      },
      "execution_count": null,
      "outputs": [
        {
          "output_type": "stream",
          "name": "stdout",
          "text": [
            "red\n",
            "green\n",
            "blue\n",
            "45\n"
          ]
        }
      ]
    },
    {
      "cell_type": "code",
      "source": [
        "for x in r:\n",
        "  print(x)"
      ],
      "metadata": {
        "colab": {
          "base_uri": "https://localhost:8080/"
        },
        "id": "40SeVCbtuHpi",
        "outputId": "4f78e395-9032-4a40-bd42-98eccec3a3ff"
      },
      "execution_count": null,
      "outputs": [
        {
          "output_type": "stream",
          "name": "stdout",
          "text": [
            "0\n",
            "1\n",
            "2\n",
            "3\n",
            "4\n",
            "5\n",
            "6\n",
            "7\n",
            "8\n",
            "9\n"
          ]
        }
      ]
    },
    {
      "cell_type": "code",
      "source": [
        "for x in range(len(l)):\n",
        "  print(x)"
      ],
      "metadata": {
        "colab": {
          "base_uri": "https://localhost:8080/"
        },
        "id": "tcbB9o6nuJsz",
        "outputId": "6f1dc019-7c9e-4e5a-e904-b4a32d4f8ba1"
      },
      "execution_count": null,
      "outputs": [
        {
          "output_type": "stream",
          "name": "stdout",
          "text": [
            "0\n",
            "1\n",
            "2\n",
            "3\n",
            "4\n",
            "5\n"
          ]
        }
      ]
    },
    {
      "cell_type": "code",
      "source": [
        "for num, data in enumerate(l):\n",
        "  print(f'at {num} we have {data}')"
      ],
      "metadata": {
        "colab": {
          "base_uri": "https://localhost:8080/"
        },
        "id": "GRlUXKsRuOGL",
        "outputId": "41706e54-1707-4816-d8bd-6d2b2fc8ffb5"
      },
      "execution_count": null,
      "outputs": [
        {
          "output_type": "stream",
          "name": "stdout",
          "text": [
            "at 0 we have 1\n",
            "at 1 we have 2\n",
            "at 2 we have 3\n",
            "at 3 we have 4\n",
            "at 4 we have 8\n",
            "at 5 we have red\n"
          ]
        }
      ]
    },
    {
      "cell_type": "code",
      "source": [
        "t = (45, 55)\n",
        "a1 = t[0]\n",
        "a2 = t[1]\n",
        "a1, a2"
      ],
      "metadata": {
        "colab": {
          "base_uri": "https://localhost:8080/"
        },
        "id": "GYFIsC4Pudhm",
        "outputId": "ca1e1866-dab9-4c44-8c2a-762a3bd9465c"
      },
      "execution_count": null,
      "outputs": [
        {
          "output_type": "execute_result",
          "data": {
            "text/plain": [
              "(45, 55)"
            ]
          },
          "metadata": {},
          "execution_count": 122
        }
      ]
    },
    {
      "cell_type": "code",
      "source": [
        "a1, a2 = (45, 55)\n",
        "a1, a2"
      ],
      "metadata": {
        "colab": {
          "base_uri": "https://localhost:8080/"
        },
        "id": "QOJxb6G2ujM2",
        "outputId": "3f4f0ff0-6409-4523-acce-4643821df4df"
      },
      "execution_count": null,
      "outputs": [
        {
          "output_type": "execute_result",
          "data": {
            "text/plain": [
              "(45, 55)"
            ]
          },
          "metadata": {},
          "execution_count": 123
        }
      ]
    },
    {
      "cell_type": "code",
      "source": [
        "class Rectangle:\n",
        "    def __init__(self, w, h):\n",
        "        self.widht = w\n",
        "        self.height = h\n",
        "        print(id(self))\n",
        "\n",
        "r1 = Rectangle(3, 4)\n",
        "r2 = Rectangle(30, 40)\n",
        "\n",
        "r1.widht, r2.height"
      ],
      "metadata": {
        "colab": {
          "base_uri": "https://localhost:8080/"
        },
        "id": "C1dJFyJhuv7w",
        "outputId": "47c93527-9ab7-4ee4-dfec-771e39613263"
      },
      "execution_count": null,
      "outputs": [
        {
          "output_type": "stream",
          "name": "stdout",
          "text": [
            "136804086771200\n",
            "136804086774368\n"
          ]
        },
        {
          "output_type": "execute_result",
          "data": {
            "text/plain": [
              "(3, 40)"
            ]
          },
          "metadata": {},
          "execution_count": 124
        }
      ]
    },
    {
      "cell_type": "code",
      "source": [
        "class Rectangle:\n",
        "    def __init__(rohan, w, h):\n",
        "        rohan.widht = w\n",
        "        rohan.height = h\n",
        "        print(id(rohan))\n",
        "\n",
        "r1 = Rectangle(3, 4)\n",
        "r2 = Rectangle(30, 40)\n",
        "\n",
        "r1.widht, r2.height, id(r1), id(r2)"
      ],
      "metadata": {
        "colab": {
          "base_uri": "https://localhost:8080/"
        },
        "id": "41M--kDxwDTu",
        "outputId": "47f070b2-c47e-4ec3-d29e-7fddf0eade78"
      },
      "execution_count": null,
      "outputs": [
        {
          "output_type": "stream",
          "name": "stdout",
          "text": [
            "136804086766784\n",
            "136804086765488\n"
          ]
        },
        {
          "output_type": "execute_result",
          "data": {
            "text/plain": [
              "(3, 40, 136804086766784, 136804086765488)"
            ]
          },
          "metadata": {},
          "execution_count": 126
        }
      ]
    },
    {
      "cell_type": "code",
      "source": [
        "class Rectangle:\n",
        "    def __init__(rohan, w, h):\n",
        "        rohan.widht = w\n",
        "        rohan.height = h\n",
        "        print(id(rohan))\n",
        "\n",
        "r1 = Rectangle(3, 4)\n",
        "r2 = Rectangle(30, 40)\n",
        "\n",
        "r1.widht, r2.height"
      ],
      "metadata": {
        "colab": {
          "base_uri": "https://localhost:8080/"
        },
        "id": "lQkN475AwGkc",
        "outputId": "ff49ce86-d0ce-4c97-836d-0c62fdc75ed7"
      },
      "execution_count": null,
      "outputs": [
        {
          "output_type": "stream",
          "name": "stdout",
          "text": [
            "136804086768128\n",
            "136804086770816\n"
          ]
        },
        {
          "output_type": "execute_result",
          "data": {
            "text/plain": [
              "(3, 40)"
            ]
          },
          "metadata": {},
          "execution_count": 127
        }
      ]
    },
    {
      "cell_type": "code",
      "source": [
        "class Rectangle():\n",
        "    def __init__ (self, width, height):\n",
        "        self.width = width\n",
        "        self.height = height\n",
        "\n",
        "    def area(self):\n",
        "        return self.width * self.height\n",
        "\n",
        "    def perimeter(self):\n",
        "        return 2 *  ( self.width + self.height)"
      ],
      "metadata": {
        "id": "KN7AdR8Kws9V"
      },
      "execution_count": null,
      "outputs": []
    },
    {
      "cell_type": "code",
      "source": [
        "r1 = Rectangle(10, 20)\n",
        "r1.area()"
      ],
      "metadata": {
        "colab": {
          "base_uri": "https://localhost:8080/"
        },
        "id": "AmJiGAYzw38F",
        "outputId": "1fb0161e-6011-45ef-82e7-789c3a00eed7"
      },
      "execution_count": null,
      "outputs": [
        {
          "output_type": "execute_result",
          "data": {
            "text/plain": [
              "200"
            ]
          },
          "metadata": {},
          "execution_count": 129
        }
      ]
    },
    {
      "cell_type": "code",
      "source": [
        "help(Rectangle)"
      ],
      "metadata": {
        "colab": {
          "base_uri": "https://localhost:8080/"
        },
        "id": "CKAnt7Muw5KI",
        "outputId": "f1dd983e-c01e-4a79-ae86-749963ea4d9d"
      },
      "execution_count": null,
      "outputs": [
        {
          "output_type": "stream",
          "name": "stdout",
          "text": [
            "Help on class Rectangle in module __main__:\n",
            "\n",
            "class Rectangle(builtins.object)\n",
            " |  Rectangle(width, height)\n",
            " |  \n",
            " |  Methods defined here:\n",
            " |  \n",
            " |  __init__(self, width, height)\n",
            " |      Initialize self.  See help(type(self)) for accurate signature.\n",
            " |  \n",
            " |  area(self)\n",
            " |  \n",
            " |  perimeter(self)\n",
            " |  \n",
            " |  ----------------------------------------------------------------------\n",
            " |  Data descriptors defined here:\n",
            " |  \n",
            " |  __dict__\n",
            " |      dictionary for instance variables (if defined)\n",
            " |  \n",
            " |  __weakref__\n",
            " |      list of weak references to the object (if defined)\n",
            "\n"
          ]
        }
      ]
    },
    {
      "cell_type": "code",
      "source": [
        "r1"
      ],
      "metadata": {
        "colab": {
          "base_uri": "https://localhost:8080/"
        },
        "id": "hRmSdGdCxVzZ",
        "outputId": "c5dbb71c-40d5-43e0-daec-c0ca2ca45ebd"
      },
      "execution_count": null,
      "outputs": [
        {
          "output_type": "execute_result",
          "data": {
            "text/plain": [
              "<__main__.Rectangle at 0x7c6c2efed7e0>"
            ]
          },
          "metadata": {},
          "execution_count": 131
        }
      ]
    },
    {
      "cell_type": "code",
      "source": [
        "class Rectangle:\n",
        "    def __init__ (self, width, height):\n",
        "        self.width = width\n",
        "        self.height = height\n",
        "\n",
        "    def area(self):\n",
        "        return self.width * self.height\n",
        "\n",
        "    def perimeter(self):\n",
        "        return 2 *  ( self.width + self.height)\n",
        "\n",
        "    def __str__(self):\n",
        "        return \"This is a rectangle stored at: \" + str(id(self))\n",
        "\n",
        "r1 = Rectangle(10, 20)\n",
        "r1.__str__()"
      ],
      "metadata": {
        "colab": {
          "base_uri": "https://localhost:8080/",
          "height": 35
        },
        "id": "Q756LHutxeUp",
        "outputId": "9a5e34ff-edfc-402e-abaf-279cc0cba1d5"
      },
      "execution_count": null,
      "outputs": [
        {
          "output_type": "execute_result",
          "data": {
            "text/plain": [
              "'This is a rectangle stored at: 136804086765248'"
            ],
            "application/vnd.google.colaboratory.intrinsic+json": {
              "type": "string"
            }
          },
          "metadata": {},
          "execution_count": 132
        }
      ]
    },
    {
      "cell_type": "code",
      "source": [
        "help(Rectangle)"
      ],
      "metadata": {
        "colab": {
          "base_uri": "https://localhost:8080/"
        },
        "id": "prgcPbehxm8W",
        "outputId": "ad9cd0b9-de67-4c0d-ce28-13885b951934"
      },
      "execution_count": null,
      "outputs": [
        {
          "output_type": "stream",
          "name": "stdout",
          "text": [
            "Help on class Rectangle in module __main__:\n",
            "\n",
            "class Rectangle(builtins.object)\n",
            " |  Rectangle(width, height)\n",
            " |  \n",
            " |  Methods defined here:\n",
            " |  \n",
            " |  __init__(self, width, height)\n",
            " |      Initialize self.  See help(type(self)) for accurate signature.\n",
            " |  \n",
            " |  __str__(self)\n",
            " |      Return str(self).\n",
            " |  \n",
            " |  area(self)\n",
            " |  \n",
            " |  perimeter(self)\n",
            " |  \n",
            " |  ----------------------------------------------------------------------\n",
            " |  Data descriptors defined here:\n",
            " |  \n",
            " |  __dict__\n",
            " |      dictionary for instance variables (if defined)\n",
            " |  \n",
            " |  __weakref__\n",
            " |      list of weak references to the object (if defined)\n",
            "\n"
          ]
        }
      ]
    },
    {
      "cell_type": "code",
      "source": [
        "dir(r1)"
      ],
      "metadata": {
        "colab": {
          "base_uri": "https://localhost:8080/"
        },
        "id": "F9wHxRVXxqX5",
        "outputId": "5ca6635f-d660-492d-ec7e-32bf4a2bf9de"
      },
      "execution_count": null,
      "outputs": [
        {
          "output_type": "execute_result",
          "data": {
            "text/plain": [
              "['__class__',\n",
              " '__delattr__',\n",
              " '__dict__',\n",
              " '__dir__',\n",
              " '__doc__',\n",
              " '__eq__',\n",
              " '__format__',\n",
              " '__ge__',\n",
              " '__getattribute__',\n",
              " '__gt__',\n",
              " '__hash__',\n",
              " '__init__',\n",
              " '__init_subclass__',\n",
              " '__le__',\n",
              " '__lt__',\n",
              " '__module__',\n",
              " '__ne__',\n",
              " '__new__',\n",
              " '__reduce__',\n",
              " '__reduce_ex__',\n",
              " '__repr__',\n",
              " '__setattr__',\n",
              " '__sizeof__',\n",
              " '__str__',\n",
              " '__subclasshook__',\n",
              " '__weakref__',\n",
              " 'area',\n",
              " 'height',\n",
              " 'perimeter',\n",
              " 'width']"
            ]
          },
          "metadata": {},
          "execution_count": 135
        }
      ]
    },
    {
      "cell_type": "code",
      "source": [
        "4 == 5"
      ],
      "metadata": {
        "colab": {
          "base_uri": "https://localhost:8080/"
        },
        "id": "Qu0o5fQBx0_T",
        "outputId": "0e14db58-af70-4dcb-f575-01868a23a86c"
      },
      "execution_count": null,
      "outputs": [
        {
          "output_type": "execute_result",
          "data": {
            "text/plain": [
              "False"
            ]
          },
          "metadata": {},
          "execution_count": 137
        }
      ]
    },
    {
      "cell_type": "code",
      "source": [
        "type(4)"
      ],
      "metadata": {
        "colab": {
          "base_uri": "https://localhost:8080/"
        },
        "id": "hZwX8_DmyAbZ",
        "outputId": "c15d04c1-ecec-4840-cbc5-8ac2cafe38cc"
      },
      "execution_count": null,
      "outputs": [
        {
          "output_type": "execute_result",
          "data": {
            "text/plain": [
              "int"
            ]
          },
          "metadata": {},
          "execution_count": 139
        }
      ]
    },
    {
      "cell_type": "code",
      "source": [
        "dir(int)"
      ],
      "metadata": {
        "colab": {
          "base_uri": "https://localhost:8080/"
        },
        "id": "KZ9VCvIgyDqX",
        "outputId": "bd2bc8a4-75f5-43e3-f0a3-ed915002d7b8"
      },
      "execution_count": null,
      "outputs": [
        {
          "output_type": "execute_result",
          "data": {
            "text/plain": [
              "['__abs__',\n",
              " '__add__',\n",
              " '__and__',\n",
              " '__bool__',\n",
              " '__ceil__',\n",
              " '__class__',\n",
              " '__delattr__',\n",
              " '__dir__',\n",
              " '__divmod__',\n",
              " '__doc__',\n",
              " '__eq__',\n",
              " '__float__',\n",
              " '__floor__',\n",
              " '__floordiv__',\n",
              " '__format__',\n",
              " '__ge__',\n",
              " '__getattribute__',\n",
              " '__getnewargs__',\n",
              " '__gt__',\n",
              " '__hash__',\n",
              " '__index__',\n",
              " '__init__',\n",
              " '__init_subclass__',\n",
              " '__int__',\n",
              " '__invert__',\n",
              " '__le__',\n",
              " '__lshift__',\n",
              " '__lt__',\n",
              " '__mod__',\n",
              " '__mul__',\n",
              " '__ne__',\n",
              " '__neg__',\n",
              " '__new__',\n",
              " '__or__',\n",
              " '__pos__',\n",
              " '__pow__',\n",
              " '__radd__',\n",
              " '__rand__',\n",
              " '__rdivmod__',\n",
              " '__reduce__',\n",
              " '__reduce_ex__',\n",
              " '__repr__',\n",
              " '__rfloordiv__',\n",
              " '__rlshift__',\n",
              " '__rmod__',\n",
              " '__rmul__',\n",
              " '__ror__',\n",
              " '__round__',\n",
              " '__rpow__',\n",
              " '__rrshift__',\n",
              " '__rshift__',\n",
              " '__rsub__',\n",
              " '__rtruediv__',\n",
              " '__rxor__',\n",
              " '__setattr__',\n",
              " '__sizeof__',\n",
              " '__str__',\n",
              " '__sub__',\n",
              " '__subclasshook__',\n",
              " '__truediv__',\n",
              " '__trunc__',\n",
              " '__xor__',\n",
              " 'as_integer_ratio',\n",
              " 'bit_count',\n",
              " 'bit_length',\n",
              " 'conjugate',\n",
              " 'denominator',\n",
              " 'from_bytes',\n",
              " 'imag',\n",
              " 'numerator',\n",
              " 'real',\n",
              " 'to_bytes']"
            ]
          },
          "metadata": {},
          "execution_count": 140
        }
      ]
    },
    {
      "cell_type": "code",
      "source": [
        "class Rectangle:\n",
        "    def __init__ (self, width, height):\n",
        "        self.width = width\n",
        "        self.height = height\n",
        "\n",
        "    def area(self):\n",
        "        return self.width * self.height\n",
        "\n",
        "    def perimeter(self):\n",
        "        return 2 *  ( self.width + self.height)\n",
        "\n",
        "    def __repr__(self):\n",
        "        return \"This is a rectangle stored at: \" + str(id(self))\n",
        "\n",
        "r1 = Rectangle(10, 20)\n",
        "r1"
      ],
      "metadata": {
        "colab": {
          "base_uri": "https://localhost:8080/"
        },
        "id": "5w4ynfiSyG0u",
        "outputId": "6094e7fa-203a-4bb5-e7ff-a47f328100ab"
      },
      "execution_count": null,
      "outputs": [
        {
          "output_type": "execute_result",
          "data": {
            "text/plain": [
              "This is a rectangle stored at: 136804086537696"
            ]
          },
          "metadata": {},
          "execution_count": 141
        }
      ]
    },
    {
      "cell_type": "code",
      "source": [
        "class Rectangle:\n",
        "    def __init__ (self, width, height):\n",
        "        self.width = width\n",
        "        self.height = height\n",
        "\n",
        "    def area(self):\n",
        "        return self.width * self.height\n",
        "\n",
        "    def perimeter(self):\n",
        "        return 2 *  ( self.width + self.height)\n",
        "\n",
        "    def __str__(self):\n",
        "        return \"This is rectangle stored: \" + str(id(self))\n",
        "\n",
        "    def __eq__(self, other):\n",
        "        print(f'self={self}, other={other}')\n",
        "        if isinstance(other, Rectangle):\n",
        "            return (self.width, self.height) == (other.width, other.height)\n",
        "        else:\n",
        "            return False\n",
        "r1 = Rectangle(10, 20)\n",
        "r2 = Rectangle(1, 2)\n",
        "\n",
        "r1 == r2, r2 < r1"
      ],
      "metadata": {
        "colab": {
          "base_uri": "https://localhost:8080/",
          "height": 235
        },
        "id": "C6v1-x9jyPI-",
        "outputId": "814527f7-d4f5-49d6-a973-8dd081f6ea01"
      },
      "execution_count": null,
      "outputs": [
        {
          "output_type": "stream",
          "name": "stdout",
          "text": [
            "self=This is rectangle stored: 136804652632912, other=This is rectangle stored: 136804652640784\n"
          ]
        },
        {
          "output_type": "error",
          "ename": "TypeError",
          "evalue": "'<' not supported between instances of 'Rectangle' and 'Rectangle'",
          "traceback": [
            "\u001b[0;31m---------------------------------------------------------------------------\u001b[0m",
            "\u001b[0;31mTypeError\u001b[0m                                 Traceback (most recent call last)",
            "\u001b[0;32m<ipython-input-142-305e76579610>\u001b[0m in \u001b[0;36m<cell line: 24>\u001b[0;34m()\u001b[0m\n\u001b[1;32m     22\u001b[0m \u001b[0mr2\u001b[0m \u001b[0;34m=\u001b[0m \u001b[0mRectangle\u001b[0m\u001b[0;34m(\u001b[0m\u001b[0;36m1\u001b[0m\u001b[0;34m,\u001b[0m \u001b[0;36m2\u001b[0m\u001b[0;34m)\u001b[0m\u001b[0;34m\u001b[0m\u001b[0;34m\u001b[0m\u001b[0m\n\u001b[1;32m     23\u001b[0m \u001b[0;34m\u001b[0m\u001b[0m\n\u001b[0;32m---> 24\u001b[0;31m \u001b[0mr1\u001b[0m \u001b[0;34m==\u001b[0m \u001b[0mr2\u001b[0m\u001b[0;34m,\u001b[0m \u001b[0mr2\u001b[0m \u001b[0;34m<\u001b[0m \u001b[0mr1\u001b[0m\u001b[0;34m\u001b[0m\u001b[0;34m\u001b[0m\u001b[0m\n\u001b[0m",
            "\u001b[0;31mTypeError\u001b[0m: '<' not supported between instances of 'Rectangle' and 'Rectangle'"
          ]
        }
      ]
    },
    {
      "cell_type": "code",
      "source": [
        "class Rectangle:\n",
        "    def __init__(self, width, height):\n",
        "        self.width = width\n",
        "        self.height = height\n",
        "\n",
        "    def area(self):\n",
        "        return self.width * self.height\n",
        "\n",
        "    def perimeter(self):\n",
        "        return 2 * (self.width + self.height)\n",
        "\n",
        "    def __str__(self):\n",
        "        return 'Rectangle (width={0}, height={1})'.format(self.width, self.height)\n",
        "\n",
        "    def __repr__(self):\n",
        "        return 'Rectangle({0}, {1})'.format(self.width, self.height)\n",
        "\n",
        "    def __eq__(self, other):\n",
        "        if isinstance(other, Rectangle):\n",
        "            return (self.width, self.height) == (other.width, other.height)\n",
        "        else:\n",
        "            return False\n",
        "\n",
        "    def __lt__(self, other):\n",
        "        if isinstance(other, Rectangle):\n",
        "            return self.area() < other.area()\n",
        "        else:\n",
        "            return NotImplemented\n",
        "\n",
        "r1 = Rectangle(100, 200)\n",
        "r2 = Rectangle(10, 20)\n",
        "r1 < r2"
      ],
      "metadata": {
        "colab": {
          "base_uri": "https://localhost:8080/"
        },
        "id": "mdNJoSbYybiN",
        "outputId": "62f9f816-ea0a-4b3a-cf48-fd57b03de3b3"
      },
      "execution_count": null,
      "outputs": [
        {
          "output_type": "execute_result",
          "data": {
            "text/plain": [
              "False"
            ]
          },
          "metadata": {},
          "execution_count": 143
        }
      ]
    },
    {
      "cell_type": "code",
      "source": [
        "r1.__ge__(r2)"
      ],
      "metadata": {
        "colab": {
          "base_uri": "https://localhost:8080/"
        },
        "id": "fnyYGOqGyfMn",
        "outputId": "80c30e2c-08ec-4654-db30-7521aef34d71"
      },
      "execution_count": null,
      "outputs": [
        {
          "output_type": "execute_result",
          "data": {
            "text/plain": [
              "NotImplemented"
            ]
          },
          "metadata": {},
          "execution_count": 146
        }
      ]
    },
    {
      "cell_type": "code",
      "source": [
        "dir(r1)"
      ],
      "metadata": {
        "colab": {
          "base_uri": "https://localhost:8080/"
        },
        "id": "h3EtpXOkyo9u",
        "outputId": "c96fa429-010b-42e8-a6b3-4148b27e8e41"
      },
      "execution_count": null,
      "outputs": [
        {
          "output_type": "execute_result",
          "data": {
            "text/plain": [
              "['__class__',\n",
              " '__delattr__',\n",
              " '__dict__',\n",
              " '__dir__',\n",
              " '__doc__',\n",
              " '__eq__',\n",
              " '__format__',\n",
              " '__ge__',\n",
              " '__getattribute__',\n",
              " '__gt__',\n",
              " '__hash__',\n",
              " '__init__',\n",
              " '__init_subclass__',\n",
              " '__le__',\n",
              " '__lt__',\n",
              " '__module__',\n",
              " '__ne__',\n",
              " '__new__',\n",
              " '__reduce__',\n",
              " '__reduce_ex__',\n",
              " '__repr__',\n",
              " '__setattr__',\n",
              " '__sizeof__',\n",
              " '__str__',\n",
              " '__subclasshook__',\n",
              " '__weakref__',\n",
              " 'area',\n",
              " 'height',\n",
              " 'perimeter',\n",
              " 'width']"
            ]
          },
          "metadata": {},
          "execution_count": 147
        }
      ]
    },
    {
      "cell_type": "code",
      "source": [
        "dataSet = [\"bat\", \"dog\", \"cat\", \"bat\", \"dog\", \"cow\", \"bat\", \"dog\", \"dog\", \"cow\", \"cow\", \"cow\", \"cow\", \"car\", \"bat\", \"dog\", \"car\", \"car\", \"cat\", \"dog\", \"cat\", \"dog\", \"bat\", \"cat\", \"car\", \"car\", \"dog\", \"cat\", \"cow\", \"cow\", \"cow\", \"cow\", \"cow\", \"car\", \"cat\", \"car\", \"cat\", \"cat\", \"bat\", \"dog\", \"bat\", \"bat\", \"car\", \"dog\", \"dog\", \"cow\", \"dog\", \"cow\", \"dog\", \"bat\", \"cow\", \"dog\", \"bat\", \"dog\", \"bat\", \"cow\", \"bat\", \"bat\", \"car\", \"bat\", \"car\", \"bat\", \"cat\", \"bat\", \"cat\", \"car\", \"cow\", \"car\", \"bat\", \"dog\", \"dog\", \"cat\", \"cat\", \"car\", \"cow\", \"car\", \"cow\", \"cat\", \"cat\", \"cat\", \"cow\", \"bat\", \"cat\", \"car\", \"cat\", \"bat\", \"cat\", \"car\", \"cow\", \"car\", \"dog\", \"dog\", \"dog\", \"car\", \"bat\", \"bat\", \"car\", \"car\", \"dog\", \"car\", \"car\", \"cow\", \"car\", \"cow\", \"dog\", \"bat\", \"cow\", \"bat\", \"bat\", \"car\", \"dog\", \"cat\", \"car\", \"car\", \"dog\", \"dog\", \"cow\", \"cow\", \"cat\", \"cat\", \"cat\", \"bat\", \"dog\", \"cat\", \"bat\", \"cat\", \"cat\", \"cow\", \"cow\", \"cat\"]\n",
        "label = [1,2,0,1,2,3,1,2,2,3,3,3,3,4,1,2,4,4,0,2,0,2,1,0,4,4,2,0,3,3,3,3,3,4,0,4,0,0,1,2,1,1,4,2,2,3,2,3,2,1,3,2,1,2,1,3,1,1,4,1,4,1,0,1,0,4,3,4,1,2,2,0,0,4,3,4,3,0,0,0,3,1,0,4,0,1,0,4,3,4,2,2,2,4,1,1,4,4,2,4,4,3,4,3,2,1,3,1,1,4,2,0,4,4,2,2,3,3,0,0,0,1,2,0,1,0,0,3,3,0]\n",
        "\n",
        "class Animals:\n",
        "  def __init__(self, dataSet, label):\n",
        "    self.dataSet = dataSet\n",
        "    self.label = label\n",
        "\n",
        "  def __len__(self):\n",
        "    return len(self.dataSet)\n",
        "\n",
        "animal = Animals(dataSet, label)\n",
        "len(animal), animal.__len__()\n"
      ],
      "metadata": {
        "colab": {
          "base_uri": "https://localhost:8080/"
        },
        "id": "nfNdwNVAyuX5",
        "outputId": "b811beb1-0353-45e7-af67-531eeb4aef45"
      },
      "execution_count": null,
      "outputs": [
        {
          "output_type": "execute_result",
          "data": {
            "text/plain": [
              "(130, 130)"
            ]
          },
          "metadata": {},
          "execution_count": 151
        }
      ]
    },
    {
      "cell_type": "code",
      "source": [
        "class Animals:\n",
        "  def __init__(self, dataSet, label):\n",
        "    self.dataSet = dataSet\n",
        "    self.label = label\n",
        "\n",
        "  def __len__(self):\n",
        "    return len(self.dataSet)\n",
        "\n",
        "  def __getitem__(self, index):\n",
        "    return dataSet[index], label[index]\n",
        "\n",
        "animal = Animals(dataSet, label)\n",
        "\n",
        "animal.__getitem__(3)"
      ],
      "metadata": {
        "colab": {
          "base_uri": "https://localhost:8080/"
        },
        "id": "iwHJS2N20FUD",
        "outputId": "121338e2-fa84-497f-89d0-3b3c2f2cd0af"
      },
      "execution_count": null,
      "outputs": [
        {
          "output_type": "execute_result",
          "data": {
            "text/plain": [
              "('bat', 1)"
            ]
          },
          "metadata": {},
          "execution_count": 156
        }
      ]
    },
    {
      "cell_type": "code",
      "source": [
        "for a in animal:\n",
        "  print(a)"
      ],
      "metadata": {
        "colab": {
          "base_uri": "https://localhost:8080/"
        },
        "id": "41Aeh73b0RKc",
        "outputId": "3da988ab-ff6b-4ac2-9815-b270b54ba101"
      },
      "execution_count": null,
      "outputs": [
        {
          "output_type": "stream",
          "name": "stdout",
          "text": [
            "('bat', 1)\n",
            "('dog', 2)\n",
            "('cat', 0)\n",
            "('bat', 1)\n",
            "('dog', 2)\n",
            "('cow', 3)\n",
            "('bat', 1)\n",
            "('dog', 2)\n",
            "('dog', 2)\n",
            "('cow', 3)\n",
            "('cow', 3)\n",
            "('cow', 3)\n",
            "('cow', 3)\n",
            "('car', 4)\n",
            "('bat', 1)\n",
            "('dog', 2)\n",
            "('car', 4)\n",
            "('car', 4)\n",
            "('cat', 0)\n",
            "('dog', 2)\n",
            "('cat', 0)\n",
            "('dog', 2)\n",
            "('bat', 1)\n",
            "('cat', 0)\n",
            "('car', 4)\n",
            "('car', 4)\n",
            "('dog', 2)\n",
            "('cat', 0)\n",
            "('cow', 3)\n",
            "('cow', 3)\n",
            "('cow', 3)\n",
            "('cow', 3)\n",
            "('cow', 3)\n",
            "('car', 4)\n",
            "('cat', 0)\n",
            "('car', 4)\n",
            "('cat', 0)\n",
            "('cat', 0)\n",
            "('bat', 1)\n",
            "('dog', 2)\n",
            "('bat', 1)\n",
            "('bat', 1)\n",
            "('car', 4)\n",
            "('dog', 2)\n",
            "('dog', 2)\n",
            "('cow', 3)\n",
            "('dog', 2)\n",
            "('cow', 3)\n",
            "('dog', 2)\n",
            "('bat', 1)\n",
            "('cow', 3)\n",
            "('dog', 2)\n",
            "('bat', 1)\n",
            "('dog', 2)\n",
            "('bat', 1)\n",
            "('cow', 3)\n",
            "('bat', 1)\n",
            "('bat', 1)\n",
            "('car', 4)\n",
            "('bat', 1)\n",
            "('car', 4)\n",
            "('bat', 1)\n",
            "('cat', 0)\n",
            "('bat', 1)\n",
            "('cat', 0)\n",
            "('car', 4)\n",
            "('cow', 3)\n",
            "('car', 4)\n",
            "('bat', 1)\n",
            "('dog', 2)\n",
            "('dog', 2)\n",
            "('cat', 0)\n",
            "('cat', 0)\n",
            "('car', 4)\n",
            "('cow', 3)\n",
            "('car', 4)\n",
            "('cow', 3)\n",
            "('cat', 0)\n",
            "('cat', 0)\n",
            "('cat', 0)\n",
            "('cow', 3)\n",
            "('bat', 1)\n",
            "('cat', 0)\n",
            "('car', 4)\n",
            "('cat', 0)\n",
            "('bat', 1)\n",
            "('cat', 0)\n",
            "('car', 4)\n",
            "('cow', 3)\n",
            "('car', 4)\n",
            "('dog', 2)\n",
            "('dog', 2)\n",
            "('dog', 2)\n",
            "('car', 4)\n",
            "('bat', 1)\n",
            "('bat', 1)\n",
            "('car', 4)\n",
            "('car', 4)\n",
            "('dog', 2)\n",
            "('car', 4)\n",
            "('car', 4)\n",
            "('cow', 3)\n",
            "('car', 4)\n",
            "('cow', 3)\n",
            "('dog', 2)\n",
            "('bat', 1)\n",
            "('cow', 3)\n",
            "('bat', 1)\n",
            "('bat', 1)\n",
            "('car', 4)\n",
            "('dog', 2)\n",
            "('cat', 0)\n",
            "('car', 4)\n",
            "('car', 4)\n",
            "('dog', 2)\n",
            "('dog', 2)\n",
            "('cow', 3)\n",
            "('cow', 3)\n",
            "('cat', 0)\n",
            "('cat', 0)\n",
            "('cat', 0)\n",
            "('bat', 1)\n",
            "('dog', 2)\n",
            "('cat', 0)\n",
            "('bat', 1)\n",
            "('cat', 0)\n",
            "('cat', 0)\n",
            "('cow', 3)\n",
            "('cow', 3)\n",
            "('cat', 0)\n"
          ]
        }
      ]
    },
    {
      "cell_type": "code",
      "source": [
        "import torch\n",
        "from torch.utils.data import Dataset, DataLoader\n",
        "\n",
        "class MyDataset(Dataset):\n",
        "  def __init__(self, dataSet, label):\n",
        "    self.dataSet = dataSet\n",
        "    self.label = label\n",
        "\n",
        "  def __len__(self):\n",
        "    return len(self.dataSet)\n",
        "\n",
        "  def __getitem__(self, index):\n",
        "    return self.dataSet[index], self.label[index]\n",
        "\n",
        "\n",
        "dataset = MyDataset(dataSet, label)"
      ],
      "metadata": {
        "id": "yDX0Bb8O02MP"
      },
      "execution_count": null,
      "outputs": []
    },
    {
      "cell_type": "code",
      "source": [
        "mydataloader = DataLoader(dataset, batch_size = 8, shuffle = True)"
      ],
      "metadata": {
        "id": "SrNNrAWP18Ty"
      },
      "execution_count": null,
      "outputs": []
    },
    {
      "cell_type": "code",
      "source": [
        "for x, y in mydataloader:\n",
        "  print(x, y)\n",
        "  break"
      ],
      "metadata": {
        "colab": {
          "base_uri": "https://localhost:8080/"
        },
        "id": "YNBFG2RF2Lkq",
        "outputId": "86434e72-a50d-4c9a-ae2f-3ed88d09a839"
      },
      "execution_count": null,
      "outputs": [
        {
          "output_type": "stream",
          "name": "stdout",
          "text": [
            "('cow', 'bat', 'cow', 'bat', 'cat', 'dog', 'car', 'cow') tensor([3, 1, 3, 1, 0, 2, 4, 3])\n"
          ]
        }
      ]
    },
    {
      "cell_type": "code",
      "source": [],
      "metadata": {
        "id": "bYMaGg6H2Qht"
      },
      "execution_count": null,
      "outputs": []
    }
  ]
}